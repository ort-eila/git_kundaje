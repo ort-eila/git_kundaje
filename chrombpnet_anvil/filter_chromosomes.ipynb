{
 "cells": [
  {
   "cell_type": "code",
   "execution_count": 7,
   "metadata": {},
   "outputs": [
    {
     "name": "stdout",
     "output_type": "stream",
     "text": [
      "chr1\t248956422\n",
      "chr2\t242193529\n",
      "chr3\t198295559\n",
      "chr4\t190214555\n",
      "chr5\t181538259\n",
      "chr6\t170805979\n",
      "chr7\t159345973\n",
      "chr8\t145138636\n",
      "chr9\t138394717\n",
      "chr10\t133797422\n",
      "chromSizesFiltered is ./outputPath/splits/chrom.sizes.filtered\n"
     ]
    },
    {
     "name": "stdout",
     "output_type": "stream",
     "text": [
      "Filtering chromosomes...\n",
      "Processing chromosome: chr1\n",
      "Processing chromosome: chr2\n",
      "Processing chromosome: chrX\n",
      "Processing chromosome: chrsss\n",
      "Filtered chromosome sizes file: ./outputPath/splits/chrom.sizes.filtered\n",
      "Listing files in the output directory...\n",
      "chr1\t248956422\n",
      "chr2\t242193529\n",
      "chrX\t156040895\n"
     ]
    }
   ],
   "source": [
    "%%bash \n",
    "outputPrefix=\"fold_0\"\n",
    "chromSizes=\"/Users/eilaarich-landkof-stanford/Documents/Code/git_kundaje_genomics/chrombpnet_anvil/hg38.chrom.sizes\"\n",
    "chromosomesToInclude=\"chr1 chr2 chrX chrsss\"\n",
    "head \"$chromSizes\"\n",
    "\n",
    "IFS=$'\\n'  # Set field separator to newline\n",
    "\n",
    "# Create output directory\n",
    "outputPath=\"./outputPath/splits\"\n",
    "mkdir -p \"$outputPath\"\n",
    "\n",
    "# Declare variables for clarity\n",
    "chromSizesFiltered=\"${outputPath}/chrom.sizes.filtered\"\n",
    "echo \"chromSizesFiltered is ${chromSizesFiltered}\"\n",
    "rm \"$chromSizesFiltered\"\n",
    "\n",
    "# Filter chromosomes\n",
    "echo \"Filtering chromosomes...\"\n",
    "# Extract rows with specified chromosomes\n",
    "# cat \"${chromSizes}\" | grep -wF -f <(echo \"${chromosomesToInclude}\") > \"$chromSizesFiltered\" || true\n",
    "# echo \"$chromosomesToInclude\"\n",
    "# echo \"$chromosomesToInclude\"\n",
    "# echo \"$chromosomesToInclude\" | xargs -n 1 -I {} grep -w {} \"$chromSizes\"\n",
    "# echo \"$chromosomesToInclude\" | xargs -n 1 -I {} grep -w {} \"$chromSizes\" >> \"$chromSizesFiltered\" || true\n",
    "for chrom in $(echo \"${chromosomesToInclude}\" | tr ' ' '\\n'); do\n",
    "      echo \"Processing chromosome: $chrom\"\n",
    "      grep -w \"$chrom\" \"${chromSizes}\" >> \"${chromSizesFiltered}\" || true\n",
    "    done\n",
    "\n",
    "# Log the filtered chromosome sizes file\n",
    "echo \"Filtered chromosome sizes file: ${chromSizesFiltered}\"\n",
    "\n",
    "# List files in the output directory\n",
    "echo \"Listing files in the output directory...\"\n",
    "ls -l \"${outputPath}/\" > ls_files.txt\n",
    "\n",
    "head \"$chromSizesFiltered\"\n"
   ]
  },
  {
   "cell_type": "code",
   "execution_count": 1,
   "metadata": {},
   "outputs": [
    {
     "ename": "SyntaxError",
     "evalue": "invalid syntax (3513816848.py, line 1)",
     "output_type": "error",
     "traceback": [
      "\u001b[0;36m  Cell \u001b[0;32mIn[1], line 1\u001b[0;36m\u001b[0m\n\u001b[0;31m    echo \"$chromosomesToInclude\"\u001b[0m\n\u001b[0m         ^\u001b[0m\n\u001b[0;31mSyntaxError\u001b[0m\u001b[0;31m:\u001b[0m invalid syntax\n"
     ]
    }
   ],
   "source": [
    "echo \"$chromosomesToInclude\""
   ]
  },
  {
   "cell_type": "code",
   "execution_count": null,
   "metadata": {},
   "outputs": [],
   "source": []
  }
 ],
 "metadata": {
  "kernelspec": {
   "display_name": "Python 3",
   "language": "python",
   "name": "python3"
  },
  "language_info": {
   "codemirror_mode": {
    "name": "ipython",
    "version": 3
   },
   "file_extension": ".py",
   "mimetype": "text/x-python",
   "name": "python",
   "nbconvert_exporter": "python",
   "pygments_lexer": "ipython3",
   "version": "3.9.6"
  }
 },
 "nbformat": 4,
 "nbformat_minor": 2
}
