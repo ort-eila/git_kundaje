{
 "cells": [
  {
   "cell_type": "code",
   "execution_count": 38,
   "metadata": {},
   "outputs": [
    {
     "name": "stdout",
     "output_type": "stream",
     "text": [
      "chr1\t248956422\n",
      "chr2\t242193529\n",
      "chr3\t198295559\n",
      "chr4\t190214555\n",
      "chr5\t181538259\n",
      "chr6\t170805979\n",
      "chr7\t159345973\n",
      "chr8\t145138636\n",
      "chr9\t138394717\n",
      "chr10\t133797422\n",
      "chromSizesFiltered is ./outputPath/splits/chrom.sizes.filtered\n"
     ]
    },
    {
     "name": "stdout",
     "output_type": "stream",
     "text": [
      "Filtering chromosomes...\n",
      "Filtered chromosome sizes file: ./outputPath/splits/chrom.sizes.filtered\n",
      "Listing files in the output directory...\n",
      "chr1\t248956422\n",
      "chr2\t242193529\n",
      "chrX\t156040895\n"
     ]
    }
   ],
   "source": [
    "%%bash\n",
    "outputPrefix=\"fold_0\"\n",
    "chromSizes=\"/Users/eilaarich-landkof-stanford/Documents/Code/git_kundaje_genomics/chrombpnet_anvil/hg38.chrom.sizes\"\n",
    "chromosomesToInclude=\"chr1 chr2 chrX chrsss\"\n",
    "head \"$chromSizes\"\n",
    "\n",
    "IFS=$'\\n'  # Set field separator to newline\n",
    "\n",
    "# Create output directory\n",
    "outputPath=\"./outputPath/splits\"\n",
    "mkdir -p \"$outputPath\"\n",
    "\n",
    "# Declare variables for clarity\n",
    "chromSizesFiltered=\"${outputPath}/chrom.sizes.filtered\"\n",
    "echo \"chromSizesFiltered is ${chromSizesFiltered}\"\n",
    "rm \"$chromSizesFiltered\"\n",
    "\n",
    "# Filter chromosomes\n",
    "echo \"Filtering chromosomes...\"\n",
    "# Extract rows with specified chromosomes\n",
    "echo \"$chromosomesToInclude\" | xargs -n 1 -I {} grep -w {} \"$chromSizes\" >> \"$chromSizesFiltered\" || true\n",
    "\n",
    "\n",
    "# Log the filtered chromosome sizes file\n",
    "echo \"Filtered chromosome sizes file: ${chromSizesFiltered}\"\n",
    "\n",
    "# List files in the output directory\n",
    "echo \"Listing files in the output directory...\"\n",
    "ls -l \"${outputPath}/\" > ls_files.txt\n",
    "\n",
    "head \"$chromSizesFiltered\"\n"
   ]
  },
  {
   "cell_type": "code",
   "execution_count": null,
   "metadata": {},
   "outputs": [],
   "source": []
  }
 ],
 "metadata": {
  "kernelspec": {
   "display_name": "Python 3",
   "language": "python",
   "name": "python3"
  },
  "language_info": {
   "codemirror_mode": {
    "name": "ipython",
    "version": 3
   },
   "file_extension": ".py",
   "mimetype": "text/x-python",
   "name": "python",
   "nbconvert_exporter": "python",
   "pygments_lexer": "ipython3",
   "version": "3.9.6"
  }
 },
 "nbformat": 4,
 "nbformat_minor": 2
}
