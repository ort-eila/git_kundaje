{
 "cells": [
  {
   "cell_type": "markdown",
   "id": "fccfed3b-ef93-4d9f-915b-a071ea1eb57e",
   "metadata": {},
   "source": [
    "preprocessing based on: https://github.com/kundajelab/chrombpnet/wiki/Preprocessing until we have the following parameters:\n",
    "\n",
    "\n",
    "*chrombpnet bias pipeline \\\n",
    "        -ibam ~/chrombpnet_tutorial/data/downloads/merged.bam \\\n",
    "        -d \"ATAC\" \\\n",
    "        -g ~/chrombpnet_tutorial/data/downloads/hg38.fa \\\n",
    "        -c ~/chrombpnet_tutorial/data/downloads/hg38.chrom.sizes \\\n",
    "        -p ~/chrombpnet_tutorial/data/peaks_no_blacklist.bed \\\n",
    "        -n ~/chrombpnet_tutorial/data/output_negatives.bed \\\n",
    "        -fl ~/chrombpnet_tutorial/data/splits/fold_0.json \\\n",
    "        -b 0.5 \\\n",
    "        -o ~/chrombpnet_tutorial/bias_model/ \\\n",
    "        -fp k562 \\ *\n",
    "\n"
   ]
  },
  {
   "cell_type": "code",
   "execution_count": 1,
   "id": "8d962144-8ce8-4baf-b267-34f8638fc90b",
   "metadata": {},
   "outputs": [],
   "source": [
    "# create an input file\n",
    "# !womtool inputs chrombpnet-workspace.wdl "
   ]
  },
  {
   "cell_type": "code",
   "execution_count": 32,
   "id": "dbbdc8e6-2048-4355-9259-9e2385c22e95",
   "metadata": {},
   "outputs": [],
   "source": [
    "# validate\n",
    "# !womtool validate chrombpnet-workspace.wdl \n",
    "\n"
   ]
  },
  {
   "cell_type": "code",
   "execution_count": 2,
   "id": "33ee8c5b-893c-4bf6-83b8-846247a47afc",
   "metadata": {},
   "outputs": [],
   "source": [
    "# run the wdl\n",
    "# !cromwell run chrombpnet-workspace.wdl --inputs inputs-chrombpnet-workspace.json \n"
   ]
  },
  {
   "cell_type": "code",
   "execution_count": 1,
   "id": "fc13e2ab-84ad-4e92-aa39-99306fff6ba3",
   "metadata": {},
   "outputs": [],
   "source": [
    "# cromwell run /home/eila/git_kundaje_genomics/DNA/ATAC/anvil/chrombpnet-workspace.wdl --inputs /home/eila/git_kundaje_genomics/DNA/ATAC/anvil/inputs-chrombpnet-workspace.json\n",
    "\n"
   ]
  },
  {
   "cell_type": "code",
   "execution_count": null,
   "id": "afa90146-3fba-4086-9b2c-a7165fa7a669",
   "metadata": {},
   "outputs": [],
   "source": [
    "# ls -lt cromwell-executions/chrombpnet_bias/\n",
    "\n"
   ]
  },
  {
   "cell_type": "code",
   "execution_count": null,
   "id": "0d308637",
   "metadata": {},
   "outputs": [],
   "source": [
    "\n",
    "# conda deactivate\n",
    "\n"
   ]
  },
  {
   "cell_type": "code",
   "execution_count": null,
   "id": "c9be3b49",
   "metadata": {},
   "outputs": [],
   "source": [
    "# cd /home/eila/git_kundaje_genomics/DNA/ATAC/anvil"
   ]
  },
  {
   "cell_type": "code",
   "execution_count": null,
   "id": "15172d72",
   "metadata": {},
   "outputs": [],
   "source": [
    "# git pull --rebase"
   ]
  },
  {
   "cell_type": "code",
   "execution_count": null,
   "id": "7aebbaf3",
   "metadata": {},
   "outputs": [],
   "source": [
    "# conda activate chrombpnet"
   ]
  }
 ],
 "metadata": {
  "kernelspec": {
   "display_name": "Python 3 (ipykernel)",
   "language": "python",
   "name": "python3"
  },
  "language_info": {
   "codemirror_mode": {
    "name": "ipython",
    "version": 3
   },
   "file_extension": ".py",
   "mimetype": "text/x-python",
   "name": "python",
   "nbconvert_exporter": "python",
   "pygments_lexer": "ipython3",
   "version": "3.11.4"
  }
 },
 "nbformat": 4,
 "nbformat_minor": 5
}
