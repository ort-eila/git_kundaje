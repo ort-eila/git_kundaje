{
 "cells": [
  {
   "cell_type": "code",
   "execution_count": null,
   "id": "e5d6f330-aa2d-4325-91b0-8ee0919de81b",
   "metadata": {},
   "outputs": [],
   "source": [
    "import gzip\n",
    "import pandas as pd\n",
    "\n",
    "def read_tsv_gz_to_dataframe_skipping_comments_and_empty_lines(tsv_gz_file, comment_character='#'):\n",
    "    # Open the compressed file using gzip\n",
    "    with gzip.open(tsv_gz_file, 'rt') as file:\n",
    "        # Skip comment lines and empty lines, and load the remaining data into a DataFrame\n",
    "        df = pd.read_csv(file, delimiter='\\t', comment=comment_character, skip_blank_lines=True)\n",
    "\n",
    "    return df\n",
    "\n",
    "# # Specify the path to the TSV.gz file\n",
    "# tsv_gz_file = '/path/to/file.tsv.gz'\n",
    "\n",
    "# # Read the TSV.gz file and create a DataFrame\n",
    "# dataframe = read_tsv_gz_to_dataframe(tsv_gz_file)\n",
    "\n",
    "# # Display the DataFrame\n",
    "# print(dataframe)\n"
   ]
  },
  {
   "cell_type": "code",
   "execution_count": null,
   "id": "0ba0a308-f4f4-45f5-b588-e34f88787f1a",
   "metadata": {},
   "outputs": [],
   "source": [
    "import gzip\n",
    "import pandas as pd\n",
    "\n",
    "def read_tsv_gz_to_dataframe_skipping_comments_and_empty_lines_with_col_names(tsv_gz_file, col_names,comment_character='#'):\n",
    "    # debug only\n",
    "    # Specify the number of lines to read\n",
    "    # n_lines = 1000\n",
    "\n",
    "    # Open the compressed file using gzip\n",
    "    with gzip.open(tsv_gz_file, 'rt') as file:\n",
    "        # Skip comment lines and empty lines, and load the remaining data into a DataFrame\n",
    "        df = pd.read_csv(file, delimiter='\\t', comment=comment_character, skip_blank_lines=True,names=col_names) #,nrows=n_lines)\n",
    "\n",
    "    return df"
   ]
  },
  {
   "cell_type": "code",
   "execution_count": 8,
   "id": "48ffe24d-aafb-4231-a013-0175aa3fc426",
   "metadata": {},
   "outputs": [],
   "source": [
    "\n",
    "def split_column_to_cell_id_and_atac_dataset(df):\n",
    "    # Split 'Column2' into two columns\n",
    "    # df[['cell_id', 'atac_dataset']] = df['cell_id_atac_dataset'].str.split('_', 1, expand=True)\n",
    "    # Split column values by \"_\"\n",
    "    df[['cell_id', 'atac_dataset']] = df['cell_id_atac_dataset'].str.split('_', expand=True)\n",
    "    # Add a new column as a combination of 'atac_dataset' and 'cell_id'\n",
    "    df = df.assign(atac_dataset_cell_id=df['atac_dataset'] + '_' + df['cell_id'])\n",
    "    return(df)"
   ]
  },
  {
   "cell_type": "code",
   "execution_count": 4,
   "id": "bf4a0f58-334f-4c28-a0aa-7077fdafd5b4",
   "metadata": {},
   "outputs": [],
   "source": [
    "import os\n",
    "# prefix_file_name = split_fragment_file_ or \n",
    "def split_df_based_on_col_name(df,fld_name,col_name,prefix_file_name):\n",
    "    # Split the DataFrame based on unique ID values\n",
    "    split_dfs = {group_id: group for group_id, group in df.groupby(col_name)}\n",
    "    files_created = dict()\n",
    "    # Save each split DataFrame to separate files\n",
    "    for group_id, split_df in split_dfs.items():\n",
    "        print(\"group_id is {}\".format(group_id))\n",
    "        file_name = os.path.join(fld_name,group_id,f\"split_fragment_file_{group_id}.tsv\")\n",
    "        print(\"file_name is {}\".format(file_name))\n",
    "#         unique file name based on folder id given and the split criteria\n",
    "        os.makedirs(os.path.join(fld_name,group_id),exist_ok=True)\n",
    "        files_created[group_id] = file_name # under the folder, will be used also for the other one\n",
    "        split_df.to_csv(file_name, sep='\\t', index=False)\n",
    "        print(f\"Split DataFrame for atac_dataset {group_id} saved to {file_name}\")\n",
    "    return(files_created)"
   ]
  },
  {
   "cell_type": "code",
   "execution_count": null,
   "id": "2a2f6f1c-638c-41c2-9043-e74522b6e946",
   "metadata": {},
   "outputs": [],
   "source": [
    "import pandas as pd\n",
    "\n",
    "def read_tsv_file(filepath):\n",
    "    df = pd.read_csv(filepath, sep='\\t')\n",
    "    return df\n",
    "\n",
    "# # Provide the filepath of the TSV file\n",
    "# tsv_filepath = '/path/to/file.tsv'\n",
    "\n",
    "# # Call the function to read the TSV file and return a dataframe\n",
    "# dataframe = read_tsv_file(tsv_filepath)\n",
    "\n",
    "# # Print the dataframe\n",
    "# print(dataframe)\n"
   ]
  },
  {
   "cell_type": "code",
   "execution_count": 3,
   "id": "1e428b6d-0d9f-469c-afe1-bbf733710a4c",
   "metadata": {},
   "outputs": [],
   "source": [
    "import pandas as pd\n",
    "\n",
    "def filter_dataframe(df, column, values):\n",
    "    filtered_df = df[df[column].isin(values)]\n",
    "    return filtered_df"
   ]
  },
  {
   "cell_type": "code",
   "execution_count": 10,
   "id": "4f85d9ec-d7a7-4093-a47d-5d6c2c4db87a",
   "metadata": {},
   "outputs": [],
   "source": [
    "def tag_align(df):\n",
    "    import pandas as pd\n",
    "    # converting fragments to tagalign format\n",
    "    rows = []\n",
    "    for r in df.iterrows():\n",
    "\n",
    "        row1 = []\n",
    "        row2 = []\n",
    "\n",
    "        row1.append(r[1][0])\n",
    "        row1.append(r[1][1])\n",
    "        row1.append(r[1][1] + 1)\n",
    "        row1.append(r[1][3])\n",
    "        row1.append('+')\n",
    "\n",
    "        row2.append(r[1][0])\n",
    "        row2.append(r[1][2] - 1)\n",
    "        row2.append(r[1][2])\n",
    "        row2.append(r[1][3])\n",
    "        row2.append('-')\n",
    "\n",
    "        rows.append(row1)\n",
    "        rows.append(row2)\n",
    "    \n",
    "    df_tag = pd.DataFrame(rows)\n",
    "    print('Created the dataframe in tagalign format')\n",
    "    \n",
    "    return df"
   ]
  },
  {
   "cell_type": "code",
   "execution_count": null,
   "id": "b20c113e-ed52-4c06-8d81-19611e124f0f",
   "metadata": {},
   "outputs": [],
   "source": []
  }
 ],
 "metadata": {
  "kernelspec": {
   "display_name": "Python 3 (ipykernel)",
   "language": "python",
   "name": "python3"
  },
  "language_info": {
   "codemirror_mode": {
    "name": "ipython",
    "version": 3
   },
   "file_extension": ".py",
   "mimetype": "text/x-python",
   "name": "python",
   "nbconvert_exporter": "python",
   "pygments_lexer": "ipython3",
   "version": "3.10.11"
  }
 },
 "nbformat": 4,
 "nbformat_minor": 5
}
