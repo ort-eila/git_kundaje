{
 "cells": [
  {
   "cell_type": "code",
   "execution_count": null,
   "id": "e5d6f330-aa2d-4325-91b0-8ee0919de81b",
   "metadata": {},
   "outputs": [],
   "source": [
    "import gzip\n",
    "import pandas as pd\n",
    "\n",
    "def read_tsv_gz_to_dataframe_skipping_comments_and_empty_lines(tsv_gz_file, comment_character='#'):\n",
    "    # Open the compressed file using gzip\n",
    "    with gzip.open(tsv_gz_file, 'rt') as file:\n",
    "        # Skip comment lines and empty lines, and load the remaining data into a DataFrame\n",
    "        df = pd.read_csv(file, delimiter='\\t', comment=comment_character, skip_blank_lines=True)\n",
    "\n",
    "    return df\n",
    "\n",
    "# # Specify the path to the TSV.gz file\n",
    "# tsv_gz_file = '/path/to/file.tsv.gz'\n",
    "\n",
    "# # Read the TSV.gz file and create a DataFrame\n",
    "# dataframe = read_tsv_gz_to_dataframe(tsv_gz_file)\n",
    "\n",
    "# # Display the DataFrame\n",
    "# print(dataframe)\n"
   ]
  },
  {
   "cell_type": "code",
   "execution_count": 3,
   "id": "48ffe24d-aafb-4231-a013-0175aa3fc426",
   "metadata": {},
   "outputs": [],
   "source": [
    "# TODO: that there is header to the file\n",
    "def split_column_to_cell_id_and_atac_dataset(df):\n",
    "    # Split 'Column2' into two columns\n",
    "    split_columns = df['cell_id_atac_dataset'].str.split('_', 1, expand=True)\n",
    "    df[['cell_id','atac_dataset']] = split_columns.fillna('')\n",
    "    print(\"split_columns are {}\".format(split_columns))\n",
    "    # Display the resulting DataFrame\n",
    "    # result = pd.concat([df, split_columns], axis=1)\n",
    "    print(df)\n",
    "    return(df)"
   ]
  },
  {
   "cell_type": "code",
   "execution_count": 4,
   "id": "bf4a0f58-334f-4c28-a0aa-7077fdafd5b4",
   "metadata": {},
   "outputs": [],
   "source": [
    "import os\n",
    "# column name should be atac_dataset or cell barcode (rna_dataset)\n",
    "# prefix_file_name = split_fragment_file_ or \n",
    "def split_df_based_on_col_name(df,fld_name,col_name,prefix_file_name):\n",
    "    # Split the DataFrame based on unique ID values\n",
    "    split_dfs = {group_id: group for group_id, group in df.groupby(col_name)}\n",
    "    files_to_copy_to_synpase_dict = dict()\n",
    "    # Save each split DataFrame to separate files\n",
    "    for group_id, split_df in split_dfs.items():\n",
    "        print(\"group_id is {}\".format(group_id))\n",
    "        file_name = os.path.join(fld_name,group_id,f\"split_fragment_file_{group_id}.tsv\")\n",
    "        print(\"file_name is {}\".format(file_name))\n",
    "#         unique file name based on folder id given and the split criteria\n",
    "        os.makedirs(os.path.join(fld_name,group_id),exist_ok=True)\n",
    "        files_to_copy_to_synpase_dict[group_id] = file_name # under the folder, will be used also for the other one\n",
    "        split_df.to_csv(file_name, sep='\\t', index=False)\n",
    "        print(f\"Split DataFrame for atac_dataset {group_id} saved to {file_name}\")\n",
    "    return(files_to_copy_to_synpase_dict)"
   ]
  },
  {
   "cell_type": "code",
   "execution_count": 5,
   "id": "1680c6ce-b2f2-4209-9284-6628aefe42db",
   "metadata": {},
   "outputs": [],
   "source": [
    "def split_label_file_by_cell_type_id(local_file_name):\n",
    "    df = read_tsv_gz_skipping_comments_use_file_col_names(local_file_name)\n",
    "    split_dfs, files_to_copy_to_synapse_dict = split_df_based_on_col_name(df,\"cell_type_id\",\"split_label_cell_types_id_file_\")\n",
    "    return(split_dfs,files_to_copy_to_synapse_dict)"
   ]
  },
  {
   "cell_type": "code",
   "execution_count": null,
   "id": "2a2f6f1c-638c-41c2-9043-e74522b6e946",
   "metadata": {},
   "outputs": [],
   "source": []
  }
 ],
 "metadata": {
  "kernelspec": {
   "display_name": "Python 3 (ipykernel)",
   "language": "python",
   "name": "python3"
  },
  "language_info": {
   "codemirror_mode": {
    "name": "ipython",
    "version": 3
   },
   "file_extension": ".py",
   "mimetype": "text/x-python",
   "name": "python",
   "nbconvert_exporter": "python",
   "pygments_lexer": "ipython3",
   "version": "3.10.11"
  }
 },
 "nbformat": 4,
 "nbformat_minor": 5
}
