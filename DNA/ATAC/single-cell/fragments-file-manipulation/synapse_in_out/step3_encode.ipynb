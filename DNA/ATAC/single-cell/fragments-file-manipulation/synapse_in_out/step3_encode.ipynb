{
 "cells": [
  {
   "cell_type": "code",
   "execution_count": 1,
   "id": "c1c8c642-b9c3-45f5-9764-7c8a0532527c",
   "metadata": {},
   "outputs": [],
   "source": [
    "# if the files are on Anvil / Terra workspace \n",
    "# please run it from the workspace analysis to avoid bucket access permission issues\n",
    "# or use the gcloud login auth interface to authenticate yourself"
   ]
  },
  {
   "cell_type": "markdown",
   "id": "8a8633cc-1724-42a1-ad4b-cb4b77856714",
   "metadata": {},
   "source": [
    "installations:\n",
    "\n",
    "1. pip install synapseclient"
   ]
  },
  {
   "cell_type": "code",
   "execution_count": 2,
   "id": "54e395f4-c113-4e1a-b5d1-e97ed59417d4",
   "metadata": {},
   "outputs": [],
   "source": [
    "import os\n",
    "import pandas as pd\n",
    "local_metadata_tsv = \"proc.tsv\"\n",
    "local_clusters_fld = os.path.join(os.getcwd(),\"clusters\")\n",
    "os.makedirs(local_clusters_fld, exist_ok=True)\n",
    "local_cell_type_annotation_fld = os.path.join(os.getcwd(),\"labels\")\n",
    "os.makedirs(local_cell_type_annotation_fld, exist_ok=True)\n",
    "syn_encode_cell_types_annotation_dataset_id = 'syn34271785' #ENCODE DATASET OF THE ANNOTATION\n",
    "local_path_to_download = os.path.join(os.getcwd(),\"fragment_files\")"
   ]
  },
  {
   "cell_type": "code",
   "execution_count": 3,
   "id": "b0e0ad4c-71d1-42ce-81ed-12aa748c7710",
   "metadata": {},
   "outputs": [],
   "source": [
    "def remove_file(filename):\n",
    "  print(\"remove_file method: {}\".format(filename))\n",
    "  if os.path.exists(filename):\n",
    "    os.remove(filename)"
   ]
  },
  {
   "cell_type": "code",
   "execution_count": 4,
   "id": "d86f17bc-2d0e-4a59-a60e-46aaeba3a151",
   "metadata": {},
   "outputs": [
    {
     "name": "stdout",
     "output_type": "stream",
     "text": [
      "Welcome, eila!\n",
      "\n"
     ]
    }
   ],
   "source": [
    "%run synapse_utils_from_analysis.ipynb\n",
    "%run tsv_files_utils_from_analysis.ipynb"
   ]
  },
  {
   "cell_type": "code",
   "execution_count": 5,
   "id": "56ddd48e-496f-48f0-b0b4-15a83f82b6f6",
   "metadata": {},
   "outputs": [
    {
     "name": "stdout",
     "output_type": "stream",
     "text": [
      "proc.tsv is available locally /Users/eilaarich-landkof-stanford/Documents/Code/git_kundaje_genomics/DNA/ATAC/single-cell/fragments-file-manipulation/synapse_in_out/proc.tsv\n"
     ]
    }
   ],
   "source": [
    "# read the proc.tsv object. Validation that the annoation file is available\n",
    "local_metadata_file_location = os.path.join(os.getcwd(),local_metadata_tsv)\n",
    "if os.path.exists(local_metadata_file_location) == False:\n",
    "    print(\"please copy your proc.tsv locally {}\".format(local_metadata_file_location))\n",
    "else:\n",
    "    print(\"proc.tsv is available locally {}\".format(local_metadata_file_location))"
   ]
  },
  {
   "cell_type": "code",
   "execution_count": 6,
   "id": "63e119a7-cfc1-4d7f-82c0-41d0a2c4af7a",
   "metadata": {},
   "outputs": [
    {
     "name": "stdout",
     "output_type": "stream",
     "text": [
      "Column names: ['cell_type_name,\"rna_dataset\",\"rna_library\",\"rna_barcode\",\"atac_dataset\",\"atac_library\",\"atac_barcode\",\"file\"']  type is <class 'list'>\n",
      "metadata_col_names after split is ['cell_type_name', '\"rna_dataset\"', '\"rna_library\"', '\"rna_barcode\"', '\"atac_dataset\"', '\"atac_library\"', '\"atac_barcode\"', '\"file\"']\n",
      "metadata_col_names after strip is ['cell_type_name', 'rna_dataset', 'rna_library', 'rna_barcode', 'atac_dataset', 'atac_library', 'atac_barcode', 'file']\n",
      "Column names after processing is: ['cell_type_name', 'rna_dataset', 'rna_library', 'rna_barcode', 'atac_dataset', 'atac_library', 'atac_barcode', 'file']  type is <class 'list'>\n",
      "column_atac_dataset_index is 4\n"
     ]
    }
   ],
   "source": [
    "# replace this with your own data annoation\n",
    "# TODO: create a method that reads from other annoation files\n",
    "df_encode_cell_types = read_proc_tsv(local_metadata_file_location)\n"
   ]
  },
  {
   "cell_type": "code",
   "execution_count": 7,
   "id": "97ae77f2-8da9-49f6-9b88-1ec6f98674bb",
   "metadata": {},
   "outputs": [
    {
     "data": {
      "text/html": [
       "<div>\n",
       "<style scoped>\n",
       "    .dataframe tbody tr th:only-of-type {\n",
       "        vertical-align: middle;\n",
       "    }\n",
       "\n",
       "    .dataframe tbody tr th {\n",
       "        vertical-align: top;\n",
       "    }\n",
       "\n",
       "    .dataframe thead th {\n",
       "        text-align: right;\n",
       "    }\n",
       "</style>\n",
       "<table border=\"1\" class=\"dataframe\">\n",
       "  <thead>\n",
       "    <tr style=\"text-align: right;\">\n",
       "      <th></th>\n",
       "      <th>cell_type_name</th>\n",
       "      <th>rna_dataset</th>\n",
       "      <th>rna_library</th>\n",
       "      <th>rna_barcode</th>\n",
       "      <th>atac_dataset</th>\n",
       "      <th>atac_library</th>\n",
       "      <th>atac_barcode</th>\n",
       "      <th>file</th>\n",
       "    </tr>\n",
       "  </thead>\n",
       "  <tbody>\n",
       "    <tr>\n",
       "      <th>0</th>\n",
       "      <td>Hepatocytes</td>\n",
       "      <td>NA</td>\n",
       "      <td>NA</td>\n",
       "      <td>NA</td>\n",
       "      <td>ENCSR114OKU</td>\n",
       "      <td>ENCLB431YMH</td>\n",
       "      <td>GGAGGATCAAGCGGTA</td>\n",
       "      <td>EAID_000002</td>\n",
       "    </tr>\n",
       "    <tr>\n",
       "      <th>1</th>\n",
       "      <td>Hepatocytes</td>\n",
       "      <td>NA</td>\n",
       "      <td>NA</td>\n",
       "      <td>NA</td>\n",
       "      <td>ENCSR114OKU</td>\n",
       "      <td>ENCLB431YMH</td>\n",
       "      <td>GTTACGATCGTGGTAT</td>\n",
       "      <td>EAID_000002</td>\n",
       "    </tr>\n",
       "  </tbody>\n",
       "</table>\n",
       "</div>"
      ],
      "text/plain": [
       "  cell_type_name rna_dataset rna_library rna_barcode atac_dataset  \\\n",
       "0    Hepatocytes          NA          NA          NA  ENCSR114OKU   \n",
       "1    Hepatocytes          NA          NA          NA  ENCSR114OKU   \n",
       "\n",
       "  atac_library      atac_barcode         file  \n",
       "0  ENCLB431YMH  GGAGGATCAAGCGGTA  EAID_000002  \n",
       "1  ENCLB431YMH  GTTACGATCGTGGTAT  EAID_000002  "
      ]
     },
     "execution_count": 7,
     "metadata": {},
     "output_type": "execute_result"
    }
   ],
   "source": [
    "df_encode_cell_types.head(2)"
   ]
  },
  {
   "cell_type": "code",
   "execution_count": 8,
   "id": "cc8079af-fe98-42dd-a28b-8b9911a44210",
   "metadata": {},
   "outputs": [
    {
     "data": {
      "text/plain": [
       "1236715"
      ]
     },
     "execution_count": 8,
     "metadata": {},
     "output_type": "execute_result"
    }
   ],
   "source": [
    "len(df_encode_cell_types['atac_dataset'].to_list())"
   ]
  },
  {
   "cell_type": "code",
   "execution_count": 9,
   "id": "d1517927-98be-408a-96c7-ebb3d34b8b6d",
   "metadata": {},
   "outputs": [
    {
     "name": "stdout",
     "output_type": "stream",
     "text": [
      "local_fragment_files_path\n"
     ]
    },
    {
     "data": {
      "text/plain": [
       "'/Users/eilaarich-landkof-stanford/Documents/Code/git_kundaje_genomics/DNA/ATAC/single-cell/fragments-file-manipulation/synapse_in_out/fragment_files/syn52118179_syn52119935_ENCSR023FME.atac.filter.fragments.hg38.tsv.gz/ENCSR023FME.atac.filter.fragments.hg38.tsv.gz'"
      ]
     },
     "execution_count": 9,
     "metadata": {},
     "output_type": "execute_result"
    }
   ],
   "source": [
    "# load the list of the fragment\n",
    "local_fragment_files_path = os.path.join(os.getcwd(),\"fragment_files\",\"*\",\"*\")\n",
    "print(\"local_fragment_files_path\")\n",
    "local_fragment_files = !ls $local_fragment_files_path\n",
    "local_fragment_files = list(local_fragment_files)\n",
    "local_fragment_files[4]"
   ]
  },
  {
   "cell_type": "markdown",
   "id": "d47b3b1d-2823-46e5-ab05-15a7fa157a41",
   "metadata": {},
   "source": [
    "- check that the files in the fragment files has matching synapse data"
   ]
  },
  {
   "cell_type": "code",
   "execution_count": 10,
   "id": "584236eb-6405-4c0d-998d-cb7c6727604c",
   "metadata": {},
   "outputs": [
    {
     "data": {
      "text/plain": [
       "['ENCSR411MLR',\n",
       " 'ENCSR052DKH',\n",
       " 'ENCSR845QFX',\n",
       " 'ENCSR660NEE',\n",
       " 'ENCSR023FME',\n",
       " 'ENCSR453TVZ',\n",
       " 'ENCSR868ZEI',\n",
       " 'ENCSR474TGL',\n",
       " 'ENCSR538FPK',\n",
       " 'ENCSR181XXQ']"
      ]
     },
     "execution_count": 10,
     "metadata": {},
     "output_type": "execute_result"
    }
   ],
   "source": [
    "local_files_atac_dataset = [x.split(\"_\")[-1].split(\".\")[0] for x in local_fragment_files]\n",
    "local_files_atac_dataset[0:10]"
   ]
  },
  {
   "cell_type": "code",
   "execution_count": 11,
   "id": "ac47fefe-cc12-4165-8409-4a0895d0dd0e",
   "metadata": {},
   "outputs": [
    {
     "data": {
      "text/plain": [
       "['ENCSR114OKU', 'ENCSR114OKU', 'ENCSR114OKU']"
      ]
     },
     "execution_count": 11,
     "metadata": {},
     "output_type": "execute_result"
    }
   ],
   "source": [
    "df_encode_cell_types_atac_dataset = df_encode_cell_types[\"atac_dataset\"].tolist()\n",
    "df_encode_cell_types_atac_dataset[0:3]"
   ]
  },
  {
   "cell_type": "code",
   "execution_count": 12,
   "id": "042a0d23-f26e-4085-acc9-c9477b648c3c",
   "metadata": {},
   "outputs": [
    {
     "data": {
      "text/plain": [
       "['ENCSR181XXQ',\n",
       " 'ENCSR205TUH',\n",
       " 'ENCSR538FPK',\n",
       " 'ENCSR822GXQ',\n",
       " 'ENCSR411MLR',\n",
       " 'ENCSR796RXX']"
      ]
     },
     "execution_count": 12,
     "metadata": {},
     "output_type": "execute_result"
    }
   ],
   "source": [
    "# atac dataset in both\n",
    "atac_dataset_to_fragment = list(set(local_files_atac_dataset) & set(df_encode_cell_types_atac_dataset))\n",
    "atac_dataset_to_fragment[0:6]"
   ]
  },
  {
   "cell_type": "code",
   "execution_count": 13,
   "id": "18ad0b98-7851-439a-9890-def601acb23e",
   "metadata": {},
   "outputs": [
    {
     "data": {
      "text/plain": [
       "21"
      ]
     },
     "execution_count": 13,
     "metadata": {},
     "output_type": "execute_result"
    }
   ],
   "source": [
    "len(atac_dataset_to_fragment)\n"
   ]
  },
  {
   "cell_type": "code",
   "execution_count": 14,
   "id": "71509b0a-cf2d-4fdd-854b-45c4e3187617",
   "metadata": {},
   "outputs": [
    {
     "data": {
      "text/plain": [
       "['/Users/eilaarich-landkof-stanford/Documents/Code/git_kundaje_genomics/DNA/ATAC/single-cell/fragments-file-manipulation/synapse_in_out/fragment_files/syn52118179_syn52119922_ENCSR411MLR.atac.filter.fragments.hg38.tsv.gz/ENCSR411MLR.atac.filter.fragments.hg38.tsv.gz',\n",
       " '/Users/eilaarich-landkof-stanford/Documents/Code/git_kundaje_genomics/DNA/ATAC/single-cell/fragments-file-manipulation/synapse_in_out/fragment_files/syn52118179_syn52119924_ENCSR052DKH.atac.filter.fragments.hg38.tsv.gz/ENCSR052DKH.atac.filter.fragments.hg38.tsv.gz',\n",
       " '/Users/eilaarich-landkof-stanford/Documents/Code/git_kundaje_genomics/DNA/ATAC/single-cell/fragments-file-manipulation/synapse_in_out/fragment_files/syn52118179_syn52119927_ENCSR845QFX.atac.filter.fragments.hg38.tsv.gz/ENCSR845QFX.atac.filter.fragments.hg38.tsv.gz',\n",
       " '/Users/eilaarich-landkof-stanford/Documents/Code/git_kundaje_genomics/DNA/ATAC/single-cell/fragments-file-manipulation/synapse_in_out/fragment_files/syn52118179_syn52119934_ENCSR660NEE.atac.filter.fragments.hg38.tsv.gz/ENCSR660NEE.atac.filter.fragments.hg38.tsv.gz',\n",
       " '/Users/eilaarich-landkof-stanford/Documents/Code/git_kundaje_genomics/DNA/ATAC/single-cell/fragments-file-manipulation/synapse_in_out/fragment_files/syn52118179_syn52119935_ENCSR023FME.atac.filter.fragments.hg38.tsv.gz/ENCSR023FME.atac.filter.fragments.hg38.tsv.gz',\n",
       " '/Users/eilaarich-landkof-stanford/Documents/Code/git_kundaje_genomics/DNA/ATAC/single-cell/fragments-file-manipulation/synapse_in_out/fragment_files/syn52118179_syn52119936_ENCSR453TVZ.atac.filter.fragments.hg38.tsv.gz/ENCSR453TVZ.atac.filter.fragments.hg38.tsv.gz',\n",
       " '/Users/eilaarich-landkof-stanford/Documents/Code/git_kundaje_genomics/DNA/ATAC/single-cell/fragments-file-manipulation/synapse_in_out/fragment_files/syn52118179_syn52119939_ENCSR868ZEI.atac.filter.fragments.hg38.tsv.gz/ENCSR868ZEI.atac.filter.fragments.hg38.tsv.gz',\n",
       " '/Users/eilaarich-landkof-stanford/Documents/Code/git_kundaje_genomics/DNA/ATAC/single-cell/fragments-file-manipulation/synapse_in_out/fragment_files/syn52118179_syn52119946_ENCSR474TGL.atac.filter.fragments.hg38.tsv.gz/ENCSR474TGL.atac.filter.fragments.hg38.tsv.gz',\n",
       " '/Users/eilaarich-landkof-stanford/Documents/Code/git_kundaje_genomics/DNA/ATAC/single-cell/fragments-file-manipulation/synapse_in_out/fragment_files/syn52118179_syn52119947_ENCSR538FPK.atac.filter.fragments.hg38.tsv.gz/ENCSR538FPK.atac.filter.fragments.hg38.tsv.gz',\n",
       " '/Users/eilaarich-landkof-stanford/Documents/Code/git_kundaje_genomics/DNA/ATAC/single-cell/fragments-file-manipulation/synapse_in_out/fragment_files/syn52118179_syn52119948_ENCSR181XXQ.atac.filter.fragments.hg38.tsv.gz/ENCSR181XXQ.atac.filter.fragments.hg38.tsv.gz',\n",
       " '/Users/eilaarich-landkof-stanford/Documents/Code/git_kundaje_genomics/DNA/ATAC/single-cell/fragments-file-manipulation/synapse_in_out/fragment_files/syn52118179_syn52119951_ENCSR776EOI.atac.filter.fragments.hg38.tsv.gz/ENCSR776EOI.atac.filter.fragments.hg38.tsv.gz',\n",
       " '/Users/eilaarich-landkof-stanford/Documents/Code/git_kundaje_genomics/DNA/ATAC/single-cell/fragments-file-manipulation/synapse_in_out/fragment_files/syn52118179_syn52119956_ENCSR848EID.atac.filter.fragments.hg38.tsv.gz/ENCSR848EID.atac.filter.fragments.hg38.tsv.gz',\n",
       " '/Users/eilaarich-landkof-stanford/Documents/Code/git_kundaje_genomics/DNA/ATAC/single-cell/fragments-file-manipulation/synapse_in_out/fragment_files/syn52118179_syn52119958_ENCSR367GKP.atac.filter.fragments.hg38.tsv.gz/ENCSR367GKP.atac.filter.fragments.hg38.tsv.gz',\n",
       " '/Users/eilaarich-landkof-stanford/Documents/Code/git_kundaje_genomics/DNA/ATAC/single-cell/fragments-file-manipulation/synapse_in_out/fragment_files/syn52118179_syn52119960_ENCSR397LYX.atac.filter.fragments.hg38.tsv.gz/ENCSR397LYX.atac.filter.fragments.hg38.tsv.gz',\n",
       " '/Users/eilaarich-landkof-stanford/Documents/Code/git_kundaje_genomics/DNA/ATAC/single-cell/fragments-file-manipulation/synapse_in_out/fragment_files/syn52118179_syn52119967_ENCSR796RXX.atac.filter.fragments.hg38.tsv.gz/ENCSR796RXX.atac.filter.fragments.hg38.tsv.gz',\n",
       " '/Users/eilaarich-landkof-stanford/Documents/Code/git_kundaje_genomics/DNA/ATAC/single-cell/fragments-file-manipulation/synapse_in_out/fragment_files/syn52118179_syn52119968_ENCSR302CMX.atac.filter.fragments.hg38.tsv.gz/ENCSR302CMX.atac.filter.fragments.hg38.tsv.gz',\n",
       " '/Users/eilaarich-landkof-stanford/Documents/Code/git_kundaje_genomics/DNA/ATAC/single-cell/fragments-file-manipulation/synapse_in_out/fragment_files/syn52118179_syn52119970_ENCSR822GXQ.atac.filter.fragments.hg38.tsv.gz/ENCSR822GXQ.atac.filter.fragments.hg38.tsv.gz',\n",
       " '/Users/eilaarich-landkof-stanford/Documents/Code/git_kundaje_genomics/DNA/ATAC/single-cell/fragments-file-manipulation/synapse_in_out/fragment_files/syn52118179_syn52119971_ENCSR205TUH.atac.filter.fragments.hg38.tsv.gz/ENCSR205TUH.atac.filter.fragments.hg38.tsv.gz',\n",
       " '/Users/eilaarich-landkof-stanford/Documents/Code/git_kundaje_genomics/DNA/ATAC/single-cell/fragments-file-manipulation/synapse_in_out/fragment_files/syn52118179_syn52119982_ENCSR718WGE.atac.filter.fragments.hg38.tsv.gz/ENCSR718WGE.atac.filter.fragments.hg38.tsv.gz',\n",
       " '/Users/eilaarich-landkof-stanford/Documents/Code/git_kundaje_genomics/DNA/ATAC/single-cell/fragments-file-manipulation/synapse_in_out/fragment_files/syn52118179_syn52119983_ENCSR506YMX.atac.filter.fragments.hg38.tsv.gz/ENCSR506YMX.atac.filter.fragments.hg38.tsv.gz',\n",
       " '/Users/eilaarich-landkof-stanford/Documents/Code/git_kundaje_genomics/DNA/ATAC/single-cell/fragments-file-manipulation/synapse_in_out/fragment_files/syn52118179_syn52119985_ENCSR455CVZ.atac.filter.fragments.hg38.tsv.gz/ENCSR455CVZ.atac.filter.fragments.hg38.tsv.gz']"
      ]
     },
     "execution_count": 14,
     "metadata": {},
     "output_type": "execute_result"
    }
   ],
   "source": [
    "local_fragment_files"
   ]
  },
  {
   "cell_type": "code",
   "execution_count": 15,
   "id": "4e3bd2c0-a7b9-404e-877b-113ced19d7de",
   "metadata": {},
   "outputs": [
    {
     "data": {
      "text/plain": [
       "21"
      ]
     },
     "execution_count": 15,
     "metadata": {},
     "output_type": "execute_result"
    }
   ],
   "source": [
    "local_fragment_files_path_match =[x for x in local_fragment_files if x.split(\"_\")[-1].split(\".\")[0] in atac_dataset_to_fragment]\n",
    "local_fragment_files_path_match[0:3]\n",
    "len(local_fragment_files)\n"
   ]
  },
  {
   "cell_type": "code",
   "execution_count": 16,
   "id": "c97c222f-19c8-4feb-b596-65dea63d5762",
   "metadata": {},
   "outputs": [
    {
     "data": {
      "text/html": [
       "<div>\n",
       "<style scoped>\n",
       "    .dataframe tbody tr th:only-of-type {\n",
       "        vertical-align: middle;\n",
       "    }\n",
       "\n",
       "    .dataframe tbody tr th {\n",
       "        vertical-align: top;\n",
       "    }\n",
       "\n",
       "    .dataframe thead th {\n",
       "        text-align: right;\n",
       "    }\n",
       "</style>\n",
       "<table border=\"1\" class=\"dataframe\">\n",
       "  <thead>\n",
       "    <tr style=\"text-align: right;\">\n",
       "      <th></th>\n",
       "      <th>cell_type_name</th>\n",
       "      <th>rna_dataset</th>\n",
       "      <th>rna_library</th>\n",
       "      <th>rna_barcode</th>\n",
       "      <th>atac_dataset</th>\n",
       "      <th>atac_library</th>\n",
       "      <th>atac_barcode</th>\n",
       "      <th>file</th>\n",
       "    </tr>\n",
       "  </thead>\n",
       "  <tbody>\n",
       "    <tr>\n",
       "      <th>827698</th>\n",
       "      <td>Type_I_skeletal_myocyte</td>\n",
       "      <td>NA</td>\n",
       "      <td>NA</td>\n",
       "      <td>NA</td>\n",
       "      <td>ENCSR023FME</td>\n",
       "      <td>ENCLB691LSC</td>\n",
       "      <td>GTGTCGTAGCCGAAGGAAGCCA</td>\n",
       "      <td>EAID_000011</td>\n",
       "    </tr>\n",
       "    <tr>\n",
       "      <th>827699</th>\n",
       "      <td>Type_I_skeletal_myocyte</td>\n",
       "      <td>NA</td>\n",
       "      <td>NA</td>\n",
       "      <td>NA</td>\n",
       "      <td>ENCSR023FME</td>\n",
       "      <td>ENCLB691LSC</td>\n",
       "      <td>ATGGTTTGGGGATCCATTCGTG</td>\n",
       "      <td>EAID_000011</td>\n",
       "    </tr>\n",
       "  </tbody>\n",
       "</table>\n",
       "</div>"
      ],
      "text/plain": [
       "                 cell_type_name rna_dataset rna_library rna_barcode  \\\n",
       "827698  Type_I_skeletal_myocyte          NA          NA          NA   \n",
       "827699  Type_I_skeletal_myocyte          NA          NA          NA   \n",
       "\n",
       "       atac_dataset atac_library            atac_barcode         file  \n",
       "827698  ENCSR023FME  ENCLB691LSC  GTGTCGTAGCCGAAGGAAGCCA  EAID_000011  \n",
       "827699  ENCSR023FME  ENCLB691LSC  ATGGTTTGGGGATCCATTCGTG  EAID_000011  "
      ]
     },
     "execution_count": 16,
     "metadata": {},
     "output_type": "execute_result"
    }
   ],
   "source": [
    "# this will check for which fragments do we have annotation data\n",
    "df_encode_atac_dataset_relevant_rows = df_encode_cell_types[df_encode_cell_types['atac_dataset'].isin(atac_dataset_to_fragment)]\n",
    "df_encode_atac_dataset_relevant_rows.head(2)"
   ]
  },
  {
   "cell_type": "code",
   "execution_count": null,
   "id": "450884e4-a3a1-49c2-ad67-995fb0483bf3",
   "metadata": {},
   "outputs": [
    {
     "name": "stdout",
     "output_type": "stream",
     "text": [
      "Welcome, eila!\n",
      "\n",
      "!!!!!local_fragment_file is /Users/eilaarich-landkof-stanford/Documents/Code/git_kundaje_genomics/DNA/ATAC/single-cell/fragments-file-manipulation/synapse_in_out/fragment_files/syn52118179_syn52119922_ENCSR411MLR.atac.filter.fragments.hg38.tsv.gz/ENCSR411MLR.atac.filter.fragments.hg38.tsv.gz\n",
      "file_atac_dataset_id is ENCSR411MLR\n",
      "syn_folder_name_for_cell_types in synpase is EAID_000014\n",
      "get_file_names parameters are: folder_id syn34271785 and current_depth 0\n",
      "current_depth is 0 \n",
      "folder_entities are <generator object Synapse.getChildren at 0x288858ca0> \n",
      "get_file_names parameters are: folder_id syn46645618 and current_depth 1\n",
      "current_depth is 1 \n",
      "folder_entities are <generator object Synapse.getChildren at 0x288858a60> \n",
      "get_file_names parameters are: folder_id syn46645622 and current_depth 2\n",
      "folder_entities are <generator object Synapse.getChildren at 0x288858ee0>\n",
      "syn_file_id_for_atac_dataset_id is syn46645631\n",
      "cell_types_annotation_file_synHandle is File: cell_types.tsv.gz (syn46645631)\n",
      "  md5=6a43ef5f069f51dfab1afb080da7bd3a\n",
      "  fileSize=61877\n",
      "  contentType=text/tab-separated-values\n",
      "  externalURL=None\n",
      "  cacheDir=/Users/eilaarich-landkof-stanford/Documents/Code/git_kundaje_genomics/DNA/ATAC/single-cell/fragments-file-manipulation/synapse_in_out/labels/syn34271785_ENCSR411MLR_syn46645631\n",
      "  files=['cell_types.tsv.gz']\n",
      "  path=/Users/eilaarich-landkof-stanford/Documents/Code/git_kundaje_genomics/DNA/ATAC/single-cell/fragments-file-manipulation/synapse_in_out/labels/syn34271785_ENCSR411MLR_syn46645631/cell_types.tsv.gz\n",
      "  synapseStore=True\n",
      "properties:\n",
      "  concreteType=org.sagebionetworks.repo.model.FileEntity\n",
      "  createdBy=3427716\n",
      "  createdOn=2022-11-28T21:09:37.251Z\n",
      "  dataFileHandleId=126806013\n",
      "  etag=ce7e1fe8-2db9-4c85-917b-e3f1738f144d\n",
      "  id=syn46645631\n",
      "  isLatestVersion=True\n",
      "  modifiedBy=3427716\n",
      "  modifiedOn=2023-07-10T01:33:56.630Z\n",
      "  name=cell_types.tsv.gz\n",
      "  parentId=syn46645622\n",
      "  versionLabel=2\n",
      "  versionNumber=2\n",
      "annotations:\n",
      "\n",
      "full_cell_types_annotation_file_path is /Users/eilaarich-landkof-stanford/Documents/Code/git_kundaje_genomics/DNA/ATAC/single-cell/fragments-file-manipulation/synapse_in_out/labels/syn34271785_ENCSR411MLR_syn46645631/cell_types.tsv.gz\n",
      "tsv_gz_file is /Users/eilaarich-landkof-stanford/Documents/Code/git_kundaje_genomics/DNA/ATAC/single-cell/fragments-file-manipulation/synapse_in_out/labels/syn34271785_ENCSR411MLR_syn46645631/cell_types.tsv.gz\n",
      "number of cell_type_id_names_for_atac_dataset is 5\n",
      "open local_fragment_file /Users/eilaarich-landkof-stanford/Documents/Code/git_kundaje_genomics/DNA/ATAC/single-cell/fragments-file-manipulation/synapse_in_out/fragment_files/syn52118179_syn52119922_ENCSR411MLR.atac.filter.fragments.hg38.tsv.gz/ENCSR411MLR.atac.filter.fragments.hg38.tsv.gz\n",
      "tag_file_path is /Users/eilaarich-landkof-stanford/Documents/Code/git_kundaje_genomics/DNA/ATAC/single-cell/fragments-file-manipulation/synapse_in_out/clusters/ENCSR411MLR/tagAlign_ENCSR411MLR_Endothelial_cell.tsv\n"
     ]
    }
   ],
   "source": [
    "%run tsv_files_utils_from_analysis.ipynb\n",
    "%run synapse_utils_from_analysis.ipynb\n",
    "\n",
    "# TODO: for others. will the data come from synpase as well?\n",
    "#local_clusters_fld\n",
    "for local_fragment_file in local_fragment_files:\n",
    "    \n",
    "    print(\"!!!!!local_fragment_file is {}\".format(local_fragment_file))\n",
    "    file_atac_dataset_id = local_fragment_file.split(\"_\")[-1].split(\".\")[0]\n",
    "    print(\"file_atac_dataset_id is {}\".format(file_atac_dataset_id))\n",
    "\n",
    "    # Retrieve the synpase ID from the proc.tsv dataframe\n",
    "    syn_folder_name_for_cell_types = df_encode_atac_dataset_relevant_rows[df_encode_atac_dataset_relevant_rows['atac_dataset'] == file_atac_dataset_id]['file'].to_list()[0]\n",
    "    print(\"syn_folder_name_for_cell_types in synpase is {}\".format(syn_folder_name_for_cell_types))\n",
    "    # (starting_folder_id, first_subfolder_name, second_subfolder_name):\n",
    "    # retrieve the location on synpase\n",
    "    syn_file_id_list = get_file_names_in_second_subfolder(syn_encode_cell_types_annotation_dataset_id, \\\n",
    "                                                          syn_folder_name_for_cell_types, \\\n",
    "                                                          \"labels\")\n",
    "    syn_file_id_for_atac_dataset_id = syn_file_id_list[0] # the label's file synID\n",
    "    print('syn_file_id_for_atac_dataset_id is {}'.format(syn_file_id_for_atac_dataset_id))\n",
    "    \n",
    "    # Download the synpase label file:\n",
    "    # Obtain a pointer and download the data to full_labels_file_path\n",
    "    # {}_{}_{}\".format(dataset_id,file_id,file_name))\n",
    "    cell_types_annotation_file_path = os.path.join(local_cell_type_annotation_fld,\"{}_{}_{}\".format(syn_encode_cell_types_annotation_dataset_id, \\\n",
    "                                                                                                    file_atac_dataset_id, \\\n",
    "                                                                                                    syn_file_id_for_atac_dataset_id))\n",
    "\n",
    "    cell_types_annotation_file_synHandle = syn.get(entity=syn_file_id_for_atac_dataset_id,downloadLocation=cell_types_annotation_file_path) \n",
    "    print('cell_types_annotation_file_synHandle is {}'.format(cell_types_annotation_file_synHandle))\n",
    "    full_cell_types_annotation_file_path = cell_types_annotation_file_synHandle.path\n",
    "    print('full_cell_types_annotation_file_path is {}'.format(full_cell_types_annotation_file_path))\n",
    "    \n",
    "#   # Load the labels data to dataframe. has all the barcodes and the cell types relevant for them\n",
    "    df_cell_types_for_atac_dataset = read_tsv_gz_to_dataframe_skipping_comments_and_empty_lines(full_cell_types_annotation_file_path)\n",
    "    cell_type_id_names_for_atac_dataset = list(set(df_cell_types_for_atac_dataset['cell_type_id'].to_list()))\n",
    "    print(\"number of cell_type_id_names_for_atac_dataset is {}\".format(len(cell_type_id_names_for_atac_dataset)))\n",
    "    # List of output text files with corresponding names\n",
    "    # [(\"output1.txt\", \"file_1\"), (\"output2.txt\", \"file_2\"), (\"output3.txt\", \"file_3\")]\n",
    "    output_tagAlign_files_with_names = [(os.path.join(local_clusters_fld,file_atac_dataset_id,\"tagAlign_{}_{}.tsv\".format(file_atac_dataset_id,cell_type_name_id)),\n",
    "                                        cell_type_name_id) for cell_type_name_id in cell_type_id_names_for_atac_dataset]\n",
    "    \n",
    "    # print(\"!!!output_tagAlign_files_with_names {}\".format(output_tagAlign_files_with_names))\n",
    "    print(\"open local_fragment_file {}\".format(local_fragment_file))\n",
    "    with gzip.open(local_fragment_file, \"rt\") as infile:\n",
    "        # Dictionary to store the output file handles with names\n",
    "        output_handles = {}\n",
    "        missing_bc = 0\n",
    "        # Open the output files and store their handles in the list\n",
    "        for tag_file_path, tag_file_cell_type_name in output_tagAlign_files_with_names:\n",
    "            print(\"tag_file_path is {}\".format(tag_file_path))\n",
    "            # print(\"os.path.dirname(tag_file_path) is {}\".format(os.path.dirname(tag_file_path)))\n",
    "            os.makedirs(os.path.dirname(tag_file_path), exist_ok=True)\n",
    "            output_handles[tag_file_cell_type_name] = open(tag_file_path, \"w\")\n",
    "            num_of_lines_written=0\n",
    "            for line_number, line in enumerate(infile, start=1):\n",
    "                # # debug\n",
    "                # if line_number > 1000:\n",
    "                #     continue \n",
    "\n",
    "                out_list = split_fragment_line_string(line)\n",
    "                bc = out_list[-1]\n",
    "#             Austin output: chrom, start, end, bc, rem = line.rstrip('\\n').split('\\t', 5)\n",
    "                out_line_to_print = f\"{out_list[0]}\\t{out_list[1]}\\t{out_list[2]}\\t{bc}\\t{out_list[-2]}\\n\"\n",
    "#             chr1\t10007\t10175\tENCSR023FME#ENCSR023FME_GAAGGTTCAAAGTGTCAGTCAA\t1\n",
    "                num_of_lines_written +=1\n",
    "                returnTagAlign = convert_fragment_line_to_tagAlign(out_line_to_print)\n",
    "                # write to the relevant cell type file\n",
    "                bc_exists_in_cell_type_atac_dataset = df_cell_types_for_atac_dataset[df_cell_types_for_atac_dataset['cell_id']==bc]\n",
    "                # print(\"len(bc_exists_in_cell_type_atac_dataset) is {} for bc {}\".format(len(bc_exists_in_cell_type_atac_dataset),bc))\n",
    "                if len(bc_exists_in_cell_type_atac_dataset) ==1:\n",
    "                    cell_name_for_line = df_cell_types_for_atac_dataset.loc[df_cell_types_for_atac_dataset['cell_id'] == bc, 'cell_type_name'].iloc[0]\n",
    "                    # print(\"cell_name_for_line is {}\".format(cell_name_for_line))\n",
    "                    output_handles[tag_file_cell_type_name].write(returnTagAlign)\n",
    "                else:\n",
    "                    missing_bc+=1\n",
    "                    \n",
    "        print(\"finished clustering local_fragment_file {} by cell type. for types {}\".format(local_fragment_file, cell_type_id_names_for_atac_dataset))\n",
    "        print(\"total missing bc are {}\".format(missing_bc))"
   ]
  },
  {
   "cell_type": "code",
   "execution_count": null,
   "id": "faa8822b-7bc6-4738-b193-28b832761d53",
   "metadata": {},
   "outputs": [],
   "source": []
  }
 ],
 "metadata": {
  "kernelspec": {
   "display_name": "Python 3 (ipykernel)",
   "language": "python",
   "name": "python3"
  },
  "language_info": {
   "codemirror_mode": {
    "name": "ipython",
    "version": 3
   },
   "file_extension": ".py",
   "mimetype": "text/x-python",
   "name": "python",
   "nbconvert_exporter": "python",
   "pygments_lexer": "ipython3",
   "version": "3.11.4"
  }
 },
 "nbformat": 4,
 "nbformat_minor": 5
}
