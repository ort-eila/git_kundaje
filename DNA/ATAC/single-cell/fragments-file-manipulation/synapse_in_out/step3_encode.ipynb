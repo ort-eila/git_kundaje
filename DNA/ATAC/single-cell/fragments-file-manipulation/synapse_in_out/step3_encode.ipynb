{
 "cells": [
  {
   "cell_type": "code",
   "execution_count": null,
   "id": "c1c8c642-b9c3-45f5-9764-7c8a0532527c",
   "metadata": {},
   "outputs": [],
   "source": [
    "# if the files are on Anvil / Terra workspace \n",
    "# please run it from the workspace analysis to avoid bucket access permission issues\n",
    "# or use the gcloud login auth interface to authenticate yourself"
   ]
  },
  {
   "cell_type": "markdown",
   "id": "8a8633cc-1724-42a1-ad4b-cb4b77856714",
   "metadata": {},
   "source": [
    "installations:\n",
    "\n",
    "1. pip install synapseclient"
   ]
  },
  {
   "cell_type": "code",
   "execution_count": 2,
   "id": "54e395f4-c113-4e1a-b5d1-e97ed59417d4",
   "metadata": {},
   "outputs": [],
   "source": [
    "import os\n",
    "import pandas as pd\n",
    "local_metadata_tsv = \"proc.tsv\"\n",
    "local_clusters_fld = os.path.join(os.getcwd(),\"clusters\")\n",
    "os.makedirs(local_clusters_fld, exist_ok=True)\n",
    "local_cell_type_annotation_fld = os.path.join(os.getcwd(),\"labels\")\n",
    "os.makedirs(local_cell_type_annotation_fld, exist_ok=True)\n",
    "syn_encode_cell_types_annotation_dataset_id = 'syn34271785' #ENCODE DATASET OF THE ANNOTATION\n",
    "local_path_to_download = os.path.join(os.getcwd(),\"fragment_files\")"
   ]
  },
  {
   "cell_type": "code",
   "execution_count": 3,
   "id": "b0e0ad4c-71d1-42ce-81ed-12aa748c7710",
   "metadata": {},
   "outputs": [],
   "source": [
    "def remove_file(filename):\n",
    "  print(\"remove_file method: {}\".format(filename))\n",
    "  if os.path.exists(filename):\n",
    "    os.remove(filename)"
   ]
  },
  {
   "cell_type": "code",
   "execution_count": 4,
   "id": "d86f17bc-2d0e-4a59-a60e-46aaeba3a151",
   "metadata": {},
   "outputs": [
    {
     "name": "stdout",
     "output_type": "stream",
     "text": [
      "Welcome, eila!\n",
      "\n"
     ]
    }
   ],
   "source": [
    "%run synapse_utils_from_analysis.ipynb\n",
    "%run tsv_files_utils_from_analysis.ipynb\n"
   ]
  },
  {
   "cell_type": "code",
   "execution_count": 5,
   "id": "56ddd48e-496f-48f0-b0b4-15a83f82b6f6",
   "metadata": {},
   "outputs": [
    {
     "name": "stdout",
     "output_type": "stream",
     "text": [
      "proc.tsv is available locally /Users/eilaarich-landkof-stanford/Documents/Code/git_kundaje_genomics/DNA/ATAC/single-cell/fragments-file-manipulation/synapse_in_out/proc.tsv\n"
     ]
    }
   ],
   "source": [
    "# read the proc.tsv object. Validation that the annoation file is available\n",
    "local_metadata_file_location = os.path.join(os.getcwd(),local_metadata_tsv)\n",
    "if os.path.exists(local_metadata_file_location) == False:\n",
    "    print(\"please copy your proc.tsv locally {}\".format(local_metadata_file_location))\n",
    "else:\n",
    "    print(\"proc.tsv is available locally {}\".format(local_metadata_file_location))"
   ]
  },
  {
   "cell_type": "code",
   "execution_count": 6,
   "id": "63e119a7-cfc1-4d7f-82c0-41d0a2c4af7a",
   "metadata": {},
   "outputs": [
    {
     "name": "stdout",
     "output_type": "stream",
     "text": [
      "Column names: ['cell_type_name,\"rna_dataset\",\"rna_library\",\"rna_barcode\",\"atac_dataset\",\"atac_library\",\"atac_barcode\",\"file\"']  type is <class 'list'>\n",
      "metadata_col_names after split is ['cell_type_name', '\"rna_dataset\"', '\"rna_library\"', '\"rna_barcode\"', '\"atac_dataset\"', '\"atac_library\"', '\"atac_barcode\"', '\"file\"']\n",
      "metadata_col_names after strip is ['cell_type_name', 'rna_dataset', 'rna_library', 'rna_barcode', 'atac_dataset', 'atac_library', 'atac_barcode', 'file']\n",
      "Column names after processing is: ['cell_type_name', 'rna_dataset', 'rna_library', 'rna_barcode', 'atac_dataset', 'atac_library', 'atac_barcode', 'file']  type is <class 'list'>\n",
      "column_atac_dataset_index is 4\n"
     ]
    }
   ],
   "source": [
    "# replace this with your own data annoation\n",
    "# TODO: create a method that reads from other annoation files\n",
    "df_encode_cell_types = read_proc_tsv(local_metadata_file_location)\n"
   ]
  },
  {
   "cell_type": "code",
   "execution_count": 7,
   "id": "97ae77f2-8da9-49f6-9b88-1ec6f98674bb",
   "metadata": {},
   "outputs": [
    {
     "data": {
      "text/html": [
       "<div>\n",
       "<style scoped>\n",
       "    .dataframe tbody tr th:only-of-type {\n",
       "        vertical-align: middle;\n",
       "    }\n",
       "\n",
       "    .dataframe tbody tr th {\n",
       "        vertical-align: top;\n",
       "    }\n",
       "\n",
       "    .dataframe thead th {\n",
       "        text-align: right;\n",
       "    }\n",
       "</style>\n",
       "<table border=\"1\" class=\"dataframe\">\n",
       "  <thead>\n",
       "    <tr style=\"text-align: right;\">\n",
       "      <th></th>\n",
       "      <th>cell_type_name</th>\n",
       "      <th>rna_dataset</th>\n",
       "      <th>rna_library</th>\n",
       "      <th>rna_barcode</th>\n",
       "      <th>atac_dataset</th>\n",
       "      <th>atac_library</th>\n",
       "      <th>atac_barcode</th>\n",
       "      <th>file</th>\n",
       "    </tr>\n",
       "  </thead>\n",
       "  <tbody>\n",
       "    <tr>\n",
       "      <th>0</th>\n",
       "      <td>Hepatocytes</td>\n",
       "      <td>NA</td>\n",
       "      <td>NA</td>\n",
       "      <td>NA</td>\n",
       "      <td>ENCSR114OKU</td>\n",
       "      <td>ENCLB431YMH</td>\n",
       "      <td>GGAGGATCAAGCGGTA</td>\n",
       "      <td>EAID_000002</td>\n",
       "    </tr>\n",
       "    <tr>\n",
       "      <th>1</th>\n",
       "      <td>Hepatocytes</td>\n",
       "      <td>NA</td>\n",
       "      <td>NA</td>\n",
       "      <td>NA</td>\n",
       "      <td>ENCSR114OKU</td>\n",
       "      <td>ENCLB431YMH</td>\n",
       "      <td>GTTACGATCGTGGTAT</td>\n",
       "      <td>EAID_000002</td>\n",
       "    </tr>\n",
       "  </tbody>\n",
       "</table>\n",
       "</div>"
      ],
      "text/plain": [
       "  cell_type_name rna_dataset rna_library rna_barcode atac_dataset  \\\n",
       "0    Hepatocytes          NA          NA          NA  ENCSR114OKU   \n",
       "1    Hepatocytes          NA          NA          NA  ENCSR114OKU   \n",
       "\n",
       "  atac_library      atac_barcode         file  \n",
       "0  ENCLB431YMH  GGAGGATCAAGCGGTA  EAID_000002  \n",
       "1  ENCLB431YMH  GTTACGATCGTGGTAT  EAID_000002  "
      ]
     },
     "execution_count": 7,
     "metadata": {},
     "output_type": "execute_result"
    }
   ],
   "source": [
    "df_encode_cell_types.head(2)"
   ]
  },
  {
   "cell_type": "code",
   "execution_count": 8,
   "id": "cc8079af-fe98-42dd-a28b-8b9911a44210",
   "metadata": {},
   "outputs": [
    {
     "data": {
      "text/plain": [
       "1236715"
      ]
     },
     "execution_count": 8,
     "metadata": {},
     "output_type": "execute_result"
    }
   ],
   "source": [
    "len(df_encode_cell_types['atac_dataset'].to_list())"
   ]
  },
  {
   "cell_type": "code",
   "execution_count": 9,
   "id": "98bf8fd0-0cf0-43d4-85e3-5a58beacae02",
   "metadata": {},
   "outputs": [],
   "source": [
    "# \"ENCSR618WVK\" in list(set(df_encode_cell_types['atac_dataset'].to_list()))\n"
   ]
  },
  {
   "cell_type": "code",
   "execution_count": 10,
   "id": "d1517927-98be-408a-96c7-ebb3d34b8b6d",
   "metadata": {},
   "outputs": [
    {
     "name": "stdout",
     "output_type": "stream",
     "text": [
      "local_fragment_files_path\n"
     ]
    },
    {
     "data": {
      "text/plain": [
       "'/Users/eilaarich-landkof-stanford/Documents/Code/git_kundaje_genomics/DNA/ATAC/single-cell/fragments-file-manipulation/synapse_in_out/fragment_files/syn52118179_syn52119934_ENCSR660NEE.atac.filter.fragments.hg38.tsv.gz/ENCSR660NEE.atac.filter.fragments.hg38.tsv.gz'"
      ]
     },
     "execution_count": 10,
     "metadata": {},
     "output_type": "execute_result"
    }
   ],
   "source": [
    "# load the list of the fragment\n",
    "local_fragment_files_path = os.path.join(os.getcwd(),\"fragment_files\",\"*\",\"*\")\n",
    "print(\"local_fragment_files_path\")\n",
    "local_fragment_files = !ls $local_fragment_files_path\n",
    "local_fragment_files = list(local_fragment_files)\n",
    "local_fragment_files[4]"
   ]
  },
  {
   "cell_type": "markdown",
   "id": "d47b3b1d-2823-46e5-ab05-15a7fa157a41",
   "metadata": {},
   "source": [
    "- check that the files in the fragment files has matching synapse data"
   ]
  },
  {
   "cell_type": "code",
   "execution_count": 11,
   "id": "584236eb-6405-4c0d-998d-cb7c6727604c",
   "metadata": {},
   "outputs": [
    {
     "data": {
      "text/plain": [
       "['ENCSR411MLR',\n",
       " 'ENCSR261TQO',\n",
       " 'ENCSR052DKH',\n",
       " 'ENCSR845QFX',\n",
       " 'ENCSR660NEE',\n",
       " 'ENCSR023FME',\n",
       " 'ENCSR453TVZ',\n",
       " 'ENCSR868ZEI',\n",
       " 'ENCSR474TGL',\n",
       " 'ENCSR538FPK']"
      ]
     },
     "execution_count": 11,
     "metadata": {},
     "output_type": "execute_result"
    }
   ],
   "source": [
    "local_files_atac_dataset = [x.split(\"_\")[-1].split(\".\")[0] for x in local_fragment_files]\n",
    "local_files_atac_dataset[0:10]"
   ]
  },
  {
   "cell_type": "code",
   "execution_count": 12,
   "id": "826d3a64-01c8-4722-89b9-ed0a7794cbb8",
   "metadata": {},
   "outputs": [
    {
     "data": {
      "text/plain": [
       "23"
      ]
     },
     "execution_count": 12,
     "metadata": {},
     "output_type": "execute_result"
    }
   ],
   "source": [
    "len(local_files_atac_dataset)"
   ]
  },
  {
   "cell_type": "code",
   "execution_count": 13,
   "id": "ac47fefe-cc12-4165-8409-4a0895d0dd0e",
   "metadata": {},
   "outputs": [
    {
     "data": {
      "text/plain": [
       "['ENCSR114OKU', 'ENCSR114OKU', 'ENCSR114OKU']"
      ]
     },
     "execution_count": 13,
     "metadata": {},
     "output_type": "execute_result"
    }
   ],
   "source": [
    "df_encode_cell_types_atac_dataset = df_encode_cell_types[\"atac_dataset\"].tolist()\n",
    "df_encode_cell_types_atac_dataset[0:3]"
   ]
  },
  {
   "cell_type": "code",
   "execution_count": 14,
   "id": "15ac81cd-2b00-4172-b24c-dba5d1db5b57",
   "metadata": {},
   "outputs": [],
   "source": [
    "# \"ENCSR139ATR\" in df_encode_cell_types_atac_dataset"
   ]
  },
  {
   "cell_type": "code",
   "execution_count": 15,
   "id": "042a0d23-f26e-4085-acc9-c9477b648c3c",
   "metadata": {},
   "outputs": [
    {
     "data": {
      "text/plain": [
       "['ENCSR367GKP',\n",
       " 'ENCSR397LYX',\n",
       " 'ENCSR205TUH',\n",
       " 'ENCSR506YMX',\n",
       " 'ENCSR660NEE',\n",
       " 'ENCSR181XXQ']"
      ]
     },
     "execution_count": 15,
     "metadata": {},
     "output_type": "execute_result"
    }
   ],
   "source": [
    "# atac dataset in both\n",
    "atac_dataset_to_fragment = list(set(local_files_atac_dataset) & set(df_encode_cell_types_atac_dataset))\n",
    "atac_dataset_to_fragment[0:6]"
   ]
  },
  {
   "cell_type": "code",
   "execution_count": 16,
   "id": "18ad0b98-7851-439a-9890-def601acb23e",
   "metadata": {},
   "outputs": [
    {
     "data": {
      "text/plain": [
       "22"
      ]
     },
     "execution_count": 16,
     "metadata": {},
     "output_type": "execute_result"
    }
   ],
   "source": [
    "len(atac_dataset_to_fragment)\n"
   ]
  },
  {
   "cell_type": "code",
   "execution_count": 17,
   "id": "71509b0a-cf2d-4fdd-854b-45c4e3187617",
   "metadata": {},
   "outputs": [],
   "source": [
    "#debug\n",
    "# local_fragment_files = ['/Users/eilaarich-landkof-stanford/Documents/Code/git_kundaje_genomics/DNA/ATAC/single-cell/fragments-file-manipulation/synapse_in_out/fragment_files/syn52118179_syn52119924_ENCSR052DKH.atac.filter.fragments.hg38.tsv.gz/ENCSR052DKH.atac.filter.fragments.hg38.tsv.gz']\n",
    "                        "
   ]
  },
  {
   "cell_type": "code",
   "execution_count": 18,
   "id": "4e3bd2c0-a7b9-404e-877b-113ced19d7de",
   "metadata": {},
   "outputs": [
    {
     "data": {
      "text/plain": [
       "23"
      ]
     },
     "execution_count": 18,
     "metadata": {},
     "output_type": "execute_result"
    }
   ],
   "source": [
    "local_fragment_files_path_match =[x for x in local_fragment_files if x.split(\"_\")[-1].split(\".\")[0] in atac_dataset_to_fragment]\n",
    "local_fragment_files_path_match[0:3]\n",
    "len(local_fragment_files)\n"
   ]
  },
  {
   "cell_type": "code",
   "execution_count": 19,
   "id": "e243af66-4b73-4e3c-90ed-0f1b0a54e2e2",
   "metadata": {},
   "outputs": [
    {
     "data": {
      "text/plain": [
       "['/Users/eilaarich-landkof-stanford/Documents/Code/git_kundaje_genomics/DNA/ATAC/single-cell/fragments-file-manipulation/synapse_in_out/fragment_files/syn52118179_syn52119922_ENCSR411MLR.atac.filter.fragments.hg38.tsv.gz/ENCSR411MLR.atac.filter.fragments.hg38.tsv.gz',\n",
       " '/Users/eilaarich-landkof-stanford/Documents/Code/git_kundaje_genomics/DNA/ATAC/single-cell/fragments-file-manipulation/synapse_in_out/fragment_files/syn52118179_syn52119923_ENCSR261TQO.atac.filter.fragments.hg38.tsv.gz/ENCSR261TQO.atac.filter.fragments.hg38.tsv.gz',\n",
       " '/Users/eilaarich-landkof-stanford/Documents/Code/git_kundaje_genomics/DNA/ATAC/single-cell/fragments-file-manipulation/synapse_in_out/fragment_files/syn52118179_syn52119924_ENCSR052DKH.atac.filter.fragments.hg38.tsv.gz/ENCSR052DKH.atac.filter.fragments.hg38.tsv.gz',\n",
       " '/Users/eilaarich-landkof-stanford/Documents/Code/git_kundaje_genomics/DNA/ATAC/single-cell/fragments-file-manipulation/synapse_in_out/fragment_files/syn52118179_syn52119927_ENCSR845QFX.atac.filter.fragments.hg38.tsv.gz/ENCSR845QFX.atac.filter.fragments.hg38.tsv.gz']"
      ]
     },
     "execution_count": 19,
     "metadata": {},
     "output_type": "execute_result"
    }
   ],
   "source": [
    "local_fragment_files[0:4]"
   ]
  },
  {
   "cell_type": "code",
   "execution_count": 20,
   "id": "0b6f0115-9e6b-4f07-85b0-e8559b83cbcb",
   "metadata": {},
   "outputs": [],
   "source": [
    "# [x for x in local_fragment_files if \"ENCSR618WVK\" in x]"
   ]
  },
  {
   "cell_type": "code",
   "execution_count": 21,
   "id": "3b404ee2-b24e-472f-912c-48228d754868",
   "metadata": {},
   "outputs": [
    {
     "data": {
      "text/plain": [
       "['/Users/eilaarich-landkof-stanford/Documents/Code/git_kundaje_genomics/DNA/ATAC/single-cell/fragments-file-manipulation/synapse_in_out/fragment_files/syn52118181_syn52120036_ENCSR618WVK.atac.filter.fragments.hg38.tsv.gz/ENCSR618WVK.atac.filter.fragments.hg38.tsv.gz']"
      ]
     },
     "execution_count": 21,
     "metadata": {},
     "output_type": "execute_result"
    }
   ],
   "source": [
    "# for Tanjin. excpetional case where the annotation and the fragments are not under\n",
    "#  the same ENCODE ID\n",
    "local_fragment_files = [x for x in local_fragment_files if \"ENCSR618WVK\" in x]\n",
    "local_fragment_files"
   ]
  },
  {
   "cell_type": "code",
   "execution_count": 22,
   "id": "c97c222f-19c8-4feb-b596-65dea63d5762",
   "metadata": {},
   "outputs": [
    {
     "data": {
      "text/html": [
       "<div>\n",
       "<style scoped>\n",
       "    .dataframe tbody tr th:only-of-type {\n",
       "        vertical-align: middle;\n",
       "    }\n",
       "\n",
       "    .dataframe tbody tr th {\n",
       "        vertical-align: top;\n",
       "    }\n",
       "\n",
       "    .dataframe thead th {\n",
       "        text-align: right;\n",
       "    }\n",
       "</style>\n",
       "<table border=\"1\" class=\"dataframe\">\n",
       "  <thead>\n",
       "    <tr style=\"text-align: right;\">\n",
       "      <th></th>\n",
       "      <th>cell_type_name</th>\n",
       "      <th>rna_dataset</th>\n",
       "      <th>rna_library</th>\n",
       "      <th>rna_barcode</th>\n",
       "      <th>atac_dataset</th>\n",
       "      <th>atac_library</th>\n",
       "      <th>atac_barcode</th>\n",
       "      <th>file</th>\n",
       "    </tr>\n",
       "  </thead>\n",
       "  <tbody>\n",
       "    <tr>\n",
       "      <th>827698</th>\n",
       "      <td>Type_I_skeletal_myocyte</td>\n",
       "      <td>NA</td>\n",
       "      <td>NA</td>\n",
       "      <td>NA</td>\n",
       "      <td>ENCSR023FME</td>\n",
       "      <td>ENCLB691LSC</td>\n",
       "      <td>GTGTCGTAGCCGAAGGAAGCCA</td>\n",
       "      <td>EAID_000011</td>\n",
       "    </tr>\n",
       "    <tr>\n",
       "      <th>827699</th>\n",
       "      <td>Type_I_skeletal_myocyte</td>\n",
       "      <td>NA</td>\n",
       "      <td>NA</td>\n",
       "      <td>NA</td>\n",
       "      <td>ENCSR023FME</td>\n",
       "      <td>ENCLB691LSC</td>\n",
       "      <td>ATGGTTTGGGGATCCATTCGTG</td>\n",
       "      <td>EAID_000011</td>\n",
       "    </tr>\n",
       "  </tbody>\n",
       "</table>\n",
       "</div>"
      ],
      "text/plain": [
       "                 cell_type_name rna_dataset rna_library rna_barcode  \\\n",
       "827698  Type_I_skeletal_myocyte          NA          NA          NA   \n",
       "827699  Type_I_skeletal_myocyte          NA          NA          NA   \n",
       "\n",
       "       atac_dataset atac_library            atac_barcode         file  \n",
       "827698  ENCSR023FME  ENCLB691LSC  GTGTCGTAGCCGAAGGAAGCCA  EAID_000011  \n",
       "827699  ENCSR023FME  ENCLB691LSC  ATGGTTTGGGGATCCATTCGTG  EAID_000011  "
      ]
     },
     "execution_count": 22,
     "metadata": {},
     "output_type": "execute_result"
    }
   ],
   "source": [
    "# this will check for which fragments do we have annotation data\n",
    "df_encode_atac_dataset_relevant_rows = df_encode_cell_types[df_encode_cell_types['atac_dataset'].isin(atac_dataset_to_fragment)]\n",
    "df_encode_atac_dataset_relevant_rows.head(2)\n",
    "\n",
    "\n"
   ]
  },
  {
   "cell_type": "code",
   "execution_count": 23,
   "id": "687160e8-b078-48bf-8201-c07d4efb4198",
   "metadata": {},
   "outputs": [],
   "source": [
    "def save_clusters_mapping(fld,atac_dataset_id,list_to_save):\n",
    " # Create a DataFrame from the tuple list\n",
    "    df = pd.DataFrame(list_to_save, columns=[\"ClusterId\", \"ManualAnnotationLabel\"])\n",
    "\n",
    "    # Specify the output TSV file path\n",
    "    output_tsv_file = os.path.join(fld,atac_dataset_id,\"{}_cluster_id_annotation_map.tsv\".format(atac_dataset_id))\n",
    "    print(\"sort_list_with_indices_and_save: output_tsv_file is {}\".format(output_tsv_file))\n",
    "    # Write the DataFrame to a TSV file\n",
    "    df.to_csv(output_tsv_file, sep=\"\\t\", index=False)"
   ]
  },
  {
   "cell_type": "code",
   "execution_count": 24,
   "id": "c18e2c68-f0ea-4000-b919-74cd2e9840cd",
   "metadata": {},
   "outputs": [],
   "source": [
    "# IMPORTNAT: we make sure to keep the same order if the cell_id and the cluster for the next execution\n",
    "def sort_list_with_indices(input_list):\n",
    "    sorted_list = sorted(input_list)\n",
    "    indexed_sorted_list = [(i, item) for i, item in enumerate(sorted_list)]\n",
    "      \n",
    "    return indexed_sorted_list"
   ]
  },
  {
   "cell_type": "code",
   "execution_count": 25,
   "id": "196040ce-7c5d-4345-be01-b8806c1e5456",
   "metadata": {},
   "outputs": [
    {
     "data": {
      "text/plain": [
       "['/Users/eilaarich-landkof-stanford/Documents/Code/git_kundaje_genomics/DNA/ATAC/single-cell/fragments-file-manipulation/synapse_in_out/fragment_files/syn52118181_syn52120036_ENCSR618WVK.atac.filter.fragments.hg38.tsv.gz/ENCSR618WVK.atac.filter.fragments.hg38.tsv.gz']"
      ]
     },
     "execution_count": 25,
     "metadata": {},
     "output_type": "execute_result"
    }
   ],
   "source": [
    "local_fragment_files"
   ]
  },
  {
   "cell_type": "code",
   "execution_count": 26,
   "id": "32b4ce55-b531-4621-8ddb-63be808940b9",
   "metadata": {},
   "outputs": [
    {
     "name": "stdout",
     "output_type": "stream",
     "text": [
      "/Users/eilaarich-landkof-stanford/Documents/Code/git_kundaje_genomics/DNA/ATAC/single-cell/fragments-file-manipulation/synapse_in_out/fragment_files/syn52118181_syn52120036_ENCSR618WVK.atac.filter.fragments.hg38.tsv.gz/ENCSR618WVK.atac.filter.fragments.hg38.tsv.gz\n",
      "True\n"
     ]
    }
   ],
   "source": [
    "for local_fragment_file in local_fragment_files:\n",
    "    print(local_fragment_file)\n",
    "    print(\"ENCSR618WVK\" in local_fragment_file)"
   ]
  },
  {
   "cell_type": "code",
   "execution_count": null,
   "id": "450884e4-a3a1-49c2-ad67-995fb0483bf3",
   "metadata": {
    "scrolled": true
   },
   "outputs": [
    {
     "name": "stdout",
     "output_type": "stream",
     "text": [
      "Welcome, eila!\n",
      "\n",
      "!!!!!local_fragment_file is /Users/eilaarich-landkof-stanford/Documents/Code/git_kundaje_genomics/DNA/ATAC/single-cell/fragments-file-manipulation/synapse_in_out/fragment_files/syn52118181_syn52120036_ENCSR618WVK.atac.filter.fragments.hg38.tsv.gz/ENCSR618WVK.atac.filter.fragments.hg38.tsv.gz\n",
      "file_atac_dataset_id is ENCSR618WVK\n",
      "cell_types_annotation_file_path is /Users/eilaarich-landkof-stanford/Documents/Code/git_kundaje_genomics/DNA/ATAC/single-cell/fragments-file-manipulation/synapse_in_out/labels/syn34271785_ENCSR618WVK_syn34545411\n",
      "!!!!!syn_file_id_for_atac_dataset_id is syn34545411. cell_types_annotation_file_path is /Users/eilaarich-landkof-stanford/Documents/Code/git_kundaje_genomics/DNA/ATAC/single-cell/fragments-file-manipulation/synapse_in_out/labels/syn34271785_ENCSR618WVK_syn34545411\n",
      "cell_types_annotation_file_synHandle is File: cell_types.tsv.gz (syn34545411)\n",
      "  md5=e98df715fd4d40c7ba4e29fbec32379d\n",
      "  fileSize=188071\n",
      "  contentType=text/tab-separated-values\n",
      "  externalURL=None\n",
      "  cacheDir=/Users/eilaarich-landkof-stanford/Documents/Code/git_kundaje_genomics/DNA/ATAC/single-cell/fragments-file-manipulation/synapse_in_out/labels/syn34271785_ENCSR618WVK_syn34545411\n",
      "  files=['cell_types.tsv.gz']\n",
      "  path=/Users/eilaarich-landkof-stanford/Documents/Code/git_kundaje_genomics/DNA/ATAC/single-cell/fragments-file-manipulation/synapse_in_out/labels/syn34271785_ENCSR618WVK_syn34545411/cell_types.tsv.gz\n",
      "  synapseStore=True\n",
      "properties:\n",
      "  concreteType=org.sagebionetworks.repo.model.FileEntity\n",
      "  createdBy=3454341\n",
      "  createdOn=2022-08-15T21:56:38.763Z\n",
      "  dataFileHandleId=101270357\n",
      "  etag=b271407e-915c-441f-95e4-516e45316bde\n",
      "  id=syn34545411\n",
      "  isLatestVersion=True\n",
      "  modifiedBy=3454341\n",
      "  modifiedOn=2023-03-31T19:21:03.264Z\n",
      "  name=cell_types.tsv.gz\n",
      "  parentId=syn34545380\n",
      "  versionLabel=3\n",
      "  versionNumber=3\n",
      "annotations:\n",
      "\n",
      "Downloaded full_cell_types_annotation_file_path is /Users/eilaarich-landkof-stanford/Documents/Code/git_kundaje_genomics/DNA/ATAC/single-cell/fragments-file-manipulation/synapse_in_out/labels/syn34271785_ENCSR618WVK_syn34545411/cell_types.tsv.gz\n",
      "tsv_gz_file is /Users/eilaarich-landkof-stanford/Documents/Code/git_kundaje_genomics/DNA/ATAC/single-cell/fragments-file-manipulation/synapse_in_out/labels/syn34271785_ENCSR618WVK_syn34545411/cell_types.tsv.gz\n",
      "after read df_cell_types_for_atac_dataset. full_cell_types_annotation_file_path is /Users/eilaarich-landkof-stanford/Documents/Code/git_kundaje_genomics/DNA/ATAC/single-cell/fragments-file-manipulation/synapse_in_out/labels/syn34271785_ENCSR618WVK_syn34545411/cell_types.tsv.gz\n",
      "sorted_idx_cell_type_id_names_for_atac_dataset is [(0, 'Cholangiocytes'), (1, 'Endothelial_cells'), (2, 'Fibroblasts'), (3, 'Hepatocytes'), (4, 'Macrophages'), (5, 'T_cells')]\n",
      "number of cell_type_id_names_for_atac_dataset is 6\n",
      "@@@@output_tagAlign_files_with_names is [('/Users/eilaarich-landkof-stanford/Documents/Code/git_kundaje_genomics/DNA/ATAC/single-cell/fragments-file-manipulation/synapse_in_out/clusters/ENCSR618WVK/ENCSR618WVK_Cluster0.tsv.tagAlign', 'Cholangiocytes'), ('/Users/eilaarich-landkof-stanford/Documents/Code/git_kundaje_genomics/DNA/ATAC/single-cell/fragments-file-manipulation/synapse_in_out/clusters/ENCSR618WVK/ENCSR618WVK_Cluster1.tsv.tagAlign', 'Endothelial_cells'), ('/Users/eilaarich-landkof-stanford/Documents/Code/git_kundaje_genomics/DNA/ATAC/single-cell/fragments-file-manipulation/synapse_in_out/clusters/ENCSR618WVK/ENCSR618WVK_Cluster2.tsv.tagAlign', 'Fibroblasts'), ('/Users/eilaarich-landkof-stanford/Documents/Code/git_kundaje_genomics/DNA/ATAC/single-cell/fragments-file-manipulation/synapse_in_out/clusters/ENCSR618WVK/ENCSR618WVK_Cluster3.tsv.tagAlign', 'Hepatocytes'), ('/Users/eilaarich-landkof-stanford/Documents/Code/git_kundaje_genomics/DNA/ATAC/single-cell/fragments-file-manipulation/synapse_in_out/clusters/ENCSR618WVK/ENCSR618WVK_Cluster4.tsv.tagAlign', 'Macrophages'), ('/Users/eilaarich-landkof-stanford/Documents/Code/git_kundaje_genomics/DNA/ATAC/single-cell/fragments-file-manipulation/synapse_in_out/clusters/ENCSR618WVK/ENCSR618WVK_Cluster5.tsv.tagAlign', 'T_cells')]\n",
      "tagAlign_exists is [False, False, False, False, False, False]\n",
      "!!!output_tagAlign_files_with_names [('/Users/eilaarich-landkof-stanford/Documents/Code/git_kundaje_genomics/DNA/ATAC/single-cell/fragments-file-manipulation/synapse_in_out/clusters/ENCSR618WVK/ENCSR618WVK_Cluster0.tsv.tagAlign', 'Cholangiocytes'), ('/Users/eilaarich-landkof-stanford/Documents/Code/git_kundaje_genomics/DNA/ATAC/single-cell/fragments-file-manipulation/synapse_in_out/clusters/ENCSR618WVK/ENCSR618WVK_Cluster1.tsv.tagAlign', 'Endothelial_cells'), ('/Users/eilaarich-landkof-stanford/Documents/Code/git_kundaje_genomics/DNA/ATAC/single-cell/fragments-file-manipulation/synapse_in_out/clusters/ENCSR618WVK/ENCSR618WVK_Cluster2.tsv.tagAlign', 'Fibroblasts'), ('/Users/eilaarich-landkof-stanford/Documents/Code/git_kundaje_genomics/DNA/ATAC/single-cell/fragments-file-manipulation/synapse_in_out/clusters/ENCSR618WVK/ENCSR618WVK_Cluster3.tsv.tagAlign', 'Hepatocytes'), ('/Users/eilaarich-landkof-stanford/Documents/Code/git_kundaje_genomics/DNA/ATAC/single-cell/fragments-file-manipulation/synapse_in_out/clusters/ENCSR618WVK/ENCSR618WVK_Cluster4.tsv.tagAlign', 'Macrophages'), ('/Users/eilaarich-landkof-stanford/Documents/Code/git_kundaje_genomics/DNA/ATAC/single-cell/fragments-file-manipulation/synapse_in_out/clusters/ENCSR618WVK/ENCSR618WVK_Cluster5.tsv.tagAlign', 'T_cells')]. open files\n",
      "tag_file_path is /Users/eilaarich-landkof-stanford/Documents/Code/git_kundaje_genomics/DNA/ATAC/single-cell/fragments-file-manipulation/synapse_in_out/clusters/ENCSR618WVK/ENCSR618WVK_Cluster0.tsv.tagAlign\n",
      "tag_file_path is /Users/eilaarich-landkof-stanford/Documents/Code/git_kundaje_genomics/DNA/ATAC/single-cell/fragments-file-manipulation/synapse_in_out/clusters/ENCSR618WVK/ENCSR618WVK_Cluster1.tsv.tagAlign\n",
      "tag_file_path is /Users/eilaarich-landkof-stanford/Documents/Code/git_kundaje_genomics/DNA/ATAC/single-cell/fragments-file-manipulation/synapse_in_out/clusters/ENCSR618WVK/ENCSR618WVK_Cluster2.tsv.tagAlign\n",
      "tag_file_path is /Users/eilaarich-landkof-stanford/Documents/Code/git_kundaje_genomics/DNA/ATAC/single-cell/fragments-file-manipulation/synapse_in_out/clusters/ENCSR618WVK/ENCSR618WVK_Cluster3.tsv.tagAlign\n",
      "tag_file_path is /Users/eilaarich-landkof-stanford/Documents/Code/git_kundaje_genomics/DNA/ATAC/single-cell/fragments-file-manipulation/synapse_in_out/clusters/ENCSR618WVK/ENCSR618WVK_Cluster4.tsv.tagAlign\n",
      "tag_file_path is /Users/eilaarich-landkof-stanford/Documents/Code/git_kundaje_genomics/DNA/ATAC/single-cell/fragments-file-manipulation/synapse_in_out/clusters/ENCSR618WVK/ENCSR618WVK_Cluster5.tsv.tagAlign\n",
      "save the cluster to annotation mapping\n",
      "sort_list_with_indices_and_save: output_tsv_file is /Users/eilaarich-landkof-stanford/Documents/Code/git_kundaje_genomics/DNA/ATAC/single-cell/fragments-file-manipulation/synapse_in_out/clusters/ENCSR618WVK/ENCSR618WVK_cluster_id_annotation_map.tsv\n",
      "open local_fragment_file /Users/eilaarich-landkof-stanford/Documents/Code/git_kundaje_genomics/DNA/ATAC/single-cell/fragments-file-manipulation/synapse_in_out/fragment_files/syn52118181_syn52120036_ENCSR618WVK.atac.filter.fragments.hg38.tsv.gz/ENCSR618WVK.atac.filter.fragments.hg38.tsv.gz\n"
     ]
    }
   ],
   "source": [
    "%run tsv_files_utils_from_analysis.ipynb\n",
    "%run synapse_utils_from_analysis.ipynb\n",
    "\n",
    "# TODO: for others. will the data come from synpase as well?\n",
    "#local_clusters_fld\n",
    "for local_fragment_file in local_fragment_files:\n",
    "\n",
    "    # Dictionary to store the output file handles with names\n",
    "    output_handles = {}\n",
    "    print(\"!!!!!local_fragment_file is {}\".format(local_fragment_file))\n",
    "    file_atac_dataset_id = local_fragment_file.split(\"_\")[-1].split(\".\")[0]\n",
    "    print(\"file_atac_dataset_id is {}\".format(file_atac_dataset_id))\n",
    "\n",
    "    # # Tanjin\n",
    "    # # One sample: For ENCODE_ID atac-id ENCSR618WVK the annotation is under ENCSR139ATR\n",
    "    syn_file_id_for_atac_dataset_id = \"\"\n",
    "    if \"ENCSR618WVK\" in local_fragment_file:\n",
    "        syn_file_id_for_atac_dataset_id = \"syn34545411\"\n",
    "    else:\n",
    "        # Retrieve the synpase ID from the proc.tsv dataframe\n",
    "        syn_folder_name_for_cell_types = df_encode_atac_dataset_relevant_rows[df_encode_atac_dataset_relevant_rows['atac_dataset'] == file_atac_dataset_id]['file'].to_list()[0]\n",
    "        print(\"syn_folder_name_for_cell_types in synpase is {}\".format(syn_folder_name_for_cell_types))\n",
    "        # (starting_folder_id, first_subfolder_name, second_subfolder_name):\n",
    "        # retrieve the location on synpase\n",
    "        syn_file_id_list = get_file_names_in_second_subfolder(syn_encode_cell_types_annotation_dataset_id, \\\n",
    "                                                              syn_folder_name_for_cell_types, \\\n",
    "                                                              \"labels\")\n",
    "        syn_file_id_for_atac_dataset_id = syn_file_id_list[0] # the label's file synID\n",
    "        print('syn_file_id_for_atac_dataset_id is {}'.format(syn_file_id_for_atac_dataset_id))\n",
    "    \n",
    "    # Download the synpase label file:\n",
    "    # Obtain a pointer and download the data to full_labels_file_path\n",
    "    # {}_{}_{}\".format(dataset_id,file_id,file_name))\n",
    "    cell_types_annotation_file_path = os.path.join(local_cell_type_annotation_fld,\"{}_{}_{}\".format(syn_encode_cell_types_annotation_dataset_id, \\\n",
    "                                                                                                    file_atac_dataset_id, \\\n",
    "                                                                                                    syn_file_id_for_atac_dataset_id))\n",
    "\n",
    "    print(\"cell_types_annotation_file_path is {}\".format(cell_types_annotation_file_path))\n",
    "    os_listdir = []\n",
    "    if os.path.exists(cell_types_annotation_file_path):\n",
    "        os.listdir(cell_types_annotation_file_path)\n",
    "    # os_listdir = os.listdir(cell_types_annotation_file_path)\n",
    "    full_cell_types_annotation_file_path=\"\"\n",
    "    if len(os_listdir) > 0:\n",
    "        print(\"this was already downloaded from synapse\")\n",
    "        full_cell_types_annotation_file_path = os.path.join(cell_types_annotation_file_path,os_listdir[0])\n",
    "        print('AVAILABLE full_cell_types_annotation_file_path is {}'.format(full_cell_types_annotation_file_path))\n",
    "    else:\n",
    "        print(\"!!!!!syn_file_id_for_atac_dataset_id is {}. cell_types_annotation_file_path is {}\".format(syn_file_id_for_atac_dataset_id,cell_types_annotation_file_path))\n",
    "        cell_types_annotation_file_synHandle = syn.get(entity=syn_file_id_for_atac_dataset_id,downloadLocation=cell_types_annotation_file_path) \n",
    "        print('cell_types_annotation_file_synHandle is {}'.format(cell_types_annotation_file_synHandle))\n",
    "        full_cell_types_annotation_file_path = cell_types_annotation_file_synHandle.path\n",
    "        print('Downloaded full_cell_types_annotation_file_path is {}'.format(full_cell_types_annotation_file_path))\n",
    "    \n",
    "    \n",
    "    \n",
    "    # NEW code. Test if befor next execution\n",
    "    df_cell_types_for_atac_dataset = None\n",
    "    if (\"syn34271785_ENCSR618WVK_syn34545411\" in full_cell_types_annotation_file_path):\n",
    "        df_cell_types_for_atac_dataset = read_tsv_gz_to_dataframe_skipping_empty_lines_and_rows(full_cell_types_annotation_file_path)\n",
    "    else:\n",
    "        # This full_cell_types_annotation_file_path was given as an input\n",
    "        df_cell_types_for_atac_dataset = read_tsv_gz_to_dataframe_skipping_comments_and_empty_lines_and_heaader(full_cell_types_annotation_file_path)\n",
    "    print(\"after read df_cell_types_for_atac_dataset. full_cell_types_annotation_file_path is {}\".format(full_cell_types_annotation_file_path))\n",
    "    cell_type_id_names_for_atac_dataset = list(set(df_cell_types_for_atac_dataset['cell_type_id'].to_list()))\n",
    "    sorted_idx_cell_type_id_names_for_atac_dataset = sort_list_with_indices(cell_type_id_names_for_atac_dataset)\n",
    "    print(\"sorted_idx_cell_type_id_names_for_atac_dataset is {}\".format(sorted_idx_cell_type_id_names_for_atac_dataset))\n",
    "    print(\"number of cell_type_id_names_for_atac_dataset is {}\".format(len(sorted_idx_cell_type_id_names_for_atac_dataset)))\n",
    "    # List of output text files with corresponding names\n",
    "    # [(\"output1.txt\", \"file_1\"), (\"output2.txt\", \"file_2\"), (\"output3.txt\", \"file_3\")]\n",
    "    output_tagAlign_files_with_names = [(os.path.join(local_clusters_fld,file_atac_dataset_id,\"{}_Cluster{}.tsv.tagAlign\".format(file_atac_dataset_id,item[0])),\n",
    "                                    item[1]) for item in sorted_idx_cell_type_id_names_for_atac_dataset]\n",
    "    print(\"@@@@output_tagAlign_files_with_names is {}\".format(output_tagAlign_files_with_names))\n",
    "        \n",
    "    \n",
    "    tagAlign_exists = [os.path.exists(output_tagAlign_file[0]) for output_tagAlign_file in output_tagAlign_files_with_names]\n",
    "    print(\"tagAlign_exists is {}\".format(tagAlign_exists))\n",
    "    if sum(tagAlign_exists) >0:\n",
    "        print(\"output_tagAlign_files_with_names {} is at work or was already downloaded. continue\".format(output_tagAlign_files_with_names))\n",
    "        continue # either started by annother process or already was processed\n",
    "    else:\n",
    "        print(\"!!!output_tagAlign_files_with_names {}. open files\".format(output_tagAlign_files_with_names))\n",
    "        for tag_file_path, tag_file_cell_type_name in output_tagAlign_files_with_names:\n",
    "            print(\"tag_file_path is {}\".format(tag_file_path))\n",
    "            # print(\"os.path.dirname(tag_file_path) is {}\".format(os.path.dirname(tag_file_path)))\n",
    "            os.makedirs(os.path.dirname(tag_file_path), exist_ok=True)\n",
    "            output_handles[tag_file_cell_type_name] = open(tag_file_path, \"w\")\n",
    "\n",
    "    print(\"save the cluster to annotation mapping\")\n",
    "    save_clusters_mapping(local_clusters_fld,file_atac_dataset_id,sorted_idx_cell_type_id_names_for_atac_dataset)\n",
    "    \n",
    "    print(\"open local_fragment_file {}\".format(local_fragment_file))\n",
    "    with gzip.open(local_fragment_file, \"rt\") as infile:\n",
    "        missing_bc = 0\n",
    "        num_of_lines_written=0\n",
    "        for line_number, line in enumerate(infile, start=1):\n",
    "            # # debug\n",
    "            # if line_number > 10:\n",
    "            #     continue \n",
    "\n",
    "            out_list = split_fragment_line_string(line)\n",
    "            bc = out_list[-1]\n",
    "            # if \"ENCSR618WVK\" in local_fragment_file:\n",
    "            #     bc = \"ENCSR398PIW-1_\"+bc.split(\"_\")[1]\n",
    "            # print(\"XXXXXX bc is {}\".format(bc))\n",
    "#             Austin output: chrom, start, end, bc, rem = line.rstrip('\\n').split('\\t', 5)\n",
    "            out_line_to_print = f\"{out_list[0]}\\t{out_list[1]}\\t{out_list[2]}\\t{bc}\\t{out_list[-2]}\\n\"\n",
    "            # print(\"XXXXXX out_line_to_print is {}\".format(out_line_to_print))\n",
    "#             chr1\t10007\t10175\tENCSR023FME#ENCSR023FME_GAAGGTTCAAAGTGTCAGTCAA\t1\n",
    "            num_of_lines_written +=1\n",
    "            returnTagAlign = convert_fragment_line_to_tagAlign(out_line_to_print)\n",
    "            # print(\"XXXXXX returnTagAlign is {}\".format(returnTagAlign))\n",
    "            # print(\"\\n\\nXXXXXbc is {}\".format(bc))\n",
    "            # write to the relevant cell type file\n",
    "\n",
    "            bc_exists_in_cell_type_atac_dataset=[]\n",
    "            if \"ENCSR618WVK\" not in local_fragment_file:\n",
    "                bc_exists_in_cell_type_atac_dataset = df_cell_types_for_atac_dataset[df_cell_types_for_atac_dataset['cell_id']==bc]\n",
    "            else:\n",
    "                bc_exists_in_cell_type_atac_dataset = df_cell_types_for_atac_dataset[df_cell_types_for_atac_dataset['cell_id'].str.contains(bc.split(\"_\")[1])] #\"AAACGAAAGCCTCATA\")]\n",
    "            # print(\"bc_exists_in_cell_type_atac_dataset is {}. for bc {} \".format(bc_exists_in_cell_type_atac_dataset,bc))\n",
    "            # print(\"len(bc_exists_in_cell_type_atac_dataset) is {} for bc {}\".format(len(bc_exists_in_cell_type_atac_dataset),bc))\n",
    "            if len(bc_exists_in_cell_type_atac_dataset) ==1:\n",
    "                # tag_file_cell_type_id = df_cell_types_for_atac_dataset.loc[df_cell_types_for_atac_dataset['cell_id'] == bc, 'cell_type_id'].iloc[0]\n",
    "                tag_file_cell_type_id = \"\".join(bc_exists_in_cell_type_atac_dataset['cell_type_id'])\n",
    "                # print(\"tag_file_cell_type_id is {}\".format(tag_file_cell_type_id))\n",
    "                output_handles[tag_file_cell_type_id].write(returnTagAlign)\n",
    "            else:\n",
    "                missing_bc+=1\n",
    "\n",
    "        # if the file is not closed. data will be missing\n",
    "        for tag_file_path, tag_file_cell_type_name in output_tagAlign_files_with_names:\n",
    "            # print(\"tag_file_path is {}\".format(tag_file_path))\n",
    "            output_handles[tag_file_cell_type_name].close()            \n",
    "        print(\"finished clustering local_fragment_file {} by cell type. for types {}\".format(local_fragment_file, cell_type_id_names_for_atac_dataset))\n",
    "        print(\"total missing bc are {}\".format(missing_bc))"
   ]
  },
  {
   "cell_type": "code",
   "execution_count": null,
   "id": "a628d907-4b2e-4bb8-8962-eed2c287ca8d",
   "metadata": {},
   "outputs": [],
   "source": [
    "# bc_exists_in_cell_type_atac_dataset"
   ]
  },
  {
   "cell_type": "code",
   "execution_count": null,
   "id": "040df3d1-e866-4772-91a4-fed2677aad08",
   "metadata": {},
   "outputs": [],
   "source": [
    "# \"\".join(bc_exists_in_cell_type_atac_dataset['cell_type_id'])"
   ]
  },
  {
   "cell_type": "code",
   "execution_count": null,
   "id": "e521e36d-b802-4aa5-a029-bf220437c568",
   "metadata": {},
   "outputs": [],
   "source": [
    "# bc = \"ENCSR618WVK_AAAGGCTCACCAGGTT\""
   ]
  },
  {
   "cell_type": "code",
   "execution_count": null,
   "id": "4270c07b-b881-4807-a0e4-724b3f9cb5f9",
   "metadata": {},
   "outputs": [],
   "source": [
    "# \"ENCSR398PIW-1_\"+bc.split(\"_\")[1]"
   ]
  },
  {
   "cell_type": "code",
   "execution_count": null,
   "id": "65b47cb0-48d6-41ca-acfc-e764e2801362",
   "metadata": {},
   "outputs": [],
   "source": [
    "# df_cell_types_for_atac_dataset[df_cell_types_for_atac_dataset['cell_id']==\"ENCSR398PIW-1_GTAGTTTCAATTTGGT\"\n",
    "\n"
   ]
  },
  {
   "cell_type": "code",
   "execution_count": null,
   "id": "05dc5971-d785-4a72-afa5-b4ced0926032",
   "metadata": {},
   "outputs": [],
   "source": [
    "# df_cell_types_for_atac_dataset[\"GTAGTTTCAATTTGGT\" in df_cell_types_for_atac_dataset['cell_id']]"
   ]
  },
  {
   "cell_type": "code",
   "execution_count": null,
   "id": "4ab7ad1a-8bf5-4ba1-b500-cf6301a8aea0",
   "metadata": {},
   "outputs": [],
   "source": [
    "# df_cell_types_for_atac_dataset.head(2)"
   ]
  },
  {
   "cell_type": "code",
   "execution_count": null,
   "id": "7e22be72-2b00-4a49-a2c1-d1728af78ac0",
   "metadata": {},
   "outputs": [],
   "source": [
    "# Filter the DataFrame based on the matching string in cell_id\n",
    "# matching_row = df_cell_types_for_atac_dataset[df_cell_types_for_atac_dataset['cell_id'].str.contains(\"AAACGAAAGCCTCATA\")]\n",
    "# matching_row\n"
   ]
  },
  {
   "cell_type": "code",
   "execution_count": null,
   "id": "d58d0f09-181b-4072-8899-6b9cbe572d00",
   "metadata": {},
   "outputs": [],
   "source": []
  },
  {
   "cell_type": "code",
   "execution_count": null,
   "id": "91e6ba4b-4769-4b43-8134-e25019daa507",
   "metadata": {},
   "outputs": [],
   "source": [
    "# \"nan\" in l[0]"
   ]
  },
  {
   "cell_type": "code",
   "execution_count": null,
   "id": "be111c38-27dd-4d3c-a1b4-008c4f00f2b1",
   "metadata": {},
   "outputs": [],
   "source": [
    "# [ll for ll in l if "
   ]
  },
  {
   "cell_type": "code",
   "execution_count": null,
   "id": "b51ec52f-90b9-43d4-941a-38cdd71f1f98",
   "metadata": {},
   "outputs": [],
   "source": [
    "# # file_atac_dataset_id = \"ENCSR618WVK\"\n",
    "# file_atac_dataset_id = \"ENCSR139ATR\"\n",
    "# # local_fragment_files\n",
    "# df_encode_atac_dataset_relevant_rows[df_encode_atac_dataset_relevant_rows['atac_dataset'] == file_atac_dataset_id]\n",
    "# # ['file'].to_list()[0]\n",
    "\n"
   ]
  },
  {
   "cell_type": "code",
   "execution_count": null,
   "id": "ea6f9d5b-acef-458d-b5c7-aa8186821b7d",
   "metadata": {},
   "outputs": [],
   "source": [
    "# df_encode_atac_dataset_relevant_rows"
   ]
  },
  {
   "cell_type": "code",
   "execution_count": null,
   "id": "d86d7377-46bb-4f89-94d8-fc37002dfc66",
   "metadata": {},
   "outputs": [],
   "source": [
    "# file_atac_dataset_id"
   ]
  },
  {
   "cell_type": "code",
   "execution_count": null,
   "id": "517c2b77-8c8f-4404-8b0c-116df1d87c41",
   "metadata": {},
   "outputs": [],
   "source": [
    "# syn_folder_name_for_cell_types = df_encode_atac_dataset_relevant_rows[df_encode_atac_dataset_relevant_rows['atac_dataset'] == \"ENCSR139ATR\"]['file'].to_list()[0]\n",
    "# print(\"syn_folder_name_for_cell_types in synpase is {}\".format(syn_folder_name_for_cell_types))"
   ]
  },
  {
   "cell_type": "code",
   "execution_count": null,
   "id": "f0aacf75-2a13-4b9a-9b61-bc04e150feb1",
   "metadata": {},
   "outputs": [],
   "source": [
    "# sum(df_encode_atac_dataset_relevant_rows['atac_dataset'] == \"ENCSR139ATR\")"
   ]
  },
  {
   "cell_type": "code",
   "execution_count": null,
   "id": "499e9175-749c-4e24-84b9-2113fe38762c",
   "metadata": {},
   "outputs": [],
   "source": []
  }
 ],
 "metadata": {
  "kernelspec": {
   "display_name": "Python 3 (ipykernel)",
   "language": "python",
   "name": "python3"
  },
  "language_info": {
   "codemirror_mode": {
    "name": "ipython",
    "version": 3
   },
   "file_extension": ".py",
   "mimetype": "text/x-python",
   "name": "python",
   "nbconvert_exporter": "python",
   "pygments_lexer": "ipython3",
   "version": "3.11.4"
  }
 },
 "nbformat": 4,
 "nbformat_minor": 5
}
