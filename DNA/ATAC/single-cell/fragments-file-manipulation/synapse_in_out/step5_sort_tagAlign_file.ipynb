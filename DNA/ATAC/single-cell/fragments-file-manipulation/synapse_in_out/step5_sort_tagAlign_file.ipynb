{
 "cells": [
  {
   "cell_type": "code",
   "execution_count": 7,
   "id": "837098f6-313c-4c11-bc87-24285dd7d58c",
   "metadata": {},
   "outputs": [],
   "source": [
    "# step 5 - run bed tools"
   ]
  },
  {
   "cell_type": "code",
   "execution_count": 8,
   "id": "885c441e-c979-4f19-a253-4010d5e8cfc9",
   "metadata": {},
   "outputs": [
    {
     "name": "stdout",
     "output_type": "stream",
     "text": [
      "/Users/eilaarich-landkof-stanford/Documents/Code/git_kundaje_genomics/DNA/ATAC/single-cell/fragments-file-manipulation/synapse_in_out\n"
     ]
    }
   ],
   "source": [
    "# sort tagAlign file\n",
    "# install bedtools:\n",
    "# conda install -c bioconda bedtools\n",
    "# conda install -c bioconda htslib\n",
    "\n",
    "!pwd"
   ]
  },
  {
   "cell_type": "code",
   "execution_count": 9,
   "id": "7a2adf93-a79e-417b-a1a9-794d62718d21",
   "metadata": {},
   "outputs": [],
   "source": [
    "clusters_fld = \"clusters\""
   ]
  },
  {
   "cell_type": "code",
   "execution_count": 10,
   "id": "57187a12-e2ac-4368-99de-01eafd1f060e",
   "metadata": {},
   "outputs": [
    {
     "name": "stdout",
     "output_type": "stream",
     "text": [
      "local_chrom_sizes_file_path is /Users/eilaarich-landkof-stanford/Documents/Code/git_kundaje_genomics/DNA/ATAC/single-cell/fragments-file-manipulation/synapse_in_out/chrom_sizes_file/GRCh38_EBV.chrom.sizes.tsv\n",
      "Nothing to download. local_chrom_sizes_file_path /Users/eilaarich-landkof-stanford/Documents/Code/git_kundaje_genomics/DNA/ATAC/single-cell/fragments-file-manipulation/synapse_in_out/chrom_sizes_file/GRCh38_EBV.chrom.sizes.tsv exists\n"
     ]
    }
   ],
   "source": [
    "import os\n",
    "chrom_sizes_fld = \"chrom_sizes_file\"\n",
    "os.makedirs(chrom_sizes_fld,exist_ok=True)\n",
    "# TODO: change it to your relevant chromosome size\n",
    "gs_chrom_sizes_file_path = \"gs://broad-buenrostro-pipeline-genome-annotations/IGVF_human_v43/GRCh38_EBV.chrom.sizes.tsv\"\n",
    "local_chrom_sizes_file_path = os.path.join(os.getcwd(),chrom_sizes_fld,os.path.basename(gs_chrom_sizes_file_path))\n",
    "print(\"local_chrom_sizes_file_path is {}\".format(local_chrom_sizes_file_path))\n",
    "# download the relevant chormosome for your needs:\n",
    "if (os.path.exists(local_chrom_sizes_file_path) == False):\n",
    "    !gsutil cp $gs_chrom_sizes_file_path $local_chrom_sizes_file_path\n",
    "else:\n",
    "    print(\"Nothing to download. local_chrom_sizes_file_path {} exists\".format(local_chrom_sizes_file_path))\n"
   ]
  },
  {
   "cell_type": "code",
   "execution_count": 11,
   "id": "5236df86-a921-4d6e-bb63-f47c1a008c85",
   "metadata": {},
   "outputs": [
    {
     "name": "stdout",
     "output_type": "stream",
     "text": [
      "sorted file: /Users/eilaarich-landkof-stanford/Documents/Code/git_kundaje_genomics/DNA/ATAC/single-cell/fragments-file-manipulation/synapse_in_out/chrom_sizes_file/GRCh38_EBV.chrom.sizes.sorted.tsv is available\n"
     ]
    }
   ],
   "source": [
    "# this one is only for validation. it is not being used to generate the tagAlign file\n",
    "import pandas as pd\n",
    "local_sorted_chrom_sizes_file_path = local_chrom_sizes_file_path.split(\".tsv\")[0]+\".sorted.tsv\"\n",
    "sorted_df = None\n",
    "if os.path.exists(local_sorted_chrom_sizes_file_path) == False:\n",
    "    # Step 1: Load the chromosome size file into a DataFrame\n",
    "    df = pd.read_csv(local_chrom_sizes_file_path,sep=\"\\t\", header=None)\n",
    "    print(\"df before sort is {}\".format(df.head()))\n",
    "    # Step 2: Sort the DataFrame by the second column\n",
    "    sorted_df = df.sort_values(by=df.columns[1])\n",
    "    # print(\"df after sort is {}\".format(sorted_df.head())\n",
    "    \n",
    "    # Step 3: Save the sorted DataFrame to a new TSV file\n",
    "    output_file_path = local_chrom_sizes_file_path.split(\".tsv\")[0]+\".sorted.tsv\"\n",
    "    sorted_df.to_csv(local_sorted_chrom_sizes_file_path, sep='\\t', index=False, header = False)\n",
    "    \n",
    "    # Step 4: Confirm successful save\n",
    "    print(f\"Sorted DataFrame saved to {output_file_path}\")\n",
    "else:\n",
    "    sorted_df = pd.read_csv(local_sorted_chrom_sizes_file_path,sep=\"\\t\", header=None)\n",
    "    print(\"sorted file: {} is available\".format(local_sorted_chrom_sizes_file_path))"
   ]
  },
  {
   "cell_type": "code",
   "execution_count": 12,
   "id": "6bcae2f5-55dd-4596-bf11-24169dd74a9b",
   "metadata": {},
   "outputs": [
    {
     "data": {
      "text/plain": [
       "['ENCSR052DKH', 'ENCSR397LYX', 'ENCSR367GKP', 'ENCSR205TUH', 'ENCSR868ZEI']"
      ]
     },
     "execution_count": 12,
     "metadata": {},
     "output_type": "execute_result"
    }
   ],
   "source": [
    "import os\n",
    "list_of_folders_in_clusters = os.listdir(os.path.join(os.getcwd(),clusters_fld))\n",
    "list_of_folders_in_clusters = [x for x in list_of_folders_in_clusters if \".ipynb\" not in x and \".DS_Store\" not in x]\n",
    "list_of_folders_in_clusters[0:5]"
   ]
  },
  {
   "cell_type": "code",
   "execution_count": 13,
   "id": "69152907-1292-4bd0-8be3-2874dda86ad5",
   "metadata": {},
   "outputs": [],
   "source": [
    "# list_of_folders_in_clusters = ['ENCSR618WVK']"
   ]
  },
  {
   "cell_type": "code",
   "execution_count": 14,
   "id": "8021f207-90dd-4daa-9a84-d736cf006529",
   "metadata": {},
   "outputs": [],
   "source": [
    "import subprocess\n",
    "\n",
    "def run_bedtools_command(command):\n",
    "    try:\n",
    "        # Execute the Bedtools command and capture the output and errors\n",
    "        result = subprocess.run(command, shell=True, check=True, stdout=subprocess.PIPE, stderr=subprocess.PIPE, text=True)\n",
    "        if result.stderr:\n",
    "            print(\"Error occurred:\")\n",
    "            print(result.stderr)\n",
    "        else:\n",
    "            print(\"Output:\")\n",
    "            print(result.stdout)\n",
    "    except subprocess.CalledProcessError as e:\n",
    "        print(\"Error occurred:\")\n",
    "        print(e.stderr)\n"
   ]
  },
  {
   "cell_type": "code",
   "execution_count": 15,
   "id": "e2399f2d-e3e3-4417-94bc-3aa9af2b35bd",
   "metadata": {},
   "outputs": [],
   "source": [
    "# list_of_folders_in_clusters=['ENCSR023FME'] # debug\n",
    "# list_of_folders_in_clusters"
   ]
  },
  {
   "cell_type": "code",
   "execution_count": 16,
   "id": "b6a8a7b5-a605-4d5e-a300-400e0bdfc464",
   "metadata": {},
   "outputs": [],
   "source": [
    "# \"tagAlign_\" in f and \"CellClusterAssignment\" not in f"
   ]
  },
  {
   "cell_type": "code",
   "execution_count": 17,
   "id": "4b28c06e-a4da-4342-a714-f570188305ad",
   "metadata": {},
   "outputs": [
    {
     "data": {
      "text/plain": [
       "['ENCSR618WVK']"
      ]
     },
     "execution_count": 17,
     "metadata": {},
     "output_type": "execute_result"
    }
   ],
   "source": [
    "# os.listdir(os.path.join(clusters_fld,fld))\n",
    "list_of_folders_in_clusters[0:1]"
   ]
  },
  {
   "cell_type": "code",
   "execution_count": 18,
   "id": "d5fd9457-a5d8-47ce-b876-1244c5f9346c",
   "metadata": {},
   "outputs": [],
   "source": [
    "# files_list"
   ]
  },
  {
   "cell_type": "code",
   "execution_count": 19,
   "id": "13005496-6b19-49a0-8875-da2ecb871d95",
   "metadata": {},
   "outputs": [
    {
     "name": "stdout",
     "output_type": "stream",
     "text": [
      "\n",
      "\n",
      "f_full_path is /Users/eilaarich-landkof-stanford/Documents/Code/git_kundaje_genomics/DNA/ATAC/single-cell/fragments-file-manipulation/synapse_in_out/clusters/ENCSR618WVK/ENCSR618WVK_Cluster5.tsv.tagAlign\n",
      "*****run bedtools for /Users/eilaarich-landkof-stanford/Documents/Code/git_kundaje_genomics/DNA/ATAC/single-cell/fragments-file-manipulation/synapse_in_out/clusters/ENCSR618WVK/ENCSR618WVK_Cluster5.tsv.tagAlign\n",
      "bedtools_command is bedtools sort -i /Users/eilaarich-landkof-stanford/Documents/Code/git_kundaje_genomics/DNA/ATAC/single-cell/fragments-file-manipulation/synapse_in_out/clusters/ENCSR618WVK/ENCSR618WVK_Cluster5.tsv.tagAlign -g /Users/eilaarich-landkof-stanford/Documents/Code/git_kundaje_genomics/DNA/ATAC/single-cell/fragments-file-manipulation/synapse_in_out/chrom_sizes_file/GRCh38_EBV.chrom.sizes.tsv | bgzip -c > /Users/eilaarich-landkof-stanford/Documents/Code/git_kundaje_genomics/DNA/ATAC/single-cell/fragments-file-manipulation/synapse_in_out/clusters/ENCSR618WVK/sort_ENCSR618WVK_Cluster5/ENCSR618WVK_Cluster5.sorted.tagAlign.gz && tabix -p bed /Users/eilaarich-landkof-stanford/Documents/Code/git_kundaje_genomics/DNA/ATAC/single-cell/fragments-file-manipulation/synapse_in_out/clusters/ENCSR618WVK/sort_ENCSR618WVK_Cluster5/ENCSR618WVK_Cluster5.sorted.tagAlign.gz\n",
      "Output:\n",
      "\n",
      "\n",
      "\n",
      "f_full_path is /Users/eilaarich-landkof-stanford/Documents/Code/git_kundaje_genomics/DNA/ATAC/single-cell/fragments-file-manipulation/synapse_in_out/clusters/ENCSR618WVK/ENCSR618WVK_Cluster2.tsv.tagAlign\n",
      "*****run bedtools for /Users/eilaarich-landkof-stanford/Documents/Code/git_kundaje_genomics/DNA/ATAC/single-cell/fragments-file-manipulation/synapse_in_out/clusters/ENCSR618WVK/ENCSR618WVK_Cluster2.tsv.tagAlign\n",
      "bedtools_command is bedtools sort -i /Users/eilaarich-landkof-stanford/Documents/Code/git_kundaje_genomics/DNA/ATAC/single-cell/fragments-file-manipulation/synapse_in_out/clusters/ENCSR618WVK/ENCSR618WVK_Cluster2.tsv.tagAlign -g /Users/eilaarich-landkof-stanford/Documents/Code/git_kundaje_genomics/DNA/ATAC/single-cell/fragments-file-manipulation/synapse_in_out/chrom_sizes_file/GRCh38_EBV.chrom.sizes.tsv | bgzip -c > /Users/eilaarich-landkof-stanford/Documents/Code/git_kundaje_genomics/DNA/ATAC/single-cell/fragments-file-manipulation/synapse_in_out/clusters/ENCSR618WVK/sort_ENCSR618WVK_Cluster2/ENCSR618WVK_Cluster2.sorted.tagAlign.gz && tabix -p bed /Users/eilaarich-landkof-stanford/Documents/Code/git_kundaje_genomics/DNA/ATAC/single-cell/fragments-file-manipulation/synapse_in_out/clusters/ENCSR618WVK/sort_ENCSR618WVK_Cluster2/ENCSR618WVK_Cluster2.sorted.tagAlign.gz\n",
      "Output:\n",
      "\n",
      "\n",
      "\n",
      "f_full_path is /Users/eilaarich-landkof-stanford/Documents/Code/git_kundaje_genomics/DNA/ATAC/single-cell/fragments-file-manipulation/synapse_in_out/clusters/ENCSR618WVK/ENCSR618WVK_Cluster3.tsv.tagAlign\n",
      "*****run bedtools for /Users/eilaarich-landkof-stanford/Documents/Code/git_kundaje_genomics/DNA/ATAC/single-cell/fragments-file-manipulation/synapse_in_out/clusters/ENCSR618WVK/ENCSR618WVK_Cluster3.tsv.tagAlign\n",
      "bedtools_command is bedtools sort -i /Users/eilaarich-landkof-stanford/Documents/Code/git_kundaje_genomics/DNA/ATAC/single-cell/fragments-file-manipulation/synapse_in_out/clusters/ENCSR618WVK/ENCSR618WVK_Cluster3.tsv.tagAlign -g /Users/eilaarich-landkof-stanford/Documents/Code/git_kundaje_genomics/DNA/ATAC/single-cell/fragments-file-manipulation/synapse_in_out/chrom_sizes_file/GRCh38_EBV.chrom.sizes.tsv | bgzip -c > /Users/eilaarich-landkof-stanford/Documents/Code/git_kundaje_genomics/DNA/ATAC/single-cell/fragments-file-manipulation/synapse_in_out/clusters/ENCSR618WVK/sort_ENCSR618WVK_Cluster3/ENCSR618WVK_Cluster3.sorted.tagAlign.gz && tabix -p bed /Users/eilaarich-landkof-stanford/Documents/Code/git_kundaje_genomics/DNA/ATAC/single-cell/fragments-file-manipulation/synapse_in_out/clusters/ENCSR618WVK/sort_ENCSR618WVK_Cluster3/ENCSR618WVK_Cluster3.sorted.tagAlign.gz\n",
      "Output:\n",
      "\n",
      "\n",
      "\n",
      "f_full_path is /Users/eilaarich-landkof-stanford/Documents/Code/git_kundaje_genomics/DNA/ATAC/single-cell/fragments-file-manipulation/synapse_in_out/clusters/ENCSR618WVK/ENCSR618WVK_Cluster4.tsv.tagAlign\n",
      "*****run bedtools for /Users/eilaarich-landkof-stanford/Documents/Code/git_kundaje_genomics/DNA/ATAC/single-cell/fragments-file-manipulation/synapse_in_out/clusters/ENCSR618WVK/ENCSR618WVK_Cluster4.tsv.tagAlign\n",
      "bedtools_command is bedtools sort -i /Users/eilaarich-landkof-stanford/Documents/Code/git_kundaje_genomics/DNA/ATAC/single-cell/fragments-file-manipulation/synapse_in_out/clusters/ENCSR618WVK/ENCSR618WVK_Cluster4.tsv.tagAlign -g /Users/eilaarich-landkof-stanford/Documents/Code/git_kundaje_genomics/DNA/ATAC/single-cell/fragments-file-manipulation/synapse_in_out/chrom_sizes_file/GRCh38_EBV.chrom.sizes.tsv | bgzip -c > /Users/eilaarich-landkof-stanford/Documents/Code/git_kundaje_genomics/DNA/ATAC/single-cell/fragments-file-manipulation/synapse_in_out/clusters/ENCSR618WVK/sort_ENCSR618WVK_Cluster4/ENCSR618WVK_Cluster4.sorted.tagAlign.gz && tabix -p bed /Users/eilaarich-landkof-stanford/Documents/Code/git_kundaje_genomics/DNA/ATAC/single-cell/fragments-file-manipulation/synapse_in_out/clusters/ENCSR618WVK/sort_ENCSR618WVK_Cluster4/ENCSR618WVK_Cluster4.sorted.tagAlign.gz\n",
      "Output:\n",
      "\n",
      "\n",
      "\n",
      "f_full_path is /Users/eilaarich-landkof-stanford/Documents/Code/git_kundaje_genomics/DNA/ATAC/single-cell/fragments-file-manipulation/synapse_in_out/clusters/ENCSR618WVK/ENCSR618WVK_ClusterMetadata.tsv\n",
      "\n",
      "\n",
      "!!!Will not run bedtools for file: /Users/eilaarich-landkof-stanford/Documents/Code/git_kundaje_genomics/DNA/ATAC/single-cell/fragments-file-manipulation/synapse_in_out/clusters/ENCSR618WVK/ENCSR618WVK_ClusterMetadata.tsv\n",
      "\n",
      "\n",
      "f_full_path is /Users/eilaarich-landkof-stanford/Documents/Code/git_kundaje_genomics/DNA/ATAC/single-cell/fragments-file-manipulation/synapse_in_out/clusters/ENCSR618WVK/ENCSR618WVK_Cluster1.tsv.tagAlign\n",
      "*****run bedtools for /Users/eilaarich-landkof-stanford/Documents/Code/git_kundaje_genomics/DNA/ATAC/single-cell/fragments-file-manipulation/synapse_in_out/clusters/ENCSR618WVK/ENCSR618WVK_Cluster1.tsv.tagAlign\n",
      "bedtools_command is bedtools sort -i /Users/eilaarich-landkof-stanford/Documents/Code/git_kundaje_genomics/DNA/ATAC/single-cell/fragments-file-manipulation/synapse_in_out/clusters/ENCSR618WVK/ENCSR618WVK_Cluster1.tsv.tagAlign -g /Users/eilaarich-landkof-stanford/Documents/Code/git_kundaje_genomics/DNA/ATAC/single-cell/fragments-file-manipulation/synapse_in_out/chrom_sizes_file/GRCh38_EBV.chrom.sizes.tsv | bgzip -c > /Users/eilaarich-landkof-stanford/Documents/Code/git_kundaje_genomics/DNA/ATAC/single-cell/fragments-file-manipulation/synapse_in_out/clusters/ENCSR618WVK/sort_ENCSR618WVK_Cluster1/ENCSR618WVK_Cluster1.sorted.tagAlign.gz && tabix -p bed /Users/eilaarich-landkof-stanford/Documents/Code/git_kundaje_genomics/DNA/ATAC/single-cell/fragments-file-manipulation/synapse_in_out/clusters/ENCSR618WVK/sort_ENCSR618WVK_Cluster1/ENCSR618WVK_Cluster1.sorted.tagAlign.gz\n",
      "Output:\n",
      "\n",
      "\n",
      "\n",
      "f_full_path is /Users/eilaarich-landkof-stanford/Documents/Code/git_kundaje_genomics/DNA/ATAC/single-cell/fragments-file-manipulation/synapse_in_out/clusters/ENCSR618WVK/ENCSR618WVK_Cluster0.tsv.tagAlign\n",
      "*****run bedtools for /Users/eilaarich-landkof-stanford/Documents/Code/git_kundaje_genomics/DNA/ATAC/single-cell/fragments-file-manipulation/synapse_in_out/clusters/ENCSR618WVK/ENCSR618WVK_Cluster0.tsv.tagAlign\n",
      "bedtools_command is bedtools sort -i /Users/eilaarich-landkof-stanford/Documents/Code/git_kundaje_genomics/DNA/ATAC/single-cell/fragments-file-manipulation/synapse_in_out/clusters/ENCSR618WVK/ENCSR618WVK_Cluster0.tsv.tagAlign -g /Users/eilaarich-landkof-stanford/Documents/Code/git_kundaje_genomics/DNA/ATAC/single-cell/fragments-file-manipulation/synapse_in_out/chrom_sizes_file/GRCh38_EBV.chrom.sizes.tsv | bgzip -c > /Users/eilaarich-landkof-stanford/Documents/Code/git_kundaje_genomics/DNA/ATAC/single-cell/fragments-file-manipulation/synapse_in_out/clusters/ENCSR618WVK/sort_ENCSR618WVK_Cluster0/ENCSR618WVK_Cluster0.sorted.tagAlign.gz && tabix -p bed /Users/eilaarich-landkof-stanford/Documents/Code/git_kundaje_genomics/DNA/ATAC/single-cell/fragments-file-manipulation/synapse_in_out/clusters/ENCSR618WVK/sort_ENCSR618WVK_Cluster0/ENCSR618WVK_Cluster0.sorted.tagAlign.gz\n",
      "Output:\n",
      "\n"
     ]
    }
   ],
   "source": [
    "#debug\n",
    "# for fld in list_of_folders_in_clusters[0:1]:\n",
    "for fld in list_of_folders_in_clusters:\n",
    "    files_list = os.listdir(os.path.join(clusters_fld,fld))\n",
    "    files_list = [x for x in files_list if \"DS_Store\" not in x and \".ipynb\" not in x and \"sort_tagAlign_\" not in x and \"cluster_id_annotation_map\" not in x]\n",
    "    for f in files_list:\n",
    "        # print(\"f is {}\".format(f))\n",
    "        f_full_path = os.path.join(os.getcwd(),clusters_fld,fld,f)\n",
    "        print(\"\\n\\nf_full_path is {}\".format(f_full_path))\n",
    "        if (\"tagAlign_\" in f or \".tagAlign\" in f) and \"stats\" not in f:\n",
    "            sort_fld = \"sort_{}\".format(f.split(\".tsv\")[0])\n",
    "            \n",
    "            print(\"*****run bedtools for {}\".format(f_full_path))\n",
    "            output_tagAlign_gz_folder = os.path.join(os.getcwd(),clusters_fld,fld,sort_fld)\n",
    "            os.makedirs(output_tagAlign_gz_folder, exist_ok=True)\n",
    "            output_sorted_tagAlign = os.path.join(output_tagAlign_gz_folder,f.split(\".tsv\")[0])+\".sorted.tagAlign\"\n",
    "            output_sorted_tagAlign_gz = output_sorted_tagAlign+\".gz\"\n",
    "            if os.path.exists(output_sorted_tagAlign_gz):\n",
    "                #####output_sorted_tagAlign_gz /Users/eilaarich-landkof-stanford/Documents/Code/git_kundaje_genomics/DNA/ATAC/single-cell/fragments-file-manipulation/synapse_in_out/clusters/ENCSR023FME/tagAlign_ENCSR023FME_Endothelial_cell.tsv exists\n",
    "                print(\"#####output_sorted_tagAlign_gz {} exists. continue\".format(f_full_path))\n",
    "                continue\n",
    "            # print(\"output_tagAlign_gz is {}\".format(output_tagAlign_gz))\n",
    "            # print(\"bedtools sort -i {} -g {} > {}\".format(f_full_path,\n",
    "            #                                               local_chrom_sizes_file_path,  #local_sorted_chrom_sizes_file_path,\n",
    "            #                                               output_tagAlign))\n",
    "\n",
    "            # bedtools sort -i input.tagalign -g chromosome_sizes.txt > output_sorted.tagalign | bgzip -c > output_sorted.tagalign.gz && tabix -p bed output_sorted.tagalign.gz\n",
    "            bedtools_command = \"bedtools sort -i {} -g {} | bgzip -c > {} && tabix -p bed {}\".format(f_full_path,\n",
    "                                                                                                     local_chrom_sizes_file_path, \n",
    "                                                                                                     output_sorted_tagAlign_gz,\n",
    "                                                                                                     output_sorted_tagAlign_gz)\n",
    "\n",
    "            print(\"bedtools_command is {}\".format(bedtools_command))\n",
    "            run_bedtools_command(bedtools_command)\n",
    "        else:\n",
    "            print(\"\\n\\n!!!Will not run bedtools for file: {}\".format(f_full_path))\n",
    "\n",
    "# from Jesse\n",
    "# bedtools sort -faidx {the IGVF chrom sizes file} {input.tagAlign} | bgzip > {output.tagAlign.gz}; tabix -p bed {output.tagAlign.gz})\n",
    "\n"
   ]
  },
  {
   "cell_type": "code",
   "execution_count": 20,
   "id": "23b0ab16-4dfa-4170-8f63-173d8959f637",
   "metadata": {},
   "outputs": [],
   "source": [
    "# df_output_tagAlign.head()"
   ]
  },
  {
   "cell_type": "code",
   "execution_count": 21,
   "id": "d7b7ccbf-a7b9-4e86-9f11-91757f62e13d",
   "metadata": {},
   "outputs": [],
   "source": [
    "# len(first_column_values)"
   ]
  }
 ],
 "metadata": {
  "kernelspec": {
   "display_name": "Python 3 (ipykernel)",
   "language": "python",
   "name": "python3"
  },
  "language_info": {
   "codemirror_mode": {
    "name": "ipython",
    "version": 3
   },
   "file_extension": ".py",
   "mimetype": "text/x-python",
   "name": "python",
   "nbconvert_exporter": "python",
   "pygments_lexer": "ipython3",
   "version": "3.11.4"
  }
 },
 "nbformat": 4,
 "nbformat_minor": 5
}
