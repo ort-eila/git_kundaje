{
 "cells": [
  {
   "cell_type": "code",
   "execution_count": 1,
   "id": "1d3391eb-3d2e-40f4-a651-7e7280e62b56",
   "metadata": {},
   "outputs": [],
   "source": [
    "# step6:\n",
    "# upload the tagAlign and the stats to synpase at the same hierarchy\n",
    "# make sure that the tagAlign is being gzip"
   ]
  },
  {
   "cell_type": "code",
   "execution_count": 2,
   "id": "d592a9c2-732a-4ed4-a38f-4c8d1e3f1918",
   "metadata": {},
   "outputs": [
    {
     "name": "stdout",
     "output_type": "stream",
     "text": [
      "Welcome, eila!\n",
      "\n"
     ]
    }
   ],
   "source": [
    "# Destination folder: syn52167911\n",
    "%run synapse_utils_from_analysis.ipynb"
   ]
  },
  {
   "cell_type": "code",
   "execution_count": 3,
   "id": "69702407-b90a-40fb-b299-c4d73b4330fb",
   "metadata": {},
   "outputs": [
    {
     "name": "stdout",
     "output_type": "stream",
     "text": [
      "['/Users/eilaarich-landkof-stanford/Documents/Code/git_kundaje_genomics/DNA/ATAC/single-cell/fragments-file-manipulation/synapse_in_out/clusters/.DS_Store', '/Users/eilaarich-landkof-stanford/Documents/Code/git_kundaje_genomics/DNA/ATAC/single-cell/fragments-file-manipulation/synapse_in_out/clusters/ENCSR052DKH', '/Users/eilaarich-landkof-stanford/Documents/Code/git_kundaje_genomics/DNA/ATAC/single-cell/fragments-file-manipulation/synapse_in_out/clusters/ENCSR397LYX', '/Users/eilaarich-landkof-stanford/Documents/Code/git_kundaje_genomics/DNA/ATAC/single-cell/fragments-file-manipulation/synapse_in_out/clusters/ENCSR367GKP']\n"
     ]
    }
   ],
   "source": [
    "folders_to_upload = [os.path.join(os.getcwd(),\"clusters\",x) for x in os.listdir(\"./clusters/\")]\n",
    "print(folders_to_upload[0:4])\n",
    "synapse_folder_id = \"syn52167911\""
   ]
  },
  {
   "cell_type": "code",
   "execution_count": 4,
   "id": "e830528c-acd7-484e-b544-25c66b041dd3",
   "metadata": {},
   "outputs": [
    {
     "data": {
      "text/plain": [
       "['/Users/eilaarich-landkof-stanford/Documents/Code/git_kundaje_genomics/DNA/ATAC/single-cell/fragments-file-manipulation/synapse_in_out/clusters/ENCSR052DKH',\n",
       " '/Users/eilaarich-landkof-stanford/Documents/Code/git_kundaje_genomics/DNA/ATAC/single-cell/fragments-file-manipulation/synapse_in_out/clusters/ENCSR397LYX']"
      ]
     },
     "execution_count": 4,
     "metadata": {},
     "output_type": "execute_result"
    }
   ],
   "source": [
    "folders_to_upload = [x for x in folders_to_upload if \".DS_Store\" not in x]\n",
    "folders_to_upload[0:2]"
   ]
  },
  {
   "cell_type": "code",
   "execution_count": 5,
   "id": "9921870e-9449-447f-bf40-468b599f3025",
   "metadata": {},
   "outputs": [
    {
     "data": {
      "text/plain": [
       "['/Users/eilaarich-landkof-stanford/Documents/Code/git_kundaje_genomics/DNA/ATAC/single-cell/fragments-file-manipulation/synapse_in_out/clusters/ENCSR052DKH']"
      ]
     },
     "execution_count": 5,
     "metadata": {},
     "output_type": "execute_result"
    }
   ],
   "source": [
    "# # debug\n",
    "# folders_to_upload = folders_to_upload[0:1] #debug for two datasets\n",
    "# folders_to_upload"
   ]
  },
  {
   "cell_type": "code",
   "execution_count": 11,
   "id": "1c90c16d-5d79-46f0-b385-5fce7240e0f1",
   "metadata": {
    "scrolled": true
   },
   "outputs": [
    {
     "name": "stdout",
     "output_type": "stream",
     "text": [
      "Welcome, eila!\n",
      "\n",
      "folder is /Users/eilaarich-landkof-stanford/Documents/Code/git_kundaje_genomics/DNA/ATAC/single-cell/fragments-file-manipulation/synapse_in_out/clusters/ENCSR052DKH\n",
      "sort_folders is ['sort_ENCSR052DKH_Cluster1', 'sort_ENCSR052DKH_Cluster0', 'sort_ENCSR052DKH_Cluster2', 'sort_ENCSR052DKH_Cluster3']\n",
      "folder_name is ENCSR052DKH\n",
      "folder_syn_id is syn52185794\n",
      "\n",
      "\n",
      "$$$$sort_folders are ['/Users/eilaarich-landkof-stanford/Documents/Code/git_kundaje_genomics/DNA/ATAC/single-cell/fragments-file-manipulation/synapse_in_out/clusters/ENCSR052DKH/sort_ENCSR052DKH_Cluster1', '/Users/eilaarich-landkof-stanford/Documents/Code/git_kundaje_genomics/DNA/ATAC/single-cell/fragments-file-manipulation/synapse_in_out/clusters/ENCSR052DKH/sort_ENCSR052DKH_Cluster0', '/Users/eilaarich-landkof-stanford/Documents/Code/git_kundaje_genomics/DNA/ATAC/single-cell/fragments-file-manipulation/synapse_in_out/clusters/ENCSR052DKH/sort_ENCSR052DKH_Cluster2', '/Users/eilaarich-landkof-stanford/Documents/Code/git_kundaje_genomics/DNA/ATAC/single-cell/fragments-file-manipulation/synapse_in_out/clusters/ENCSR052DKH/sort_ENCSR052DKH_Cluster3']\n",
      "\n",
      "\n",
      "****sort folder is /Users/eilaarich-landkof-stanford/Documents/Code/git_kundaje_genomics/DNA/ATAC/single-cell/fragments-file-manipulation/synapse_in_out/clusters/ENCSR052DKH/sort_ENCSR052DKH_Cluster1\n",
      "\n",
      "\n",
      "****sort folder is /Users/eilaarich-landkof-stanford/Documents/Code/git_kundaje_genomics/DNA/ATAC/single-cell/fragments-file-manipulation/synapse_in_out/clusters/ENCSR052DKH/sort_ENCSR052DKH_Cluster0\n",
      "\n",
      "\n",
      "****sort folder is /Users/eilaarich-landkof-stanford/Documents/Code/git_kundaje_genomics/DNA/ATAC/single-cell/fragments-file-manipulation/synapse_in_out/clusters/ENCSR052DKH/sort_ENCSR052DKH_Cluster2\n",
      "\n",
      "\n",
      "****sort folder is /Users/eilaarich-landkof-stanford/Documents/Code/git_kundaje_genomics/DNA/ATAC/single-cell/fragments-file-manipulation/synapse_in_out/clusters/ENCSR052DKH/sort_ENCSR052DKH_Cluster3\n"
     ]
    }
   ],
   "source": [
    "# (local_folder_path, synapse_folder_id):\n",
    "%run synapse_utils_from_analysis.ipynb\n",
    "for folder in folders_to_upload:\n",
    "    print(\"folder is {}\".format(folder))\n",
    "    # add here what to include in the folder id of the ENCODE dataset\n",
    "    # upload the metadata\n",
    "    datasets_syn_ids = upload_folder_to_synapse(folder,synapse_folder_id,\"ClusterMetadata\") # this is for the metadata only\n",
    "    sort_folders = os.listdir(folder)\n",
    "    sort_folders = [x for x in sort_folders if \"sort_\" in x]\n",
    "    print(\"sort_folders is {}\".format(sort_folders))\n",
    "    folder_name = os.path.basename(folder)\n",
    "    print(\"folder_name is {}\".format(folder_name))\n",
    "    folder_syn_id = get_folder_synID_by_name(synapse_folder_id,folder_name)\n",
    "    print(\"folder_syn_id is {}\".format(folder_syn_id))\n",
    "    sort_folders = [os.path.join(folder,x) for x in sort_folders if \"sort_\" in x]\n",
    "    print(\"\\n\\n$$$$sort_folders are {}\".format(sort_folders))\n",
    "    # debug\n",
    "    # for sort in sort_folders[0:1]: # will start from sort_tagAlign_ENCSR052DKH_Tuft_cell\n",
    "    for sort in sort_folders: # will start from sort_tagAlign_ENCSR052DKH_Tuft_cell\n",
    "        print(\"\\n\\n****sort folder is {}\".format(sort))\n",
    "        upload_folder_to_synapse(sort,folder_syn_id,\".sorted.tagAlign.gz\")\n",
    "\n"
   ]
  },
  {
   "cell_type": "code",
   "execution_count": 7,
   "id": "9ecb40ae-ff22-49c7-b36a-23ad095dbce8",
   "metadata": {},
   "outputs": [],
   "source": [
    "# # try to delete file\n",
    "# %run synapse_utils_from_analysis.ipynb\n",
    "# delete_file_by_synID(\"syn52186029\")"
   ]
  },
  {
   "cell_type": "code",
   "execution_count": null,
   "id": "0f208fe9-1a1f-4d21-89d3-74498c832a8c",
   "metadata": {},
   "outputs": [],
   "source": []
  },
  {
   "cell_type": "code",
   "execution_count": null,
   "id": "63096f3c-3201-4925-91b8-e4235563772d",
   "metadata": {},
   "outputs": [],
   "source": []
  }
 ],
 "metadata": {
  "kernelspec": {
   "display_name": "Python 3 (ipykernel)",
   "language": "python",
   "name": "python3"
  },
  "language_info": {
   "codemirror_mode": {
    "name": "ipython",
    "version": 3
   },
   "file_extension": ".py",
   "mimetype": "text/x-python",
   "name": "python",
   "nbconvert_exporter": "python",
   "pygments_lexer": "ipython3",
   "version": "3.11.4"
  }
 },
 "nbformat": 4,
 "nbformat_minor": 5
}
