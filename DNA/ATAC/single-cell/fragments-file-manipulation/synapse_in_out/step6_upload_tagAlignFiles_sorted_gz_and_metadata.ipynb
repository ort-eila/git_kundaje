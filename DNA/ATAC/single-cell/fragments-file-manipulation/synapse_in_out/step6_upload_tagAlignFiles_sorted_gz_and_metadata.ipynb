{
 "cells": [
  {
   "cell_type": "code",
   "execution_count": 1,
   "id": "1d3391eb-3d2e-40f4-a651-7e7280e62b56",
   "metadata": {},
   "outputs": [],
   "source": [
    "# step6:\n",
    "# upload the tagAlign and the stats to synpase at the same hierarchy\n",
    "# make sure that the tagAlign is being gzip\n",
    "# TODO: uncomment / comment the file types that you need to upload in the block with the code\n",
    "# for folder in folders_to_upload:"
   ]
  },
  {
   "cell_type": "code",
   "execution_count": 2,
   "id": "d592a9c2-732a-4ed4-a38f-4c8d1e3f1918",
   "metadata": {},
   "outputs": [
    {
     "name": "stdout",
     "output_type": "stream",
     "text": [
      "Welcome, eila!\n",
      "\n"
     ]
    }
   ],
   "source": [
    "# Destination folder: syn52167911\n",
    "%run synapse_utils_from_analysis.ipynb"
   ]
  },
  {
   "cell_type": "code",
   "execution_count": 4,
   "id": "69702407-b90a-40fb-b299-c4d73b4330fb",
   "metadata": {},
   "outputs": [
    {
     "name": "stdout",
     "output_type": "stream",
     "text": [
      "['/Users/eilaarich-landkof-stanford/Documents/Code/git_kundaje_genomics/DNA/ATAC/single-cell/fragments-file-manipulation/synapse_in_out/clusters/.DS_Store', '/Users/eilaarich-landkof-stanford/Documents/Code/git_kundaje_genomics/DNA/ATAC/single-cell/fragments-file-manipulation/synapse_in_out/clusters/ENCSR052DKH', '/Users/eilaarich-landkof-stanford/Documents/Code/git_kundaje_genomics/DNA/ATAC/single-cell/fragments-file-manipulation/synapse_in_out/clusters/ENCSR397LYX', '/Users/eilaarich-landkof-stanford/Documents/Code/git_kundaje_genomics/DNA/ATAC/single-cell/fragments-file-manipulation/synapse_in_out/clusters/ENCSR367GKP']\n"
     ]
    }
   ],
   "source": [
    "folders_to_upload = [os.path.join(os.getcwd(),\"clusters\",x) for x in os.listdir(\"./clusters/\")]\n",
    "print(folders_to_upload[0:4])\n",
    "synapse_folder_id = \"syn52167911\""
   ]
  },
  {
   "cell_type": "code",
   "execution_count": 5,
   "id": "e830528c-acd7-484e-b544-25c66b041dd3",
   "metadata": {},
   "outputs": [
    {
     "data": {
      "text/plain": [
       "['/Users/eilaarich-landkof-stanford/Documents/Code/git_kundaje_genomics/DNA/ATAC/single-cell/fragments-file-manipulation/synapse_in_out/clusters/ENCSR052DKH',\n",
       " '/Users/eilaarich-landkof-stanford/Documents/Code/git_kundaje_genomics/DNA/ATAC/single-cell/fragments-file-manipulation/synapse_in_out/clusters/ENCSR397LYX']"
      ]
     },
     "execution_count": 5,
     "metadata": {},
     "output_type": "execute_result"
    }
   ],
   "source": [
    "folders_to_upload = [x for x in folders_to_upload if \".DS_Store\" not in x]\n",
    "folders_to_upload[0:2]"
   ]
  },
  {
   "cell_type": "code",
   "execution_count": 6,
   "id": "759b1484-3345-480e-bd6b-48f46cc1b6b4",
   "metadata": {},
   "outputs": [],
   "source": [
    "\n",
    "# for encode last dataset\n",
    "# folders_to_upload = ['/Users/eilaarich-landkof-stanford/Documents/Code/git_kundaje_genomics/DNA/ATAC/single-cell/fragments-file-manipulation/synapse_in_out/clusters/ENCSR618WVK']\n",
    "\n",
    "\n",
    "\n",
    "                     "
   ]
  },
  {
   "cell_type": "code",
   "execution_count": 7,
   "id": "bba997ab-a9a2-489e-b466-9d3924ad9dd5",
   "metadata": {},
   "outputs": [
    {
     "data": {
      "text/plain": [
       "1"
      ]
     },
     "execution_count": 7,
     "metadata": {},
     "output_type": "execute_result"
    }
   ],
   "source": [
    "len(folders_to_upload)"
   ]
  },
  {
   "cell_type": "code",
   "execution_count": 8,
   "id": "5a32693f-20f5-4d11-aa01-77a3d75c7757",
   "metadata": {},
   "outputs": [],
   "source": [
    "# folder = folders_to_upload[0]"
   ]
  },
  {
   "cell_type": "code",
   "execution_count": 9,
   "id": "30ba1cfe-4b6e-48c9-890d-96aafe134b68",
   "metadata": {},
   "outputs": [],
   "source": [
    "# !pwd"
   ]
  },
  {
   "cell_type": "code",
   "execution_count": 10,
   "id": "a4b8033e-6cce-4cc4-82c6-2c289e1ed0ee",
   "metadata": {},
   "outputs": [],
   "source": [
    "# folder"
   ]
  },
  {
   "cell_type": "code",
   "execution_count": 11,
   "id": "c8e98a7d-f974-4b94-a11a-3c1a3507c276",
   "metadata": {},
   "outputs": [],
   "source": [
    "# !cp /Users/eilaarich-landkof-stanford/Documents/Code/git_kundaje_genomics/DNA/ATAC/single-cell/fragments-file-manipulation/synapse_in_out/filtered_h5_count_matrix/ENCSR618WVK.combinedFiltered.hg38.rna.h5 /Users/eilaarich-landkof-stanford/Documents/Code/git_kundaje_genomics/DNA/ATAC/single-cell/fragments-file-manipulation/synapse_in_out/clusters/ENCSR618WVK\n",
    "\n"
   ]
  },
  {
   "cell_type": "code",
   "execution_count": 12,
   "id": "50345c2d-dc61-4908-9116-9263d2049886",
   "metadata": {},
   "outputs": [],
   "source": [
    "# !ls $folder"
   ]
  },
  {
   "cell_type": "code",
   "execution_count": 13,
   "id": "9921870e-9449-447f-bf40-468b599f3025",
   "metadata": {},
   "outputs": [],
   "source": [
    "# # # debug\n",
    "# folders_to_upload = folders_to_upload[1:2] #debug for two datasets\n",
    "# folders_to_upload"
   ]
  },
  {
   "cell_type": "code",
   "execution_count": 14,
   "id": "cd2f1a6f-6542-4139-946d-130576344ebb",
   "metadata": {},
   "outputs": [],
   "source": [
    "# to upload only the ClusterMetadata. Comment out upload_folder_to_synapse(sort,folder_syn_id,\".sorted.tagAlign.gz\")\n",
    "\n",
    "# folders_to_upload"
   ]
  },
  {
   "cell_type": "code",
   "execution_count": 16,
   "id": "1c90c16d-5d79-46f0-b385-5fce7240e0f1",
   "metadata": {
    "scrolled": true
   },
   "outputs": [
    {
     "name": "stdout",
     "output_type": "stream",
     "text": [
      "Welcome, eila!\n",
      "\n",
      "folder is /Users/eilaarich-landkof-stanford/Documents/Code/git_kundaje_genomics/DNA/ATAC/single-cell/fragments-file-manipulation/synapse_in_out/clusters/ENCSR618WVK\n",
      "sort_folders is ['sort_ENCSR618WVK_Cluster1', 'sort_ENCSR618WVK_Cluster0', 'sort_ENCSR618WVK_Cluster5', 'sort_ENCSR618WVK_Cluster2', 'sort_ENCSR618WVK_Cluster3', 'sort_ENCSR618WVK_Cluster4']\n",
      "folder_name is ENCSR618WVK\n",
      "folder_syn_id is syn52281276\n",
      "\n",
      "\n",
      "$$$$sort_folders are ['/Users/eilaarich-landkof-stanford/Documents/Code/git_kundaje_genomics/DNA/ATAC/single-cell/fragments-file-manipulation/synapse_in_out/clusters/ENCSR618WVK/sort_ENCSR618WVK_Cluster1', '/Users/eilaarich-landkof-stanford/Documents/Code/git_kundaje_genomics/DNA/ATAC/single-cell/fragments-file-manipulation/synapse_in_out/clusters/ENCSR618WVK/sort_ENCSR618WVK_Cluster0', '/Users/eilaarich-landkof-stanford/Documents/Code/git_kundaje_genomics/DNA/ATAC/single-cell/fragments-file-manipulation/synapse_in_out/clusters/ENCSR618WVK/sort_ENCSR618WVK_Cluster5', '/Users/eilaarich-landkof-stanford/Documents/Code/git_kundaje_genomics/DNA/ATAC/single-cell/fragments-file-manipulation/synapse_in_out/clusters/ENCSR618WVK/sort_ENCSR618WVK_Cluster2', '/Users/eilaarich-landkof-stanford/Documents/Code/git_kundaje_genomics/DNA/ATAC/single-cell/fragments-file-manipulation/synapse_in_out/clusters/ENCSR618WVK/sort_ENCSR618WVK_Cluster3', '/Users/eilaarich-landkof-stanford/Documents/Code/git_kundaje_genomics/DNA/ATAC/single-cell/fragments-file-manipulation/synapse_in_out/clusters/ENCSR618WVK/sort_ENCSR618WVK_Cluster4']\n",
      "\n",
      "\n",
      "****sort folder is /Users/eilaarich-landkof-stanford/Documents/Code/git_kundaje_genomics/DNA/ATAC/single-cell/fragments-file-manipulation/synapse_in_out/clusters/ENCSR618WVK/sort_ENCSR618WVK_Cluster1 to folder_syn_id syn52281276\n",
      "\n",
      "\n",
      "****sort folder is /Users/eilaarich-landkof-stanford/Documents/Code/git_kundaje_genomics/DNA/ATAC/single-cell/fragments-file-manipulation/synapse_in_out/clusters/ENCSR618WVK/sort_ENCSR618WVK_Cluster0 to folder_syn_id syn52281276\n",
      "\n",
      "\n",
      "****sort folder is /Users/eilaarich-landkof-stanford/Documents/Code/git_kundaje_genomics/DNA/ATAC/single-cell/fragments-file-manipulation/synapse_in_out/clusters/ENCSR618WVK/sort_ENCSR618WVK_Cluster5 to folder_syn_id syn52281276\n",
      "\n",
      "\n",
      "****sort folder is /Users/eilaarich-landkof-stanford/Documents/Code/git_kundaje_genomics/DNA/ATAC/single-cell/fragments-file-manipulation/synapse_in_out/clusters/ENCSR618WVK/sort_ENCSR618WVK_Cluster2 to folder_syn_id syn52281276\n",
      "\n",
      "\n",
      "****sort folder is /Users/eilaarich-landkof-stanford/Documents/Code/git_kundaje_genomics/DNA/ATAC/single-cell/fragments-file-manipulation/synapse_in_out/clusters/ENCSR618WVK/sort_ENCSR618WVK_Cluster3 to folder_syn_id syn52281276\n",
      "\n",
      "\n",
      "****sort folder is /Users/eilaarich-landkof-stanford/Documents/Code/git_kundaje_genomics/DNA/ATAC/single-cell/fragments-file-manipulation/synapse_in_out/clusters/ENCSR618WVK/sort_ENCSR618WVK_Cluster4 to folder_syn_id syn52281276\n"
     ]
    }
   ],
   "source": [
    "# (local_folder_path, synapse_folder_id):\n",
    "%run synapse_utils_from_analysis.ipynb\n",
    "for folder in folders_to_upload:\n",
    "    print(\"folder is {}\".format(folder))\n",
    "    # add here what to include in the folder id of the ENCODE dataset\n",
    "\n",
    "    # # upload ClusterMetadata.tsv\n",
    "    # print(\"update file with ClusterMetadata.tsv to synapse_folder_id {}\".format(synapse_folder_id))\n",
    "    # datasets_syn_ids = upload_folder_to_synapse(folder,synapse_folder_id,True, \"ClusterMetadata.tsv\") # this is for the metadata only\n",
    "    # print(\"datasets_syn_ids for ClusterMetadata.tsv is {}\".format(datasets_syn_ids))\n",
    "\n",
    "\n",
    "    # only ENCSR618WVK (that has RNA as well)\n",
    "    # upload CPM_clusters_barcode.tsv\n",
    "    # print(\"update file with CPM_clusters_barcode.tsv to synapse_folder_id {}\".format(synapse_folder_id))\n",
    "    # datasets_syn_ids = upload_folder_to_synapse(folder,synapse_folder_id,True, \"CPM_clusters_barcode.tsv\") # this is for the metadata only\n",
    "    # print(\"datasets_syn_ids for CPM_clusters_barcode.tsv is {}\".format(datasets_syn_ids))\n",
    "\n",
    "     # only ENCSR618WVK: .combinedFiltered.hg38.rna.h5\n",
    "    # print(\"update file with .combinedFiltered.hg38.rna.h5 to synapse_folder_id {}\".format(synapse_folder_id))\n",
    "    # datasets_syn_ids = upload_folder_to_synapse(folder,synapse_folder_id,True, \".combinedFiltered.hg38.rna.h5\") # this is for the metadata only\n",
    "    # print(\"datasets_syn_ids for .combinedFiltered.hg38.rna.h5 is {}\".format(datasets_syn_ids))\n",
    "    \n",
    "    # upload the {datasetId}_CellClusterAssignment.tsv\n",
    "    # print(\"update file with _CellClusterAssignment to synapse_folder_id {}\".format(synapse_folder_id))\n",
    "    # datasets_syn_ids = upload_folder_to_synapse(folder,synapse_folder_id,True, \"CellClusterAssignment\") # this is for the metadata only\n",
    "    # print(\"datasets_syn_ids is {}\".format(datasets_syn_ids))\n",
    "    \n",
    "    # upload sort - No. for all folders - already done\n",
    "    sort_folders = os.listdir(folder)\n",
    "    sort_folders = [x for x in sort_folders if \"sort_\" in x]\n",
    "    print(\"sort_folders is {}\".format(sort_folders))\n",
    "    folder_name = os.path.basename(folder)\n",
    "    print(\"folder_name is {}\".format(folder_name))\n",
    "    folder_syn_id = get_folder_synID_by_name(synapse_folder_id,folder_name)\n",
    "    print(\"folder_syn_id is {}\".format(folder_syn_id))\n",
    "    sort_folders = [os.path.join(folder,x) for x in sort_folders if \"sort_\" in x]\n",
    "    print(\"\\n\\n$$$$sort_folders are {}\".format(sort_folders))\n",
    "    # debug\n",
    "    # for sort in sort_folders[0:1]: # will start from sort_tagAlign_ENCSR052DKH_Tuft_cell\n",
    "    # remove the sort upload\n",
    "    for sort in sort_folders: # will start from sort_tagAlign_ENCSR052DKH_Tuft_cell\n",
    "        print(\"\\n\\n****sort folder is {} to folder_syn_id {}\".format(sort,folder_syn_id))\n",
    "        # upload_folder_to_synapse(sort,folder_syn_id,\".sorted.tagAlign.gz\")\n",
    "\n"
   ]
  },
  {
   "cell_type": "code",
   "execution_count": 10,
   "id": "9ecb40ae-ff22-49c7-b36a-23ad095dbce8",
   "metadata": {},
   "outputs": [],
   "source": [
    "# # try to delete file\n",
    "# %run synapse_utils_from_analysis.ipynb\n",
    "# delete_file_by_synID(\"syn52186029\")"
   ]
  },
  {
   "cell_type": "code",
   "execution_count": null,
   "id": "0f208fe9-1a1f-4d21-89d3-74498c832a8c",
   "metadata": {},
   "outputs": [],
   "source": []
  },
  {
   "cell_type": "code",
   "execution_count": null,
   "id": "63096f3c-3201-4925-91b8-e4235563772d",
   "metadata": {},
   "outputs": [],
   "source": []
  }
 ],
 "metadata": {
  "kernelspec": {
   "display_name": "Python 3 (ipykernel)",
   "language": "python",
   "name": "python3"
  },
  "language_info": {
   "codemirror_mode": {
    "name": "ipython",
    "version": 3
   },
   "file_extension": ".py",
   "mimetype": "text/x-python",
   "name": "python",
   "nbconvert_exporter": "python",
   "pygments_lexer": "ipython3",
   "version": "3.11.4"
  }
 },
 "nbformat": 4,
 "nbformat_minor": 5
}
