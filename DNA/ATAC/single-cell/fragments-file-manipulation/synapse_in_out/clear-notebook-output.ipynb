{
 "cells": [
  {
   "cell_type": "code",
   "execution_count": null,
   "id": "99e70b16-d589-44c6-a5d1-a20e0f6e8254",
   "metadata": {},
   "outputs": [],
   "source": [
    "# clear notebook"
   ]
  },
  {
   "cell_type": "code",
   "execution_count": null,
   "id": "9fddf4c1-8879-4712-b4f1-d683a5ba4b73",
   "metadata": {},
   "outputs": [],
   "source": [
    "!jupyter nbconvert --ClearOutputPreprocessor.enabled=True --inplace $notebookname"
   ]
  }
 ],
 "metadata": {
  "kernelspec": {
   "display_name": "Python 3 (ipykernel)",
   "language": "python",
   "name": "python3"
  },
  "language_info": {
   "codemirror_mode": {
    "name": "ipython",
    "version": 3
   },
   "file_extension": ".py",
   "mimetype": "text/x-python",
   "name": "python",
   "nbconvert_exporter": "python",
   "pygments_lexer": "ipython3",
   "version": "3.11.4"
  }
 },
 "nbformat": 4,
 "nbformat_minor": 5
}
