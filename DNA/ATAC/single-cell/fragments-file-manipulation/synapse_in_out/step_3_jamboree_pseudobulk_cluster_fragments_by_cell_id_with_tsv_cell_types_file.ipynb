{
 "cells": [
  {
   "cell_type": "code",
   "execution_count": 12,
   "metadata": {},
   "outputs": [],
   "source": [
    "# if the files are on Anvil / Terra workspace \n",
    "# please run it from the workspace analysis to avoid bucket access permission issues\n",
    "# or use the gcloud login auth interface to authenticate yourself"
   ]
  },
  {
   "cell_type": "code",
   "execution_count": 13,
   "metadata": {},
   "outputs": [
    {
     "name": "stdout",
     "output_type": "stream",
     "text": [
      "/Users/eilaarich-landkof-stanford/Documents/Code/git_kundaje_genomics/DNA/ATAC/single-cell/fragments-file-manipulation/synapse_in_out\n"
     ]
    }
   ],
   "source": [
    "!pwd"
   ]
  },
  {
   "cell_type": "markdown",
   "metadata": {},
   "source": [
    "installations:\n",
    "\n",
    "1. pip install synapseclient"
   ]
  },
  {
   "cell_type": "code",
   "execution_count": 14,
   "metadata": {},
   "outputs": [
    {
     "name": "stdout",
     "output_type": "stream",
     "text": [
      "/Users/eilaarich-landkof-stanford/Documents/Code/git_kundaje_genomics/DNA/ATAC/single-cell/fragments-file-manipulation/synapse_in_out\n"
     ]
    }
   ],
   "source": [
    "!pwd"
   ]
  },
  {
   "cell_type": "code",
   "execution_count": 15,
   "metadata": {},
   "outputs": [],
   "source": [
    "import os\n",
    "import pandas as pd\n",
    "\n",
    "full_fragments_and_cell_type_labels = [(\"/Users/eilaarich-landkof-stanford/Documents/Code/git_kundaje_genomics/DNA/ATAC/single-cell/fragments-file-manipulation/synapse_in_out/fragment_files/syn52118179_syn52119924_ENCSR052DKH.atac.filter.fragments.hg38.tsv.gz/ENCSR052DKH.atac.filter.fragments.hg38.tsv.gz\",\n",
    "                                        \"/Users/eilaarich-landkof-stanford/Documents/Code/git_kundaje_genomics/DNA/ATAC/single-cell/fragments-file-manipulation/synapse_in_out/labels/syn34271785_ENCSR052DKH_syn46650146/cell_types.tsv.gz\")]\n",
    "local_clusters_fld = os.path.join(os.getcwd(),\"clusters\")\n",
    "os.makedirs(local_clusters_fld, exist_ok=True)\n",
    "local_path_to_download = os.path.join(os.getcwd(),\"fragment_files\")"
   ]
  },
  {
   "cell_type": "code",
   "execution_count": 16,
   "metadata": {},
   "outputs": [],
   "source": [
    "def remove_file(filename):\n",
    "  print(\"remove_file method: {}\".format(filename))\n",
    "  if os.path.exists(filename):\n",
    "    os.remove(filename)"
   ]
  },
  {
   "cell_type": "code",
   "execution_count": 17,
   "metadata": {},
   "outputs": [],
   "source": [
    "def save_clusters_mapping(fld,atac_dataset_id,list_to_save):\n",
    " # Create a DataFrame from the tuple list\n",
    "    df = pd.DataFrame(list_to_save, columns=[\"ClusterId\", \"ManualAnnotationLabel\"])\n",
    "\n",
    "    # Specify the output TSV file path\n",
    "    output_tsv_file = os.path.join(fld,atac_dataset_id,\"{}_cluster_id_annotation_map.tsv\".format(atac_dataset_id))\n",
    "    print(\"sort_list_with_indices_and_save: output_tsv_file is {}\".format(output_tsv_file))\n",
    "    # Write the DataFrame to a TSV file\n",
    "    df.to_csv(output_tsv_file, sep=\"\\t\", index=False)"
   ]
  },
  {
   "cell_type": "code",
   "execution_count": 7,
   "metadata": {},
   "outputs": [],
   "source": [
    "# IMPORTNAT: we make sure to keep the same order if the cell_id and the cluster for the next execution\n",
    "def sort_list_with_indices(input_list):\n",
    "    sorted_list = sorted(input_list)\n",
    "    indexed_sorted_list = [(i, item) for i, item in enumerate(sorted_list)]\n",
    "\n",
    "    \n",
    "    return indexed_sorted_list"
   ]
  },
  {
   "cell_type": "code",
   "execution_count": null,
   "metadata": {},
   "outputs": [
    {
     "name": "stdout",
     "output_type": "stream",
     "text": [
      "!!!!!local_fragment_file is /Users/eilaarich-landkof-stanford/Documents/Code/git_kundaje_genomics/DNA/ATAC/single-cell/fragments-file-manipulation/synapse_in_out/fragment_files/syn52118179_syn52119924_ENCSR052DKH.atac.filter.fragments.hg38.tsv.gz/ENCSR052DKH.atac.filter.fragments.hg38.tsv.gz\n",
      "file_atac_dataset_id is ENCSR052DKH\n",
      "tsv_gz_file is /Users/eilaarich-landkof-stanford/Documents/Code/git_kundaje_genomics/DNA/ATAC/single-cell/fragments-file-manipulation/synapse_in_out/labels/syn34271785_ENCSR052DKH_syn46650146/cell_types.tsv.gz\n",
      "sorted_idx_cell_type_id_names_for_atac_dataset is [(0, 'Macrophage'), (1, 'T_lymphocyte'), (2, 'Tuft_cell'), (3, 'Vascular_smooth_muscle_cell')]\n",
      "number of cell_type_id_names_for_atac_dataset is 4\n",
      "@@@@output_tagAlign_files_with_names is [('/Users/eilaarich-landkof-stanford/Documents/Code/git_kundaje_genomics/DNA/ATAC/single-cell/fragments-file-manipulation/synapse_in_out/clusters/ENCSR052DKH/ENCSR052DKH_Cluster0.tsv.tagAlign', 'Macrophage'), ('/Users/eilaarich-landkof-stanford/Documents/Code/git_kundaje_genomics/DNA/ATAC/single-cell/fragments-file-manipulation/synapse_in_out/clusters/ENCSR052DKH/ENCSR052DKH_Cluster1.tsv.tagAlign', 'T_lymphocyte'), ('/Users/eilaarich-landkof-stanford/Documents/Code/git_kundaje_genomics/DNA/ATAC/single-cell/fragments-file-manipulation/synapse_in_out/clusters/ENCSR052DKH/ENCSR052DKH_Cluster2.tsv.tagAlign', 'Tuft_cell'), ('/Users/eilaarich-landkof-stanford/Documents/Code/git_kundaje_genomics/DNA/ATAC/single-cell/fragments-file-manipulation/synapse_in_out/clusters/ENCSR052DKH/ENCSR052DKH_Cluster3.tsv.tagAlign', 'Vascular_smooth_muscle_cell')]\n",
      "tagAlign_exists is [False, False, False, False]\n",
      "!!!output_tagAlign_files_with_names [('/Users/eilaarich-landkof-stanford/Documents/Code/git_kundaje_genomics/DNA/ATAC/single-cell/fragments-file-manipulation/synapse_in_out/clusters/ENCSR052DKH/ENCSR052DKH_Cluster0.tsv.tagAlign', 'Macrophage'), ('/Users/eilaarich-landkof-stanford/Documents/Code/git_kundaje_genomics/DNA/ATAC/single-cell/fragments-file-manipulation/synapse_in_out/clusters/ENCSR052DKH/ENCSR052DKH_Cluster1.tsv.tagAlign', 'T_lymphocyte'), ('/Users/eilaarich-landkof-stanford/Documents/Code/git_kundaje_genomics/DNA/ATAC/single-cell/fragments-file-manipulation/synapse_in_out/clusters/ENCSR052DKH/ENCSR052DKH_Cluster2.tsv.tagAlign', 'Tuft_cell'), ('/Users/eilaarich-landkof-stanford/Documents/Code/git_kundaje_genomics/DNA/ATAC/single-cell/fragments-file-manipulation/synapse_in_out/clusters/ENCSR052DKH/ENCSR052DKH_Cluster3.tsv.tagAlign', 'Vascular_smooth_muscle_cell')]. open files\n",
      "save the cluster to annotation mapping\n",
      "sort_list_with_indices_and_save: output_tsv_file is /Users/eilaarich-landkof-stanford/Documents/Code/git_kundaje_genomics/DNA/ATAC/single-cell/fragments-file-manipulation/synapse_in_out/clusters/ENCSR052DKH/ENCSR052DKH_cluster_id_annotation_map.tsv\n",
      "open local_fragment_file /Users/eilaarich-landkof-stanford/Documents/Code/git_kundaje_genomics/DNA/ATAC/single-cell/fragments-file-manipulation/synapse_in_out/fragment_files/syn52118179_syn52119924_ENCSR052DKH.atac.filter.fragments.hg38.tsv.gz/ENCSR052DKH.atac.filter.fragments.hg38.tsv.gz\n",
      "r_list fragment input is ['chr1', '10005', '10216', 'ENCSR052DKH_CTATTTGCCTGAAGCCGTTGGT', '1\\n']\n",
      "\n",
      "rows_str output is chr1\t10005\t10006\tENCSR052DKH_CTATTTGCCTGAAGCCGTTGGT\t1\t+\n",
      "chr1\t10215\t10216\tENCSR052DKH_CTATTTGCCTGAAGCCGTTGGT\t1\t-\n",
      "\n",
      "r_list fragment input is ['chr1', '10005', '10278', 'ENCSR052DKH_TAGACCAGGGTGGAACAGTCTG', '1\\n']\n",
      "\n",
      "rows_str output is chr1\t10005\t10006\tENCSR052DKH_TAGACCAGGGTGGAACAGTCTG\t1\t+\n",
      "chr1\t10277\t10278\tENCSR052DKH_TAGACCAGGGTGGAACAGTCTG\t1\t-\n",
      "\n",
      "r_list fragment input is ['chr1', '10006', '10163', 'ENCSR052DKH_AAGTCCTTAGGTCAGGGTACTT', '1\\n']\n",
      "\n",
      "rows_str output is chr1\t10006\t10007\tENCSR052DKH_AAGTCCTTAGGTCAGGGTACTT\t1\t+\n",
      "chr1\t10162\t10163\tENCSR052DKH_AAGTCCTTAGGTCAGGGTACTT\t1\t-\n",
      "\n",
      "r_list fragment input is ['chr1', '10006', '10413', 'ENCSR052DKH_CCGGGATTTCAAACCCGAGATA', '1\\n']\n",
      "\n",
      "rows_str output is chr1\t10006\t10007\tENCSR052DKH_CCGGGATTTCAAACCCGAGATA\t1\t+\n",
      "chr1\t10412\t10413\tENCSR052DKH_CCGGGATTTCAAACCCGAGATA\t1\t-\n",
      "\n",
      "r_list fragment input is ['chr1', '10007', '10285', 'ENCSR052DKH_TGGAGGACGAGGGCTACAGTTC', '1\\n']\n",
      "\n",
      "rows_str output is chr1\t10007\t10008\tENCSR052DKH_TGGAGGACGAGGGCTACAGTTC\t1\t+\n",
      "chr1\t10284\t10285\tENCSR052DKH_TGGAGGACGAGGGCTACAGTTC\t1\t-\n",
      "\n",
      "r_list fragment input is ['chr1', '10013', '10407', 'ENCSR052DKH_GTGTGATGTATCTTCCTGCAAC', '1\\n']\n",
      "\n",
      "rows_str output is chr1\t10013\t10014\tENCSR052DKH_GTGTGATGTATCTTCCTGCAAC\t1\t+\n",
      "chr1\t10406\t10407\tENCSR052DKH_GTGTGATGTATCTTCCTGCAAC\t1\t-\n",
      "\n",
      "r_list fragment input is ['chr1', '10030', '10151', 'ENCSR052DKH_CGTCAAGCAGTCCGTAAGGTTC', '1\\n']\n",
      "\n",
      "rows_str output is chr1\t10030\t10031\tENCSR052DKH_CGTCAAGCAGTCCGTAAGGTTC\t1\t+\n",
      "chr1\t10150\t10151\tENCSR052DKH_CGTCAAGCAGTCCGTAAGGTTC\t1\t-\n",
      "\n",
      "r_list fragment input is ['chr1', '10031', '10278', 'ENCSR052DKH_TAGACTTGACACTAACGGTATC', '1\\n']\n",
      "\n",
      "rows_str output is chr1\t10031\t10032\tENCSR052DKH_TAGACTTGACACTAACGGTATC\t1\t+\n",
      "chr1\t10277\t10278\tENCSR052DKH_TAGACTTGACACTAACGGTATC\t1\t-\n",
      "\n",
      "r_list fragment input is ['chr1', '10049', '10267', 'ENCSR052DKH_GCCAGTGTTGATCGTACCCGTT', '1\\n']\n",
      "\n",
      "rows_str output is chr1\t10049\t10050\tENCSR052DKH_GCCAGTGTTGATCGTACCCGTT\t1\t+\n",
      "chr1\t10266\t10267\tENCSR052DKH_GCCAGTGTTGATCGTACCCGTT\t1\t-\n",
      "\n",
      "r_list fragment input is ['chr1', '10054', '10204', 'ENCSR052DKH_AAGCAAAGTCGGCGGGATATTC', '1\\n']\n",
      "\n",
      "rows_str output is chr1\t10054\t10055\tENCSR052DKH_AAGCAAAGTCGGCGGGATATTC\t1\t+\n",
      "chr1\t10203\t10204\tENCSR052DKH_AAGCAAAGTCGGCGGGATATTC\t1\t-\n",
      "\n"
     ]
    }
   ],
   "source": [
    "%run tsv_files_utils_from_analysis.ipynb\n",
    "\n",
    "for local_file_tuple in full_fragments_and_cell_type_labels:\n",
    "\n",
    "    # Dictionary to store the output file handles with names\n",
    "    output_handles = {}\n",
    "    local_fragment_file = local_file_tuple[0]\n",
    "    full_cell_types_annotation_file_path = local_file_tuple[1]\n",
    "    print(\"!!!!!local_fragment_file is {}\".format(local_fragment_file))\n",
    "    file_atac_dataset_id = local_fragment_file.split(\"_\")[-1].split(\".\")[0]\n",
    "    print(\"file_atac_dataset_id is {}\".format(file_atac_dataset_id))\n",
    " \n",
    "    # This full_cell_types_annotation_file_path was given as an input\n",
    "    df_cell_types_for_atac_dataset = read_tsv_gz_to_dataframe_skipping_comments_and_empty_lines(full_cell_types_annotation_file_path)\n",
    "    cell_type_id_names_for_atac_dataset = list(set(df_cell_types_for_atac_dataset['cell_type_id'].to_list()))\n",
    "    sorted_idx_cell_type_id_names_for_atac_dataset = sort_list_with_indices(cell_type_id_names_for_atac_dataset)\n",
    "    print(\"sorted_idx_cell_type_id_names_for_atac_dataset is {}\".format(sorted_idx_cell_type_id_names_for_atac_dataset))\n",
    "    print(\"number of cell_type_id_names_for_atac_dataset is {}\".format(len(sorted_idx_cell_type_id_names_for_atac_dataset)))\n",
    "    # List of output text files with corresponding names\n",
    "    # [(\"output1.txt\", \"file_1\"), (\"output2.txt\", \"file_2\"), (\"output3.txt\", \"file_3\")]\n",
    "    output_tagAlign_files_with_names = [(os.path.join(local_clusters_fld,file_atac_dataset_id,\"{}_Cluster{}.tsv.tagAlign\".format(file_atac_dataset_id,item[0])),\n",
    "                                    item[1]) for item in sorted_idx_cell_type_id_names_for_atac_dataset]\n",
    "    print(\"@@@@output_tagAlign_files_with_names is {}\".format(output_tagAlign_files_with_names))\n",
    "\n",
    "    # this will make sure that we will not run the same tagAlign twice.\n",
    "    tagAlign_exists = [os.path.exists(output_tagAlign_file[0]) for output_tagAlign_file in output_tagAlign_files_with_names]\n",
    "    print(\"tagAlign_exists is {}\".format(tagAlign_exists))\n",
    "    if sum(tagAlign_exists) >0:\n",
    "        print(\"output_tagAlign_files_with_names {} is at work or was already downloaded. continue\".format(output_tagAlign_files_with_names))\n",
    "        continue # either started by annother process or already was processed\n",
    "    else:\n",
    "        print(\"!!!output_tagAlign_files_with_names {}. open files\".format(output_tagAlign_files_with_names))\n",
    "        for tag_file_path, tag_file_cell_type_name in output_tagAlign_files_with_names:\n",
    "            # print(\"tag_file_path is {}\".format(tag_file_path))\n",
    "            # print(\"os.path.dirname(tag_file_path) is {}\".format(os.path.dirname(tag_file_path)))\n",
    "            os.makedirs(os.path.dirname(tag_file_path), exist_ok=True)\n",
    "            output_handles[tag_file_cell_type_name] = open(tag_file_path, \"w\")\n",
    "\n",
    "    print(\"save the cluster to annotation mapping\")\n",
    "    save_clusters_mapping(local_clusters_fld,file_atac_dataset_id,sorted_idx_cell_type_id_names_for_atac_dataset)\n",
    "    \n",
    "    # print(\"!!!output_tagAlign_files_with_names {}\".format(output_tagAlign_files_with_names))\n",
    "    print(\"open local_fragment_file {}\".format(local_fragment_file))\n",
    "    with gzip.open(local_fragment_file, \"rt\") as infile:\n",
    "        missing_bc = 0\n",
    "        # Open the output files and store their handles in the list\n",
    "        num_of_lines_written=0\n",
    "        for line_number, line in enumerate(infile, start=1):\n",
    "            # # debug\n",
    "            # if line_number > 10:\n",
    "            #     continue \n",
    "\n",
    "            # here cases where bc_datasetId or datasetId_bc are being mixed between the fragments and the\n",
    "            # cell type are being address. you can select the righ out_list for your experiment\n",
    "            out_list = split_fragment_line_string(line)\n",
    "            bc = out_list[-1]\n",
    "#             Austin output: chrom, start, end, bc, rem = line.rstrip('\\n').split('\\t', 5)\n",
    "            out_line_to_print = f\"{out_list[0]}\\t{out_list[1]}\\t{out_list[2]}\\t{bc}\\t{out_list[-2]}\\n\"\n",
    "#             chr1\t10007\t10175\tENCSR023FME#ENCSR023FME_GAAGGTTCAAAGTGTCAGTCAA\t1\n",
    "            num_of_lines_written +=1\n",
    "            returnTagAlign = convert_fragment_line_to_tagAlign(out_line_to_print)\n",
    "            # write to the relevant cell type file\n",
    "            # print(\"df_cell_types_for_atac_dataset[cell_id][0:5] is {}\".format(df_cell_types_for_atac_dataset['cell_id'][0:5]))\n",
    "            bc_exists_in_cell_type_atac_dataset = df_cell_types_for_atac_dataset[df_cell_types_for_atac_dataset['cell_id']==bc]\n",
    "            # print(\"len(bc_exists_in_cell_type_atac_dataset) is {} for bc {}\".format(len(bc_exists_in_cell_type_atac_dataset),bc))\n",
    "            if len(bc_exists_in_cell_type_atac_dataset) ==1:\n",
    "                tag_file_cell_type_id = df_cell_types_for_atac_dataset.loc[df_cell_types_for_atac_dataset['cell_id'] == bc, 'cell_type_id'].iloc[0]\n",
    "                # print(\"tag_file_cell_type_id is {}\".format(tag_file_cell_type_id))\n",
    "                output_handles[tag_file_cell_type_id].write(returnTagAlign)\n",
    "            else:\n",
    "                missing_bc+=1\n",
    "        \n",
    "        for tag_file_path, tag_file_cell_type_name in output_tagAlign_files_with_names:\n",
    "            print(\"tag_file_path is {}\".format(tag_file_path))\n",
    "            output_handles[tag_file_cell_type_name].close()    \n",
    "        print(\"finished clustering local_fragment_file {} by cell type. for types {}\".format(local_fragment_file, cell_type_id_names_for_atac_dataset))\n",
    "        print(\"total missing bc are {}\".format(missing_bc))"
   ]
  },
  {
   "cell_type": "code",
   "execution_count": 9,
   "metadata": {},
   "outputs": [],
   "source": [
    "# sum([True, False, False, False])"
   ]
  },
  {
   "cell_type": "code",
   "execution_count": 10,
   "metadata": {},
   "outputs": [
    {
     "data": {
      "text/plain": [
       "[(0, 'Macrophage'),\n",
       " (1, 'T_lymphocyte'),\n",
       " (2, 'Tuft_cell'),\n",
       " (3, 'Vascular_smooth_muscle_cell')]"
      ]
     },
     "execution_count": 10,
     "metadata": {},
     "output_type": "execute_result"
    }
   ],
   "source": [
    "sorted_idx_cell_type_id_names_for_atac_dataset"
   ]
  },
  {
   "cell_type": "code",
   "execution_count": 11,
   "metadata": {},
   "outputs": [],
   "source": [
    "# !ls /Users/eilaarich-landkof-stanford/Documents/Code/git_kundaje_genomics/DNA/ATAC/single-cell/fragments-file-manipulation/synapse_in_out/clusters/\n",
    "\n",
    "\n"
   ]
  },
  {
   "cell_type": "code",
   "execution_count": null,
   "metadata": {},
   "outputs": [],
   "source": []
  }
 ],
 "metadata": {
  "kernelspec": {
   "display_name": "Python 3 (ipykernel)",
   "language": "python",
   "name": "python3"
  },
  "language_info": {
   "codemirror_mode": {
    "name": "ipython",
    "version": 3
   },
   "file_extension": ".py",
   "mimetype": "text/x-python",
   "name": "python",
   "nbconvert_exporter": "python",
   "pygments_lexer": "ipython3",
   "version": "3.11.4"
  },
  "toc": {
   "base_numbering": 1,
   "nav_menu": {},
   "number_sections": true,
   "sideBar": true,
   "skip_h1_title": false,
   "title_cell": "Table of Contents",
   "title_sidebar": "Contents",
   "toc_cell": false,
   "toc_position": {},
   "toc_section_display": true,
   "toc_window_display": false
  }
 },
 "nbformat": 4,
 "nbformat_minor": 4
}
