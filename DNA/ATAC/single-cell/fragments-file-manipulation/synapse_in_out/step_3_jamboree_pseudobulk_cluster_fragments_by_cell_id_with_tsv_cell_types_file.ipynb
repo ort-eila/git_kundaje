{
 "cells": [
  {
   "cell_type": "code",
   "execution_count": 1,
   "metadata": {},
   "outputs": [],
   "source": [
    "# if the files are on Anvil / Terra workspace \n",
    "# please run it from the workspace analysis to avoid bucket access permission issues\n",
    "# or use the gcloud login auth interface to authenticate yourself"
   ]
  },
  {
   "cell_type": "code",
   "execution_count": 2,
   "metadata": {},
   "outputs": [
    {
     "name": "stdout",
     "output_type": "stream",
     "text": [
      "/Users/eilaarich-landkof-stanford/Documents/Code/git_kundaje_genomics/DNA/ATAC/single-cell/fragments-file-manipulation/synapse_in_out\n"
     ]
    }
   ],
   "source": [
    "!pwd"
   ]
  },
  {
   "cell_type": "markdown",
   "metadata": {},
   "source": [
    "installations:\n",
    "\n",
    "1. pip install synapseclient"
   ]
  },
  {
   "cell_type": "code",
   "execution_count": 3,
   "metadata": {},
   "outputs": [
    {
     "name": "stdout",
     "output_type": "stream",
     "text": [
      "/Users/eilaarich-landkof-stanford/Documents/Code/git_kundaje_genomics/DNA/ATAC/single-cell/fragments-file-manipulation/synapse_in_out\n"
     ]
    }
   ],
   "source": [
    "!pwd"
   ]
  },
  {
   "cell_type": "code",
   "execution_count": 4,
   "metadata": {},
   "outputs": [],
   "source": [
    "import os\n",
    "import pandas as pd\n",
    "import numpy as np\n",
    "\n",
    "full_fragments_and_cell_type_labels = [(\"/Users/eilaarich-landkof-stanford/Documents/Code/git_kundaje_genomics/DNA/ATAC/single-cell/fragments-file-manipulation/synapse_in_out/fragment_files/syn52118181_syn52120036_ENCSR618WVK.atac.filter.fragments.hg38.tsv.gz/ENCSR618WVK.atac.filter.fragments.hg38.tsv.gz\",\n",
    "                                        \"/Users/eilaarich-landkof-stanford/Documents/Code/git_kundaje_genomics/DNA/ATAC/single-cell/fragments-file-manipulation/synapse_in_out/labels/ENCSR618WVK/cell_types.tsv.gz\")]\n",
    "# full_fragments_and_cell_type_labels = [(\"/Users/eilaarich-landkof-stanford/Downloads/k562/k562_err9847049_rna_atac_common_filtered_fragments.tsv.gz\",\n",
    "#                                         \"/Users/eilaarich-landkof-stanford/Downloads/k562/barcode_cell_types.tsv.gz\")]\n",
    "\n",
    "\n",
    "\n",
    "local_clusters_fld = os.path.join(os.getcwd(),\"clusters\")\n",
    "os.makedirs(local_clusters_fld, exist_ok=True)\n",
    "local_path_to_download = os.path.join(os.getcwd(),\"fragment_files\")"
   ]
  },
  {
   "cell_type": "code",
   "execution_count": 5,
   "metadata": {},
   "outputs": [
    {
     "data": {
      "text/plain": [
       "'/Users/eilaarich-landkof-stanford/Documents/Code/git_kundaje_genomics/DNA/ATAC/single-cell/fragments-file-manipulation/synapse_in_out/clusters'"
      ]
     },
     "execution_count": 5,
     "metadata": {},
     "output_type": "execute_result"
    }
   ],
   "source": [
    "local_clusters_fld"
   ]
  },
  {
   "cell_type": "code",
   "execution_count": 6,
   "metadata": {},
   "outputs": [
    {
     "data": {
      "text/plain": [
       "'/Users/eilaarich-landkof-stanford/Documents/Code/git_kundaje_genomics/DNA/ATAC/single-cell/fragments-file-manipulation/synapse_in_out/fragment_files'"
      ]
     },
     "execution_count": 6,
     "metadata": {},
     "output_type": "execute_result"
    }
   ],
   "source": [
    "local_path_to_download"
   ]
  },
  {
   "cell_type": "code",
   "execution_count": 7,
   "metadata": {},
   "outputs": [],
   "source": [
    "def remove_file(filename):\n",
    "  print(\"remove_file method: {}\".format(filename))\n",
    "  if os.path.exists(filename):\n",
    "    os.remove(filename)"
   ]
  },
  {
   "cell_type": "code",
   "execution_count": 8,
   "metadata": {},
   "outputs": [],
   "source": [
    "def save_clusters_mapping(fld,atac_dataset_id,list_to_save):\n",
    " # Create a DataFrame from the tuple list\n",
    "    df = pd.DataFrame(list_to_save, columns=[\"ClusterId\", \"ManualAnnotationLabel\"])\n",
    "\n",
    "    # Specify the output TSV file path\n",
    "    output_tsv_file = os.path.join(fld,atac_dataset_id,\"{}_cluster_id_annotation_map.tsv\".format(atac_dataset_id))\n",
    "    print(\"sort_list_with_indices_and_save: output_tsv_file is {}\".format(output_tsv_file))\n",
    "    # Write the DataFrame to a TSV file\n",
    "    df.to_csv(output_tsv_file, sep=\"\\t\", index=False)"
   ]
  },
  {
   "cell_type": "code",
   "execution_count": 9,
   "metadata": {},
   "outputs": [],
   "source": [
    "# IMPORTNAT: we make sure to keep the same order if the cell_id and the cluster for the next execution\n",
    "def sort_list_with_indices(input_list):\n",
    "    # print(\"input_list is {}\".format(input_list))\n",
    "    sorted_list = sorted(input_list)\n",
    "    # print(\"sorted_list is {}\".format(sorted_list))\n",
    "    indexed_sorted_list = [(i, item) for i, item in enumerate(sorted_list)]\n",
    "    print(\"indexed_sorted_list is {}\".format(indexed_sorted_list))\n",
    "\n",
    "    \n",
    "    return indexed_sorted_list"
   ]
  },
  {
   "cell_type": "code",
   "execution_count": 10,
   "metadata": {},
   "outputs": [],
   "source": [
    "\n",
    "# Fragment - ENCSR139ATR\n",
    "# metadata - atac_dataset column => ENCSR139ATR => all the cell_id :ENCSR369UFT-1_ENCSR139ATR-1_CCTGGTAAGCAAGATG.\n",
    "# Look for them in cell_type_4 (ENCSR369UFT-1_ENCSR139ATR-1_CCTGGTAAGCAAGATG)\n",
    "\n",
    "# Cell type annotation - "
   ]
  },
  {
   "cell_type": "code",
   "execution_count": 11,
   "metadata": {},
   "outputs": [
    {
     "name": "stdout",
     "output_type": "stream",
     "text": [
      "!!!!!local_fragment_file is /Users/eilaarich-landkof-stanford/Documents/Code/git_kundaje_genomics/DNA/ATAC/single-cell/fragments-file-manipulation/synapse_in_out/fragment_files/syn52118181_syn52120036_ENCSR618WVK.atac.filter.fragments.hg38.tsv.gz/ENCSR618WVK.atac.filter.fragments.hg38.tsv.gz\n",
      "$$$$$$file_atac_dataset_id is ENCSR618WVK\n",
      "tsv_gz_file is /Users/eilaarich-landkof-stanford/Documents/Code/git_kundaje_genomics/DNA/ATAC/single-cell/fragments-file-manipulation/synapse_in_out/labels/ENCSR618WVK/cell_types.tsv.gz\n",
      "df_cell_types_for_atac_dataset.head(2) is                                cell_id_original  rna_dataset  \\\n",
      "0  ENCSR369UFT-1_ENCSR139ATR-1_AAACAGCCAACACCTA  ENCSR369UFT   \n",
      "1  ENCSR369UFT-1_ENCSR139ATR-1_AAACAGCCAAGCGATG  ENCSR369UFT   \n",
      "\n",
      "        rna_barcode atac_dataset      atac_barcode  rna_umi_count  \\\n",
      "0  AAACAGCCAACACCTA  ENCSR139ATR  TGAGGAAACCCGCTGT          11371   \n",
      "1  AAACAGCCAAGCGATG  ENCSR139ATR  GTCATAGACCCGCTGT          10459   \n",
      "\n",
      "   atac_fragment_count  rna_frac_mito  rna_frac_ribo  atac_tss_enrichment  \\\n",
      "0                  NaN       0.001407       0.004749                  NaN   \n",
      "1                  NaN       0.001912       0.003824                  NaN   \n",
      "\n",
      "   passed_filtering atac_barcode_reverse_Complement  \\\n",
      "0                 1                ACAGCGGGTTTCCTCA   \n",
      "1                 1                ACAGCGGGTCTATGAC   \n",
      "\n",
      "                        cell_id cell_type_id  \n",
      "0  AAACAGCCAACACCTA_ENCSR618WVK  Hepatocytes  \n",
      "1  AAACAGCCAAGCGATG_ENCSR618WVK  Hepatocytes  \n",
      "cell_type_id_names_for_atac_dataset is ['Hepatocytes', 'Endothelial_cells', 'Cholangiocytes', 'Fibroblasts', 'T_cells', 'Macrophages']\n",
      "indexed_sorted_list is [(0, 'Cholangiocytes'), (1, 'Endothelial_cells'), (2, 'Fibroblasts'), (3, 'Hepatocytes'), (4, 'Macrophages'), (5, 'T_cells')]\n",
      "%%%%%%sorted_idx_cell_type_id_names_for_atac_dataset is [(0, 'Cholangiocytes'), (1, 'Endothelial_cells'), (2, 'Fibroblasts'), (3, 'Hepatocytes'), (4, 'Macrophages'), (5, 'T_cells')]\n",
      "^^^^^^^number of cell_type_id_names_for_atac_dataset is 6\n",
      "Cell ID: AAACAGCCAACACCTA_ENCSR618WVK, Cell Type ID: Hepatocytes\n",
      "Cell ID: AAACAGCCAAGCGATG_ENCSR618WVK, Cell Type ID: Hepatocytes\n",
      "Cell ID: AAACAGCCAAGGTGCA_ENCSR618WVK, Cell Type ID: Hepatocytes\n",
      "Cell ID: AAACAGCCAGCTTAGC_ENCSR618WVK, Cell Type ID: Hepatocytes\n",
      "Cell ID: AAACAGCCAGTGAACG_ENCSR618WVK, Cell Type ID: Fibroblasts\n",
      "@@@@output_tagAlign_files_with_names is [('/Users/eilaarich-landkof-stanford/Documents/Code/git_kundaje_genomics/DNA/ATAC/single-cell/fragments-file-manipulation/synapse_in_out/clusters/ENCSR618WVK/ENCSR618WVK_Cluster0.tsv.tagAlign', 'Cholangiocytes'), ('/Users/eilaarich-landkof-stanford/Documents/Code/git_kundaje_genomics/DNA/ATAC/single-cell/fragments-file-manipulation/synapse_in_out/clusters/ENCSR618WVK/ENCSR618WVK_Cluster1.tsv.tagAlign', 'Endothelial_cells'), ('/Users/eilaarich-landkof-stanford/Documents/Code/git_kundaje_genomics/DNA/ATAC/single-cell/fragments-file-manipulation/synapse_in_out/clusters/ENCSR618WVK/ENCSR618WVK_Cluster2.tsv.tagAlign', 'Fibroblasts'), ('/Users/eilaarich-landkof-stanford/Documents/Code/git_kundaje_genomics/DNA/ATAC/single-cell/fragments-file-manipulation/synapse_in_out/clusters/ENCSR618WVK/ENCSR618WVK_Cluster3.tsv.tagAlign', 'Hepatocytes'), ('/Users/eilaarich-landkof-stanford/Documents/Code/git_kundaje_genomics/DNA/ATAC/single-cell/fragments-file-manipulation/synapse_in_out/clusters/ENCSR618WVK/ENCSR618WVK_Cluster4.tsv.tagAlign', 'Macrophages'), ('/Users/eilaarich-landkof-stanford/Documents/Code/git_kundaje_genomics/DNA/ATAC/single-cell/fragments-file-manipulation/synapse_in_out/clusters/ENCSR618WVK/ENCSR618WVK_Cluster5.tsv.tagAlign', 'T_cells')]\n",
      "!!!output_tagAlign_files_with_names [('/Users/eilaarich-landkof-stanford/Documents/Code/git_kundaje_genomics/DNA/ATAC/single-cell/fragments-file-manipulation/synapse_in_out/clusters/ENCSR618WVK/ENCSR618WVK_Cluster0.tsv.tagAlign', 'Cholangiocytes'), ('/Users/eilaarich-landkof-stanford/Documents/Code/git_kundaje_genomics/DNA/ATAC/single-cell/fragments-file-manipulation/synapse_in_out/clusters/ENCSR618WVK/ENCSR618WVK_Cluster1.tsv.tagAlign', 'Endothelial_cells'), ('/Users/eilaarich-landkof-stanford/Documents/Code/git_kundaje_genomics/DNA/ATAC/single-cell/fragments-file-manipulation/synapse_in_out/clusters/ENCSR618WVK/ENCSR618WVK_Cluster2.tsv.tagAlign', 'Fibroblasts'), ('/Users/eilaarich-landkof-stanford/Documents/Code/git_kundaje_genomics/DNA/ATAC/single-cell/fragments-file-manipulation/synapse_in_out/clusters/ENCSR618WVK/ENCSR618WVK_Cluster3.tsv.tagAlign', 'Hepatocytes'), ('/Users/eilaarich-landkof-stanford/Documents/Code/git_kundaje_genomics/DNA/ATAC/single-cell/fragments-file-manipulation/synapse_in_out/clusters/ENCSR618WVK/ENCSR618WVK_Cluster4.tsv.tagAlign', 'Macrophages'), ('/Users/eilaarich-landkof-stanford/Documents/Code/git_kundaje_genomics/DNA/ATAC/single-cell/fragments-file-manipulation/synapse_in_out/clusters/ENCSR618WVK/ENCSR618WVK_Cluster5.tsv.tagAlign', 'T_cells')]. open files\n",
      "save the cluster to annotation mapping\n",
      "sort_list_with_indices_and_save: output_tsv_file is /Users/eilaarich-landkof-stanford/Documents/Code/git_kundaje_genomics/DNA/ATAC/single-cell/fragments-file-manipulation/synapse_in_out/clusters/ENCSR618WVK/ENCSR618WVK_cluster_id_annotation_map.tsv\n",
      "open local_fragment_file /Users/eilaarich-landkof-stanford/Documents/Code/git_kundaje_genomics/DNA/ATAC/single-cell/fragments-file-manipulation/synapse_in_out/fragment_files/syn52118181_syn52120036_ENCSR618WVK.atac.filter.fragments.hg38.tsv.gz/ENCSR618WVK.atac.filter.fragments.hg38.tsv.gz\n",
      "tag_file_path is /Users/eilaarich-landkof-stanford/Documents/Code/git_kundaje_genomics/DNA/ATAC/single-cell/fragments-file-manipulation/synapse_in_out/clusters/ENCSR618WVK/ENCSR618WVK_Cluster0.tsv.tagAlign\n",
      "tag_file_path is /Users/eilaarich-landkof-stanford/Documents/Code/git_kundaje_genomics/DNA/ATAC/single-cell/fragments-file-manipulation/synapse_in_out/clusters/ENCSR618WVK/ENCSR618WVK_Cluster1.tsv.tagAlign\n",
      "tag_file_path is /Users/eilaarich-landkof-stanford/Documents/Code/git_kundaje_genomics/DNA/ATAC/single-cell/fragments-file-manipulation/synapse_in_out/clusters/ENCSR618WVK/ENCSR618WVK_Cluster2.tsv.tagAlign\n",
      "tag_file_path is /Users/eilaarich-landkof-stanford/Documents/Code/git_kundaje_genomics/DNA/ATAC/single-cell/fragments-file-manipulation/synapse_in_out/clusters/ENCSR618WVK/ENCSR618WVK_Cluster3.tsv.tagAlign\n",
      "tag_file_path is /Users/eilaarich-landkof-stanford/Documents/Code/git_kundaje_genomics/DNA/ATAC/single-cell/fragments-file-manipulation/synapse_in_out/clusters/ENCSR618WVK/ENCSR618WVK_Cluster4.tsv.tagAlign\n",
      "tag_file_path is /Users/eilaarich-landkof-stanford/Documents/Code/git_kundaje_genomics/DNA/ATAC/single-cell/fragments-file-manipulation/synapse_in_out/clusters/ENCSR618WVK/ENCSR618WVK_Cluster5.tsv.tagAlign\n",
      "finished clustering local_fragment_file /Users/eilaarich-landkof-stanford/Documents/Code/git_kundaje_genomics/DNA/ATAC/single-cell/fragments-file-manipulation/synapse_in_out/fragment_files/syn52118181_syn52120036_ENCSR618WVK.atac.filter.fragments.hg38.tsv.gz/ENCSR618WVK.atac.filter.fragments.hg38.tsv.gz by cell type. for types ['Hepatocytes', 'Endothelial_cells', 'Cholangiocytes', 'Fibroblasts', 'T_cells', 'Macrophages']\n",
      "total missing bc are 128457942\n"
     ]
    }
   ],
   "source": [
    "%run tsv_files_utils_from_analysis.ipynb\n",
    "from itertools import islice\n",
    "\n",
    "\n",
    "for local_file_tuple in full_fragments_and_cell_type_labels:\n",
    "\n",
    "    # Dictionary to store the output file handles with names\n",
    "    output_handles = {}\n",
    "    local_fragment_file = local_file_tuple[0]\n",
    "    full_cell_types_annotation_file_path = local_file_tuple[1]\n",
    "    print(\"!!!!!local_fragment_file is {}\".format(local_fragment_file))\n",
    "    file_atac_dataset_id = local_fragment_file.split(\"_\")[-1].split(\".\")[0]\n",
    "    print(\"$$$$$$file_atac_dataset_id is {}\".format(file_atac_dataset_id))\n",
    " \n",
    "    skip_rows=0\n",
    "    df_cell_types_for_atac_dataset = read_tsv_gz_to_dataframe_skipping_empty_lines_and_rows(full_cell_types_annotation_file_path,skip_rows)\n",
    "    print(\"df_cell_types_for_atac_dataset.head(2) is {}\".format(df_cell_types_for_atac_dataset.head(2)))\n",
    "    cell_type_id_names_for_atac_dataset = list(set(df_cell_types_for_atac_dataset['cell_type_id'].to_list()))\n",
    "    # Remove the None values from the list\n",
    "    cell_type_id_names_for_atac_dataset = [x for x in cell_type_id_names_for_atac_dataset if not pd.isna(x)]\n",
    "    print(\"cell_type_id_names_for_atac_dataset is {}\".format(cell_type_id_names_for_atac_dataset))\n",
    "    sorted_idx_cell_type_id_names_for_atac_dataset = sort_list_with_indices(cell_type_id_names_for_atac_dataset)\n",
    "    print(\"%%%%%%sorted_idx_cell_type_id_names_for_atac_dataset is {}\".format(sorted_idx_cell_type_id_names_for_atac_dataset))\n",
    "    print(\"^^^^^^^number of cell_type_id_names_for_atac_dataset is {}\".format(len(sorted_idx_cell_type_id_names_for_atac_dataset)))\n",
    "\n",
    "\n",
    "    cell_id_to_type_dict = dict((key, value) for key, value in zip(df_cell_types_for_atac_dataset['cell_id'], df_cell_types_for_atac_dataset['cell_type_id']) if str(key)!=\"nan\")\n",
    "    cell_id_to_type_dict = {key: value for key, value in cell_id_to_type_dict.items() if not isinstance(value, float) or not np.isnan(value)}    \n",
    "    print(\"\\n\".join([f\"Cell ID: {cell_id}, Cell Type ID: {cell_type_id}\" for cell_id, cell_type_id in islice(cell_id_to_type_dict.items(), 5)]))\n",
    "    \n",
    "    # List of output text files with corresponding names\n",
    "    # [(\"output1.txt\", \"file_1\"), (\"output2.txt\", \"file_2\"), (\"output3.txt\", \"file_3\")]\n",
    "    output_tagAlign_files_with_names = [(os.path.join(local_clusters_fld,file_atac_dataset_id,\"{}_Cluster{}.tsv.tagAlign\".format(file_atac_dataset_id,item[0])),\n",
    "                                    item[1]) for item in sorted_idx_cell_type_id_names_for_atac_dataset]\n",
    "    print(\"@@@@output_tagAlign_files_with_names is {}\".format(output_tagAlign_files_with_names))\n",
    "\n",
    "    # this will make sure that we will not run the same tagAlign twice.\n",
    "    tagAlign_exists = [os.path.exists(output_tagAlign_file[0]) for output_tagAlign_file in output_tagAlign_files_with_names]\n",
    "    # print(\"tagAlign_exists is {}\".format(tagAlign_exists))\n",
    "    if sum(tagAlign_exists) >0:\n",
    "        print(\"output_tagAlign_files_with_names {} is at work or was already downloaded. continue\".format(output_tagAlign_files_with_names))\n",
    "        continue # either started by annother process or already was processed\n",
    "    else:\n",
    "        print(\"!!!output_tagAlign_files_with_names {}. open files\".format(output_tagAlign_files_with_names))\n",
    "        for tag_file_path, tag_file_cell_type_name in output_tagAlign_files_with_names:\n",
    "            # print(\"tag_file_path is {}\".format(tag_file_path))\n",
    "            # print(\"os.path.dirname(tag_file_path) is {}\".format(os.path.dirname(tag_file_path)))\n",
    "            os.makedirs(os.path.dirname(tag_file_path), exist_ok=True)\n",
    "            output_handles[tag_file_cell_type_name] = open(tag_file_path, \"w\")\n",
    "\n",
    "    print(\"save the cluster to annotation mapping\")\n",
    "    save_clusters_mapping(local_clusters_fld,file_atac_dataset_id,sorted_idx_cell_type_id_names_for_atac_dataset)\n",
    "    \n",
    "    # print(\"!!!output_tagAlign_files_with_names {}\".format(output_tagAlign_files_with_names))\n",
    "    print(\"open local_fragment_file {}\".format(local_fragment_file))\n",
    "    with gzip.open(local_fragment_file, \"rt\") as infile:\n",
    "        missing_bc = 0\n",
    "        # Open the output files and store their handles in the list\n",
    "        num_of_lines_written=0\n",
    "        for line_number, line in enumerate(infile, start=1):\n",
    "            # # debug\n",
    "            # if line_number > 10000:\n",
    "            #     continue \n",
    "\n",
    "            # here cases where bc_datasetId or datasetId_bc are being mixed between the fragments and the\n",
    "            # cell type are being address. you can select the righ out_list for your experiment\n",
    "            # print(\"\\n\\nline is {}\".format(line))\n",
    "            out_list = split_fragment_line_string(line)\n",
    "            # print(\"\\n\\nout_list is {}\".format(out_list))\n",
    "            bc = out_list[-1]\n",
    "            # print(\"bc is {}\".format(bc))\n",
    "#             Austin output: chrom, start, end, bc, rem = line.rstrip('\\n').split('\\t', 5)\n",
    "            out_line_to_print = f\"{out_list[0]}\\t{out_list[1]}\\t{out_list[2]}\\t{bc}\\t{out_list[-2]}\\n\"\n",
    "#             chr1\t10007\t10175\tENCSR023FME#ENCSR023FME_GAAGGTTCAAAGTGTCAGTCAA\t1\n",
    "            num_of_lines_written +=1\n",
    "            returnTagAlign = convert_fragment_line_to_tagAlign(out_line_to_print)\n",
    "            # print(\" returnTagAlign is {}\".format(returnTagAlign))\n",
    "            try:\n",
    "                tag_file_cell_type_id = cell_id_to_type_dict[bc] #df_cell_types_for_atac_dataset.loc[df_cell_types_for_atac_dataset['cell_id'] == bc, 'cell_type_id'].iloc[0]\n",
    "                # print(\"tag_file_cell_type_id is {}\".format(tag_file_cell_type_id))\n",
    "                output_handles[tag_file_cell_type_id].write(returnTagAlign)\n",
    "            except:\n",
    "                missing_bc+=1\n",
    "                # print(\"df_cell_types_for_atac_dataset['cell_id'] is {}\".format(df_cell_types_for_atac_dataset[df_cell_types_for_atac_dataset['cell_id'] == bc]))\n",
    "                # print(\"didnt find bc {}\".format(bc))\n",
    "        \n",
    "        for tag_file_path, tag_file_cell_type_name in output_tagAlign_files_with_names:\n",
    "            print(\"tag_file_path is {}\".format(tag_file_path))\n",
    "            output_handles[tag_file_cell_type_name].close()    \n",
    "        print(\"finished clustering local_fragment_file {} by cell type. for types {}\".format(local_fragment_file, cell_type_id_names_for_atac_dataset))\n",
    "        print(\"total missing bc are {}\".format(missing_bc))"
   ]
  },
  {
   "cell_type": "code",
   "execution_count": 12,
   "metadata": {},
   "outputs": [],
   "source": [
    "# df_cell_types_for_atac_dataset[df_cell_types_for_atac_dataset['cell_id'] == 'GAGCGGTCAGCAATAA_ENCSR618WVK']\n"
   ]
  },
  {
   "cell_type": "code",
   "execution_count": 13,
   "metadata": {},
   "outputs": [],
   "source": [
    "# cell_id_to_type_dict['ACTTAGTCAGATAGAC_ENCSR618WVK']"
   ]
  },
  {
   "cell_type": "code",
   "execution_count": 14,
   "metadata": {},
   "outputs": [],
   "source": [
    "# cell_id_to_type_dict['ACAGCGGGTTTCCTCA_ENCSR618WVK']"
   ]
  },
  {
   "cell_type": "code",
   "execution_count": 15,
   "metadata": {},
   "outputs": [],
   "source": [
    "# cell_id_to_type_dict['CTAGTGAGTACAATGT_ENCSR618WVK']"
   ]
  },
  {
   "cell_type": "code",
   "execution_count": 16,
   "metadata": {},
   "outputs": [],
   "source": [
    "# cell_id_to_type_dict"
   ]
  },
  {
   "cell_type": "code",
   "execution_count": 17,
   "metadata": {},
   "outputs": [],
   "source": [
    "# cell_id_to_type_dict\n",
    "# {'ACAGCGGGTTTCCTCA_ENCSR618WVK': 'Hepatocytes',\n",
    "#  'ACAGCGGGTCTATGAC_ENCSR618WVK': 'Hepatocytes',\n",
    "#  'ACAGCGGGTGCGTAAA_ENCSR618WVK': 'Hepatocytes',\n",
    "#  'ACAGCGGGTTAATCCA_ENCSR618WVK': nan,\n",
    "#  'ACAGCGGGTTTACCAA_ENCSR618WVK': nan,\n",
    "#  'ACAGCGGGTGCCGGAA_ENCSR618WVK': 'Hepatocytes',\n",
    "#  'CATTTAGGTCAGTGCC_ENCSR618WVK': nan,\n",
    "#  'CATTTAGGTCTTGAAC_ENCSR618WVK': 'Hepatocytes',\n",
    "#  'CATTTAGGTGCACGCT_ENCSR618WVK': nan,\n",
    "#  'CATTTAGGTAGCTTTA_ENCSR618WVK': 'Hepatocytes',\n",
    "#  'CATTTAGGTCATCATA_ENCSR618WVK': nan,\n",
    "#  'CATTTAGGTACTTCGG_ENCSR618WVK': nan,\n",
    "#  'CTTTATCGTTAAGTGG_ENCSR618WVK': nan,"
   ]
  },
  {
   "cell_type": "code",
   "execution_count": 18,
   "metadata": {},
   "outputs": [],
   "source": [
    "# cell_id_to_type_dict"
   ]
  },
  {
   "cell_type": "code",
   "execution_count": 19,
   "metadata": {},
   "outputs": [],
   "source": [
    "# cell_id_to_type_dict['ACCGAAGCATGAGCAG_ENCSR618WVK']"
   ]
  },
  {
   "cell_type": "code",
   "execution_count": 20,
   "metadata": {},
   "outputs": [],
   "source": [
    "# cell_id_to_type_dict['TGAGGAAACCCGCTGT_ENCSR618WVK']"
   ]
  },
  {
   "cell_type": "code",
   "execution_count": 21,
   "metadata": {},
   "outputs": [],
   "source": [
    "# dict((key, value) for key, value in zip(df_cell_types_for_atac_dataset['cell_id'], df_cell_types_for_atac_dataset['cell_type_id']) if str(key)!=\"nan\")\n"
   ]
  },
  {
   "cell_type": "code",
   "execution_count": 22,
   "metadata": {},
   "outputs": [],
   "source": [
    "# !pwd"
   ]
  },
  {
   "cell_type": "code",
   "execution_count": 23,
   "metadata": {},
   "outputs": [],
   "source": [
    "# def write_dict_to_tsv(dictionary, file_path):\n",
    "#     with open(file_path, 'w') as tsvfile:\n",
    "#         tsvfile.write(\"Key\\tValue\\n\")\n",
    "#         for key, value in dictionary.items():\n",
    "#             tsvfile.write(f\"{key}\\t{value}\\n\")\n",
    "\n",
    "\n"
   ]
  },
  {
   "cell_type": "code",
   "execution_count": 24,
   "metadata": {},
   "outputs": [],
   "source": [
    "# len(cell_id_to_type_dict)"
   ]
  },
  {
   "cell_type": "code",
   "execution_count": 25,
   "metadata": {},
   "outputs": [],
   "source": [
    "# import numpy as np\n",
    "# cleaned_dict = {key: value for key, value in cleaned_dict.items() if not isinstance(value, float) or not np.isnan(value)}\n"
   ]
  },
  {
   "cell_type": "code",
   "execution_count": 26,
   "metadata": {},
   "outputs": [],
   "source": [
    "# len(cleaned_dict)"
   ]
  },
  {
   "cell_type": "code",
   "execution_count": null,
   "metadata": {},
   "outputs": [],
   "source": []
  }
 ],
 "metadata": {
  "kernelspec": {
   "display_name": "Python 3 (ipykernel)",
   "language": "python",
   "name": "python3"
  },
  "language_info": {
   "codemirror_mode": {
    "name": "ipython",
    "version": 3
   },
   "file_extension": ".py",
   "mimetype": "text/x-python",
   "name": "python",
   "nbconvert_exporter": "python",
   "pygments_lexer": "ipython3",
   "version": "3.11.4"
  },
  "toc": {
   "base_numbering": 1,
   "nav_menu": {},
   "number_sections": true,
   "sideBar": true,
   "skip_h1_title": false,
   "title_cell": "Table of Contents",
   "title_sidebar": "Contents",
   "toc_cell": false,
   "toc_position": {},
   "toc_section_display": true,
   "toc_window_display": false
  }
 },
 "nbformat": 4,
 "nbformat_minor": 4
}
