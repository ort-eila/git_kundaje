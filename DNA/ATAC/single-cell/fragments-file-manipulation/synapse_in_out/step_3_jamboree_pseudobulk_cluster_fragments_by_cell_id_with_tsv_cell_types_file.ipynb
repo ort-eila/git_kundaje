{
 "cells": [
  {
   "cell_type": "code",
   "execution_count": 1,
   "metadata": {},
   "outputs": [],
   "source": [
    "# if the files are on Anvil / Terra workspace \n",
    "# please run it from the workspace analysis to avoid bucket access permission issues\n",
    "# or use the gcloud login auth interface to authenticate yourself"
   ]
  },
  {
   "cell_type": "code",
   "execution_count": 2,
   "metadata": {},
   "outputs": [
    {
     "name": "stdout",
     "output_type": "stream",
     "text": [
      "/Users/eilaarich-landkof-stanford/Documents/Code/git_kundaje_genomics/DNA/ATAC/single-cell/fragments-file-manipulation/synapse_in_out\n"
     ]
    }
   ],
   "source": [
    "!pwd"
   ]
  },
  {
   "cell_type": "markdown",
   "metadata": {},
   "source": [
    "installations:\n",
    "\n",
    "1. pip install synapseclient"
   ]
  },
  {
   "cell_type": "code",
   "execution_count": 3,
   "metadata": {},
   "outputs": [],
   "source": [
    "import os\n",
    "import pandas as pd\n",
    "# CHANGE\n",
    "# gs_path_for_the_encode_pseudobulk_pipeline_table = \"ENCODE_PSEUDOBULK_TABLE_INPUT\"\n",
    "# local_folder = os.getcwd() #\"/home/jupyter/eila\" #os.getcwd()\n",
    "# os.makedirs(local_folder, exist_ok=True)\n",
    "full_cell_types_annotation_file_path = \"POINT TO YOUR FILE\"\n",
    "local_clusters_fld = os.path.join(os.getcwd(),\"clusters\")\n",
    "os.makedirs(local_clusters_fld, exist_ok=True)\n",
    "local_path_to_download = os.path.join(os.getcwd(),\"fragment_files\")"
   ]
  },
  {
   "cell_type": "code",
   "execution_count": 4,
   "metadata": {},
   "outputs": [],
   "source": [
    "def remove_file(filename):\n",
    "  print(\"remove_file method: {}\".format(filename))\n",
    "  if os.path.exists(filename):\n",
    "    os.remove(filename)"
   ]
  },
  {
   "cell_type": "code",
   "execution_count": 5,
   "metadata": {},
   "outputs": [],
   "source": [
    "# %run synapse_utils_from_analysis.ipynb\n",
    "# %run tsv_files_utils_from_analysis.ipynb"
   ]
  },
  {
   "cell_type": "markdown",
   "metadata": {},
   "source": [
    "TODO:\n",
    "- make sure that your fragments file are in this directory"
   ]
  },
  {
   "cell_type": "code",
   "execution_count": 10,
   "metadata": {},
   "outputs": [
    {
     "name": "stdout",
     "output_type": "stream",
     "text": [
      "local_fragment_files_path\n"
     ]
    },
    {
     "data": {
      "text/plain": [
       "'/Users/eilaarich-landkof-stanford/Documents/Code/git_kundaje_genomics/DNA/ATAC/single-cell/fragments-file-manipulation/synapse_in_out/fragment_files/syn52118179_syn52119935_ENCSR023FME.atac.filter.fragments.hg38.tsv.gz/ENCSR023FME.atac.filter.fragments.hg38.tsv.gz'"
      ]
     },
     "execution_count": 10,
     "metadata": {},
     "output_type": "execute_result"
    }
   ],
   "source": [
    "# load the list of the fragment\n",
    "local_fragment_files_path = os.path.join(os.getcwd(),\"fragment_files\",\"*\",\"*\")\n",
    "print(\"local_fragment_files_path\")\n",
    "local_fragment_files = !ls $local_fragment_files_path\n",
    "local_fragment_files = list(local_fragment_files)\n",
    "local_fragment_files[4]"
   ]
  },
  {
   "cell_type": "markdown",
   "metadata": {},
   "source": [
    "- check that the files in the fragment files has matching synapse data"
   ]
  },
  {
   "cell_type": "markdown",
   "metadata": {},
   "source": [
    "TODO:\n",
    "- make sure that you received the atac dataset is from this split"
   ]
  },
  {
   "cell_type": "code",
   "execution_count": 12,
   "metadata": {},
   "outputs": [
    {
     "data": {
      "text/plain": [
       "'ENCSR845QFX'"
      ]
     },
     "execution_count": 12,
     "metadata": {},
     "output_type": "execute_result"
    }
   ],
   "source": [
    "local_fragment_files[2].split(\"_\")[-1].split(\".\")[0]"
   ]
  },
  {
   "cell_type": "code",
   "execution_count": 13,
   "metadata": {},
   "outputs": [
    {
     "data": {
      "text/plain": [
       "['ENCSR411MLR',\n",
       " 'ENCSR052DKH',\n",
       " 'ENCSR845QFX',\n",
       " 'ENCSR660NEE',\n",
       " 'ENCSR023FME',\n",
       " 'ENCSR453TVZ',\n",
       " 'ENCSR868ZEI',\n",
       " 'ENCSR474TGL',\n",
       " 'ENCSR538FPK',\n",
       " 'ENCSR181XXQ']"
      ]
     },
     "execution_count": 13,
     "metadata": {},
     "output_type": "execute_result"
    }
   ],
   "source": [
    "local_files_atac_dataset = [x.split(\"_\")[-1].split(\".\")[0] for x in local_fragment_files]\n",
    "local_files_atac_dataset[0:10]"
   ]
  },
  {
   "cell_type": "code",
   "execution_count": null,
   "metadata": {},
   "outputs": [
    {
     "name": "stdout",
     "output_type": "stream",
     "text": [
      "Welcome, eila!\n",
      "\n",
      "!!!!!local_fragment_file is /Users/eilaarich-landkof-stanford/Documents/Code/git_kundaje_genomics/DNA/ATAC/single-cell/fragments-file-manipulation/synapse_in_out/fragment_files/syn52118179_syn52119922_ENCSR411MLR.atac.filter.fragments.hg38.tsv.gz/ENCSR411MLR.atac.filter.fragments.hg38.tsv.gz\n",
      "file_atac_dataset_id is ENCSR411MLR\n",
      "syn_folder_name_for_cell_types in synpase is EAID_000014\n",
      "get_file_names parameters are: folder_id syn34271785 and current_depth 0\n",
      "current_depth is 0 \n",
      "folder_entities are <generator object Synapse.getChildren at 0x294678820> \n",
      "get_file_names parameters are: folder_id syn46645618 and current_depth 1\n",
      "current_depth is 1 \n",
      "folder_entities are <generator object Synapse.getChildren at 0x294678280> \n",
      "get_file_names parameters are: folder_id syn46645622 and current_depth 2\n",
      "folder_entities are <generator object Synapse.getChildren at 0x294678ca0>\n",
      "syn_file_id_for_atac_dataset_id is syn46645631\n",
      "cell_types_annotation_file_synHandle is File: cell_types.tsv.gz (syn46645631)\n",
      "  md5=6a43ef5f069f51dfab1afb080da7bd3a\n",
      "  fileSize=61877\n",
      "  contentType=text/tab-separated-values\n",
      "  externalURL=None\n",
      "  cacheDir=/Users/eilaarich-landkof-stanford/Documents/Code/git_kundaje_genomics/DNA/ATAC/single-cell/fragments-file-manipulation/synapse_in_out/labels/syn34271785_ENCSR411MLR_syn46645631\n",
      "  files=['cell_types.tsv.gz']\n",
      "  path=/Users/eilaarich-landkof-stanford/Documents/Code/git_kundaje_genomics/DNA/ATAC/single-cell/fragments-file-manipulation/synapse_in_out/labels/syn34271785_ENCSR411MLR_syn46645631/cell_types.tsv.gz\n",
      "  synapseStore=True\n",
      "properties:\n",
      "  concreteType=org.sagebionetworks.repo.model.FileEntity\n",
      "  createdBy=3427716\n",
      "  createdOn=2022-11-28T21:09:37.251Z\n",
      "  dataFileHandleId=126806013\n",
      "  etag=ce7e1fe8-2db9-4c85-917b-e3f1738f144d\n",
      "  id=syn46645631\n",
      "  isLatestVersion=True\n",
      "  modifiedBy=3427716\n",
      "  modifiedOn=2023-07-10T01:33:56.630Z\n",
      "  name=cell_types.tsv.gz\n",
      "  parentId=syn46645622\n",
      "  versionLabel=2\n",
      "  versionNumber=2\n",
      "annotations:\n",
      "\n",
      "full_cell_types_annotation_file_path is /Users/eilaarich-landkof-stanford/Documents/Code/git_kundaje_genomics/DNA/ATAC/single-cell/fragments-file-manipulation/synapse_in_out/labels/syn34271785_ENCSR411MLR_syn46645631/cell_types.tsv.gz\n",
      "tsv_gz_file is /Users/eilaarich-landkof-stanford/Documents/Code/git_kundaje_genomics/DNA/ATAC/single-cell/fragments-file-manipulation/synapse_in_out/labels/syn34271785_ENCSR411MLR_syn46645631/cell_types.tsv.gz\n",
      "number of cell_type_id_names_for_atac_dataset is 5\n",
      "open local_fragment_file /Users/eilaarich-landkof-stanford/Documents/Code/git_kundaje_genomics/DNA/ATAC/single-cell/fragments-file-manipulation/synapse_in_out/fragment_files/syn52118179_syn52119922_ENCSR411MLR.atac.filter.fragments.hg38.tsv.gz/ENCSR411MLR.atac.filter.fragments.hg38.tsv.gz\n",
      "tag_file_path is /Users/eilaarich-landkof-stanford/Documents/Code/git_kundaje_genomics/DNA/ATAC/single-cell/fragments-file-manipulation/synapse_in_out/clusters/ENCSR411MLR/tagAlign_ENCSR411MLR_Macrophage.tsv\n"
     ]
    }
   ],
   "source": [
    "# %run tsv_files_utils_from_analysis.ipynb\n",
    "# %run synapse_utils_from_analysis.ipynb\n",
    "\n",
    "# TODO: for others. will the data come from synpase as well?\n",
    "#local_clusters_fld\n",
    "#  I need to hvae one full_cell_types_annotation_file_path\n",
    "for local_fragment_file in local_fragment_files[2:]:\n",
    "    \n",
    "    print(\"!!!!!local_fragment_file is {}\".format(local_fragment_file))\n",
    "    file_atac_dataset_id = local_fragment_file.split(\"_\")[-1].split(\".\")[0]\n",
    "    print(\"file_atac_dataset_id is {}\".format(file_atac_dataset_id))\n",
    " \n",
    "    # This full_cell_types_annotation_file_path was given as an input\n",
    "    df_cell_types_for_atac_dataset = read_tsv_gz_to_dataframe_skipping_comments_and_empty_lines(full_cell_types_annotation_file_path)\n",
    "    cell_type_id_names_for_atac_dataset = list(set(df_cell_types_for_atac_dataset['cell_type_id'].to_list()))\n",
    "    print(\"number of cell_type_id_names_for_atac_dataset is {}\".format(len(cell_type_id_names_for_atac_dataset)))\n",
    "    # List of output text files with corresponding names\n",
    "    # [(\"output1.txt\", \"file_1\"), (\"output2.txt\", \"file_2\"), (\"output3.txt\", \"file_3\")]\n",
    "    output_tagAlign_files_with_names = [(os.path.join(local_clusters_fld,file_atac_dataset_id,\"tagAlign_{}_{}.tsv\".format(file_atac_dataset_id,cell_type_name_id)),\n",
    "                                        cell_type_name_id) for cell_type_name_id in cell_type_id_names_for_atac_dataset]\n",
    "    \n",
    "    # print(\"!!!output_tagAlign_files_with_names {}\".format(output_tagAlign_files_with_names))\n",
    "    print(\"open local_fragment_file {}\".format(local_fragment_file))\n",
    "    with gzip.open(local_fragment_file, \"rt\") as infile:\n",
    "        # Dictionary to store the output file handles with names\n",
    "        output_handles = {}\n",
    "        missing_bc = 0\n",
    "        # Open the output files and store their handles in the list\n",
    "        for tag_file_path, tag_file_cell_type_name in output_tagAlign_files_with_names:\n",
    "            print(\"tag_file_path is {}\".format(tag_file_path))\n",
    "            # print(\"os.path.dirname(tag_file_path) is {}\".format(os.path.dirname(tag_file_path)))\n",
    "            os.makedirs(os.path.dirname(tag_file_path), exist_ok=True)\n",
    "            output_handles[tag_file_cell_type_name] = open(tag_file_path, \"w\")\n",
    "            num_of_lines_written=0\n",
    "            for line_number, line in enumerate(infile, start=1):\n",
    "                # # debug\n",
    "                # if line_number > 1000:\n",
    "                #     continue \n",
    "\n",
    "                out_list = split_fragment_line_string(line)\n",
    "                bc = out_list[-1]\n",
    "#             Austin output: chrom, start, end, bc, rem = line.rstrip('\\n').split('\\t', 5)\n",
    "                out_line_to_print = f\"{out_list[0]}\\t{out_list[1]}\\t{out_list[2]}\\t{bc}\\t{out_list[-2]}\\n\"\n",
    "#             chr1\t10007\t10175\tENCSR023FME#ENCSR023FME_GAAGGTTCAAAGTGTCAGTCAA\t1\n",
    "                num_of_lines_written +=1\n",
    "                returnTagAlign = convert_fragment_line_to_tagAlign(out_line_to_print)\n",
    "                # write to the relevant cell type file\n",
    "                bc_exists_in_cell_type_atac_dataset = df_cell_types_for_atac_dataset[df_cell_types_for_atac_dataset['cell_id']==bc]\n",
    "                # print(\"len(bc_exists_in_cell_type_atac_dataset) is {} for bc {}\".format(len(bc_exists_in_cell_type_atac_dataset),bc))\n",
    "                if len(bc_exists_in_cell_type_atac_dataset) ==1:\n",
    "                    cell_name_for_line = df_cell_types_for_atac_dataset.loc[df_cell_types_for_atac_dataset['cell_id'] == bc, 'cell_type_name'].iloc[0]\n",
    "                    # print(\"cell_name_for_line is {}\".format(cell_name_for_line))\n",
    "                    output_handles[tag_file_cell_type_name].write(returnTagAlign)\n",
    "                else:\n",
    "                    missing_bc+=1\n",
    "                    \n",
    "        print(\"finished clustering local_fragment_file {} by cell type. for types {}\".format(local_fragment_file, cell_type_id_names_for_atac_dataset))\n",
    "        print(\"total missing bc are {}\".format(missing_bc))"
   ]
  },
  {
   "cell_type": "code",
   "execution_count": null,
   "metadata": {},
   "outputs": [],
   "source": []
  }
 ],
 "metadata": {
  "kernelspec": {
   "display_name": "Python 3 (ipykernel)",
   "language": "python",
   "name": "python3"
  },
  "language_info": {
   "codemirror_mode": {
    "name": "ipython",
    "version": 3
   },
   "file_extension": ".py",
   "mimetype": "text/x-python",
   "name": "python",
   "nbconvert_exporter": "python",
   "pygments_lexer": "ipython3",
   "version": "3.11.4"
  },
  "toc": {
   "base_numbering": 1,
   "nav_menu": {},
   "number_sections": true,
   "sideBar": true,
   "skip_h1_title": false,
   "title_cell": "Table of Contents",
   "title_sidebar": "Contents",
   "toc_cell": false,
   "toc_position": {},
   "toc_section_display": true,
   "toc_window_display": false
  }
 },
 "nbformat": 4,
 "nbformat_minor": 4
}
