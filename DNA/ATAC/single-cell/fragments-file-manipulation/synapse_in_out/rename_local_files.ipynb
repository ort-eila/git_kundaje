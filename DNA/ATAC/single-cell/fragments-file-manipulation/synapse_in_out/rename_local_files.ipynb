{
 "cells": [
  {
   "cell_type": "code",
   "execution_count": 3,
   "id": "50f6e800-3a42-453d-be07-1f897320108a",
   "metadata": {},
   "outputs": [],
   "source": [
    "# rename files"
   ]
  },
  {
   "cell_type": "code",
   "execution_count": 4,
   "id": "422f4fa4-9465-4596-b677-a48c3d1f7ebf",
   "metadata": {},
   "outputs": [
    {
     "name": "stdout",
     "output_type": "stream",
     "text": [
      "/Users/eilaarich-landkof-stanford/Documents/Code/git_kundaje_genomics/DNA/ATAC/single-cell/fragments-file-manipulation/synapse_in_out\n"
     ]
    }
   ],
   "source": [
    "!pwd"
   ]
  },
  {
   "cell_type": "code",
   "execution_count": 5,
   "id": "f4ccb309-1160-43e9-a7ba-1cc66ae7bd88",
   "metadata": {},
   "outputs": [],
   "source": [
    "folders = !ls /Users/eilaarich-landkof-stanford/Documents/Code/git_kundaje_genomics/DNA/ATAC/single-cell/fragments-file-manipulation/synapse_in_out/clusters/\n"
   ]
  },
  {
   "cell_type": "code",
   "execution_count": 6,
   "id": "1007303c-7609-4e4c-8619-40758b892ee6",
   "metadata": {},
   "outputs": [],
   "source": [
    "root_dir = \"/Users/eilaarich-landkof-stanford/Documents/Code/git_kundaje_genomics/DNA/ATAC/single-cell/fragments-file-manipulation/synapse_in_out/clusters/\"\n"
   ]
  },
  {
   "cell_type": "code",
   "execution_count": 12,
   "id": "5bbe33f1-9e2d-4ad0-9d5e-0b0d4313ee46",
   "metadata": {},
   "outputs": [
    {
     "name": "stdout",
     "output_type": "stream",
     "text": [
      "files_to_rename are ['ENCSR023FME_ClusterMetadata.tsv']\n",
      "/Users/eilaarich-landkof-stanford/Documents/Code/git_kundaje_genomics/DNA/ATAC/single-cell/fragments-file-manipulation/synapse_in_out/clusters/ENCSR023FME/ENCSR023FME_ClusterMetadata.tsv\n",
      "Nothing to rename\n",
      "files_to_rename are ['ENCSR052DKH_ClusterMetadata.tsv']\n",
      "/Users/eilaarich-landkof-stanford/Documents/Code/git_kundaje_genomics/DNA/ATAC/single-cell/fragments-file-manipulation/synapse_in_out/clusters/ENCSR052DKH/ENCSR052DKH_ClusterMetadata.tsv\n",
      "Nothing to rename\n",
      "files_to_rename are ['ENCSR181XXQ_ClusterMetadata.tsv']\n",
      "/Users/eilaarich-landkof-stanford/Documents/Code/git_kundaje_genomics/DNA/ATAC/single-cell/fragments-file-manipulation/synapse_in_out/clusters/ENCSR181XXQ/ENCSR181XXQ_ClusterMetadata.tsv\n",
      "Nothing to rename\n",
      "files_to_rename are ['ENCSR205TUH_ClusterMetadata.tsv']\n",
      "/Users/eilaarich-landkof-stanford/Documents/Code/git_kundaje_genomics/DNA/ATAC/single-cell/fragments-file-manipulation/synapse_in_out/clusters/ENCSR205TUH/ENCSR205TUH_ClusterMetadata.tsv\n",
      "Nothing to rename\n",
      "files_to_rename are ['ENCSR261TQO_stats_tagAlign_cellTypes_file.tsv']\n",
      "/Users/eilaarich-landkof-stanford/Documents/Code/git_kundaje_genomics/DNA/ATAC/single-cell/fragments-file-manipulation/synapse_in_out/clusters/ENCSR261TQO/ENCSR261TQO_stats_tagAlign_cellTypes_file.tsv\n",
      "\n",
      "\n",
      "rename /Users/eilaarich-landkof-stanford/Documents/Code/git_kundaje_genomics/DNA/ATAC/single-cell/fragments-file-manipulation/synapse_in_out/clusters/ENCSR261TQO/ENCSR261TQO_stats_tagAlign_cellTypes_file.tsv to /Users/eilaarich-landkof-stanford/Documents/Code/git_kundaje_genomics/DNA/ATAC/single-cell/fragments-file-manipulation/synapse_in_out/clusters/ENCSR261TQO/ENCSR261TQO_ClusterMetadata.tsv\n",
      "\n",
      "files_to_rename are ['ENCSR302CMX_stats_tagAlign_cellTypes_file.tsv']\n",
      "/Users/eilaarich-landkof-stanford/Documents/Code/git_kundaje_genomics/DNA/ATAC/single-cell/fragments-file-manipulation/synapse_in_out/clusters/ENCSR302CMX/ENCSR302CMX_stats_tagAlign_cellTypes_file.tsv\n",
      "\n",
      "\n",
      "rename /Users/eilaarich-landkof-stanford/Documents/Code/git_kundaje_genomics/DNA/ATAC/single-cell/fragments-file-manipulation/synapse_in_out/clusters/ENCSR302CMX/ENCSR302CMX_stats_tagAlign_cellTypes_file.tsv to /Users/eilaarich-landkof-stanford/Documents/Code/git_kundaje_genomics/DNA/ATAC/single-cell/fragments-file-manipulation/synapse_in_out/clusters/ENCSR302CMX/ENCSR302CMX_ClusterMetadata.tsv\n",
      "\n",
      "files_to_rename are ['ENCSR367GKP_stats_tagAlign_cellTypes_file.tsv']\n",
      "/Users/eilaarich-landkof-stanford/Documents/Code/git_kundaje_genomics/DNA/ATAC/single-cell/fragments-file-manipulation/synapse_in_out/clusters/ENCSR367GKP/ENCSR367GKP_stats_tagAlign_cellTypes_file.tsv\n",
      "\n",
      "\n",
      "rename /Users/eilaarich-landkof-stanford/Documents/Code/git_kundaje_genomics/DNA/ATAC/single-cell/fragments-file-manipulation/synapse_in_out/clusters/ENCSR367GKP/ENCSR367GKP_stats_tagAlign_cellTypes_file.tsv to /Users/eilaarich-landkof-stanford/Documents/Code/git_kundaje_genomics/DNA/ATAC/single-cell/fragments-file-manipulation/synapse_in_out/clusters/ENCSR367GKP/ENCSR367GKP_ClusterMetadata.tsv\n",
      "\n",
      "files_to_rename are ['ENCSR397LYX_stats_tagAlign_cellTypes_file.tsv']\n",
      "/Users/eilaarich-landkof-stanford/Documents/Code/git_kundaje_genomics/DNA/ATAC/single-cell/fragments-file-manipulation/synapse_in_out/clusters/ENCSR397LYX/ENCSR397LYX_stats_tagAlign_cellTypes_file.tsv\n",
      "\n",
      "\n",
      "rename /Users/eilaarich-landkof-stanford/Documents/Code/git_kundaje_genomics/DNA/ATAC/single-cell/fragments-file-manipulation/synapse_in_out/clusters/ENCSR397LYX/ENCSR397LYX_stats_tagAlign_cellTypes_file.tsv to /Users/eilaarich-landkof-stanford/Documents/Code/git_kundaje_genomics/DNA/ATAC/single-cell/fragments-file-manipulation/synapse_in_out/clusters/ENCSR397LYX/ENCSR397LYX_ClusterMetadata.tsv\n",
      "\n",
      "files_to_rename are ['ENCSR411MLR_stats_tagAlign_cellTypes_file.tsv']\n",
      "/Users/eilaarich-landkof-stanford/Documents/Code/git_kundaje_genomics/DNA/ATAC/single-cell/fragments-file-manipulation/synapse_in_out/clusters/ENCSR411MLR/ENCSR411MLR_stats_tagAlign_cellTypes_file.tsv\n",
      "\n",
      "\n",
      "rename /Users/eilaarich-landkof-stanford/Documents/Code/git_kundaje_genomics/DNA/ATAC/single-cell/fragments-file-manipulation/synapse_in_out/clusters/ENCSR411MLR/ENCSR411MLR_stats_tagAlign_cellTypes_file.tsv to /Users/eilaarich-landkof-stanford/Documents/Code/git_kundaje_genomics/DNA/ATAC/single-cell/fragments-file-manipulation/synapse_in_out/clusters/ENCSR411MLR/ENCSR411MLR_ClusterMetadata.tsv\n",
      "\n",
      "files_to_rename are ['ENCSR453TVZ_stats_tagAlign_cellTypes_file.tsv']\n",
      "/Users/eilaarich-landkof-stanford/Documents/Code/git_kundaje_genomics/DNA/ATAC/single-cell/fragments-file-manipulation/synapse_in_out/clusters/ENCSR453TVZ/ENCSR453TVZ_stats_tagAlign_cellTypes_file.tsv\n",
      "\n",
      "\n",
      "rename /Users/eilaarich-landkof-stanford/Documents/Code/git_kundaje_genomics/DNA/ATAC/single-cell/fragments-file-manipulation/synapse_in_out/clusters/ENCSR453TVZ/ENCSR453TVZ_stats_tagAlign_cellTypes_file.tsv to /Users/eilaarich-landkof-stanford/Documents/Code/git_kundaje_genomics/DNA/ATAC/single-cell/fragments-file-manipulation/synapse_in_out/clusters/ENCSR453TVZ/ENCSR453TVZ_ClusterMetadata.tsv\n",
      "\n",
      "files_to_rename are ['ENCSR455CVZ_stats_tagAlign_cellTypes_file.tsv']\n",
      "/Users/eilaarich-landkof-stanford/Documents/Code/git_kundaje_genomics/DNA/ATAC/single-cell/fragments-file-manipulation/synapse_in_out/clusters/ENCSR455CVZ/ENCSR455CVZ_stats_tagAlign_cellTypes_file.tsv\n",
      "\n",
      "\n",
      "rename /Users/eilaarich-landkof-stanford/Documents/Code/git_kundaje_genomics/DNA/ATAC/single-cell/fragments-file-manipulation/synapse_in_out/clusters/ENCSR455CVZ/ENCSR455CVZ_stats_tagAlign_cellTypes_file.tsv to /Users/eilaarich-landkof-stanford/Documents/Code/git_kundaje_genomics/DNA/ATAC/single-cell/fragments-file-manipulation/synapse_in_out/clusters/ENCSR455CVZ/ENCSR455CVZ_ClusterMetadata.tsv\n",
      "\n",
      "files_to_rename are ['ENCSR474TGL_stats_tagAlign_cellTypes_file.tsv']\n",
      "/Users/eilaarich-landkof-stanford/Documents/Code/git_kundaje_genomics/DNA/ATAC/single-cell/fragments-file-manipulation/synapse_in_out/clusters/ENCSR474TGL/ENCSR474TGL_stats_tagAlign_cellTypes_file.tsv\n",
      "\n",
      "\n",
      "rename /Users/eilaarich-landkof-stanford/Documents/Code/git_kundaje_genomics/DNA/ATAC/single-cell/fragments-file-manipulation/synapse_in_out/clusters/ENCSR474TGL/ENCSR474TGL_stats_tagAlign_cellTypes_file.tsv to /Users/eilaarich-landkof-stanford/Documents/Code/git_kundaje_genomics/DNA/ATAC/single-cell/fragments-file-manipulation/synapse_in_out/clusters/ENCSR474TGL/ENCSR474TGL_ClusterMetadata.tsv\n",
      "\n",
      "files_to_rename are ['ENCSR506YMX_stats_tagAlign_cellTypes_file.tsv']\n",
      "/Users/eilaarich-landkof-stanford/Documents/Code/git_kundaje_genomics/DNA/ATAC/single-cell/fragments-file-manipulation/synapse_in_out/clusters/ENCSR506YMX/ENCSR506YMX_stats_tagAlign_cellTypes_file.tsv\n",
      "\n",
      "\n",
      "rename /Users/eilaarich-landkof-stanford/Documents/Code/git_kundaje_genomics/DNA/ATAC/single-cell/fragments-file-manipulation/synapse_in_out/clusters/ENCSR506YMX/ENCSR506YMX_stats_tagAlign_cellTypes_file.tsv to /Users/eilaarich-landkof-stanford/Documents/Code/git_kundaje_genomics/DNA/ATAC/single-cell/fragments-file-manipulation/synapse_in_out/clusters/ENCSR506YMX/ENCSR506YMX_ClusterMetadata.tsv\n",
      "\n",
      "files_to_rename are ['ENCSR538FPK_stats_tagAlign_cellTypes_file.tsv']\n",
      "/Users/eilaarich-landkof-stanford/Documents/Code/git_kundaje_genomics/DNA/ATAC/single-cell/fragments-file-manipulation/synapse_in_out/clusters/ENCSR538FPK/ENCSR538FPK_stats_tagAlign_cellTypes_file.tsv\n",
      "\n",
      "\n",
      "rename /Users/eilaarich-landkof-stanford/Documents/Code/git_kundaje_genomics/DNA/ATAC/single-cell/fragments-file-manipulation/synapse_in_out/clusters/ENCSR538FPK/ENCSR538FPK_stats_tagAlign_cellTypes_file.tsv to /Users/eilaarich-landkof-stanford/Documents/Code/git_kundaje_genomics/DNA/ATAC/single-cell/fragments-file-manipulation/synapse_in_out/clusters/ENCSR538FPK/ENCSR538FPK_ClusterMetadata.tsv\n",
      "\n",
      "files_to_rename are ['ENCSR660NEE_stats_tagAlign_cellTypes_file.tsv']\n",
      "/Users/eilaarich-landkof-stanford/Documents/Code/git_kundaje_genomics/DNA/ATAC/single-cell/fragments-file-manipulation/synapse_in_out/clusters/ENCSR660NEE/ENCSR660NEE_stats_tagAlign_cellTypes_file.tsv\n",
      "\n",
      "\n",
      "rename /Users/eilaarich-landkof-stanford/Documents/Code/git_kundaje_genomics/DNA/ATAC/single-cell/fragments-file-manipulation/synapse_in_out/clusters/ENCSR660NEE/ENCSR660NEE_stats_tagAlign_cellTypes_file.tsv to /Users/eilaarich-landkof-stanford/Documents/Code/git_kundaje_genomics/DNA/ATAC/single-cell/fragments-file-manipulation/synapse_in_out/clusters/ENCSR660NEE/ENCSR660NEE_ClusterMetadata.tsv\n",
      "\n",
      "files_to_rename are ['ENCSR718WGE_stats_tagAlign_cellTypes_file.tsv']\n",
      "/Users/eilaarich-landkof-stanford/Documents/Code/git_kundaje_genomics/DNA/ATAC/single-cell/fragments-file-manipulation/synapse_in_out/clusters/ENCSR718WGE/ENCSR718WGE_stats_tagAlign_cellTypes_file.tsv\n",
      "\n",
      "\n",
      "rename /Users/eilaarich-landkof-stanford/Documents/Code/git_kundaje_genomics/DNA/ATAC/single-cell/fragments-file-manipulation/synapse_in_out/clusters/ENCSR718WGE/ENCSR718WGE_stats_tagAlign_cellTypes_file.tsv to /Users/eilaarich-landkof-stanford/Documents/Code/git_kundaje_genomics/DNA/ATAC/single-cell/fragments-file-manipulation/synapse_in_out/clusters/ENCSR718WGE/ENCSR718WGE_ClusterMetadata.tsv\n",
      "\n",
      "files_to_rename are ['ENCSR776EOI_stats_tagAlign_cellTypes_file.tsv']\n",
      "/Users/eilaarich-landkof-stanford/Documents/Code/git_kundaje_genomics/DNA/ATAC/single-cell/fragments-file-manipulation/synapse_in_out/clusters/ENCSR776EOI/ENCSR776EOI_stats_tagAlign_cellTypes_file.tsv\n",
      "\n",
      "\n",
      "rename /Users/eilaarich-landkof-stanford/Documents/Code/git_kundaje_genomics/DNA/ATAC/single-cell/fragments-file-manipulation/synapse_in_out/clusters/ENCSR776EOI/ENCSR776EOI_stats_tagAlign_cellTypes_file.tsv to /Users/eilaarich-landkof-stanford/Documents/Code/git_kundaje_genomics/DNA/ATAC/single-cell/fragments-file-manipulation/synapse_in_out/clusters/ENCSR776EOI/ENCSR776EOI_ClusterMetadata.tsv\n",
      "\n",
      "files_to_rename are ['ENCSR796RXX_stats_tagAlign_cellTypes_file.tsv']\n",
      "/Users/eilaarich-landkof-stanford/Documents/Code/git_kundaje_genomics/DNA/ATAC/single-cell/fragments-file-manipulation/synapse_in_out/clusters/ENCSR796RXX/ENCSR796RXX_stats_tagAlign_cellTypes_file.tsv\n",
      "\n",
      "\n",
      "rename /Users/eilaarich-landkof-stanford/Documents/Code/git_kundaje_genomics/DNA/ATAC/single-cell/fragments-file-manipulation/synapse_in_out/clusters/ENCSR796RXX/ENCSR796RXX_stats_tagAlign_cellTypes_file.tsv to /Users/eilaarich-landkof-stanford/Documents/Code/git_kundaje_genomics/DNA/ATAC/single-cell/fragments-file-manipulation/synapse_in_out/clusters/ENCSR796RXX/ENCSR796RXX_ClusterMetadata.tsv\n",
      "\n",
      "files_to_rename are ['ENCSR822GXQ_stats_tagAlign_cellTypes_file.tsv']\n",
      "/Users/eilaarich-landkof-stanford/Documents/Code/git_kundaje_genomics/DNA/ATAC/single-cell/fragments-file-manipulation/synapse_in_out/clusters/ENCSR822GXQ/ENCSR822GXQ_stats_tagAlign_cellTypes_file.tsv\n",
      "\n",
      "\n",
      "rename /Users/eilaarich-landkof-stanford/Documents/Code/git_kundaje_genomics/DNA/ATAC/single-cell/fragments-file-manipulation/synapse_in_out/clusters/ENCSR822GXQ/ENCSR822GXQ_stats_tagAlign_cellTypes_file.tsv to /Users/eilaarich-landkof-stanford/Documents/Code/git_kundaje_genomics/DNA/ATAC/single-cell/fragments-file-manipulation/synapse_in_out/clusters/ENCSR822GXQ/ENCSR822GXQ_ClusterMetadata.tsv\n",
      "\n",
      "files_to_rename are ['ENCSR845QFX_stats_tagAlign_cellTypes_file.tsv']\n",
      "/Users/eilaarich-landkof-stanford/Documents/Code/git_kundaje_genomics/DNA/ATAC/single-cell/fragments-file-manipulation/synapse_in_out/clusters/ENCSR845QFX/ENCSR845QFX_stats_tagAlign_cellTypes_file.tsv\n",
      "\n",
      "\n",
      "rename /Users/eilaarich-landkof-stanford/Documents/Code/git_kundaje_genomics/DNA/ATAC/single-cell/fragments-file-manipulation/synapse_in_out/clusters/ENCSR845QFX/ENCSR845QFX_stats_tagAlign_cellTypes_file.tsv to /Users/eilaarich-landkof-stanford/Documents/Code/git_kundaje_genomics/DNA/ATAC/single-cell/fragments-file-manipulation/synapse_in_out/clusters/ENCSR845QFX/ENCSR845QFX_ClusterMetadata.tsv\n",
      "\n",
      "files_to_rename are ['ENCSR848EID_stats_tagAlign_cellTypes_file.tsv']\n",
      "/Users/eilaarich-landkof-stanford/Documents/Code/git_kundaje_genomics/DNA/ATAC/single-cell/fragments-file-manipulation/synapse_in_out/clusters/ENCSR848EID/ENCSR848EID_stats_tagAlign_cellTypes_file.tsv\n",
      "\n",
      "\n",
      "rename /Users/eilaarich-landkof-stanford/Documents/Code/git_kundaje_genomics/DNA/ATAC/single-cell/fragments-file-manipulation/synapse_in_out/clusters/ENCSR848EID/ENCSR848EID_stats_tagAlign_cellTypes_file.tsv to /Users/eilaarich-landkof-stanford/Documents/Code/git_kundaje_genomics/DNA/ATAC/single-cell/fragments-file-manipulation/synapse_in_out/clusters/ENCSR848EID/ENCSR848EID_ClusterMetadata.tsv\n",
      "\n",
      "files_to_rename are ['ENCSR868ZEI_stats_tagAlign_cellTypes_file.tsv']\n",
      "/Users/eilaarich-landkof-stanford/Documents/Code/git_kundaje_genomics/DNA/ATAC/single-cell/fragments-file-manipulation/synapse_in_out/clusters/ENCSR868ZEI/ENCSR868ZEI_stats_tagAlign_cellTypes_file.tsv\n",
      "\n",
      "\n",
      "rename /Users/eilaarich-landkof-stanford/Documents/Code/git_kundaje_genomics/DNA/ATAC/single-cell/fragments-file-manipulation/synapse_in_out/clusters/ENCSR868ZEI/ENCSR868ZEI_stats_tagAlign_cellTypes_file.tsv to /Users/eilaarich-landkof-stanford/Documents/Code/git_kundaje_genomics/DNA/ATAC/single-cell/fragments-file-manipulation/synapse_in_out/clusters/ENCSR868ZEI/ENCSR868ZEI_ClusterMetadata.tsv\n",
      "\n"
     ]
    }
   ],
   "source": [
    "import os\n",
    "for f in folders:\n",
    "    full_f_path = os.path.join(root_dir,f)\n",
    "    # print(full_f_path)\n",
    "    files_to_rename = os.listdir(full_f_path)\n",
    "    files_to_rename= [x for x in files_to_rename if \".ipynb\" not in x and \".DS_Store\" not in x and \"tagAlign_E\" not in x]\n",
    "    print(\"files_to_rename are {}\".format(files_to_rename))\n",
    "    for r in files_to_rename:\n",
    "        r_full_path = os.path.join(root_dir,f,r)\n",
    "        print(r_full_path)\n",
    "        if \"stats\" in r:    \n",
    "            r_new = r.split(\"_stats\")[0]+\"_ClusterMetadata.tsv\"\n",
    "            r_new_full_path = os.path.join(root_dir,f,r_new)\n",
    "            #{DatasetID}_ClusterMetadata.tsv\n",
    "            # print(\"\\n\\nrename {} to {}\\n\".format(r,r_new))\n",
    "            print(\"\\n\\nrename {} to {}\\n\".format(r_full_path,r_new_full_path))\n",
    "            !mv $r_full_path $r_new_full_path\n",
    "        else:\n",
    "            print(\"Nothing to rename\")\n",
    "            # # {DatasetID}_CellClusterAssignment.tsv\n",
    "            # if (\"tagAlign_E\" in r):\n",
    "            #     r_new = r.split(\"tagAlign_\")[1].split(\".tsv\")[0]+\"_CellClusterAssignment.tsv\"\n",
    "            #     r_new_full_path = os.path.join(root_dir,f,r_new)\n",
    "            #     # print(\"\\n\\nrename {} to {}\\n\".format(r,r_new))\n",
    "            #     print(\"\\n\\nrename {} to {}\".format(r_full_path,r_new_full_path))\n",
    "            #     # os.rename(r_full_path, r_new_full_path)\n",
    "            #     !mv $r_full_path $r_new_full_path\n",
    "            \n",
    "\n",
    "                  "
   ]
  },
  {
   "cell_type": "code",
   "execution_count": 42,
   "id": "90a8f019-7eb8-42a3-a76d-980b3ad769e9",
   "metadata": {},
   "outputs": [],
   "source": [
    "# \"tagAlign_ENCSR023FME_Type_I_skeletal_myocyte.tsv\".split(\"tagAlign_\")[1].split(\".tsv\")[0]+\"_CellClusterAssignment.tsv\""
   ]
  },
  {
   "cell_type": "code",
   "execution_count": null,
   "id": "32b41c81-0905-43da-b39e-638c6c4e7163",
   "metadata": {},
   "outputs": [],
   "source": []
  }
 ],
 "metadata": {
  "kernelspec": {
   "display_name": "Python 3 (ipykernel)",
   "language": "python",
   "name": "python3"
  },
  "language_info": {
   "codemirror_mode": {
    "name": "ipython",
    "version": 3
   },
   "file_extension": ".py",
   "mimetype": "text/x-python",
   "name": "python",
   "nbconvert_exporter": "python",
   "pygments_lexer": "ipython3",
   "version": "3.11.4"
  }
 },
 "nbformat": 4,
 "nbformat_minor": 5
}
