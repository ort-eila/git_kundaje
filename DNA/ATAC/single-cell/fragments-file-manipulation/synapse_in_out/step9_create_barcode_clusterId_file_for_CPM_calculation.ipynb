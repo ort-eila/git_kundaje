{
 "cells": [
  {
   "cell_type": "code",
   "execution_count": 1,
   "id": "254feb26-e5cd-42d0-949d-c111dbb519ac",
   "metadata": {},
   "outputs": [],
   "source": [
    "# step9 create file for the CPM"
   ]
  },
  {
   "cell_type": "code",
   "execution_count": 2,
   "id": "610e74b0-bb0a-4985-8169-118b301704e2",
   "metadata": {},
   "outputs": [],
   "source": [
    "%run tsv_files_utils_from_analysis.ipynb"
   ]
  },
  {
   "cell_type": "code",
   "execution_count": 3,
   "id": "5d086719-d2e9-4f95-bc69-47f0a3990c36",
   "metadata": {},
   "outputs": [],
   "source": [
    "# \"./clusters/ENCSR618WVK/ENCSR618WVK_ClusterMetadata.tsv\""
   ]
  },
  {
   "cell_type": "code",
   "execution_count": 4,
   "id": "18a97977-9d33-4d20-8f63-d03049218fe9",
   "metadata": {},
   "outputs": [
    {
     "data": {
      "text/plain": [
       "'./clusters/ENCSR618WVK/ENCSR618WVK_ClusterMetadata.tsv'"
      ]
     },
     "execution_count": 4,
     "metadata": {},
     "output_type": "execute_result"
    }
   ],
   "source": [
    "tagAlign_clusterMetadata_tsv = \"./clusters/ENCSR618WVK/ENCSR618WVK_ClusterMetadata.tsv\"\n",
    "tagAlign_clusterMetadata_tsv"
   ]
  },
  {
   "cell_type": "code",
   "execution_count": 5,
   "id": "0ceb35c4-6480-4d97-b196-7b989308bf52",
   "metadata": {},
   "outputs": [
    {
     "data": {
      "text/html": [
       "<div>\n",
       "<style scoped>\n",
       "    .dataframe tbody tr th:only-of-type {\n",
       "        vertical-align: middle;\n",
       "    }\n",
       "\n",
       "    .dataframe tbody tr th {\n",
       "        vertical-align: top;\n",
       "    }\n",
       "\n",
       "    .dataframe thead th {\n",
       "        text-align: right;\n",
       "    }\n",
       "</style>\n",
       "<table border=\"1\" class=\"dataframe\">\n",
       "  <thead>\n",
       "    <tr style=\"text-align: right;\">\n",
       "      <th></th>\n",
       "      <th>tagAlignFile</th>\n",
       "      <th>CellClusterID</th>\n",
       "      <th>ManualAnnotationLabel</th>\n",
       "      <th>TissueName</th>\n",
       "      <th>nCells</th>\n",
       "      <th>MeanRNAUMIsPerCell</th>\n",
       "      <th>MeanATACFragmentsPerCell</th>\n",
       "    </tr>\n",
       "  </thead>\n",
       "  <tbody>\n",
       "    <tr>\n",
       "      <th>0</th>\n",
       "      <td>ENCSR618WVK_Cluster5.tsv.tagAlign</td>\n",
       "      <td>Cluster5</td>\n",
       "      <td>T_cells</td>\n",
       "      <td>Left lobe of liver</td>\n",
       "      <td>163</td>\n",
       "      <td>()</td>\n",
       "      <td>5486</td>\n",
       "    </tr>\n",
       "    <tr>\n",
       "      <th>1</th>\n",
       "      <td>ENCSR618WVK_Cluster2.tsv.tagAlign</td>\n",
       "      <td>Cluster2</td>\n",
       "      <td>Fibroblasts</td>\n",
       "      <td>Left lobe of liver</td>\n",
       "      <td>632</td>\n",
       "      <td>()</td>\n",
       "      <td>8898</td>\n",
       "    </tr>\n",
       "    <tr>\n",
       "      <th>2</th>\n",
       "      <td>ENCSR618WVK_Cluster3.tsv.tagAlign</td>\n",
       "      <td>Cluster3</td>\n",
       "      <td>Hepatocytes</td>\n",
       "      <td>Left lobe of liver</td>\n",
       "      <td>8480</td>\n",
       "      <td>()</td>\n",
       "      <td>8488</td>\n",
       "    </tr>\n",
       "    <tr>\n",
       "      <th>3</th>\n",
       "      <td>ENCSR618WVK_Cluster4.tsv.tagAlign</td>\n",
       "      <td>Cluster4</td>\n",
       "      <td>Macrophages</td>\n",
       "      <td>Left lobe of liver</td>\n",
       "      <td>407</td>\n",
       "      <td>()</td>\n",
       "      <td>6656</td>\n",
       "    </tr>\n",
       "    <tr>\n",
       "      <th>4</th>\n",
       "      <td>ENCSR618WVK_Cluster1.tsv.tagAlign</td>\n",
       "      <td>Cluster1</td>\n",
       "      <td>Endothelial_cells</td>\n",
       "      <td>Left lobe of liver</td>\n",
       "      <td>899</td>\n",
       "      <td>()</td>\n",
       "      <td>4566</td>\n",
       "    </tr>\n",
       "    <tr>\n",
       "      <th>5</th>\n",
       "      <td>ENCSR618WVK_Cluster0.tsv.tagAlign</td>\n",
       "      <td>Cluster0</td>\n",
       "      <td>Cholangiocytes</td>\n",
       "      <td>Left lobe of liver</td>\n",
       "      <td>598</td>\n",
       "      <td>()</td>\n",
       "      <td>7541</td>\n",
       "    </tr>\n",
       "  </tbody>\n",
       "</table>\n",
       "</div>"
      ],
      "text/plain": [
       "                        tagAlignFile CellClusterID ManualAnnotationLabel  \\\n",
       "0  ENCSR618WVK_Cluster5.tsv.tagAlign      Cluster5               T_cells   \n",
       "1  ENCSR618WVK_Cluster2.tsv.tagAlign      Cluster2           Fibroblasts   \n",
       "2  ENCSR618WVK_Cluster3.tsv.tagAlign      Cluster3           Hepatocytes   \n",
       "3  ENCSR618WVK_Cluster4.tsv.tagAlign      Cluster4           Macrophages   \n",
       "4  ENCSR618WVK_Cluster1.tsv.tagAlign      Cluster1     Endothelial_cells   \n",
       "5  ENCSR618WVK_Cluster0.tsv.tagAlign      Cluster0        Cholangiocytes   \n",
       "\n",
       "           TissueName  nCells MeanRNAUMIsPerCell  MeanATACFragmentsPerCell  \n",
       "0  Left lobe of liver     163                 ()                      5486  \n",
       "1  Left lobe of liver     632                 ()                      8898  \n",
       "2  Left lobe of liver    8480                 ()                      8488  \n",
       "3  Left lobe of liver     407                 ()                      6656  \n",
       "4  Left lobe of liver     899                 ()                      4566  \n",
       "5  Left lobe of liver     598                 ()                      7541  "
      ]
     },
     "execution_count": 5,
     "metadata": {},
     "output_type": "execute_result"
    }
   ],
   "source": [
    "df = read_tsv_file_no_index(tagAlign_clusterMetadata_tsv)\n",
    "df"
   ]
  },
  {
   "cell_type": "code",
   "execution_count": 13,
   "id": "a8750d37-5113-4385-af83-728476227c76",
   "metadata": {},
   "outputs": [
    {
     "data": {
      "text/plain": [
       "0    ENCSR618WVK_Cluster5.tsv.tagAlign\n",
       "1    ENCSR618WVK_Cluster2.tsv.tagAlign\n",
       "2    ENCSR618WVK_Cluster3.tsv.tagAlign\n",
       "3    ENCSR618WVK_Cluster4.tsv.tagAlign\n",
       "4    ENCSR618WVK_Cluster1.tsv.tagAlign\n",
       "5    ENCSR618WVK_Cluster0.tsv.tagAlign\n",
       "Name: tagAlignFile, dtype: object"
      ]
     },
     "execution_count": 13,
     "metadata": {},
     "output_type": "execute_result"
    }
   ],
   "source": [
    "df['tagAlignFile']"
   ]
  },
  {
   "cell_type": "code",
   "execution_count": 14,
   "id": "900eb77c-5345-4d8d-83d3-ce2f8f7e55ab",
   "metadata": {},
   "outputs": [
    {
     "data": {
      "text/plain": [
       "['ENCSR618WVK_Cluster5.tsv.tagAlign',\n",
       " 'ENCSR618WVK_Cluster2.tsv.tagAlign',\n",
       " 'ENCSR618WVK_Cluster3.tsv.tagAlign',\n",
       " 'ENCSR618WVK_Cluster4.tsv.tagAlign',\n",
       " 'ENCSR618WVK_Cluster1.tsv.tagAlign',\n",
       " 'ENCSR618WVK_Cluster0.tsv.tagAlign']"
      ]
     },
     "execution_count": 14,
     "metadata": {},
     "output_type": "execute_result"
    }
   ],
   "source": [
    "# Extracting values from the 'tagAlignFile' column\n",
    "tagAlignFile_values = df['tagAlignFile']\n",
    "\n",
    "# Convert the values to a list (optional)\n",
    "tagAlignFile_list = tagAlignFile_values.tolist()\n",
    "tagAlignFile_list"
   ]
  },
  {
   "cell_type": "code",
   "execution_count": 15,
   "id": "80627719-1de5-4a55-b610-0e82f6676e75",
   "metadata": {},
   "outputs": [
    {
     "data": {
      "text/html": [
       "<div>\n",
       "<style scoped>\n",
       "    .dataframe tbody tr th:only-of-type {\n",
       "        vertical-align: middle;\n",
       "    }\n",
       "\n",
       "    .dataframe tbody tr th {\n",
       "        vertical-align: top;\n",
       "    }\n",
       "\n",
       "    .dataframe thead th {\n",
       "        text-align: right;\n",
       "    }\n",
       "</style>\n",
       "<table border=\"1\" class=\"dataframe\">\n",
       "  <thead>\n",
       "    <tr style=\"text-align: right;\">\n",
       "      <th></th>\n",
       "      <th>barcode</th>\n",
       "      <th>CellClusterID</th>\n",
       "    </tr>\n",
       "  </thead>\n",
       "  <tbody>\n",
       "  </tbody>\n",
       "</table>\n",
       "</div>"
      ],
      "text/plain": [
       "Empty DataFrame\n",
       "Columns: [barcode, CellClusterID]\n",
       "Index: []"
      ]
     },
     "execution_count": 15,
     "metadata": {},
     "output_type": "execute_result"
    }
   ],
   "source": [
    "# Create an empty DataFrame to store the combined data\n",
    "combined_df = pd.DataFrame(columns=['barcode', 'CellClusterID'])\n",
    "combined_df"
   ]
  },
  {
   "cell_type": "code",
   "execution_count": 22,
   "id": "f4374df9-83e8-43ad-9b68-180808da55b7",
   "metadata": {},
   "outputs": [
    {
     "name": "stdout",
     "output_type": "stream",
     "text": [
      "tagAlignFile_fullPath: ./clusters/ENCSR618WVK/ENCSR618WVK_Cluster5.tsv.tagAlign\n",
      "['AACAGCAAGGGTGAAC_ENCSR618WVK', 'CCCTGTTAGTAGCGGG_ENCSR618WVK', 'CCCTGTTAGTAGCGGG_ENCSR618WVK', 'GTATTCAAGTTAGCTA_ENCSR618WVK']\n",
      "tagAlignFile_fullPath: ./clusters/ENCSR618WVK/ENCSR618WVK_Cluster2.tsv.tagAlign\n",
      "['TTAAAGGCAGTAGGTG_ENCSR618WVK', 'CGGTGAGAGCACAGCC_ENCSR618WVK', 'CGGTGAGAGCACAGCC_ENCSR618WVK', 'ATTTGCGCATCCTAGA_ENCSR618WVK']\n",
      "tagAlignFile_fullPath: ./clusters/ENCSR618WVK/ENCSR618WVK_Cluster3.tsv.tagAlign\n",
      "['AAAGGCTCACCAGGTT_ENCSR618WVK', 'TTGAGCTAGGAAGTAT_ENCSR618WVK', 'TTGAGCTAGGAAGTAT_ENCSR618WVK', 'AAGTTAGCACCTGTAA_ENCSR618WVK']\n",
      "tagAlignFile_fullPath: ./clusters/ENCSR618WVK/ENCSR618WVK_Cluster4.tsv.tagAlign\n",
      "['GATCACTAGACAAACG_ENCSR618WVK', 'GGCTGGTTCGTTATAG_ENCSR618WVK', 'GGCTGGTTCGTTATAG_ENCSR618WVK', 'GGAGGTTAGTTTGGGT_ENCSR618WVK']\n",
      "tagAlignFile_fullPath: ./clusters/ENCSR618WVK/ENCSR618WVK_Cluster1.tsv.tagAlign\n",
      "['AGTCCTGAGCGGATAA_ENCSR618WVK', 'TTGTTGCGTACTGATG_ENCSR618WVK', 'TTGTTGCGTACTGATG_ENCSR618WVK', 'GTAGTTTCAATTTGGT_ENCSR618WVK']\n",
      "tagAlignFile_fullPath: ./clusters/ENCSR618WVK/ENCSR618WVK_Cluster0.tsv.tagAlign\n",
      "['GAACCGCTCATGAAGG_ENCSR618WVK', 'AGTTGTCAGTCAGTAC_ENCSR618WVK', 'AGTTGTCAGTCAGTAC_ENCSR618WVK', 'CTCCGTCCAAGGTCGA_ENCSR618WVK']\n"
     ]
    },
    {
     "ename": "AttributeError",
     "evalue": "module 'posixpath' has no attribute 'dir'",
     "output_type": "error",
     "traceback": [
      "\u001b[0;31m---------------------------------------------------------------------------\u001b[0m",
      "\u001b[0;31mAttributeError\u001b[0m                            Traceback (most recent call last)",
      "Cell \u001b[0;32mIn[22], line 32\u001b[0m\n\u001b[1;32m     29\u001b[0m combined_df \u001b[38;5;241m=\u001b[39m pd\u001b[38;5;241m.\u001b[39mconcat(dfs, ignore_index\u001b[38;5;241m=\u001b[39m\u001b[38;5;28;01mTrue\u001b[39;00m)\n\u001b[1;32m     31\u001b[0m \u001b[38;5;66;03m# Replace 'final_output_file.tsv' with the desired final output file path\u001b[39;00m\n\u001b[0;32m---> 32\u001b[0m final_output_file \u001b[38;5;241m=\u001b[39m os\u001b[38;5;241m.\u001b[39mpath\u001b[38;5;241m.\u001b[39mjoin(os\u001b[38;5;241m.\u001b[39mpath\u001b[38;5;241m.\u001b[39mdir(tagAlign_clusterMetadata_tsv),\u001b[38;5;124m'\u001b[39m\u001b[38;5;124mCPM_clusters_barcode_.tsv\u001b[39m\u001b[38;5;124m'\u001b[39m)\n\u001b[1;32m     33\u001b[0m \u001b[38;5;28mprint\u001b[39m(\u001b[38;5;124m\"\u001b[39m\u001b[38;5;124mfinal_output_file is \u001b[39m\u001b[38;5;124m\"\u001b[39m,final_output_file)\n\u001b[1;32m     34\u001b[0m \u001b[38;5;66;03m# Write the combined DataFrame to a TSV file\u001b[39;00m\n",
      "\u001b[0;31mAttributeError\u001b[0m: module 'posixpath' has no attribute 'dir'"
     ]
    }
   ],
   "source": [
    "import os\n",
    "import pandas as pd\n",
    "\n",
    "# Initialize an empty list to store DataFrames\n",
    "dfs = []\n",
    "\n",
    "# Loop through the files\n",
    "for f in tagAlignFile_list:\n",
    "    tagAlignFile_fullPath = os.path.join(os.path.dirname(tagAlign_clusterMetadata_tsv), f)\n",
    "    print(f\"tagAlignFile_fullPath: {tagAlignFile_fullPath}\")\n",
    "    df_tagAlign = read_tsv_file(tagAlignFile_fullPath)\n",
    "    \n",
    "    # Extract the values from the third column\n",
    "    barcodes_values = df_tagAlign.iloc[:, 3]\n",
    "    barcodes_values_list = barcodes_values.tolist()\n",
    "    print(barcodes_values_list[0:4])\n",
    "    \n",
    "    # Create a new DataFrame with the extracted data\n",
    "    data = {\n",
    "        'CellClusterID': [f] * len(barcodes_values_list),\n",
    "        'barcode': barcodes_values_list\n",
    "    }\n",
    "    new_df = pd.DataFrame(data)\n",
    "    \n",
    "    # Append the new DataFrame to the list\n",
    "    dfs.append(new_df)"
   ]
  },
  {
   "cell_type": "code",
   "execution_count": 23,
   "id": "50adde65-45a7-4c1b-a3e2-9397da066112",
   "metadata": {},
   "outputs": [],
   "source": [
    "# Concatenate the list of DataFrames into a single DataFrame\n",
    "combined_df = pd.concat(dfs, ignore_index=True)\n",
    "\n"
   ]
  },
  {
   "cell_type": "code",
   "execution_count": 25,
   "id": "c83df88d-f7f4-4b33-9f38-71552a733959",
   "metadata": {},
   "outputs": [
    {
     "name": "stdout",
     "output_type": "stream",
     "text": [
      "final_output_file is  ./clusters/ENCSR618WVK/CPM_clusters_barcode_.tsv\n"
     ]
    }
   ],
   "source": [
    "\n",
    "# Replace 'final_output_file.tsv' with the desired final output file path\n",
    "final_output_file = os.path.join(os.path.dirname(tagAlign_clusterMetadata_tsv),'CPM_clusters_barcode.tsv')\n",
    "print(\"final_output_file is \",final_output_file)"
   ]
  },
  {
   "cell_type": "code",
   "execution_count": 26,
   "id": "daa5d27a-0a82-4fba-b73e-13388ff2ec99",
   "metadata": {},
   "outputs": [],
   "source": [
    "# Write the combined DataFrame to a TSV file\n",
    "combined_df.to_csv(final_output_file, sep='\\t', index=False)"
   ]
  },
  {
   "cell_type": "code",
   "execution_count": null,
   "id": "75c03187-3de9-45db-b6a4-b7949f4f299a",
   "metadata": {},
   "outputs": [],
   "source": []
  }
 ],
 "metadata": {
  "kernelspec": {
   "display_name": "Python 3 (ipykernel)",
   "language": "python",
   "name": "python3"
  },
  "language_info": {
   "codemirror_mode": {
    "name": "ipython",
    "version": 3
   },
   "file_extension": ".py",
   "mimetype": "text/x-python",
   "name": "python",
   "nbconvert_exporter": "python",
   "pygments_lexer": "ipython3",
   "version": "3.11.4"
  }
 },
 "nbformat": 4,
 "nbformat_minor": 5
}
