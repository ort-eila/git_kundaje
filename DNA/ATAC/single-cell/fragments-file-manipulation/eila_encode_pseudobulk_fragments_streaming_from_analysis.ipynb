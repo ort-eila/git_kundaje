{
 "cells": [
  {
   "cell_type": "code",
   "execution_count": 1,
   "metadata": {},
   "outputs": [],
   "source": [
    "`# if the files are on Anvil / Terra workspace \n",
    "# please run it from the workspace analysis to avoid bucket access permission issues\n",
    "# or use the gcloud login auth interface to authenticate yourself"
   ]
  },
  {
   "cell_type": "code",
   "execution_count": 2,
   "metadata": {},
   "outputs": [
    {
     "name": "stdout",
     "output_type": "stream",
     "text": [
      "/Users/eilaarich-landkof-stanford/Documents/Code/git_kundaje_genomics/DNA/ATAC/single-cell/fragments-file-manipulation\n"
     ]
    }
   ],
   "source": [
    "!pwd"
   ]
  },
  {
   "cell_type": "markdown",
   "metadata": {},
   "source": [
    "installations:\n",
    "\n",
    "1. pip install synapseclient"
   ]
  },
  {
   "cell_type": "code",
   "execution_count": 3,
   "metadata": {},
   "outputs": [],
   "source": [
    "import os\n",
    "import pandas as pd\n",
    "# CHANGE\n",
    "gs_path_for_the_encode_pseudobulk_pipeline_table = \"ENCODE_PSEUDOBULK_TABLE_INPUT\"\n",
    "local_folder = os.getcwd() #\"/home/jupyter/eila\" #os.getcwd()\n",
    "os.makedirs(local_folder, exist_ok=True)\n",
    "local_metadata_tsv = \"proc.tsv\"\n",
    "# NO NEED TO CHANGE:\n",
    "bucket_id = \"fc-secure-0a879173-62d3-4c3a-8fc3-e35ee4248901\"\n",
    "# if human - no need to change. taken from the worspace dashboard\n",
    "gs_chrom_size_human = \"gs://broad-buenrostro-pipeline-genome-annotations/IGVF_human_v43/GRCh38_EBV.chrom.sizes.tsv\""
   ]
  },
  {
   "cell_type": "code",
   "execution_count": 4,
   "metadata": {},
   "outputs": [],
   "source": [
    "def remove_file(filename):\n",
    "  print(\"remove_file method: {}\".format(filename))\n",
    "  if os.path.exists(filename):\n",
    "    os.remove(filename)"
   ]
  },
  {
   "cell_type": "code",
   "execution_count": 5,
   "metadata": {},
   "outputs": [
    {
     "name": "stdout",
     "output_type": "stream",
     "text": [
      "clear_notebook_output.ipynb\n",
      "eila_encode_pseudobulk_fragments_streaming_from_analysis.ipynb\n",
      "gsutil_ls_txt.txt\n",
      "proc.tsv\n",
      "\u001b[34msyn46645403_labels\u001b[m\u001b[m\n",
      "synapse_utils_from_analysis.ipynb\n",
      "tsv_files_utils_from_analysis.ipynb\n"
     ]
    }
   ],
   "source": [
    "!ls"
   ]
  },
  {
   "cell_type": "code",
   "execution_count": 6,
   "metadata": {},
   "outputs": [
    {
     "name": "stdout",
     "output_type": "stream",
     "text": [
      "Welcome, eila!\n",
      "\n"
     ]
    }
   ],
   "source": [
    "%run synapse_utils_from_analysis.ipynb\n"
   ]
  },
  {
   "cell_type": "code",
   "execution_count": 7,
   "metadata": {},
   "outputs": [],
   "source": [
    "%run tsv_files_utils_from_analysis.ipynb\n"
   ]
  },
  {
   "cell_type": "code",
   "execution_count": 8,
   "metadata": {},
   "outputs": [
    {
     "name": "stdout",
     "output_type": "stream",
     "text": [
      "file proc.tsv is available, nothing to copy\n"
     ]
    }
   ],
   "source": [
    "# read the proc.tsv object\n",
    "# Create a subset file of each rna_dataset and save it under the rna_dataset and call it {rna_dataset}_metadata.tsv\n",
    "\n",
    "# TODO: copy the metadata file for ENCODE datasets\n",
    "local_metadata_file_location = os.path.join(local_folder,local_metadata_tsv)\n",
    "if os.path.exists(local_metadata_file_location) == False:\n",
    "    print(\"execute cmd: gsutil cp gs://fc-secure-0a879173-62d3-4c3a-8fc3-e35ee4248901/ENCODE_synpase_annotation_mapping/proc.tsv {}\".format(local_metadata_file_location))\n",
    "    !gsutil cp gs://fc-secure-0a879173-62d3-4c3a-8fc3-e35ee4248901/ENCODE_synpase_annotation_mapping/proc.tsv $local_metadata_file_location\n",
    "else:\n",
    "    print(\"file proc.tsv is available, nothing to copy\")"
   ]
  },
  {
   "cell_type": "code",
   "execution_count": 9,
   "metadata": {},
   "outputs": [],
   "source": [
    "# !gsutil cp 'gs://fc-secure-0a879173-62d3-4c3a-8fc3-e35ee4248901/ENCODE_synpase_annotation_mapping/proc.tsv' ."
   ]
  },
  {
   "cell_type": "code",
   "execution_count": 10,
   "metadata": {},
   "outputs": [
    {
     "name": "stdout",
     "output_type": "stream",
     "text": [
      "Column names: ['cell_type_name,\"rna_dataset\",\"rna_library\",\"rna_barcode\",\"atac_dataset\",\"atac_library\",\"atac_barcode\",\"file\"']  type is <class 'list'>\n",
      "metadata_col_names after split is ['cell_type_name', '\"rna_dataset\"', '\"rna_library\"', '\"rna_barcode\"', '\"atac_dataset\"', '\"atac_library\"', '\"atac_barcode\"', '\"file\"']\n",
      "metadata_col_names after strip is ['cell_type_name', 'rna_dataset', 'rna_library', 'rna_barcode', 'atac_dataset', 'atac_library', 'atac_barcode', 'file']\n",
      "Column names after processing is: ['cell_type_name', 'rna_dataset', 'rna_library', 'rna_barcode', 'atac_dataset', 'atac_library', 'atac_barcode', 'file']  type is <class 'list'>\n",
      "column_atac_dataset_index is 4\n"
     ]
    }
   ],
   "source": [
    "import csv\n",
    "from itertools import islice\n",
    "import pandas as pd\n",
    "metadata_col_names = None\n",
    "df_relevant_rows = None\n",
    "\n",
    "\n",
    "with open(local_metadata_file_location, \"r\", newline=\"\") as tsvfile:\n",
    "    reader = csv.reader(tsvfile, delimiter=\"\\t\")  # Set delimiter as tab\n",
    "\n",
    "# Column names: ['cell_type_name,\"rna_dataset\",\"rna_library\",\"rna_barcode\",\"atac_dataset\",\"atac_library\",\"atac_barcode\",\"file\"']    # Read the header row\n",
    "    metadata_col_names = next(reader)\n",
    "    print(\"Column names:\", metadata_col_names,\" type is {}\".format(type(metadata_col_names)))\n",
    "    metadata_col_names = metadata_col_names[0].split(\",\")\n",
    "    print(\"metadata_col_names after split is {}\".format(metadata_col_names))\n",
    "    metadata_col_names = [x.strip('\"') for x in metadata_col_names]\n",
    "    print(\"metadata_col_names after strip is {}\".format(metadata_col_names))\n",
    "    print(\"Column names after processing is:\", metadata_col_names,\" type is {}\".format(type(metadata_col_names)))\n",
    "    column_atac_dataset_index = metadata_col_names.index(\"atac_dataset\")\n",
    "    print(\"column_atac_dataset_index is {}\".format(column_atac_dataset_index))\n",
    "\n",
    "    rows = []  # To store the extracted rows\n",
    "    for row in reader: # to do: un-comment\n",
    "        # Process each row\n",
    "        # print(\"row is {}. type is {}. len is {}\".format(row,type(row),len(row)))\n",
    "        row = row[0].split(\",\")\n",
    "        row = [x.strip('\"') for x in row]\n",
    "        column_atac_dataset_value = row[column_atac_dataset_index]\n",
    "        \n",
    "        if column_atac_dataset_value != 'NA':\n",
    "            rows.append(row)\n",
    "            # print(\"adding row {}\".format(row))\n",
    "        else:\n",
    "            # print(\"Nothing to add: column_atac_dataset_value is {}\".format(column_atac_dataset_value))\n",
    "            continue\n",
    "    # Create a dataframe from the extracted rows\n",
    "    df_encode_rows = pd.DataFrame(rows, columns=metadata_col_names)"
   ]
  },
  {
   "cell_type": "code",
   "execution_count": 11,
   "metadata": {},
   "outputs": [
    {
     "data": {
      "text/html": [
       "<div>\n",
       "<style scoped>\n",
       "    .dataframe tbody tr th:only-of-type {\n",
       "        vertical-align: middle;\n",
       "    }\n",
       "\n",
       "    .dataframe tbody tr th {\n",
       "        vertical-align: top;\n",
       "    }\n",
       "\n",
       "    .dataframe thead th {\n",
       "        text-align: right;\n",
       "    }\n",
       "</style>\n",
       "<table border=\"1\" class=\"dataframe\">\n",
       "  <thead>\n",
       "    <tr style=\"text-align: right;\">\n",
       "      <th></th>\n",
       "      <th>cell_type_name</th>\n",
       "      <th>rna_dataset</th>\n",
       "      <th>rna_library</th>\n",
       "      <th>rna_barcode</th>\n",
       "      <th>atac_dataset</th>\n",
       "      <th>atac_library</th>\n",
       "      <th>atac_barcode</th>\n",
       "      <th>file</th>\n",
       "    </tr>\n",
       "  </thead>\n",
       "  <tbody>\n",
       "    <tr>\n",
       "      <th>0</th>\n",
       "      <td>Hepatocytes</td>\n",
       "      <td>NA</td>\n",
       "      <td>NA</td>\n",
       "      <td>NA</td>\n",
       "      <td>ENCSR114OKU</td>\n",
       "      <td>ENCLB431YMH</td>\n",
       "      <td>GGAGGATCAAGCGGTA</td>\n",
       "      <td>EAID_000002</td>\n",
       "    </tr>\n",
       "    <tr>\n",
       "      <th>1</th>\n",
       "      <td>Hepatocytes</td>\n",
       "      <td>NA</td>\n",
       "      <td>NA</td>\n",
       "      <td>NA</td>\n",
       "      <td>ENCSR114OKU</td>\n",
       "      <td>ENCLB431YMH</td>\n",
       "      <td>GTTACGATCGTGGTAT</td>\n",
       "      <td>EAID_000002</td>\n",
       "    </tr>\n",
       "  </tbody>\n",
       "</table>\n",
       "</div>"
      ],
      "text/plain": [
       "  cell_type_name rna_dataset rna_library rna_barcode atac_dataset  \\\n",
       "0    Hepatocytes          NA          NA          NA  ENCSR114OKU   \n",
       "1    Hepatocytes          NA          NA          NA  ENCSR114OKU   \n",
       "\n",
       "  atac_library      atac_barcode         file  \n",
       "0  ENCLB431YMH  GGAGGATCAAGCGGTA  EAID_000002  \n",
       "1  ENCLB431YMH  GTTACGATCGTGGTAT  EAID_000002  "
      ]
     },
     "execution_count": 11,
     "metadata": {},
     "output_type": "execute_result"
    }
   ],
   "source": [
    "df_encode_rows.head(2)"
   ]
  },
  {
   "cell_type": "code",
   "execution_count": 12,
   "metadata": {},
   "outputs": [
    {
     "data": {
      "text/plain": [
       "1236715"
      ]
     },
     "execution_count": 12,
     "metadata": {},
     "output_type": "execute_result"
    }
   ],
   "source": [
    "len(df_encode_rows['atac_dataset'].to_list())"
   ]
  },
  {
   "cell_type": "code",
   "execution_count": 13,
   "metadata": {},
   "outputs": [
    {
     "name": "stdout",
     "output_type": "stream",
     "text": [
      "gsutil_ls_txt.txt\n"
     ]
    }
   ],
   "source": [
    "# gsutil_ls_txt.txt was generated with gsutils ls gs://path/to/fragmetn/files.tsv.gz\n",
    "!ls gsutil_ls_txt*"
   ]
  },
  {
   "cell_type": "code",
   "execution_count": 14,
   "metadata": {},
   "outputs": [
    {
     "name": "stdout",
     "output_type": "stream",
     "text": [
      "['gs://fc-secure-0a879173-62d3-4c3a-8fc3-e35ee4248901/submissions/0e8c4f76-5f9f-4dc8-8ef3-608afb9395ab/share/38144a43-b98a-4c90-93ff-a7fbb88efd2f/call-atac/wf_atac/e7b3e84a-fea9-4fe6-ad7a-40af393fdb36/call-align/ENCSR987PQH.atac.filter.fragments.hg38.tsv.gz', 'gs://fc-secure-0a879173-62d3-4c3a-8fc3-e35ee4248901/submissions/8ef75ac6-1a49-4cbe-b61d-d62af4c904d7/share/24e3d191-38aa-4ed1-9255-dbfb14161097/call-atac/wf_atac/3d2abad2-1ff0-4477-a7a8-35aef31e2a3e/call-align/ENCSR618WVK.atac.filter.fragments.hg38.tsv.gz', 'gs://fc-secure-0a879173-62d3-4c3a-8fc3-e35ee4248901/submissions/97de835d-0f4e-474e-a583-987d6f6a4f2c/share/d8870ad0-1b10-454a-8c36-75350ea50cbb/call-atac/wf_atac/c53f4afa-8fd4-4995-93e1-7f4dee359afc/call-align/ENCSR023FME.atac.filter.fragments.hg38.tsv.gz', 'gs://fc-secure-0a879173-62d3-4c3a-8fc3-e35ee4248901/submissions/c467e890-b9f7-4458-a5b7-5581eb958cba/share/293acd9b-1e89-41d4-af76-247ca41af146/call-atac/wf_atac/2c759a0e-018b-4d6e-bbfc-257cbab95224/call-align/ENCSR868ZEI.atac.filter.fragments.hg38.tsv.gz', 'gs://fc-secure-0a879173-62d3-4c3a-8fc3-e35ee4248901/submissions/d5e8dc2b-9ba1-4bf5-8d2f-d277d4fcb9ea/share/93f6e99f-971e-4d44-bba1-c66858baf7f5/call-atac/wf_atac/e33d17e1-f030-42ab-aabb-1dc8397bd4b1/call-align/ENCSR058GOM.atac.filter.fragments.hg38.tsv.gz']\n"
     ]
    }
   ],
   "source": [
    "# LOAD the ls file from local - does not work on this machine\n",
    "def load_gs_ls_text_file(file_path):\n",
    "    with open(file_path, 'r') as file:\n",
    "        lines = file.readlines()\n",
    "        lines = [line.strip() for line in lines]\n",
    "    return lines\n",
    "\n",
    "# Example usage\n",
    "file_path = 'gsutil_ls_txt.txt'\n",
    "gs_path_to_search_sample_id = load_gs_ls_text_file(file_path)\n",
    "print(gs_path_to_search_sample_id[0:5])"
   ]
  },
  {
   "cell_type": "code",
   "execution_count": 15,
   "metadata": {},
   "outputs": [
    {
     "data": {
      "text/plain": [
       "25"
      ]
     },
     "execution_count": 15,
     "metadata": {},
     "output_type": "execute_result"
    }
   ],
   "source": [
    "len(gs_path_to_search_sample_id)"
   ]
  },
  {
   "cell_type": "code",
   "execution_count": 16,
   "metadata": {},
   "outputs": [],
   "source": [
    "gs_atac_dataset = [x.split(\"/\")[-1].split(\".\")[0] for x in gs_path_to_search_sample_id]"
   ]
  },
  {
   "cell_type": "code",
   "execution_count": 17,
   "metadata": {},
   "outputs": [
    {
     "data": {
      "text/plain": [
       "['ENCSR114OKU', 'ENCSR114OKU', 'ENCSR114OKU']"
      ]
     },
     "execution_count": 17,
     "metadata": {},
     "output_type": "execute_result"
    }
   ],
   "source": [
    "atac_dataset_list = df_encode_rows[\"atac_dataset\"].tolist()\n",
    "atac_dataset_list[0:3]"
   ]
  },
  {
   "cell_type": "code",
   "execution_count": 18,
   "metadata": {},
   "outputs": [
    {
     "data": {
      "text/plain": [
       "['ENCSR868ZEI',\n",
       " 'ENCSR848EID',\n",
       " 'ENCSR367GKP',\n",
       " 'ENCSR660NEE',\n",
       " 'ENCSR261TQO',\n",
       " 'ENCSR397LYX']"
      ]
     },
     "execution_count": 18,
     "metadata": {},
     "output_type": "execute_result"
    }
   ],
   "source": [
    "# atac dataset in both\n",
    "atac_dataset_to_fragment = list(set(gs_atac_dataset) & set(atac_dataset_list))\n",
    "atac_dataset_to_fragment[0:6]"
   ]
  },
  {
   "cell_type": "code",
   "execution_count": 19,
   "metadata": {},
   "outputs": [
    {
     "data": {
      "text/plain": [
       "23"
      ]
     },
     "execution_count": 19,
     "metadata": {},
     "output_type": "execute_result"
    }
   ],
   "source": [
    "len(atac_dataset_to_fragment)\n"
   ]
  },
  {
   "cell_type": "code",
   "execution_count": 20,
   "metadata": {},
   "outputs": [
    {
     "data": {
      "text/html": [
       "<div>\n",
       "<style scoped>\n",
       "    .dataframe tbody tr th:only-of-type {\n",
       "        vertical-align: middle;\n",
       "    }\n",
       "\n",
       "    .dataframe tbody tr th {\n",
       "        vertical-align: top;\n",
       "    }\n",
       "\n",
       "    .dataframe thead th {\n",
       "        text-align: right;\n",
       "    }\n",
       "</style>\n",
       "<table border=\"1\" class=\"dataframe\">\n",
       "  <thead>\n",
       "    <tr style=\"text-align: right;\">\n",
       "      <th></th>\n",
       "      <th>cell_type_name</th>\n",
       "      <th>rna_dataset</th>\n",
       "      <th>rna_library</th>\n",
       "      <th>rna_barcode</th>\n",
       "      <th>atac_dataset</th>\n",
       "      <th>atac_library</th>\n",
       "      <th>atac_barcode</th>\n",
       "      <th>file</th>\n",
       "    </tr>\n",
       "  </thead>\n",
       "  <tbody>\n",
       "    <tr>\n",
       "      <th>510368</th>\n",
       "      <td>macrophage</td>\n",
       "      <td>ENCSR231FNL</td>\n",
       "      <td>ENCLB398IAZ</td>\n",
       "      <td>AAACCGCGTGACATAT</td>\n",
       "      <td>ENCSR987PQH</td>\n",
       "      <td>ENCLB714RNW</td>\n",
       "      <td>GTCACCATGAGCTATT</td>\n",
       "      <td>EAID_000093</td>\n",
       "    </tr>\n",
       "    <tr>\n",
       "      <th>510369</th>\n",
       "      <td>cardiomyocyte</td>\n",
       "      <td>ENCSR231FNL</td>\n",
       "      <td>ENCLB398IAZ</td>\n",
       "      <td>AAACCGCGTTACATCC</td>\n",
       "      <td>ENCSR987PQH</td>\n",
       "      <td>ENCLB714RNW</td>\n",
       "      <td>ATGTTGTTGAGCTATT</td>\n",
       "      <td>EAID_000093</td>\n",
       "    </tr>\n",
       "  </tbody>\n",
       "</table>\n",
       "</div>"
      ],
      "text/plain": [
       "       cell_type_name  rna_dataset  rna_library       rna_barcode  \\\n",
       "510368     macrophage  ENCSR231FNL  ENCLB398IAZ  AAACCGCGTGACATAT   \n",
       "510369  cardiomyocyte  ENCSR231FNL  ENCLB398IAZ  AAACCGCGTTACATCC   \n",
       "\n",
       "       atac_dataset atac_library      atac_barcode         file  \n",
       "510368  ENCSR987PQH  ENCLB714RNW  GTCACCATGAGCTATT  EAID_000093  \n",
       "510369  ENCSR987PQH  ENCLB714RNW  ATGTTGTTGAGCTATT  EAID_000093  "
      ]
     },
     "execution_count": 20,
     "metadata": {},
     "output_type": "execute_result"
    }
   ],
   "source": [
    "# this will check for which fragments do we have annotation data\n",
    "df_relevant_rows = df_encode_rows[df_encode_rows['atac_dataset'].isin(atac_dataset_to_fragment)]\n",
    "df_relevant_rows.head(2)"
   ]
  },
  {
   "cell_type": "code",
   "execution_count": 21,
   "metadata": {},
   "outputs": [
    {
     "name": "stdout",
     "output_type": "stream",
     "text": [
      "['gs://fc-secure-0a879173-62d3-4c3a-8fc3-e35ee4248901/submissions/0e8c4f76-5f9f-4dc8-8ef3-608afb9395ab/share/38144a43-b98a-4c90-93ff-a7fbb88efd2f/call-atac/wf_atac/e7b3e84a-fea9-4fe6-ad7a-40af393fdb36/call-align/ENCSR987PQH.atac.filter.fragments.hg38.tsv.gz', 'gs://fc-secure-0a879173-62d3-4c3a-8fc3-e35ee4248901/submissions/97de835d-0f4e-474e-a583-987d6f6a4f2c/share/d8870ad0-1b10-454a-8c36-75350ea50cbb/call-atac/wf_atac/c53f4afa-8fd4-4995-93e1-7f4dee359afc/call-align/ENCSR023FME.atac.filter.fragments.hg38.tsv.gz', 'gs://fc-secure-0a879173-62d3-4c3a-8fc3-e35ee4248901/submissions/c467e890-b9f7-4458-a5b7-5581eb958cba/share/293acd9b-1e89-41d4-af76-247ca41af146/call-atac/wf_atac/2c759a0e-018b-4d6e-bbfc-257cbab95224/call-align/ENCSR868ZEI.atac.filter.fragments.hg38.tsv.gz', 'gs://fc-secure-0a879173-62d3-4c3a-8fc3-e35ee4248901/submissions/ff3a5809-0cd2-464c-8a29-9bf6311111ae/share/02c2df11-8d6c-4786-868a-94ecf3858bc5/call-atac/wf_atac/26b48087-2f17-469d-b3ff-b64720f9ddb4/call-align/ENCSR367GKP.atac.filter.fragments.hg38.tsv.gz']\n"
     ]
    }
   ],
   "source": [
    "gs_path_to_fragment = list(filter(lambda x: any(substring in x for substring in atac_dataset_to_fragment), gs_path_to_search_sample_id))\n",
    "print(gs_path_to_fragment[0:4])"
   ]
  },
  {
   "cell_type": "code",
   "execution_count": 34,
   "metadata": {},
   "outputs": [
    {
     "data": {
      "text/plain": [
       "'gs://fc-secure-0a879173-62d3-4c3a-8fc3-e35ee4248901/submissions/0e8c4f76-5f9f-4dc8-8ef3-608afb9395ab/share/38144a43-b98a-4c90-93ff-a7fbb88efd2f/call-atac/wf_atac/e7b3e84a-fea9-4fe6-ad7a-40af393fdb36/call-align/ENCSR987PQH.atac.filter.fragments.hg38.tsv.gz'"
      ]
     },
     "execution_count": 34,
     "metadata": {},
     "output_type": "execute_result"
    }
   ],
   "source": [
    "gs_path_to_fragment[0]"
   ]
  },
  {
   "cell_type": "code",
   "execution_count": 35,
   "metadata": {},
   "outputs": [
    {
     "data": {
      "text/plain": [
       "'gs://fc-secure-0a879173-62d3-4c3a-8fc3-e35ee4248901/submissions/97de835d-0f4e-474e-a583-987d6f6a4f2c/share/d8870ad0-1b10-454a-8c36-75350ea50cbb/call-atac/wf_atac/c53f4afa-8fd4-4995-93e1-7f4dee359afc/call-align/ENCSR023FME.atac.filter.fragments.hg38.tsv.gz'"
      ]
     },
     "execution_count": 35,
     "metadata": {},
     "output_type": "execute_result"
    }
   ],
   "source": [
    "gs_path_to_fragment[1]"
   ]
  },
  {
   "cell_type": "code",
   "execution_count": 22,
   "metadata": {},
   "outputs": [
    {
     "data": {
      "text/plain": [
       "23"
      ]
     },
     "execution_count": 22,
     "metadata": {},
     "output_type": "execute_result"
    }
   ],
   "source": [
    "len(gs_path_to_fragment)"
   ]
  },
  {
   "cell_type": "code",
   "execution_count": 23,
   "metadata": {},
   "outputs": [
    {
     "data": {
      "text/plain": [
       "'gs://fc-secure-0a879173-62d3-4c3a-8fc3-e35ee4248901/submissions/0e8c4f76-5f9f-4dc8-8ef3-608afb9395ab/share/38144a43-b98a-4c90-93ff-a7fbb88efd2f/call-atac/wf_atac/e7b3e84a-fea9-4fe6-ad7a-40af393fdb36/call-align/ENCSR987PQH.atac.filter.fragments.hg38.tsv.gz'"
      ]
     },
     "execution_count": 23,
     "metadata": {},
     "output_type": "execute_result"
    }
   ],
   "source": [
    "gs_path_to_fragment[0]"
   ]
  },
  {
   "cell_type": "code",
   "execution_count": 24,
   "metadata": {},
   "outputs": [
    {
     "data": {
      "text/plain": [
       "'gs://fc-secure-0a879173-62d3-4c3a-8fc3-e35ee4248901/submissions/97de835d-0f4e-474e-a583-987d6f6a4f2c/share/d8870ad0-1b10-454a-8c36-75350ea50cbb/call-atac/wf_atac/c53f4afa-8fd4-4995-93e1-7f4dee359afc/call-align/ENCSR023FME.atac.filter.fragments.hg38.tsv.gz'"
      ]
     },
     "execution_count": 24,
     "metadata": {},
     "output_type": "execute_result"
    }
   ],
   "source": [
    "gs_path_to_fragment[1]"
   ]
  },
  {
   "cell_type": "code",
   "execution_count": 25,
   "metadata": {},
   "outputs": [
    {
     "data": {
      "text/plain": [
       "'gs://fc-secure-0a879173-62d3-4c3a-8fc3-e35ee4248901/submissions/c467e890-b9f7-4458-a5b7-5581eb958cba/share/293acd9b-1e89-41d4-af76-247ca41af146/call-atac/wf_atac/2c759a0e-018b-4d6e-bbfc-257cbab95224/call-align/ENCSR868ZEI.atac.filter.fragments.hg38.tsv.gz'"
      ]
     },
     "execution_count": 25,
     "metadata": {},
     "output_type": "execute_result"
    }
   ],
   "source": [
    "gs_path_to_fragment[2]"
   ]
  },
  {
   "cell_type": "code",
   "execution_count": 30,
   "metadata": {},
   "outputs": [
    {
     "data": {
      "text/plain": [
       "False"
      ]
     },
     "execution_count": 30,
     "metadata": {},
     "output_type": "execute_result"
    }
   ],
   "source": [
    "# os.path.exists(full_local_fragment_file_name)"
   ]
  },
  {
   "cell_type": "code",
   "execution_count": 33,
   "metadata": {},
   "outputs": [
    {
     "name": "stdout",
     "output_type": "stream",
     "text": [
      "!!!!!gs_fragment_file is gs://fc-secure-0a879173-62d3-4c3a-8fc3-e35ee4248901/submissions/97de835d-0f4e-474e-a583-987d6f6a4f2c/share/d8870ad0-1b10-454a-8c36-75350ea50cbb/call-atac/wf_atac/c53f4afa-8fd4-4995-93e1-7f4dee359afc/call-align/ENCSR023FME.atac.filter.fragments.hg38.tsv.gz\n",
      "cur_atac_dataset is ENCSR023FME\n",
      "folder_name in synpase is EAID_000011\n",
      "get_file_names parameters are: folder_id syn34271785 and current_depth 0\n",
      "current_depth is 0 \n",
      "folder_entities are <generator object Synapse.getChildren at 0x29fa7f640> \n",
      "get_file_names parameters are: folder_id syn46645395 and current_depth 1\n",
      "current_depth is 1 \n",
      "folder_entities are <generator object Synapse.getChildren at 0x2acd64040> \n",
      "get_file_names parameters are: folder_id syn46645400 and current_depth 2\n",
      "folder_entities are <generator object Synapse.getChildren at 0x2acd64160>\n",
      "file_id is syn46645403\n",
      "label_file_synHandle is File: cell_types.tsv.gz (syn46645403)\n",
      "  md5=c4e639ecf918b07c4a1c93e17ac34f23\n",
      "  fileSize=59179\n",
      "  contentType=text/tab-separated-values\n",
      "  externalURL=None\n",
      "  cacheDir=/Users/eilaarich-landkof-stanford/Documents/Code/git_kundaje_genomics/DNA/ATAC/single-cell/fragments-file-manipulation/syn46645403_labels\n",
      "  files=['cell_types.tsv.gz']\n",
      "  path=/Users/eilaarich-landkof-stanford/Documents/Code/git_kundaje_genomics/DNA/ATAC/single-cell/fragments-file-manipulation/syn46645403_labels/cell_types.tsv.gz\n",
      "  synapseStore=True\n",
      "properties:\n",
      "  concreteType=org.sagebionetworks.repo.model.FileEntity\n",
      "  createdBy=3427716\n",
      "  createdOn=2022-11-28T21:08:00.732Z\n",
      "  dataFileHandleId=126805682\n",
      "  etag=c0e53a08-f5b1-4f12-8f63-e142df835afc\n",
      "  id=syn46645403\n",
      "  isLatestVersion=True\n",
      "  modifiedBy=3427716\n",
      "  modifiedOn=2023-07-10T01:33:41.748Z\n",
      "  name=cell_types.tsv.gz\n",
      "  parentId=syn46645400\n",
      "  versionLabel=2\n",
      "  versionNumber=2\n",
      "annotations:\n",
      "\n",
      "full_labels_file_path is /Users/eilaarich-landkof-stanford/Documents/Code/git_kundaje_genomics/DNA/ATAC/single-cell/fragments-file-manipulation/syn46645403_labels/cell_types.tsv.gz\n",
      "tsv_gz_file is /Users/eilaarich-landkof-stanford/Documents/Code/git_kundaje_genomics/DNA/ATAC/single-cell/fragments-file-manipulation/syn46645403_labels/cell_types.tsv.gz\n",
      "number of cell_type_id_names is 4\n",
      "!!!gs fragment_file is gs://fc-secure-0a879173-62d3-4c3a-8fc3-e35ee4248901/submissions/97de835d-0f4e-474e-a583-987d6f6a4f2c/share/d8870ad0-1b10-454a-8c36-75350ea50cbb/call-atac/wf_atac/c53f4afa-8fd4-4995-93e1-7f4dee359afc/call-align/ENCSR023FME.atac.filter.fragments.hg38.tsv.gz\n",
      "full_local_fragment_file_name is /Users/eilaarich-landkof-stanford/Documents/Code/git_kundaje_genomics/DNA/ATAC/single-cell/fragments-file-manipulation/ENCSR023FME.atac.filter.fragments.hg38.tsv.gz\n",
      "!!!!gsutil cp gs://fc-secure-0a879173-62d3-4c3a-8fc3-e35ee4248901/submissions/97de835d-0f4e-474e-a583-987d6f6a4f2c/share/d8870ad0-1b10-454a-8c36-75350ea50cbb/call-atac/wf_atac/c53f4afa-8fd4-4995-93e1-7f4dee359afc/call-align/ENCSR023FME.atac.filter.fragments.hg38.tsv.gz to /Users/eilaarich-landkof-stanford/Documents/Code/git_kundaje_genomics/DNA/ATAC/single-cell/fragments-file-manipulation/ENCSR023FME.atac.filter.fragments.hg38.tsv.gz\n",
      "CommandException: No URLs matched: gs://fc-secure-0a879173-62d3-4c3a-8fc3-e35ee4248901/submissions/97de835d-0f4e-474e-a583-987d6f6a4f2c/share/d8870ad0-1b10-454a-8c36-75350ea50cbb/call-atac/wf_atac/c53f4afa-8fd4-4995-93e1-7f4dee359afc/call-align/ENCSR023FME.atac.filter.fragments.hg38.tsv.gz\n",
      "!!!!finished cp gs://fc-secure-0a879173-62d3-4c3a-8fc3-e35ee4248901/submissions/97de835d-0f4e-474e-a583-987d6f6a4f2c/share/d8870ad0-1b10-454a-8c36-75350ea50cbb/call-atac/wf_atac/c53f4afa-8fd4-4995-93e1-7f4dee359afc/call-align/ENCSR023FME.atac.filter.fragments.hg38.tsv.gz to /Users/eilaarich-landkof-stanford/Documents/Code/git_kundaje_genomics/DNA/ATAC/single-cell/fragments-file-manipulation/ENCSR023FME.atac.filter.fragments.hg38.tsv.gz\n",
      "tagAlign_file_name is tagAlign_ENCSR023FME_Fibroblast_fragment_file.tsv.gz\n",
      "full_path_cell_type_fragment_tagAlign_file_name is /Users/eilaarich-landkof-stanford/Documents/Code/git_kundaje_genomics/DNA/ATAC/single-cell/fragments-file-manipulation/tagAlign_ENCSR023FME_Fibroblast_fragment_file.tsv.gz\n",
      "cells_barcodes_for_cell_type[0:5] is                                 cell_id cell_type_id cell_type_name  \\\n",
      "72   ENCSR023FME_CCTGAAGTTAGTGTAACGCGGT   Fibroblast     Fibroblast   \n",
      "221  ENCSR023FME_GCCAACGATTGGGCTCCGAATA   Fibroblast     Fibroblast   \n",
      "326  ENCSR023FME_GCCAACGATTACCCACAGCAGT   Fibroblast     Fibroblast   \n",
      "504  ENCSR023FME_GGGACTATTCCTTGCTGCCTAT   Fibroblast     Fibroblast   \n",
      "814  ENCSR023FME_CAAGTTCGATGACGCAACCTCT   Fibroblast     Fibroblast   \n",
      "\n",
      "     membership_score  \n",
      "72                NaN  \n",
      "221               NaN  \n",
      "326               NaN  \n",
      "504               NaN  \n",
      "814               NaN  \n",
      "len(cells_barcodes_for_cell_type) is 618\n",
      "gs_dest_tagAlign is  gs://fc-secure-0a879173-62d3-4c3a-8fc3-e35ee4248901/submissions/97de835d-0f4e-474e-a583-987d6f6a4f2c/share/d8870ad0-1b10-454a-8c36-75350ea50cbb/call-atac/wf_atac/c53f4afa-8fd4-4995-93e1-7f4dee359afc/call-align/tagAlign/tagAlign_ENCSR023FME_Fibroblast_fragment_file.tsv.gz \n",
      "remove local full_path_cell_type_fragment_tagAlign_file_name /Users/eilaarich-landkof-stanford/Documents/Code/git_kundaje_genomics/DNA/ATAC/single-cell/fragments-file-manipulation/tagAlign_ENCSR023FME_Fibroblast_fragment_file.tsv.gz\n",
      "remove_file method: /Users/eilaarich-landkof-stanford/Documents/Code/git_kundaje_genomics/DNA/ATAC/single-cell/fragments-file-manipulation/tagAlign_ENCSR023FME_Fibroblast_fragment_file.tsv.gz\n",
      "!!!!!open full_local_fragment_file_name /Users/eilaarich-landkof-stanford/Documents/Code/git_kundaje_genomics/DNA/ATAC/single-cell/fragments-file-manipulation/ENCSR023FME.atac.filter.fragments.hg38.tsv.gz\n"
     ]
    },
    {
     "ename": "FileNotFoundError",
     "evalue": "[Errno 2] No such file or directory: '/Users/eilaarich-landkof-stanford/Documents/Code/git_kundaje_genomics/DNA/ATAC/single-cell/fragments-file-manipulation/ENCSR023FME.atac.filter.fragments.hg38.tsv.gz'",
     "output_type": "error",
     "traceback": [
      "\u001b[0;31m---------------------------------------------------------------------------\u001b[0m",
      "\u001b[0;31mFileNotFoundError\u001b[0m                         Traceback (most recent call last)",
      "Cell \u001b[0;32mIn[33], line 84\u001b[0m\n\u001b[1;32m     81\u001b[0m       remove_file(full_path_cell_type_fragment_tagAlign_file_name)\n\u001b[1;32m     83\u001b[0m       \u001b[38;5;28mprint\u001b[39m(\u001b[38;5;124m\"\u001b[39m\u001b[38;5;124m!!!!!open full_local_fragment_file_name \u001b[39m\u001b[38;5;132;01m{}\u001b[39;00m\u001b[38;5;124m\"\u001b[39m\u001b[38;5;241m.\u001b[39mformat(full_local_fragment_file_name))\n\u001b[0;32m---> 84\u001b[0m       \u001b[38;5;28;01mwith\u001b[39;00m \u001b[43mgzip\u001b[49m\u001b[38;5;241;43m.\u001b[39;49m\u001b[43mopen\u001b[49m\u001b[43m(\u001b[49m\u001b[43mfull_local_fragment_file_name\u001b[49m\u001b[43m,\u001b[49m\u001b[43m \u001b[49m\u001b[38;5;124;43m\"\u001b[39;49m\u001b[38;5;124;43mrt\u001b[39;49m\u001b[38;5;124;43m\"\u001b[39;49m\u001b[43m)\u001b[49m \u001b[38;5;28;01mas\u001b[39;00m i, gzip\u001b[38;5;241m.\u001b[39mopen(full_path_cell_type_fragment_tagAlign_file_name, \u001b[38;5;124m'\u001b[39m\u001b[38;5;124mwt\u001b[39m\u001b[38;5;124m'\u001b[39m) \u001b[38;5;28;01mas\u001b[39;00m o:\n\u001b[1;32m     85\u001b[0m         num_of_lines_written\u001b[38;5;241m=\u001b[39m\u001b[38;5;241m0\u001b[39m\n\u001b[1;32m     86\u001b[0m         \u001b[38;5;28;01mfor\u001b[39;00m line_number, line \u001b[38;5;129;01min\u001b[39;00m \u001b[38;5;28menumerate\u001b[39m(i, start\u001b[38;5;241m=\u001b[39m\u001b[38;5;241m1\u001b[39m):\n\u001b[1;32m     87\u001b[0m \u001b[38;5;66;03m#           print(\"line is {}\".format(line))\u001b[39;00m\n",
      "File \u001b[0;32m~/miniconda3/lib/python3.11/gzip.py:58\u001b[0m, in \u001b[0;36mopen\u001b[0;34m(filename, mode, compresslevel, encoding, errors, newline)\u001b[0m\n\u001b[1;32m     56\u001b[0m gz_mode \u001b[38;5;241m=\u001b[39m mode\u001b[38;5;241m.\u001b[39mreplace(\u001b[38;5;124m\"\u001b[39m\u001b[38;5;124mt\u001b[39m\u001b[38;5;124m\"\u001b[39m, \u001b[38;5;124m\"\u001b[39m\u001b[38;5;124m\"\u001b[39m)\n\u001b[1;32m     57\u001b[0m \u001b[38;5;28;01mif\u001b[39;00m \u001b[38;5;28misinstance\u001b[39m(filename, (\u001b[38;5;28mstr\u001b[39m, \u001b[38;5;28mbytes\u001b[39m, os\u001b[38;5;241m.\u001b[39mPathLike)):\n\u001b[0;32m---> 58\u001b[0m     binary_file \u001b[38;5;241m=\u001b[39m \u001b[43mGzipFile\u001b[49m\u001b[43m(\u001b[49m\u001b[43mfilename\u001b[49m\u001b[43m,\u001b[49m\u001b[43m \u001b[49m\u001b[43mgz_mode\u001b[49m\u001b[43m,\u001b[49m\u001b[43m \u001b[49m\u001b[43mcompresslevel\u001b[49m\u001b[43m)\u001b[49m\n\u001b[1;32m     59\u001b[0m \u001b[38;5;28;01melif\u001b[39;00m \u001b[38;5;28mhasattr\u001b[39m(filename, \u001b[38;5;124m\"\u001b[39m\u001b[38;5;124mread\u001b[39m\u001b[38;5;124m\"\u001b[39m) \u001b[38;5;129;01mor\u001b[39;00m \u001b[38;5;28mhasattr\u001b[39m(filename, \u001b[38;5;124m\"\u001b[39m\u001b[38;5;124mwrite\u001b[39m\u001b[38;5;124m\"\u001b[39m):\n\u001b[1;32m     60\u001b[0m     binary_file \u001b[38;5;241m=\u001b[39m GzipFile(\u001b[38;5;28;01mNone\u001b[39;00m, gz_mode, compresslevel, filename)\n",
      "File \u001b[0;32m~/miniconda3/lib/python3.11/gzip.py:174\u001b[0m, in \u001b[0;36mGzipFile.__init__\u001b[0;34m(self, filename, mode, compresslevel, fileobj, mtime)\u001b[0m\n\u001b[1;32m    172\u001b[0m     mode \u001b[38;5;241m+\u001b[39m\u001b[38;5;241m=\u001b[39m \u001b[38;5;124m'\u001b[39m\u001b[38;5;124mb\u001b[39m\u001b[38;5;124m'\u001b[39m\n\u001b[1;32m    173\u001b[0m \u001b[38;5;28;01mif\u001b[39;00m fileobj \u001b[38;5;129;01mis\u001b[39;00m \u001b[38;5;28;01mNone\u001b[39;00m:\n\u001b[0;32m--> 174\u001b[0m     fileobj \u001b[38;5;241m=\u001b[39m \u001b[38;5;28mself\u001b[39m\u001b[38;5;241m.\u001b[39mmyfileobj \u001b[38;5;241m=\u001b[39m builtins\u001b[38;5;241m.\u001b[39mopen(filename, mode \u001b[38;5;129;01mor\u001b[39;00m \u001b[38;5;124m'\u001b[39m\u001b[38;5;124mrb\u001b[39m\u001b[38;5;124m'\u001b[39m)\n\u001b[1;32m    175\u001b[0m \u001b[38;5;28;01mif\u001b[39;00m filename \u001b[38;5;129;01mis\u001b[39;00m \u001b[38;5;28;01mNone\u001b[39;00m:\n\u001b[1;32m    176\u001b[0m     filename \u001b[38;5;241m=\u001b[39m \u001b[38;5;28mgetattr\u001b[39m(fileobj, \u001b[38;5;124m'\u001b[39m\u001b[38;5;124mname\u001b[39m\u001b[38;5;124m'\u001b[39m, \u001b[38;5;124m'\u001b[39m\u001b[38;5;124m'\u001b[39m)\n",
      "\u001b[0;31mFileNotFoundError\u001b[0m: [Errno 2] No such file or directory: '/Users/eilaarich-landkof-stanford/Documents/Code/git_kundaje_genomics/DNA/ATAC/single-cell/fragments-file-manipulation/ENCSR023FME.atac.filter.fragments.hg38.tsv.gz'"
     ]
    }
   ],
   "source": [
    "# %run tsv_files_utils.ipynb\n",
    "\n",
    "# List of column names\n",
    "pipeline_column_names = ['dataset_id_cell_id', 'cell_type_id', 'gs_path','chromosome']\n",
    "# Initialize dataframe with column names\n",
    "df_pseudobulk_pipeline= pd.DataFrame(columns=pipeline_column_names)\n",
    "\n",
    "\n",
    "# Tanjin, here you decide how many samples to run\n",
    "# where you decide to run on samples [0:1] or more\n",
    "for gs_fragment_file in gs_path_to_fragment[1:2]:\n",
    "    print(\"!!!!!gs_fragment_file is {}\".format(gs_fragment_file))\n",
    "#     if (\"ENCSR023FME\" not in gs_fragment_file):\n",
    "#         continue\n",
    "    cur_atac_dataset = gs_fragment_file.split(\"/\")[-1].split(\".\")[0]\n",
    "    print(\"cur_atac_dataset is {}\".format(cur_atac_dataset))\n",
    "    \n",
    "    # Step 1: input: labels file. output: df of the subset by cell_type_id\n",
    "    # Step 1-1: get the labels file from synpase.\n",
    "    dataset_id = 'syn34271785'\n",
    "    folder_name = df_relevant_rows[df_relevant_rows['atac_dataset']==cur_atac_dataset]['file'].to_list()[0]\n",
    "    print(\"folder_name in synpase is {}\".format(folder_name))\n",
    "    # (starting_folder_id, first_subfolder_name, second_subfolder_name):\n",
    "    file_id_list = get_file_names_in_second_subfolder(dataset_id,folder_name,\"labels\")\n",
    "    file_id = file_id_list[0] # the label's file synID\n",
    "    print('file_id is {}'.format(file_id))\n",
    "    \n",
    "    # Download the synpase label file:\n",
    "    # Obtain a pointer and download the data to full_labels_file_path\n",
    "    labels_file_path = os.path.join(local_folder,\"{}_labels\".format(file_id))\n",
    "    label_file_synHandle = syn.get(entity=file_id,downloadLocation=labels_file_path) \n",
    "    print('label_file_synHandle is {}'.format(label_file_synHandle))\n",
    "    full_labels_file_path = label_file_synHandle.path\n",
    "#     /home/jupyter/eila/syn46645403_labels/cell_types.tsv.gz\n",
    "    print('full_labels_file_path is {}'.format(full_labels_file_path))\n",
    "    \n",
    "#     # Load the labels data to dataframe. has all the barcodes and the cell types relevant for them\n",
    "    df_labels = read_tsv_gz_to_dataframe_skipping_comments_and_empty_lines(full_labels_file_path)\n",
    "    cell_type_id_names = list(set(df_labels['cell_type_id'].to_list()))\n",
    "    print(\"number of cell_type_id_names is {}\".format(len(cell_type_id_names)))\n",
    "\n",
    "    \n",
    "    # Stream file fragment \n",
    "    print(\"!!!gs fragment_file is {}\".format(gs_fragment_file))\n",
    "    local_fragment_file_name = os.path.basename(gs_fragment_file)\n",
    "    full_local_fragment_file_name = os.path.join(local_folder,local_fragment_file_name)\n",
    "    print(\"full_local_fragment_file_name is {}\".format(full_local_fragment_file_name))\n",
    "    \n",
    "    if (os.path.exists(full_local_fragment_file_name) == False):\n",
    "      print(\"!!!!gsutil cp {} to {}\".format(gs_fragment_file,full_local_fragment_file_name))\n",
    "      !gsutil cp $gs_fragment_file $full_local_fragment_file_name\n",
    "      print(\"!!!!finished cp {} to {}\".format(gs_fragment_file,full_local_fragment_file_name))\n",
    "    else:\n",
    "      print(\"full_local_fragment_file_name: {} exists. nothign to copy\".format(full_local_fragment_file_name))\n",
    "    \n",
    "    # logis for tagAlign\n",
    "    for cell_type_id in cell_type_id_names: # all the cell types ids avaiable in synpase file\n",
    "      # the output fragmenf file\n",
    "      tagAlign_file_name = \"tagAlign_{}_{}_fragment_file.tsv.gz\".format(cur_atac_dataset,cell_type_id)\n",
    "      print(\"tagAlign_file_name is {}\".format(tagAlign_file_name))\n",
    "      full_path_cell_type_fragment_tagAlign_file_name = os.path.join(os.path.dirname(full_local_fragment_file_name),tagAlign_file_name)\n",
    "      print(\"full_path_cell_type_fragment_tagAlign_file_name is {}\".format(full_path_cell_type_fragment_tagAlign_file_name))\n",
    "        \n",
    "      # get the cell barcode of the specific cell type: Basal_epithelial_cell\n",
    "      cells_barcodes_for_cell_type = df_labels[df_labels['cell_type_id'] ==cell_type_id]\n",
    "      print(\"cells_barcodes_for_cell_type[0:5] is {}\".format(cells_barcodes_for_cell_type[0:5])) \n",
    "      print(\"len(cells_barcodes_for_cell_type) is {}\".format(len(cells_barcodes_for_cell_type))) \n",
    "     \n",
    "      gs_dest_tagAlign = os.path.join(os.path.dirname(gs_fragment_file),\"tagAlign\",tagAlign_file_name)\n",
    "      print(\"gs_dest_tagAlign is  {} \".format(gs_dest_tagAlign))\n",
    "\n",
    "      tagAlignFile_exists = !gsutil ls $gs_dest_tagAlign\n",
    "      tagAlignFile_exists = tagAlignFile_exists[0]\n",
    "      if (os.path.basename(gs_dest_tagAlign) in tagAlignFile_exists):\n",
    "        print(\"gs_dest_tagAlign exists. {}. Nothing to do\".format(gs_dest_tagAlign))\n",
    "        # I can add here remove the local copy of the file\n",
    "        continue #\n",
    "      \n",
    "      # in any case, remove the local file that was created from previous executions\n",
    "      print(\"remove local full_path_cell_type_fragment_tagAlign_file_name {}\".format(full_path_cell_type_fragment_tagAlign_file_name))\n",
    "      remove_file(full_path_cell_type_fragment_tagAlign_file_name)\n",
    "\n",
    "      print(\"!!!!!open full_local_fragment_file_name {}\".format(full_local_fragment_file_name))\n",
    "      with gzip.open(full_local_fragment_file_name, \"rt\") as i, gzip.open(full_path_cell_type_fragment_tagAlign_file_name, 'wt') as o:\n",
    "        num_of_lines_written=0\n",
    "        for line_number, line in enumerate(i, start=1):\n",
    "#           print(\"line is {}\".format(line))\n",
    "          print(\"line_number is {}\".format(line_number))\n",
    "          out_list = split_fragment_line_string(line)\n",
    "#         out_list is ['chr1', '10043', '10113', 'TCTATTCCTGTCGCGGAAAGTC_ENCSR023FME', 'TCTATTCCTGTCGCGGAAAGTC', 'ENCSR023FME', '1', 'ENCSR023FME_TCTATTCCTGTCGCGGAAAGTC']\n",
    "#           print(\"out_list is {}\".format(out_list))\n",
    "          bc = out_list[-1]\n",
    "          print(\"bc is {}\".format(bc))\n",
    "#           print(\"cell_type_id is {}\".format(cell_type_id))\n",
    "        \n",
    "          \n",
    "          cell_barcodes_for_current_cell_type = cells_barcodes_for_cell_type['cell_id'].to_list()\n",
    "          if bc in cell_barcodes_for_current_cell_type:\n",
    "            print(\"!!!bc is {}. cell_barcodes_for_current_cell_type[0:5] is {}\".format(bc,cell_barcodes_for_current_cell_type[0:5]))\n",
    "#             Austin output: chrom, start, end, bc, rem = line.rstrip('\\n').split('\\t', 5)\n",
    "            out_line_to_print = f\"{out_list[0]}\\t{out_list[1]}\\t{out_list[2]}\\t{bc}\\t{out_list[-2]}\\n\"\n",
    "#             chr1\t10007\t10175\tENCSR023FME#ENCSR023FME_GAAGGTTCAAAGTGTCAGTCAA\t1\n",
    "            print(\"out_line_to_print is {}\".format(out_line_to_print))\n",
    "            num_of_lines_written +=1\n",
    "            returnTagAlign = convert_fragment_line_to_tagAlign(out_line_to_print)\n",
    "            print(\"!!!!out_list \\n {} was converted to \\n {}\".format(out_list,returnTagAlign))\n",
    "            o.write(returnTagAlign)\n",
    "            print(\"returnTagAlign is : {} to file {}\".format(returnTagAlign,full_path_cell_type_fragment_tagAlign_file_name))\n",
    "        \n",
    "            # for debug\n",
    "            # Break the loop after 10 lines\n",
    "#           if line_number == 100:\n",
    "#             break\n",
    "        print(\"finished writing to full_path_cell_type_fragment_tagAlign_file_name {}. num_of_lines_written is {}\".format(full_path_cell_type_fragment_tagAlign_file_name,num_of_lines_written))\n",
    " \n",
    "        print(\"num_of_lines_written is {}\".format(num_of_lines_written))\n",
    "        if (num_of_lines_written ==0):\n",
    "          continue\n",
    "\n",
    "#       !gsutil -m cp $full_path_cell_type_fragment_tagAlign_file_name $gs_dest_tagAlign\n",
    "      print(\"finish copy tagAlign file {} to gcp  {}\".format(full_path_cell_type_fragment_tagAlign_file_name,gs_dest_tagAlign))\n",
    "        \n",
    "#       # chromosome_size_human - taken from the worskapce dashboard\n",
    "      df_pseudobulk_pipeline = pd.concat([df_pseudobulk_pipeline, \\\n",
    "                                          pd.DataFrame({'dataset_id_cell_id': [tagAlign_file_name.strip(\".tsv\")], \\\n",
    "                                                        'cell_type_id': [cell_type_id], \\\n",
    "                                                        'gs_path':[gs_dest_tagAlign], \\\n",
    "                                                        'chromosome': [gs_chrom_size_human]})], \\\n",
    "                                                        ignore_index=True)\n",
    "        \n",
    "      print(\"!!!!df_pseudobulk_pipeline is {} \".format(df_pseudobulk_pipeline))\n",
    "\n",
    "# # save the pipeline input table\n",
    "local_pseudobulk_pipeline_table = os.path.join(local_folder,\"{}_pipeline_table.tsv\".format(cur_atac_dataset))\n",
    "print(\"local_pseudobulk_pipeline_table is {}\".format(local_pseudobulk_pipeline_table))\n",
    "df_pseudobulk_pipeline.to_csv(local_pseudobulk_pipeline_table, sep='\\t', index=False)\n",
    "print(\"finsihed copy {}\".format(local_pseudobulk_pipeline_table))\n",
    "gs_pseudobulk_pipeline_table = os.path.join(\"gs://\",bucket_id,gs_path_for_the_encode_pseudobulk_pipeline_table)\n",
    "print(\"gs_pseudobulk_pipeline_table is  {}\".format(gs_pseudobulk_pipeline_table))\n",
    "!gsutil cp $local_pseudobulk_pipeline_table $gs_pseudobulk_pipeline_table\n",
    "print(\"finished copying to {}\".format(gs_pseudobulk_pipeline_table))\n"
   ]
  },
  {
   "cell_type": "code",
   "execution_count": null,
   "metadata": {},
   "outputs": [],
   "source": []
  }
 ],
 "metadata": {
  "kernelspec": {
   "display_name": "Python 3 (ipykernel)",
   "language": "python",
   "name": "python3"
  },
  "language_info": {
   "codemirror_mode": {
    "name": "ipython",
    "version": 3
   },
   "file_extension": ".py",
   "mimetype": "text/x-python",
   "name": "python",
   "nbconvert_exporter": "python",
   "pygments_lexer": "ipython3",
   "version": "3.11.4"
  },
  "toc": {
   "base_numbering": 1,
   "nav_menu": {},
   "number_sections": true,
   "sideBar": true,
   "skip_h1_title": false,
   "title_cell": "Table of Contents",
   "title_sidebar": "Contents",
   "toc_cell": false,
   "toc_position": {},
   "toc_section_display": true,
   "toc_window_display": false
  }
 },
 "nbformat": 4,
 "nbformat_minor": 4
}
