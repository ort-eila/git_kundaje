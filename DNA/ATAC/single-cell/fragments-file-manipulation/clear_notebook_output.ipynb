{
 "cells": [
  {
   "cell_type": "code",
   "execution_count": 1,
   "id": "e28fecf2-3d2b-4045-80d1-fbfca245abdc",
   "metadata": {},
   "outputs": [
    {
     "name": "stdout",
     "output_type": "stream",
     "text": [
      "Collecting nbstripout\n",
      "  Downloading nbstripout-0.6.1-py2.py3-none-any.whl (15 kB)\n",
      "Requirement already satisfied: nbformat in /users/eila/miniconda3/lib/python3.10/site-packages (from nbstripout) (5.7.0)\n",
      "Requirement already satisfied: jsonschema>=2.6 in /users/eila/miniconda3/lib/python3.10/site-packages (from nbformat->nbstripout) (4.17.3)\n",
      "Requirement already satisfied: traitlets>=5.1 in /users/eila/miniconda3/lib/python3.10/site-packages (from nbformat->nbstripout) (5.7.1)\n",
      "Requirement already satisfied: jupyter-core in /users/eila/miniconda3/lib/python3.10/site-packages (from nbformat->nbstripout) (5.3.0)\n",
      "Requirement already satisfied: fastjsonschema in /users/eila/miniconda3/lib/python3.10/site-packages (from nbformat->nbstripout) (2.16.2)\n",
      "Requirement already satisfied: attrs>=17.4.0 in /users/eila/miniconda3/lib/python3.10/site-packages (from jsonschema>=2.6->nbformat->nbstripout) (22.1.0)\n",
      "Requirement already satisfied: pyrsistent!=0.17.0,!=0.17.1,!=0.17.2,>=0.14.0 in /users/eila/miniconda3/lib/python3.10/site-packages (from jsonschema>=2.6->nbformat->nbstripout) (0.18.0)\n",
      "Requirement already satisfied: platformdirs>=2.5 in /users/eila/miniconda3/lib/python3.10/site-packages (from jupyter-core->nbformat->nbstripout) (2.5.2)\n",
      "Installing collected packages: nbstripout\n",
      "Successfully installed nbstripout-0.6.1\n"
     ]
    }
   ],
   "source": [
    "!pip install nbstripout\n"
   ]
  },
  {
   "cell_type": "code",
   "execution_count": 4,
   "id": "64053d3d-46e0-4ca5-959b-f4b691d76e67",
   "metadata": {},
   "outputs": [],
   "source": [
    "!nbstripout encode_pseudobulk_fragments_big.ipynb"
   ]
  },
  {
   "cell_type": "code",
   "execution_count": 3,
   "id": "9cec8308-9835-441b-84f6-bc1217760ab7",
   "metadata": {},
   "outputs": [
    {
     "name": "stdout",
     "output_type": "stream",
     "text": [
      "total 36032\n",
      "-rw-r--r-- 1 eila kundaje  9437184 Jul 11 16:53  encode_pseudobulk_fragments_big.ipynb\n",
      "-rw-r--r-- 1 eila kundaje      932 Jul 11 16:52  encode_pseudobulk_fragments.ipynb\n",
      "-rw-r--r-- 1 eila kundaje 27430258 Jul 11 16:48 'encode_pseudobulk_fragments (1).ipynb'\n",
      "-rw-r--r-- 1 eila kundaje     2590 Jul 11 16:45  clear_notebook_output.ipynb\n",
      "-rw-r--r-- 1 eila kundaje     6184 Jul 11 16:44  tsv_files_utils.ipynb\n",
      "-rw-r--r-- 1 eila kundaje     8445 Jul 11 16:38  synapse_utils.ipynb\n"
     ]
    }
   ],
   "source": [
    "!ls -lt"
   ]
  },
  {
   "cell_type": "code",
   "execution_count": 5,
   "id": "244bf111-b257-4785-9654-b1a3ef6bfacd",
   "metadata": {},
   "outputs": [
    {
     "name": "stdout",
     "output_type": "stream",
     "text": [
      "total 26832\n",
      "-rw-r--r-- 1 eila kundaje    15624 Jul 11 16:54  encode_pseudobulk_fragments_big.ipynb\n",
      "-rw-r--r-- 1 eila kundaje     3581 Jul 11 16:54  clear_notebook_output.ipynb\n",
      "-rw-r--r-- 1 eila kundaje      932 Jul 11 16:52  encode_pseudobulk_fragments.ipynb\n",
      "-rw-r--r-- 1 eila kundaje 27430258 Jul 11 16:48 'encode_pseudobulk_fragments (1).ipynb'\n",
      "-rw-r--r-- 1 eila kundaje     6184 Jul 11 16:44  tsv_files_utils.ipynb\n",
      "-rw-r--r-- 1 eila kundaje     8445 Jul 11 16:38  synapse_utils.ipynb\n"
     ]
    }
   ],
   "source": [
    "!ls -lt"
   ]
  },
  {
   "cell_type": "code",
   "execution_count": null,
   "id": "36bb22be-a239-4470-b813-fb88ed5ee3e4",
   "metadata": {},
   "outputs": [],
   "source": []
  }
 ],
 "metadata": {
  "kernelspec": {
   "display_name": "Python 3 (ipykernel)",
   "language": "python",
   "name": "python3"
  },
  "language_info": {
   "codemirror_mode": {
    "name": "ipython",
    "version": 3
   },
   "file_extension": ".py",
   "mimetype": "text/x-python",
   "name": "python",
   "nbconvert_exporter": "python",
   "pygments_lexer": "ipython3",
   "version": "3.10.11"
  }
 },
 "nbformat": 4,
 "nbformat_minor": 5
}
