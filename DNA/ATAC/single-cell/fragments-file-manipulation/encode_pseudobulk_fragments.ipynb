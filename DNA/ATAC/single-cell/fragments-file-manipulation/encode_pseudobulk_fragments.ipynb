{
 "cells": [
  {
   "cell_type": "code",
   "execution_count": 1,
   "metadata": {},
   "outputs": [],
   "source": [
    "# if the files are on Anvil / Terra workspace \n",
    "# please run it from the workspace analysis to avoid bucket access permission issues\n",
    "# or use the gcloud login auth interface to authenticate yourself"
   ]
  },
  {
   "cell_type": "code",
   "execution_count": 2,
   "metadata": {},
   "outputs": [
    {
     "name": "stdout",
     "output_type": "stream",
     "text": [
      "Welcome, eila!\n",
      "\n"
     ]
    }
   ],
   "source": [
    "# Import the methods from the notebook\n",
    "%run synapse_utils.ipynb"
   ]
  },
  {
   "cell_type": "code",
   "execution_count": 3,
   "metadata": {},
   "outputs": [],
   "source": [
    "%run tsv_files_utils.ipynb"
   ]
  },
  {
   "cell_type": "code",
   "execution_count": 4,
   "metadata": {},
   "outputs": [],
   "source": [
    "# TODO: check that you have a list of all your execution ids\n",
    "execution_id = \"0e8c4f76-5f9f-4dc8-8ef3-608afb9395ab\""
   ]
  },
  {
   "cell_type": "code",
   "execution_count": 5,
   "metadata": {},
   "outputs": [],
   "source": [
    "# NO NEED TO CHANGE!\n",
    "bucket_id = \"fc-secure-0a879173-62d3-4c3a-8fc3-e35ee4248901\""
   ]
  },
  {
   "cell_type": "code",
   "execution_count": 6,
   "metadata": {},
   "outputs": [
    {
     "name": "stdout",
     "output_type": "stream",
     "text": [
      "file is available, nothing to copy\n"
     ]
    }
   ],
   "source": [
    "# read the proc.tsv object\n",
    "# Create a subset file of each rna_dataset and save it under the rna_dataset and call it {rna_dataset}_metadata.tsv\n",
    "\n",
    "# TODO: copy the metadata file for ENCODE datasets\n",
    "if os.path.exists(\"proc.tsv\") == False:\n",
    "    !gsutil cp 'gs://fc-secure-0a879173-62d3-4c3a-8fc3-e35ee4248901/ENCODE_synpase_annotation_mapping/proc.tsv' .\n",
    "else:\n",
    "    print(\"file is available, nothing to copy\")"
   ]
  },
  {
   "cell_type": "code",
   "execution_count": 7,
   "metadata": {},
   "outputs": [
    {
     "name": "stdout",
     "output_type": "stream",
     "text": [
      "Column names: ['cell_type_name,\"rna_dataset\",\"rna_library\",\"rna_barcode\",\"atac_dataset\",\"atac_library\",\"atac_barcode\",\"file\"']  type is <class 'list'>\n",
      "metadata_col_names after split is ['cell_type_name', '\"rna_dataset\"', '\"rna_library\"', '\"rna_barcode\"', '\"atac_dataset\"', '\"atac_library\"', '\"atac_barcode\"', '\"file\"']\n",
      "metadata_col_names after strip is ['cell_type_name', 'rna_dataset', 'rna_library', 'rna_barcode', 'atac_dataset', 'atac_library', 'atac_barcode', 'file']\n",
      "Column names after processing is: ['cell_type_name', 'rna_dataset', 'rna_library', 'rna_barcode', 'atac_dataset', 'atac_library', 'atac_barcode', 'file']  type is <class 'list'>\n",
      "column_atac_dataset_index is 4\n"
     ]
    }
   ],
   "source": [
    "import csv\n",
    "from itertools import islice\n",
    "import pandas as pd\n",
    "metadata_col_names = None\n",
    "df_relevant_rows = None\n",
    "\n",
    "filename = \"proc.tsv\"  # Replace with the path to your TSV file\n",
    "\n",
    "with open(filename, \"r\", newline=\"\") as tsvfile:\n",
    "    reader = csv.reader(tsvfile, delimiter=\"\\t\")  # Set delimiter as tab\n",
    "\n",
    "# Column names: ['cell_type_name,\"rna_dataset\",\"rna_library\",\"rna_barcode\",\"atac_dataset\",\"atac_library\",\"atac_barcode\",\"file\"']    # Read the header row\n",
    "    metadata_col_names = next(reader)\n",
    "    print(\"Column names:\", metadata_col_names,\" type is {}\".format(type(metadata_col_names)))\n",
    "    metadata_col_names = metadata_col_names[0].split(\",\")\n",
    "    print(\"metadata_col_names after split is {}\".format(metadata_col_names))\n",
    "    metadata_col_names = [x.strip('\"') for x in metadata_col_names]\n",
    "    print(\"metadata_col_names after strip is {}\".format(metadata_col_names))\n",
    "    print(\"Column names after processing is:\", metadata_col_names,\" type is {}\".format(type(metadata_col_names)))\n",
    "    column_atac_dataset_index = metadata_col_names.index(\"atac_dataset\")\n",
    "    print(\"column_atac_dataset_index is {}\".format(column_atac_dataset_index))\n",
    "\n",
    "    rows = []  # To store the extracted rows\n",
    "\n",
    "    # Read only the first 10 lines\n",
    "    # subset_rows = list(islice(reader, 100000)) \n",
    "    # Process the data rows\n",
    "    # for row in subset_rows: # to do: comment\n",
    "    for row in reader: # to do: un-comment\n",
    "        # Process each row\n",
    "        # Get the values of the desired columns for each row\n",
    "        # print(\"row is {}. type is {}. len is {}\".format(row,type(row),len(row)))\n",
    "        row = row[0].split(\",\")\n",
    "        row = [x.strip('\"') for x in row]\n",
    "        # print(\"row after processing is {}. type is {}. len is {}\".format(row,type(row),len(row)))\n",
    "        # print(\"column_rna_dataset_value is {}\".format(column_rna_dataset_value))\n",
    "        column_atac_dataset_value = row[column_atac_dataset_index]\n",
    "        # print(\"column_atac_dataset_value is {}\".format(column_atac_dataset_value))\n",
    "        \n",
    "\n",
    "        if column_atac_dataset_value != 'NA':\n",
    "            rows.append(row)\n",
    "            # print(\"adding row {}\".format(row))\n",
    "        else:\n",
    "            # print(\"Nothing to add: column_atac_dataset_value is {}\".format(column_atac_dataset_value))\n",
    "            continue\n",
    "    # Create a dataframe from the extracted rows\n",
    "    df_encode_rows = pd.DataFrame(rows, columns=metadata_col_names)\n",
    "\n",
    "    # Print the subset dataframe\n",
    "#     print(df_relevant_rows)\n"
   ]
  },
  {
   "cell_type": "code",
   "execution_count": 8,
   "metadata": {},
   "outputs": [
    {
     "data": {
      "text/html": [
       "<div>\n",
       "<style scoped>\n",
       "    .dataframe tbody tr th:only-of-type {\n",
       "        vertical-align: middle;\n",
       "    }\n",
       "\n",
       "    .dataframe tbody tr th {\n",
       "        vertical-align: top;\n",
       "    }\n",
       "\n",
       "    .dataframe thead th {\n",
       "        text-align: right;\n",
       "    }\n",
       "</style>\n",
       "<table border=\"1\" class=\"dataframe\">\n",
       "  <thead>\n",
       "    <tr style=\"text-align: right;\">\n",
       "      <th></th>\n",
       "      <th>cell_type_name</th>\n",
       "      <th>rna_dataset</th>\n",
       "      <th>rna_library</th>\n",
       "      <th>rna_barcode</th>\n",
       "      <th>atac_dataset</th>\n",
       "      <th>atac_library</th>\n",
       "      <th>atac_barcode</th>\n",
       "      <th>file</th>\n",
       "    </tr>\n",
       "  </thead>\n",
       "  <tbody>\n",
       "    <tr>\n",
       "      <th>0</th>\n",
       "      <td>Hepatocytes</td>\n",
       "      <td>NA</td>\n",
       "      <td>NA</td>\n",
       "      <td>NA</td>\n",
       "      <td>ENCSR114OKU</td>\n",
       "      <td>ENCLB431YMH</td>\n",
       "      <td>GGAGGATCAAGCGGTA</td>\n",
       "      <td>EAID_000002</td>\n",
       "    </tr>\n",
       "    <tr>\n",
       "      <th>1</th>\n",
       "      <td>Hepatocytes</td>\n",
       "      <td>NA</td>\n",
       "      <td>NA</td>\n",
       "      <td>NA</td>\n",
       "      <td>ENCSR114OKU</td>\n",
       "      <td>ENCLB431YMH</td>\n",
       "      <td>GTTACGATCGTGGTAT</td>\n",
       "      <td>EAID_000002</td>\n",
       "    </tr>\n",
       "  </tbody>\n",
       "</table>\n",
       "</div>"
      ],
      "text/plain": [
       "  cell_type_name rna_dataset rna_library rna_barcode atac_dataset  \\\n",
       "0    Hepatocytes          NA          NA          NA  ENCSR114OKU   \n",
       "1    Hepatocytes          NA          NA          NA  ENCSR114OKU   \n",
       "\n",
       "  atac_library      atac_barcode         file  \n",
       "0  ENCLB431YMH  GGAGGATCAAGCGGTA  EAID_000002  \n",
       "1  ENCLB431YMH  GTTACGATCGTGGTAT  EAID_000002  "
      ]
     },
     "execution_count": 8,
     "metadata": {},
     "output_type": "execute_result"
    }
   ],
   "source": [
    "df_encode_rows.head(2)\n",
    "# ['zR 2', 'ENCSR362YDM', 'ENCLB943KZN', 'GCTTGTTGTTTAACCC', 'ENCSR420EWQ', 'ENCLB006QEF', 'TCGCTAATGAAGCCAA', 'EAID_000003']"
   ]
  },
  {
   "cell_type": "code",
   "execution_count": 9,
   "metadata": {},
   "outputs": [
    {
     "data": {
      "text/plain": [
       "1236715"
      ]
     },
     "execution_count": 9,
     "metadata": {},
     "output_type": "execute_result"
    }
   ],
   "source": [
    "len(df_encode_rows['atac_dataset'].to_list())"
   ]
  },
  {
   "cell_type": "code",
   "execution_count": 10,
   "metadata": {},
   "outputs": [
    {
     "name": "stdout",
     "output_type": "stream",
     "text": [
      "gsutil_ls_txt.txt\n"
     ]
    }
   ],
   "source": [
    "!ls gsutil_ls_txt*"
   ]
  },
  {
   "cell_type": "code",
   "execution_count": 11,
   "metadata": {},
   "outputs": [
    {
     "name": "stdout",
     "output_type": "stream",
     "text": [
      "['gs://fc-secure-0a879173-62d3-4c3a-8fc3-e35ee4248901/submissions/0e8c4f76-5f9f-4dc8-8ef3-608afb9395ab/share/38144a43-b98a-4c90-93ff-a7fbb88efd2f/call-atac/wf_atac/e7b3e84a-fea9-4fe6-ad7a-40af393fdb36/call-align/ENCSR987PQH.atac.filter.fragments.hg38.tsv.gz', 'gs://fc-secure-0a879173-62d3-4c3a-8fc3-e35ee4248901/submissions/8ef75ac6-1a49-4cbe-b61d-d62af4c904d7/share/24e3d191-38aa-4ed1-9255-dbfb14161097/call-atac/wf_atac/3d2abad2-1ff0-4477-a7a8-35aef31e2a3e/call-align/ENCSR618WVK.atac.filter.fragments.hg38.tsv.gz', 'gs://fc-secure-0a879173-62d3-4c3a-8fc3-e35ee4248901/submissions/97de835d-0f4e-474e-a583-987d6f6a4f2c/share/d8870ad0-1b10-454a-8c36-75350ea50cbb/call-atac/wf_atac/c53f4afa-8fd4-4995-93e1-7f4dee359afc/call-align/ENCSR023FME.atac.filter.fragments.hg38.tsv.gz', 'gs://fc-secure-0a879173-62d3-4c3a-8fc3-e35ee4248901/submissions/c467e890-b9f7-4458-a5b7-5581eb958cba/share/293acd9b-1e89-41d4-af76-247ca41af146/call-atac/wf_atac/2c759a0e-018b-4d6e-bbfc-257cbab95224/call-align/ENCSR868ZEI.atac.filter.fragments.hg38.tsv.gz', 'gs://fc-secure-0a879173-62d3-4c3a-8fc3-e35ee4248901/submissions/d5e8dc2b-9ba1-4bf5-8d2f-d277d4fcb9ea/share/93f6e99f-971e-4d44-bba1-c66858baf7f5/call-atac/wf_atac/e33d17e1-f030-42ab-aabb-1dc8397bd4b1/call-align/ENCSR058GOM.atac.filter.fragments.hg38.tsv.gz']\n"
     ]
    }
   ],
   "source": [
    "# LOAD the ls file from local - does not work on this machine\n",
    "def load_gs_ls_text_file(file_path):\n",
    "    with open(file_path, 'r') as file:\n",
    "        lines = file.readlines()\n",
    "        lines = [line.strip() for line in lines]\n",
    "    return lines\n",
    "\n",
    "# Example usage\n",
    "file_path = 'gsutil_ls_txt.txt'\n",
    "gs_path_to_search_sample_id = load_gs_ls_text_file(file_path)\n",
    "print(gs_path_to_search_sample_id[0:5])\n"
   ]
  },
  {
   "cell_type": "code",
   "execution_count": 16,
   "metadata": {},
   "outputs": [],
   "source": [
    "gs_atac_dataset = [x.split(\"/\")[-1].split(\".\")[0] for x in gs_path_to_search_sample_id]"
   ]
  },
  {
   "cell_type": "code",
   "execution_count": 17,
   "metadata": {},
   "outputs": [
    {
     "data": {
      "text/plain": [
       "['ENCSR114OKU', 'ENCSR114OKU', 'ENCSR114OKU']"
      ]
     },
     "execution_count": 17,
     "metadata": {},
     "output_type": "execute_result"
    }
   ],
   "source": [
    "atac_dataset_list = df_encode_rows[\"atac_dataset\"].tolist()\n",
    "atac_dataset_list[0:3]"
   ]
  },
  {
   "cell_type": "code",
   "execution_count": 18,
   "metadata": {},
   "outputs": [
    {
     "data": {
      "text/plain": [
       "['ENCSR776EOI',\n",
       " 'ENCSR455CVZ',\n",
       " 'ENCSR660NEE',\n",
       " 'ENCSR453TVZ',\n",
       " 'ENCSR302CMX',\n",
       " 'ENCSR411MLR']"
      ]
     },
     "execution_count": 18,
     "metadata": {},
     "output_type": "execute_result"
    }
   ],
   "source": [
    "# atac dataset in both\n",
    "atac_dataset_to_fragment = list(set(gs_atac_dataset) & set(atac_dataset_list))\n",
    "atac_dataset_to_fragment[0:6]"
   ]
  },
  {
   "cell_type": "code",
   "execution_count": 19,
   "metadata": {},
   "outputs": [
    {
     "data": {
      "text/plain": [
       "23"
      ]
     },
     "execution_count": 19,
     "metadata": {},
     "output_type": "execute_result"
    }
   ],
   "source": [
    "len(atac_dataset_to_fragment)"
   ]
  },
  {
   "cell_type": "code",
   "execution_count": 20,
   "metadata": {},
   "outputs": [
    {
     "data": {
      "text/html": [
       "<div>\n",
       "<style scoped>\n",
       "    .dataframe tbody tr th:only-of-type {\n",
       "        vertical-align: middle;\n",
       "    }\n",
       "\n",
       "    .dataframe tbody tr th {\n",
       "        vertical-align: top;\n",
       "    }\n",
       "\n",
       "    .dataframe thead th {\n",
       "        text-align: right;\n",
       "    }\n",
       "</style>\n",
       "<table border=\"1\" class=\"dataframe\">\n",
       "  <thead>\n",
       "    <tr style=\"text-align: right;\">\n",
       "      <th></th>\n",
       "      <th>cell_type_name</th>\n",
       "      <th>rna_dataset</th>\n",
       "      <th>rna_library</th>\n",
       "      <th>rna_barcode</th>\n",
       "      <th>atac_dataset</th>\n",
       "      <th>atac_library</th>\n",
       "      <th>atac_barcode</th>\n",
       "      <th>file</th>\n",
       "    </tr>\n",
       "  </thead>\n",
       "  <tbody>\n",
       "    <tr>\n",
       "      <th>510368</th>\n",
       "      <td>macrophage</td>\n",
       "      <td>ENCSR231FNL</td>\n",
       "      <td>ENCLB398IAZ</td>\n",
       "      <td>AAACCGCGTGACATAT</td>\n",
       "      <td>ENCSR987PQH</td>\n",
       "      <td>ENCLB714RNW</td>\n",
       "      <td>GTCACCATGAGCTATT</td>\n",
       "      <td>EAID_000093</td>\n",
       "    </tr>\n",
       "    <tr>\n",
       "      <th>510369</th>\n",
       "      <td>cardiomyocyte</td>\n",
       "      <td>ENCSR231FNL</td>\n",
       "      <td>ENCLB398IAZ</td>\n",
       "      <td>AAACCGCGTTACATCC</td>\n",
       "      <td>ENCSR987PQH</td>\n",
       "      <td>ENCLB714RNW</td>\n",
       "      <td>ATGTTGTTGAGCTATT</td>\n",
       "      <td>EAID_000093</td>\n",
       "    </tr>\n",
       "    <tr>\n",
       "      <th>510370</th>\n",
       "      <td>pericyte</td>\n",
       "      <td>ENCSR231FNL</td>\n",
       "      <td>ENCLB398IAZ</td>\n",
       "      <td>AAACCGCGTTTATTCG</td>\n",
       "      <td>ENCSR987PQH</td>\n",
       "      <td>ENCLB714RNW</td>\n",
       "      <td>CACCATATGAGCTATT</td>\n",
       "      <td>EAID_000093</td>\n",
       "    </tr>\n",
       "    <tr>\n",
       "      <th>510371</th>\n",
       "      <td>cardiomyocyte</td>\n",
       "      <td>ENCSR231FNL</td>\n",
       "      <td>ENCLB398IAZ</td>\n",
       "      <td>AAACGCGCAGCATGTC</td>\n",
       "      <td>ENCSR987PQH</td>\n",
       "      <td>ENCLB714RNW</td>\n",
       "      <td>CTAAGTAACGGGTTAT</td>\n",
       "      <td>EAID_000093</td>\n",
       "    </tr>\n",
       "    <tr>\n",
       "      <th>510372</th>\n",
       "      <td>pericyte</td>\n",
       "      <td>ENCSR231FNL</td>\n",
       "      <td>ENCLB398IAZ</td>\n",
       "      <td>AAACGGATCCATAAGC</td>\n",
       "      <td>ENCSR987PQH</td>\n",
       "      <td>ENCLB714RNW</td>\n",
       "      <td>CAAGCTCCTAGGCCTC</td>\n",
       "      <td>EAID_000093</td>\n",
       "    </tr>\n",
       "    <tr>\n",
       "      <th>...</th>\n",
       "      <td>...</td>\n",
       "      <td>...</td>\n",
       "      <td>...</td>\n",
       "      <td>...</td>\n",
       "      <td>...</td>\n",
       "      <td>...</td>\n",
       "      <td>...</td>\n",
       "      <td>...</td>\n",
       "    </tr>\n",
       "    <tr>\n",
       "      <th>1225635</th>\n",
       "      <td>Vascular_smooth_muscle_cell</td>\n",
       "      <td>NA</td>\n",
       "      <td>NA</td>\n",
       "      <td>NA</td>\n",
       "      <td>ENCSR455CVZ</td>\n",
       "      <td>ENCLB859JTQ</td>\n",
       "      <td>CATGAACGTGGAAGTCGTAGTA</td>\n",
       "      <td>EAID_000074</td>\n",
       "    </tr>\n",
       "    <tr>\n",
       "      <th>1225636</th>\n",
       "      <td>Vascular_smooth_muscle_cell</td>\n",
       "      <td>NA</td>\n",
       "      <td>NA</td>\n",
       "      <td>NA</td>\n",
       "      <td>ENCSR455CVZ</td>\n",
       "      <td>ENCLB859JTQ</td>\n",
       "      <td>CGCATCTCTGCTGGTAGCGTAT</td>\n",
       "      <td>EAID_000074</td>\n",
       "    </tr>\n",
       "    <tr>\n",
       "      <th>1225637</th>\n",
       "      <td>Vascular_smooth_muscle_cell</td>\n",
       "      <td>NA</td>\n",
       "      <td>NA</td>\n",
       "      <td>NA</td>\n",
       "      <td>ENCSR455CVZ</td>\n",
       "      <td>ENCLB859JTQ</td>\n",
       "      <td>GCTGATCTTCTCGCTTAGCCTT</td>\n",
       "      <td>EAID_000074</td>\n",
       "    </tr>\n",
       "    <tr>\n",
       "      <th>1225638</th>\n",
       "      <td>Vascular_smooth_muscle_cell</td>\n",
       "      <td>NA</td>\n",
       "      <td>NA</td>\n",
       "      <td>NA</td>\n",
       "      <td>ENCSR455CVZ</td>\n",
       "      <td>ENCLB859JTQ</td>\n",
       "      <td>CCTCGATATGCGCGATACAAAT</td>\n",
       "      <td>EAID_000074</td>\n",
       "    </tr>\n",
       "    <tr>\n",
       "      <th>1225639</th>\n",
       "      <td>Vascular_smooth_muscle_cell</td>\n",
       "      <td>NA</td>\n",
       "      <td>NA</td>\n",
       "      <td>NA</td>\n",
       "      <td>ENCSR455CVZ</td>\n",
       "      <td>ENCLB859JTQ</td>\n",
       "      <td>GGCCTATGTTAAAGGGATGCCA</td>\n",
       "      <td>EAID_000074</td>\n",
       "    </tr>\n",
       "  </tbody>\n",
       "</table>\n",
       "<p>128487 rows × 8 columns</p>\n",
       "</div>"
      ],
      "text/plain": [
       "                      cell_type_name  rna_dataset  rna_library  \\\n",
       "510368                    macrophage  ENCSR231FNL  ENCLB398IAZ   \n",
       "510369                 cardiomyocyte  ENCSR231FNL  ENCLB398IAZ   \n",
       "510370                      pericyte  ENCSR231FNL  ENCLB398IAZ   \n",
       "510371                 cardiomyocyte  ENCSR231FNL  ENCLB398IAZ   \n",
       "510372                      pericyte  ENCSR231FNL  ENCLB398IAZ   \n",
       "...                              ...          ...          ...   \n",
       "1225635  Vascular_smooth_muscle_cell           NA           NA   \n",
       "1225636  Vascular_smooth_muscle_cell           NA           NA   \n",
       "1225637  Vascular_smooth_muscle_cell           NA           NA   \n",
       "1225638  Vascular_smooth_muscle_cell           NA           NA   \n",
       "1225639  Vascular_smooth_muscle_cell           NA           NA   \n",
       "\n",
       "              rna_barcode atac_dataset atac_library            atac_barcode  \\\n",
       "510368   AAACCGCGTGACATAT  ENCSR987PQH  ENCLB714RNW        GTCACCATGAGCTATT   \n",
       "510369   AAACCGCGTTACATCC  ENCSR987PQH  ENCLB714RNW        ATGTTGTTGAGCTATT   \n",
       "510370   AAACCGCGTTTATTCG  ENCSR987PQH  ENCLB714RNW        CACCATATGAGCTATT   \n",
       "510371   AAACGCGCAGCATGTC  ENCSR987PQH  ENCLB714RNW        CTAAGTAACGGGTTAT   \n",
       "510372   AAACGGATCCATAAGC  ENCSR987PQH  ENCLB714RNW        CAAGCTCCTAGGCCTC   \n",
       "...                   ...          ...          ...                     ...   \n",
       "1225635                NA  ENCSR455CVZ  ENCLB859JTQ  CATGAACGTGGAAGTCGTAGTA   \n",
       "1225636                NA  ENCSR455CVZ  ENCLB859JTQ  CGCATCTCTGCTGGTAGCGTAT   \n",
       "1225637                NA  ENCSR455CVZ  ENCLB859JTQ  GCTGATCTTCTCGCTTAGCCTT   \n",
       "1225638                NA  ENCSR455CVZ  ENCLB859JTQ  CCTCGATATGCGCGATACAAAT   \n",
       "1225639                NA  ENCSR455CVZ  ENCLB859JTQ  GGCCTATGTTAAAGGGATGCCA   \n",
       "\n",
       "                file  \n",
       "510368   EAID_000093  \n",
       "510369   EAID_000093  \n",
       "510370   EAID_000093  \n",
       "510371   EAID_000093  \n",
       "510372   EAID_000093  \n",
       "...              ...  \n",
       "1225635  EAID_000074  \n",
       "1225636  EAID_000074  \n",
       "1225637  EAID_000074  \n",
       "1225638  EAID_000074  \n",
       "1225639  EAID_000074  \n",
       "\n",
       "[128487 rows x 8 columns]"
      ]
     },
     "execution_count": 20,
     "metadata": {},
     "output_type": "execute_result"
    }
   ],
   "source": [
    "df_relevant_rows = df_encode_rows[df_encode_rows['atac_dataset'].isin(atac_dataset_to_fragment)]\n",
    "df_relevant_rows"
   ]
  },
  {
   "cell_type": "code",
   "execution_count": 21,
   "metadata": {},
   "outputs": [
    {
     "name": "stdout",
     "output_type": "stream",
     "text": [
      "['gs://fc-secure-0a879173-62d3-4c3a-8fc3-e35ee4248901/submissions/0e8c4f76-5f9f-4dc8-8ef3-608afb9395ab/share/38144a43-b98a-4c90-93ff-a7fbb88efd2f/call-atac/wf_atac/e7b3e84a-fea9-4fe6-ad7a-40af393fdb36/call-align/ENCSR987PQH.atac.filter.fragments.hg38.tsv.gz', 'gs://fc-secure-0a879173-62d3-4c3a-8fc3-e35ee4248901/submissions/97de835d-0f4e-474e-a583-987d6f6a4f2c/share/d8870ad0-1b10-454a-8c36-75350ea50cbb/call-atac/wf_atac/c53f4afa-8fd4-4995-93e1-7f4dee359afc/call-align/ENCSR023FME.atac.filter.fragments.hg38.tsv.gz', 'gs://fc-secure-0a879173-62d3-4c3a-8fc3-e35ee4248901/submissions/c467e890-b9f7-4458-a5b7-5581eb958cba/share/293acd9b-1e89-41d4-af76-247ca41af146/call-atac/wf_atac/2c759a0e-018b-4d6e-bbfc-257cbab95224/call-align/ENCSR868ZEI.atac.filter.fragments.hg38.tsv.gz', 'gs://fc-secure-0a879173-62d3-4c3a-8fc3-e35ee4248901/submissions/ff3a5809-0cd2-464c-8a29-9bf6311111ae/share/02c2df11-8d6c-4786-868a-94ecf3858bc5/call-atac/wf_atac/26b48087-2f17-469d-b3ff-b64720f9ddb4/call-align/ENCSR367GKP.atac.filter.fragments.hg38.tsv.gz']\n"
     ]
    }
   ],
   "source": [
    "# strings = gs_path_to_search_sample_id\n",
    "# substrings = atac_dataset_to_fragment\n",
    "\n",
    "gs_path_to_fragment = list(filter(lambda x: any(substring in x for substring in atac_dataset_to_fragment), gs_path_to_search_sample_id))\n",
    "\n",
    "print(gs_path_to_fragment[0:4])\n"
   ]
  },
  {
   "cell_type": "code",
   "execution_count": 22,
   "metadata": {},
   "outputs": [
    {
     "data": {
      "text/plain": [
       "23"
      ]
     },
     "execution_count": 22,
     "metadata": {},
     "output_type": "execute_result"
    }
   ],
   "source": [
    "len(gs_path_to_fragment)"
   ]
  },
  {
   "cell_type": "code",
   "execution_count": 23,
   "metadata": {},
   "outputs": [
    {
     "data": {
      "text/plain": [
       "'gs://fc-secure-0a879173-62d3-4c3a-8fc3-e35ee4248901/submissions/0e8c4f76-5f9f-4dc8-8ef3-608afb9395ab/share/38144a43-b98a-4c90-93ff-a7fbb88efd2f/call-atac/wf_atac/e7b3e84a-fea9-4fe6-ad7a-40af393fdb36/call-align/ENCSR987PQH.atac.filter.fragments.hg38.tsv.gz'"
      ]
     },
     "execution_count": 23,
     "metadata": {},
     "output_type": "execute_result"
    }
   ],
   "source": [
    "gs_path_to_fragment[0]"
   ]
  },
  {
   "cell_type": "code",
   "execution_count": 24,
   "metadata": {},
   "outputs": [
    {
     "data": {
      "text/plain": [
       "'EAID_000093'"
      ]
     },
     "execution_count": 24,
     "metadata": {},
     "output_type": "execute_result"
    }
   ],
   "source": [
    "# os.path.basename(\"gs://fc-secure-0a879173-62d3-4c3a-8fc3-e35ee4248901/submissions/0e8c4f76-5f9f-4dc8-8ef3-608afb9395ab/share/38144a43-b98a-4c90-93ff-a7fbb88efd2f/call-atac/wf_atac/e7b3e84a-fea9-4fe6-ad7a-40af393fdb36/call-align/ENCSR987PQH.atac.filter.fragments.hg38.tsv.gz\")\n",
    "\n",
    "df_relevant_rows[df_relevant_rows['atac_dataset']=='ENCSR987PQH']['file'].to_list()[0]\n",
    "                 "
   ]
  },
  {
   "cell_type": "code",
   "execution_count": null,
   "metadata": {},
   "outputs": [
    {
     "name": "stdout",
     "output_type": "stream",
     "text": [
      "fragment_file is gs://fc-secure-0a879173-62d3-4c3a-8fc3-e35ee4248901/submissions/0e8c4f76-5f9f-4dc8-8ef3-608afb9395ab/share/38144a43-b98a-4c90-93ff-a7fbb88efd2f/call-atac/wf_atac/e7b3e84a-fea9-4fe6-ad7a-40af393fdb36/call-align/ENCSR987PQH.atac.filter.fragments.hg38.tsv.gz\n",
      "local_file_name is ENCSR987PQH.atac.filter.fragments.hg38.tsv.gz\n",
      "True\n",
      "Nothing to copy. all files available\n",
      "full_local_file_name is /users/eila/git_kundaje/DNA/ATAC/single-cell/fragments-file-manipulation/ENCSR987PQH.atac.filter.fragments.hg38.tsv.gz\n",
      "read_tsv_gz_to_dataframe_skipping_comments_and_empty_lines_with_col_names for file is /users/eila/git_kundaje/DNA/ATAC/single-cell/fragments-file-manipulation/ENCSR987PQH.atac.filter.fragments.hg38.tsv.gz and column_names ['chr', 'start_pos', 'end_pos', 'cell_id_atac_dataset', 'read_count']\n"
     ]
    }
   ],
   "source": [
    "%run tsv_files_utils.ipynb\n",
    "for fragment_file in gs_path_to_fragment[0:1]:\n",
    "    print(\"fragment_file is {}\".format(fragment_file))\n",
    "\n",
    "    # TODO: uncomment on the cloud\n",
    "    # !gsutil cp $fragment_file - | gzip -dc | head -5\n",
    "    # rename the file to: ENCSR987PQH.atac.filter.fragments.hg38.tsv.gz\n",
    "    local_file_name = os.path.basename(fragment_file)\n",
    "    print(\"local_file_name is {}\".format(local_file_name))\n",
    "    print(os.path.exists(local_file_name))\n",
    "    # copy the file locally. if not already exists\n",
    "    if (os.path.exists(local_file_name) == False):  \n",
    "      !gsutil cp $fragment_file .\n",
    "    else:\n",
    "      print(\"Nothing to copy. all files available\")\n",
    "    # Define column names\n",
    "    column_names = ['chr', 'start_pos', 'end_pos', 'cell_id_atac_dataset' ,'read_count']\n",
    "    # file_path,column_names\n",
    "    full_local_file_name = os.path.join(os.getcwd(),local_file_name)\n",
    "    print(\"full_local_file_name is {}\".format(full_local_file_name))\n",
    "    print(\"read_tsv_gz_to_dataframe_skipping_comments_and_empty_lines_with_col_names for file is {} and column_names {}\".format(full_local_file_name,column_names))\n",
    "    df = read_tsv_gz_to_dataframe_skipping_comments_and_empty_lines_with_col_names(full_local_file_name,column_names)\n",
    "    \n",
    "    # print(\"calling split_column_to_cell_id_and_atac_dataset for file {}. df is {}\".format(full_local_file_name,df))\n",
    "    df_split = split_column_to_cell_id_and_atac_dataset(df)\n",
    "    # Create an instance of ColumnSplitter\n",
    "    # splitter = ColumnSplitter(column_name='cell_id_atac_dataset')\n",
    "\n",
    "    # Split the column and create new columns\n",
    "    # df_splitter = splitter.split_column(df)\n",
    "    \n",
    "    # Identify the unique values in the specific column\n",
    "    unique_barcode_values_on_fragments = df['atac_dataset'].unique()\n",
    "    print(\"number of files to create is {}\".format(unique_barcode_values_on_fragments))\n",
    "\n",
    "    cur_atac_dataset = fragment_file.split(\"/\")[-1].split(\".\")[0]\n",
    "    print(\"cur_atac_dataset is {}\".format(cur_atac_dataset))\n",
    "    # get the folder name in Synpase\n",
    "    folder_name = df_relevant_rows[df_relevant_rows['atac_dataset']==cur_atac_dataset]['file'].to_list()[0]\n",
    "    print(\"folder_name in synpase is {}\".format(folder_name))\n",
    "    dataset_id = 'syn34271785'\n",
    "    # (starting_folder_id, first_subfolder_name, second_subfolder_name):\n",
    "    file_id_list = get_file_names_in_second_subfolder(dataset_id,folder_name,\"labels\")\n",
    "    # get_label_file_by_folder_name(dataset_ids,folder_name)\n",
    "    print(\"file_id_list is {}\".format(file_id_list))\n",
    "\n",
    "    #file_handle_id, destination_path\n",
    "    file_id = file_id_list[0] # the label file synID\n",
    "    print('file_id is {}'.format(file_id))\n",
    "    \n",
    "    # Obtain a pointer and download the data \n",
    "    label_file_synHandle = syn.get(entity=file_id) \n",
    "    print('label_file_synHandle is {}'.format(label_file_synHandle))\n",
    "     # Get the path to the local copy of the data file \n",
    "    full_labels_file_path = label_file_synHandle.path\n",
    "    print('full_labels_file_path is {}'.format(full_labels_file_path))\n",
    "\n",
    "    df_labels = read_tsv_gz_to_dataframe_skipping_comments_and_empty_lines(full_labels_file_path)\n",
    "    print(\"df_labels is {}\".format(df_labels))\n",
    "    # df,fld_name,col_name,prefix_file_name)\n",
    "    split_files_dir = os.path.join(os.getcwd(),cur_atac_dataset)\n",
    "    label_file_to_cp = split_df_based_on_col_name(df_labels,split_files_dir,\"cell_type_id\",cur_atac_dataset)\n",
    "    print(\"finished split_df_based_on_col_name. label_file_to_cp are {}\".format(label_file_to_cp))\n",
    "    \n",
    "    # TODO: check & copy the local folder to the bucket\n",
    "    gs_dest = os.path.dirname(fragment_file)\n",
    "    print(\"copy the local folder {} to gcp  {}\".format(split_files_dir,gs_dest))\n",
    "    # !gsutil -m cp split_files_dir $gs_dest"
   ]
  },
  {
   "cell_type": "code",
   "execution_count": null,
   "metadata": {},
   "outputs": [],
   "source": [
    "# !rm -r ENCSR987PQH"
   ]
  },
  {
   "cell_type": "code",
   "execution_count": null,
   "metadata": {},
   "outputs": [],
   "source": [
    "# !ls ENCSR987PQH/cardiomyocyte"
   ]
  },
  {
   "cell_type": "code",
   "execution_count": null,
   "metadata": {},
   "outputs": [],
   "source": [
    "# !cat ENCSR987PQH/cardiomyocyte/split_fragment_file_cardiomyocyte.tsv | more"
   ]
  },
  {
   "cell_type": "code",
   "execution_count": null,
   "metadata": {},
   "outputs": [],
   "source": [
    "# df = read_tsv_gz_to_dataframe_skipping_comments_and_empty_lines(full_local_file_name)"
   ]
  },
  {
   "cell_type": "code",
   "execution_count": null,
   "metadata": {},
   "outputs": [],
   "source": []
  }
 ],
 "metadata": {
  "kernelspec": {
   "display_name": "Python 3 (ipykernel)",
   "language": "python",
   "name": "python3"
  },
  "language_info": {
   "codemirror_mode": {
    "name": "ipython",
    "version": 3
   },
   "file_extension": ".py",
   "mimetype": "text/x-python",
   "name": "python",
   "nbconvert_exporter": "python",
   "pygments_lexer": "ipython3",
   "version": "3.10.11"
  },
  "toc": {
   "base_numbering": 1,
   "nav_menu": {},
   "number_sections": true,
   "sideBar": true,
   "skip_h1_title": false,
   "title_cell": "Table of Contents",
   "title_sidebar": "Contents",
   "toc_cell": false,
   "toc_position": {},
   "toc_section_display": true,
   "toc_window_display": false
  }
 },
 "nbformat": 4,
 "nbformat_minor": 4
}
