{
 "cells": [
  {
   "cell_type": "markdown",
   "id": "4dec494b-1e98-4825-948b-f234cb990682",
   "metadata": {},
   "source": [
    "# Usiung seqspec and kb count for RNA-seq\n",
    "- some code is commented because it needs to be executed once.\n",
    "- you can execute is for your purpose\n",
    "- I have added slides, documenting some issue that I encountered."
   ]
  },
  {
   "cell_type": "code",
   "execution_count": 36,
   "id": "16600f27-ed11-49f1-b76d-eec47a4a73b5",
   "metadata": {},
   "outputs": [
    {
     "name": "stdout",
     "output_type": "stream",
     "text": [
      "kb_python 0.27.3\n",
      "kallisto: 0.48.0 (/users/eila/miniconda3/lib/python3.10/site-packages/kb_python/bins/linux/kallisto/kallisto)\n",
      "bustools: 0.41.0 (/users/eila/miniconda3/lib/python3.10/site-packages/kb_python/bins/linux/bustools/bustools)\n",
      "kb is a python package for rapidly pre-processing single-cell RNA-seq data. It\n",
      "is a wrapper for the methods described in [2].\n",
      "\n",
      "The goal of the wrapper is to simplify downloading and running of the kallisto\n",
      "[1] and bustools [2] programs. It was inspired by Sten Linnarsson’s loompy\n",
      "fromfq command (http://linnarssonlab.org/loompy/kallisto/index.html)\n",
      "\n",
      "The kb program consists of two parts:\n",
      "\n",
      "The `kb ref` command builds or downloads a species-specific index for\n",
      "pseudoalignment of reads. This command must be run prior to `kb count`, and it\n",
      "runs the `kallisto index` [1].\n",
      "\n",
      "The `kb count` command runs the kallisto [1] and bustools [2] programs. It can\n",
      "be used for pre-processing of data from a variety of single-cell RNA-seq\n",
      "technologies, and for a number of different workflows (e.g. production of gene\n",
      "count matrices, RNA velocity analyses, etc.). The output can be saved in a\n",
      "variety of formats including mix and loom. Examples are provided below.\n",
      "\n",
      "Examples are available at: https://www.kallistobus.tools/tutorials\n",
      "\n",
      "References\n",
      "==========\n",
      "[1] Bray, N. L., Pimentel, H., Melsted, P., & Pachter, L. (2016). Near-optimal\n",
      "probabilistic RNA-seq quantification. Nature biotechnology, 34(5), 525.\n",
      "[2] Melsted, P., Booeshaghi, A. S., Liu, L., Gao, F., Lu, L., Min, K. H., da\n",
      "Veiga Beltrame, E., Hjorleifsson, K. E., Gehring, J., & Pachter, L. (2021).\n",
      "Modular and efficient pre-processing of single-cell RNA-seq. Nature\n",
      "Biotechnology.\n"
     ]
    }
   ],
   "source": [
    "!kb info\n",
    "# in my execution:\n",
    "# kb_python 0.27.3\n",
    "# kallisto: 0.48.0 (/users/eila/miniconda3/lib/python3.10/site-packages/kb_python/bins/linux/kallisto/kallisto)\n",
    "# bustools: 0.41.0 (/users/eila/miniconda3/lib/python3.10/site-packages/kb_python/bins/linux/bustools/bustools)\n",
    "# kb is a python package for rapidly pre-processing single-cell RNA-seq data. It\n",
    "# is a wrapper for the methods described in [2]."
   ]
  },
  {
   "cell_type": "markdown",
   "id": "b542ec17-cdcc-460e-bd60-33c88d59fb90",
   "metadata": {},
   "source": [
    "Install YAML to validate the seqSpec YAML file before processing it"
   ]
  },
  {
   "cell_type": "code",
   "execution_count": 2,
   "id": "20312830-a215-4d07-bea6-511fc63aaaec",
   "metadata": {
    "editable": true,
    "slideshow": {
     "slide_type": ""
    },
    "tags": []
   },
   "outputs": [],
   "source": [
    "# !pip install pyyaml\n",
    "# this tool is helpful to check the YAML for accuracy (without the addition of the seqspec functionality)"
   ]
  },
  {
   "cell_type": "markdown",
   "id": "438da51d-e132-45da-8bb4-2fb77ca400b0",
   "metadata": {},
   "source": [
    "Download files from the ENSEMBL: DNA and GTF. the file: Homo_sapiens.GRCh38.cdna.all.fa.gz was generated when the command !Kb ref was executed"
   ]
  },
  {
   "cell_type": "code",
   "execution_count": 14,
   "id": "3873cef5-1175-43bd-a068-896e46f3c9ce",
   "metadata": {},
   "outputs": [],
   "source": [
    "# !wget https://ftp.ensembl.org/pub/release-109/gtf/homo_sapiens/Homo_sapiens.GRCh38.109.gtf.gz​\n",
    "# !wget http://ftp.ensembl.org/pub/release-109/fasta/homo_sapiens/dna/Homo_sapiens.GRCh38.dna.primary_assembly.fa.gz ​"
   ]
  },
  {
   "cell_type": "code",
   "execution_count": 15,
   "id": "6f8095a5-5d67-473c-9838-96f2670b7b8d",
   "metadata": {
    "editable": true,
    "slideshow": {
     "slide_type": ""
    },
    "tags": []
   },
   "outputs": [
    {
     "name": "stdout",
     "output_type": "stream",
     "text": [
      "total 1373524\n",
      "-rw-r--r-- 1 eila kundaje 471002262 Jun  8 14:46 Homo_sapiens.GRCh38.cdna.all.fa.gz\n",
      "-rw-r--r-- 1 eila kundaje  54258835 Dec 15  2022 Homo_sapiens.GRCh38.109.gtf.gz\n",
      "-rw-r--r-- 1 eila kundaje 881211416 Dec 12  2022 Homo_sapiens.GRCh38.dna.primary_assembly.fa.gz\n"
     ]
    }
   ],
   "source": [
    "# Reference are the files that we download the ENSEMBLE (reference genome files).\n",
    "# cDNA will be generate from the DNA and the GTF files.\n",
    "!ls -lt reference/"
   ]
  },
  {
   "cell_type": "markdown",
   "id": "95b8132f-ff3e-4272-98e4-67b8b5042164",
   "metadata": {},
   "source": [
    "Generate a referene genome. Run once! "
   ]
  },
  {
   "cell_type": "code",
   "execution_count": 16,
   "id": "6f3c8664-2983-4641-a2cd-8228d6a387cf",
   "metadata": {
    "editable": true,
    "slideshow": {
     "slide_type": ""
    },
    "tags": []
   },
   "outputs": [],
   "source": [
    "# # https://www.kallistobus.tools/kb_usage/kb_usage/\n",
    "# # The command to run with all the FASTA and GTF files\n",
    "# !kb ref -i ref_cDNA/transcriptome.idx -g ref_cDNA/transcripts_to_genes.txt \\\n",
    "# -f1 reference/Homo_sapiens.GRCh38.cdna.all.fa.gz \\\n",
    "# reference/Homo_sapiens.GRCh38.dna.primary_assembly.fa.gz \\\n",
    "# reference/Homo_sapiens.GRCh38.109.gtf.gz\n",
    "# # Check that the files are not empty"
   ]
  },
  {
   "cell_type": "code",
   "execution_count": 17,
   "id": "bea5d7e3-1612-4241-9858-bc3dfdd66640",
   "metadata": {},
   "outputs": [
    {
     "name": "stdout",
     "output_type": "stream",
     "text": [
      "-rw-rw---- 1 marinovg oak_akundaje          11 Jun  3 18:49 /oak/stanford/groups/akundaje/marinovg/ENCODE4/single-cell/2023-06-02-scJamboree/BMMC_single_donor_RNA.barcodes_annotated.UMI.fastq.lines\n",
      "-rw-rw---- 1 marinovg oak_akundaje 38008452109 Jun  3 18:26 /oak/stanford/groups/akundaje/marinovg/ENCODE4/single-cell/2023-06-02-scJamboree/BMMC_single_donor_RNA.barcodes_annotated.UMI.end1.fastq.gz\n",
      "-rw-rw---- 1 marinovg oak_akundaje 31859157899 Jun  3 18:25 /oak/stanford/groups/akundaje/marinovg/ENCODE4/single-cell/2023-06-02-scJamboree/BMMC_single_donor_RNA.barcodes_annotated.UMI.end2.fastq.gz\n",
      "-rw-rw---- 1 marinovg oak_akundaje 25372758352 Jun  2 15:16 /oak/stanford/groups/akundaje/marinovg/ENCODE4/single-cell/2023-06-02-scJamboree/BMMC_single_donor_RNA_L002_R2.fastq.gz\n",
      "-rw-rw---- 1 marinovg oak_akundaje 18305041504 Jun  2 15:13 /oak/stanford/groups/akundaje/marinovg/ENCODE4/single-cell/2023-06-02-scJamboree/BMMC_single_donor_RNA_L001_R2.fastq.gz\n",
      "-rw-rw---- 1 marinovg oak_akundaje 14724538191 Jun  2 15:11 /oak/stanford/groups/akundaje/marinovg/ENCODE4/single-cell/2023-06-02-scJamboree/BMMC_single_donor_RNA_L002_R1.fastq.gz\n",
      "-rw-rw---- 1 marinovg oak_akundaje 10451767198 Jun  2 15:08 /oak/stanford/groups/akundaje/marinovg/ENCODE4/single-cell/2023-06-02-scJamboree/BMMC_single_donor_RNA_L001_R1.fastq.gz\n"
     ]
    }
   ],
   "source": [
    "# RNA\n",
    "!ls -lt /oak/stanford/groups/akundaje/marinovg/ENCODE4/single-cell/2023-06-02-scJamboree/*RNA*.fastq*"
   ]
  },
  {
   "cell_type": "markdown",
   "id": "2f94249e-99ca-4606-96c6-7c8d713f9fc3",
   "metadata": {},
   "source": [
    "Copy the RNA data locally to a new folder rna/"
   ]
  },
  {
   "cell_type": "code",
   "execution_count": 18,
   "id": "4725dc5c-151e-4cb1-9d87-fe25fce912db",
   "metadata": {},
   "outputs": [],
   "source": [
    "# !mkdir rna"
   ]
  },
  {
   "cell_type": "code",
   "execution_count": 19,
   "id": "d2643cac-2e60-4981-a9c4-89fb59983208",
   "metadata": {},
   "outputs": [],
   "source": [
    "# RNA\n",
    "# !ls -lt /oak/stanford/groups/akundaje/marinovg/ENCODE4/single-cell/2023-06-02-scJamboree/*_RNA_*R1*.fastq.gz"
   ]
  },
  {
   "cell_type": "code",
   "execution_count": 20,
   "id": "ac56f868-583b-473e-97a7-3689c8a6da54",
   "metadata": {},
   "outputs": [],
   "source": [
    "# RNA\n",
    "# !ls -lt /oak/stanford/groups/akundaje/marinovg/ENCODE4/single-cell/2023-06-02-scJamboree/*_RNA_*R2*.fastq.gz"
   ]
  },
  {
   "cell_type": "code",
   "execution_count": 21,
   "id": "0129521b-ab71-40fe-bb97-51e76f3c6a70",
   "metadata": {},
   "outputs": [],
   "source": [
    "# !cp /oak/stanford/groups/akundaje/marinovg/ENCODE4/single-cell/2023-06-02-scJamboree/*_RNA_*R2*.fastq.gz rna/"
   ]
  },
  {
   "cell_type": "markdown",
   "id": "b335293a-c40e-481a-8f5c-22501a046b82",
   "metadata": {},
   "source": [
    "Check the YAML file before using it.\n",
    "Copy it from the remote server"
   ]
  },
  {
   "cell_type": "code",
   "execution_count": 22,
   "id": "10d7cd66-76c9-4f42-83d8-1cf63c09ac00",
   "metadata": {},
   "outputs": [],
   "source": [
    "# #Ymal\n",
    "# yaml_file = !ls /oak/stanford/groups/akundaje/marinovg/ENCODE4/single-cell/2023-06-02-scJamboree/*yaml*\n",
    "# yaml_file = yaml_file[0]\n",
    "# yaml_file\n",
    "# !cp $yaml_file yaml_download.yaml"
   ]
  },
  {
   "cell_type": "code",
   "execution_count": 23,
   "id": "186d3796-8891-445e-b7a2-a019a56f1963",
   "metadata": {},
   "outputs": [],
   "source": [
    "# local_yaml_file = !ls *yaml*\n",
    "# local_yaml_file = local_yaml_file[0]\n",
    "# local_yaml_file"
   ]
  },
  {
   "cell_type": "code",
   "execution_count": 23,
   "id": "b58ad75a-244d-4f32-9f8e-98294fd1909f",
   "metadata": {},
   "outputs": [],
   "source": [
    "# # risk for our work: YAML are not loaded smoothly\n",
    "# # use https://www.yamllint.com/ to fix that. it is replacing tabs with spaces and other issues like that\n",
    "# import yaml\n",
    "# yaml_data = None\n",
    "# with open(local_yaml_file, 'r') as file:\n",
    "#   # Read the YAML data\n",
    "#   yaml_data = yaml.load(file,Loader=yaml.BaseLoader)\n",
    "# yaml_data"
   ]
  },
  {
   "cell_type": "code",
   "execution_count": 25,
   "id": "a30af8ad-ef66-49f2-a256-cae0d618c07c",
   "metadata": {},
   "outputs": [],
   "source": [
    "# yaml_data['assay_spec'][0]"
   ]
  },
  {
   "cell_type": "markdown",
   "id": "b6f39578-6893-4738-8a56-675ccfe1d0bc",
   "metadata": {},
   "source": [
    "Create an update files for one lane and two lanes"
   ]
  },
  {
   "cell_type": "code",
   "execution_count": 26,
   "id": "d98cbbfc-a0b3-456b-9eec-6449af247b8f",
   "metadata": {},
   "outputs": [],
   "source": [
    "# !mkdir out\n",
    "# !mkdir out-two-lanes"
   ]
  },
  {
   "cell_type": "markdown",
   "id": "feb9bdbc-53d4-4d15-824a-0b82c69734f3",
   "metadata": {},
   "source": [
    "Install seqspec"
   ]
  },
  {
   "cell_type": "code",
   "execution_count": 27,
   "id": "911a7ce9-2a45-44f6-82d6-56276237f0d8",
   "metadata": {
    "scrolled": true
   },
   "outputs": [],
   "source": [
    "# !pip install git+https://github.com/IGVF/seqspec.git\n",
    "# !head $local_yaml_file\n"
   ]
  },
  {
   "cell_type": "code",
   "execution_count": 27,
   "id": "4e2d2c83-8180-4834-a9d3-7f9897d2b519",
   "metadata": {},
   "outputs": [],
   "source": [
    "# reference from share-seq seqspec: https://github.com/IGVF/seqspec/blob/main/specs/SHARE-seq/spec.yaml"
   ]
  },
  {
   "cell_type": "code",
   "execution_count": 28,
   "id": "ee41ec17-f31e-4eff-844c-81074102bc22",
   "metadata": {},
   "outputs": [
    {
     "name": "stdout",
     "output_type": "stream",
     "text": [
      "usage: seqspec [-h] <CMD> ...\n",
      "\n",
      "seqspec 0.0.0: Format sequence specification files\n",
      "\n",
      "positional arguments:\n",
      "  <CMD>\n",
      "    check     validate seqspec file\n",
      "    find      find regions in a seqspec file\n",
      "    format    format seqspec file\n",
      "    index     index regions in a seqspec file\n",
      "    init      init a seqspec file\n",
      "    onlist    get onlist file for specific regions\n",
      "    print     print seqspec file\n",
      "    split     split regions in a seqspec file\n",
      "\n",
      "options:\n",
      "  -h, --help  show this help message and exit\n"
     ]
    }
   ],
   "source": [
    "!seqspec"
   ]
  },
  {
   "cell_type": "markdown",
   "id": "48f82f35-c555-45cf-8c20-52d392587f4c",
   "metadata": {},
   "source": [
    "2 YAMLs were used. One of the the tested RNA SHARE-Seq data and one from the Pachter lab to check for possible issues"
   ]
  },
  {
   "cell_type": "code",
   "execution_count": 28,
   "id": "b41b4929-5740-47c3-8074-dbfb26ee433d",
   "metadata": {
    "editable": true,
    "slideshow": {
     "slide_type": ""
    },
    "tags": []
   },
   "outputs": [
    {
     "name": "stdout",
     "output_type": "stream",
     "text": [
      "                                                  ┌─'ATAC-R1.fastq.gz:50'\n",
      "                         ┌─ATAC───────────────────┤                        ┌─'ATAC-read2:50'\n",
      "                         │                        │                        │                        ┌─'linker1:15'\n",
      "                         │                        └─ATAC-R2.fastq.gz───────┤                        │\n",
      "                         │                                                 │                        ├─'atac-cell-barcode1:8'\n",
      "                         │                                                 │                        ├─'linker2:30'\n",
      "                         │                                                 └─ATAC-raw-cell-barcode──┤\n",
      "─────────────────────────┤                                                                          ├─'atac-cell-barcode2:8'\n",
      "                         │                                                                          ├─'linker3:30'\n",
      "                         │                                                                          └─'atac-cell-barcode3:8'\n",
      "                         │                        ┌─'RNA-R1.fastq.gz:50'\n",
      "                         │                        │                        ┌─'UMI:10'\n",
      "                         └─RNA────────────────────┤                        │\n",
      "                                                  │                        ├─'poly_A:40'\n",
      "                                                  └─RNA-R2.fastq.gz────────┤                        ┌─'linker1:15'\n",
      "                                                                           │                        ├─'rna-cell-barcode1:8'\n",
      "                                                                           │                        ├─'linker2:30'\n",
      "                                                                           └─RNA-raw-cell-barcode───┤\n",
      "                                                                                                    ├─'rna-cell-barcode2:8'\n",
      "                                                                                                    ├─'linker3:30'\n",
      "                                                                                                    └─'rna-cell-barcode3:8'\n"
     ]
    }
   ],
   "source": [
    "!seqspec print broad_human_jamboree_test_spec-eugenio-fix.yaml\n",
    " # pachter_share_seq.yaml\n",
    "#broad_human_jamboree_test_spec-eugenia-fix.yaml"
   ]
  },
  {
   "cell_type": "code",
   "execution_count": 29,
   "id": "3da3a985-4f04-4b01-9415-85bb913080a3",
   "metadata": {
    "editable": true,
    "slideshow": {
     "slide_type": ""
    },
    "tags": []
   },
   "outputs": [],
   "source": [
    "# !seqspec check pachter_share_seq.yaml"
   ]
  },
  {
   "cell_type": "markdown",
   "id": "9ba35715-ab81-4d6d-b694-dae4afd7a56e",
   "metadata": {},
   "source": [
    "Check what Kb list supports. SHARE-seq is not there. but see below it is supported (you will get the string for the Kb count command input. It is just not mapped to the name column"
   ]
  },
  {
   "cell_type": "code",
   "execution_count": 30,
   "id": "c158a10f-ccdb-44db-a02b-76806e6f07f7",
   "metadata": {},
   "outputs": [
    {
     "name": "stdout",
     "output_type": "stream",
     "text": [
      "List of supported single-cell technologies\n",
      "\n",
      "Positions syntax: `input file index, start position, end position`\n",
      "When start & end positions are None, refers to the entire file\n",
      "Custom technologies may be defined by providing a kallisto-supported technology string\n",
      "(see https://pachterlab.github.io/kallisto/manual)\n",
      "\n",
      "name            description                            whitelist    barcode                    umi        cDNA                       \n",
      "------------    -----------------------------------    ---------    -----------------------    -------    -----------------------    \n",
      "10XV1           10x version 1                          yes          0,0,14                     1,0,10     2,None,None                \n",
      "10XV2           10x version 2                          yes          0,0,16                     0,16,26    1,None,None                \n",
      "10XV3           10x version 3                          yes          0,0,16                     0,16,28    1,None,None                \n",
      "10XV3_ULTIMA    10x version 3 sequenced with Ultima    yes          0,22,38                    0,38,50    0,62,None                  \n",
      "BDWTA           BD Rhapsody                            yes          0,0,9 0,21,30 0,43,52      0,52,60    1,None,None                \n",
      "BULK            Bulk (single or paired)                                                                   0,None,None 1,None,None    \n",
      "CELSEQ          CEL-Seq                                             0,0,8                      0,8,12     1,None,None                \n",
      "CELSEQ2         CEL-SEQ version 2                                   0,6,12                     0,0,6      1,None,None                \n",
      "DROPSEQ         DropSeq                                             0,0,12                     0,12,20    1,None,None                \n",
      "INDROPSV1       inDrops version 1                                   0,0,11 0,30,38             0,42,48    1,None,None                \n",
      "INDROPSV2       inDrops version 2                                   1,0,11 1,30,38             1,42,48    0,None,None                \n",
      "INDROPSV3       inDrops version 3                      yes          0,0,8 1,0,8                1,8,14     2,None,None                \n",
      "SCRUBSEQ        SCRB-Seq                                            0,0,6                      0,6,16     1,None,None                \n",
      "SMARTSEQ2       Smart-seq2  (single or paired)                                                            0,None,None 1,None,None    \n",
      "SMARTSEQ3       Smart-seq3                                                                     0,11,19    0,11,None 1,None,None      \n",
      "SPLIT-SEQ       SPLiT-seq                                           1,10,18 1,48,56 1,78,86    1,0,10     0,None,None                \n",
      "SURECELL        SureCell for ddSEQ                                  0,0,6 0,21,27 0,42,48      0,51,59    1,None,None                \n",
      "Visium          10x Visium                             yes          0,0,16                     0,16,28    1,None,None                \n"
     ]
    }
   ],
   "source": [
    "!kb --list"
   ]
  },
  {
   "cell_type": "markdown",
   "id": "649e246e-495f-4a82-ba66-286f0198e5c9",
   "metadata": {},
   "source": [
    "Check the seqspec for ATAC-seq and RNA. though here !kb count is using only the RNA-seq"
   ]
  },
  {
   "cell_type": "code",
   "execution_count": 31,
   "id": "85368dce-2966-4b69-9c55-47282226092a",
   "metadata": {
    "editable": true,
    "slideshow": {
     "slide_type": ""
    },
    "tags": []
   },
   "outputs": [
    {
     "name": "stdout",
     "output_type": "stream",
     "text": [
      "1,65,73,1,103,111,1,141,149:-1,-1,-1:0,0,50,1,0,50\n"
     ]
    }
   ],
   "source": [
    "!seqspec index -t kb -m ATAC -r ATAC-R1.fastq.gz,ATAC-R2.fastq.gz broad_human_jamboree_test_spec-eugenio-fix.yaml\n",
    "\n"
   ]
  },
  {
   "cell_type": "code",
   "execution_count": 32,
   "id": "bc28c8e5-ab17-4693-95a7-a904f53e178d",
   "metadata": {},
   "outputs": [
    {
     "name": "stdout",
     "output_type": "stream",
     "text": [
      "1,65,73,1,103,111,1,141,149:1,0,10:0,0,50\n"
     ]
    }
   ],
   "source": [
    "!seqspec index -t kb -m RNA -r RNA-R1.fastq.gz,RNA-R2.fastq.gz broad_human_jamboree_test_spec-eugenio-fix.yaml\n"
   ]
  },
  {
   "cell_type": "markdown",
   "id": "1d91dd30-55dc-4614-a527-fc07c135da2d",
   "metadata": {},
   "source": [
    "Execution of Kb count for one lane"
   ]
  },
  {
   "cell_type": "code",
   "execution_count": 41,
   "id": "3e5be603-cf1a-4b2d-8549-5e092ae2f1e2",
   "metadata": {
    "editable": true,
    "slideshow": {
     "slide_type": ""
    },
    "tags": []
   },
   "outputs": [
    {
     "name": "stdout",
     "output_type": "stream",
     "text": [
      "[2023-06-12 14:59:44,477]    INFO [count] Using index ref_cDNA/transcriptome.idx to generate BUS file to out/ from\n",
      "[2023-06-12 14:59:44,477]    INFO [count]         rna/BMMC_single_donor_RNA_L001_R1.fastq.gz\n",
      "[2023-06-12 14:59:44,477]    INFO [count]         rna/BMMC_single_donor_RNA_L001_R2.fastq.gz\n",
      "[2023-06-12 15:20:00,228]    INFO [count] Sorting BUS file out/output.bus to out/tmp/output.s.bus\n",
      "[2023-06-12 15:22:22,458]    INFO [count] Inspecting BUS file out/tmp/output.s.bus\n",
      "[2023-06-12 15:22:43,400]    INFO [count] Correcting BUS records in out/tmp/output.s.bus to out/tmp/output.s.c.bus with whitelist sai_192_whitelist.txt\n",
      "[2023-06-12 15:24:12,308]    INFO [count] Sorting BUS file out/tmp/output.s.c.bus to out/output.unfiltered.bus\n",
      "[2023-06-12 15:26:03,125]    INFO [count] Generating count matrix out/counts_unfiltered/cells_x_genes from BUS file out/output.unfiltered.bus\n",
      "\n",
      "real\t27m41.779s\n",
      "user\t56m16.019s\n",
      "sys\t3m28.534s\n"
     ]
    }
   ],
   "source": [
    "# RNA one lane test\n",
    "!time kb count -i ref_cDNA/transcriptome.idx -g ref_cDNA/transcripts_to_genes.txt -x $(seqspec index -t kb -m RNA -r RNA-R1.fastq.gz,RNA-R2.fastq.gz broad_human_jamboree_test_spec-eugenio-fix.yaml) -o out/ -w sai_192_whitelist.txt rna/BMMC_single_donor_RNA_L001_R1.fastq.gz rna/BMMC_single_donor_RNA_L001_R2.fastq.gz\n",
    "\n",
    "\n"
   ]
  },
  {
   "cell_type": "markdown",
   "id": "e95c51af-3d45-49f5-904e-6895271273dc",
   "metadata": {},
   "source": [
    "Execution of Kb count for two lanes"
   ]
  },
  {
   "cell_type": "code",
   "execution_count": 44,
   "id": "7d3de218-ec51-4759-9a46-d8d8e68c4361",
   "metadata": {},
   "outputs": [
    {
     "name": "stdout",
     "output_type": "stream",
     "text": [
      "[2023-06-12 15:27:27,246]    INFO [count] Using index ref_cDNA/transcriptome.idx to generate BUS file to out-two-lanes/ from\n",
      "[2023-06-12 15:27:27,247]    INFO [count]         rna/BMMC_single_donor_RNA_L001_R1.fastq.gz\n",
      "[2023-06-12 15:27:27,247]    INFO [count]         rna/BMMC_single_donor_RNA_L001_R2.fastq.gz\n",
      "[2023-06-12 15:27:27,247]    INFO [count]         rna/BMMC_single_donor_RNA_L002_R1.fastq.gz\n",
      "[2023-06-12 15:27:27,247]    INFO [count]         rna/BMMC_single_donor_RNA_L002_R2.fastq.gz\n",
      "[2023-06-12 15:55:50,691]    INFO [count] Sorting BUS file out-two-lanes/output.bus to out-two-lanes/tmp/output.s.bus\n",
      "[2023-06-12 16:00:57,434]    INFO [count] Inspecting BUS file out-two-lanes/tmp/output.s.bus\n",
      "[2023-06-12 16:01:26,477]    INFO [count] Correcting BUS records in out-two-lanes/tmp/output.s.bus to out-two-lanes/tmp/output.s.c.bus with whitelist sai_192_whitelist.txt\n",
      "[2023-06-12 16:03:57,638]    INFO [count] Sorting BUS file out-two-lanes/tmp/output.s.c.bus to out-two-lanes/output.unfiltered.bus\n",
      "[2023-06-12 16:07:57,224]    INFO [count] Generating count matrix out-two-lanes/counts_unfiltered/cells_x_genes from BUS file out-two-lanes/output.unfiltered.bus\n",
      "\n",
      "real\t42m44.464s\n",
      "user\t131m3.599s\n",
      "sys\t6m45.557s\n"
     ]
    }
   ],
   "source": [
    "# RNA two lane test\n",
    "!time kb count -i ref_cDNA/transcriptome.idx -g ref_cDNA/transcripts_to_genes.txt -x $(seqspec index -t kb -m RNA -r RNA-R1.fastq.gz,RNA-R2.fastq.gz broad_human_jamboree_test_spec-eugenio-fix.yaml) -o out-two-lanes/ -w sai_192_whitelist.txt rna/BMMC_single_donor_RNA_L001_R1.fastq.gz rna/BMMC_single_donor_RNA_L001_R2.fastq.gz rna/BMMC_single_donor_RNA_L002_R1.fastq.gz rna/BMMC_single_donor_RNA_L002_R2.fastq.gz\n"
   ]
  },
  {
   "cell_type": "code",
   "execution_count": null,
   "id": "35e6661f-6a56-415e-a2d7-4aab5d6fae0d",
   "metadata": {},
   "outputs": [],
   "source": []
  }
 ],
 "metadata": {
  "kernelspec": {
   "display_name": "Python 3 (ipykernel)",
   "language": "python",
   "name": "python3"
  },
  "language_info": {
   "codemirror_mode": {
    "name": "ipython",
    "version": 3
   },
   "file_extension": ".py",
   "mimetype": "text/x-python",
   "name": "python",
   "nbconvert_exporter": "python",
   "pygments_lexer": "ipython3",
   "version": "3.10.11"
  }
 },
 "nbformat": 4,
 "nbformat_minor": 5
}
