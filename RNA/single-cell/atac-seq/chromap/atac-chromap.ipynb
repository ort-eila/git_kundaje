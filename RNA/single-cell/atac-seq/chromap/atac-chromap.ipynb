{
 "cells": [
  {
   "cell_type": "markdown",
   "id": "409bb576-09d5-4f8c-aaf3-0ff0e1bf81bf",
   "metadata": {},
   "source": [
    "List avaialable atac-seq files"
   ]
  },
  {
   "cell_type": "code",
   "execution_count": 1,
   "id": "f342afae-59b4-4671-bebd-821163f079bc",
   "metadata": {},
   "outputs": [
    {
     "name": "stdout",
     "output_type": "stream",
     "text": [
      "-rw-rw---- 1 marinovg oak_akundaje          11 Jun  3 18:39 /oak/stanford/groups/akundaje/marinovg/ENCODE4/single-cell/2023-06-02-scJamboree/BMMC_single_donor_ATAC.barcodes_annotated.fastq.lines\n",
      "-rw-rw---- 1 marinovg oak_akundaje 15208559316 Jun  3 00:03 /oak/stanford/groups/akundaje/marinovg/ENCODE4/single-cell/2023-06-02-scJamboree/BMMC_single_donor_ATAC.barcodes_annotated.end2.fastq.gz\n",
      "-rw-rw---- 1 marinovg oak_akundaje 15809189887 Jun  3 00:03 /oak/stanford/groups/akundaje/marinovg/ENCODE4/single-cell/2023-06-02-scJamboree/BMMC_single_donor_ATAC.barcodes_annotated.end1.fastq.gz\n",
      "-rw-rw---- 1 marinovg oak_akundaje 10494576406 Jun  2 15:03 /oak/stanford/groups/akundaje/marinovg/ENCODE4/single-cell/2023-06-02-scJamboree/BMMC_single_donor_ATAC_L002_R2.fastq.gz\n",
      "-rw-rw---- 1 marinovg oak_akundaje  9104962588 Jun  2 15:00 /oak/stanford/groups/akundaje/marinovg/ENCODE4/single-cell/2023-06-02-scJamboree/BMMC_single_donor_ATAC_L001_R2.fastq.gz\n",
      "-rw-rw---- 1 marinovg oak_akundaje  6434043860 Jun  2 14:58 /oak/stanford/groups/akundaje/marinovg/ENCODE4/single-cell/2023-06-02-scJamboree/BMMC_single_donor_ATAC_L002_R1.fastq.gz\n",
      "-rw-rw---- 1 marinovg oak_akundaje  5589440271 Jun  2 14:52 /oak/stanford/groups/akundaje/marinovg/ENCODE4/single-cell/2023-06-02-scJamboree/BMMC_single_donor_ATAC_L001_R1.fastq.gz\n"
     ]
    }
   ],
   "source": [
    "!ls -lt /oak/stanford/groups/akundaje/marinovg/ENCODE4/single-cell/2023-06-02-scJamboree/*ATAC*.fastq*"
   ]
  },
  {
   "cell_type": "markdown",
   "id": "f20d7cb8-20d3-4e07-b27a-1d9d9d6bb695",
   "metadata": {},
   "source": [
    "Create directory for the data (once)"
   ]
  },
  {
   "cell_type": "code",
   "execution_count": 6,
   "id": "f1e035dc-17ed-4635-8b19-45118dc5ae5b",
   "metadata": {},
   "outputs": [],
   "source": [
    "# !mkdir atac-seq"
   ]
  },
  {
   "cell_type": "markdown",
   "id": "88b6feed-811f-4592-84b8-147fab1f21f9",
   "metadata": {},
   "source": [
    "Run the pipeline for one lane (to save time)"
   ]
  },
  {
   "cell_type": "code",
   "execution_count": 2,
   "id": "1cd3472a-9d87-42a8-b4db-92587c9b0976",
   "metadata": {},
   "outputs": [
    {
     "name": "stdout",
     "output_type": "stream",
     "text": [
      "-rw-rw---- 1 marinovg oak_akundaje 9104962588 Jun  2 15:00 /oak/stanford/groups/akundaje/marinovg/ENCODE4/single-cell/2023-06-02-scJamboree/BMMC_single_donor_ATAC_L001_R2.fastq.gz\n",
      "-rw-rw---- 1 marinovg oak_akundaje 5589440271 Jun  2 14:52 /oak/stanford/groups/akundaje/marinovg/ENCODE4/single-cell/2023-06-02-scJamboree/BMMC_single_donor_ATAC_L001_R1.fastq.gz\n"
     ]
    }
   ],
   "source": [
    "!ls -lt /oak/stanford/groups/akundaje/marinovg/ENCODE4/single-cell/2023-06-02-scJamboree/*ATAC_L001*.fastq*"
   ]
  },
  {
   "cell_type": "markdown",
   "id": "281a2614-3d60-4d35-a52f-8fa261ede0dd",
   "metadata": {},
   "source": [
    "Copy the atac files locally (once)"
   ]
  },
  {
   "cell_type": "code",
   "execution_count": 7,
   "id": "6722d778-5337-41bf-8e18-a027aa0750bd",
   "metadata": {},
   "outputs": [],
   "source": [
    "# !cp /oak/stanford/groups/akundaje/marinovg/ENCODE4/single-cell/2023-06-02-scJamboree/*ATAC_L001*.fastq* atac-seq/"
   ]
  },
  {
   "cell_type": "markdown",
   "id": "6ab13c45-9fd2-4f0e-b27d-59218c5f0ce9",
   "metadata": {},
   "source": [
    "Run the aligner\n",
    "- install - check that the version is > 0.2.4 (there was issue with creating a valid BAM file in earlier versions)\n",
    "- installation command is: conda install -c bioconda -c conda-forge chromap\n",
    "- check verion (above 0.2.4.)"
   ]
  },
  {
   "cell_type": "code",
   "execution_count": 9,
   "id": "fc848e33-dfd1-447c-a327-d571c5ac2bd1",
   "metadata": {},
   "outputs": [
    {
     "name": "stdout",
     "output_type": "stream",
     "text": [
      "0.2.5-r473\n"
     ]
    }
   ],
   "source": [
    "!chromap -v"
   ]
  },
  {
   "cell_type": "markdown",
   "id": "03bfa172-b1f2-4f23-9db5-735eab995b39",
   "metadata": {},
   "source": [
    "Create a index file (once)\n",
    "- use reference file that you have locally on the machien that you are working on"
   ]
  },
  {
   "cell_type": "markdown",
   "id": "9cc7c2eb-b1b9-4953-8830-c350099df451",
   "metadata": {},
   "source": [
    "Create index folder for index file (once)"
   ]
  },
  {
   "cell_type": "code",
   "execution_count": 10,
   "id": "f1bbb41a-f981-41ef-b1be-916d0f00447c",
   "metadata": {},
   "outputs": [],
   "source": [
    "# !mkdir chromap_index"
   ]
  },
  {
   "cell_type": "code",
   "execution_count": 13,
   "id": "3b818319-d525-437b-bb56-754124aee971",
   "metadata": {},
   "outputs": [
    {
     "name": "stdout",
     "output_type": "stream",
     "text": [
      "Build index for the reference.\n",
      "Kmer length: 17, window size: 7\n",
      "Reference file: /users/eila/git_kundaje/RNA/single-cell/expression/kb_seqspec/reference/Homo_sapiens.GRCh38.dna.primary_assembly.fa.gz\n",
      "Output file: chromap_index/index\n",
      "Loaded all sequences successfully in 20.38s, number of sequences: 194, number of bases: 3099750718.\n",
      "Collecting minimizers.\n",
      "Collected 739180678 minimizers.\n",
      "Sorting minimizers.\n",
      "Sorted all minimizers.\n",
      "Kmer size: 17, window size: 7.\n",
      "Lookup table size: 393121381, # buckets: 536870912, occurrence table size: 447341405, # singletons: 291839273.\n",
      "Built index successfully in 298.77s.\n",
      "[M::Statistics] kmer size: 17; skip: 7; #seq: 194\n",
      "[M::Statistics::3.826] distinct minimizers: 393121381 (74.24% are singletons); average occurrences: 1.880; average spacing: 4.193\n",
      "Saved in 111.19s.\n"
     ]
    }
   ],
   "source": [
    "# run once\n",
    "# !chromap -i -r /users/eila/git_kundaje/RNA/single-cell/expression/kb_seqspec/reference/Homo_sapiens.GRCh38.dna.primary_assembly.fa.gz -o chromap_index/index\n",
    "\n"
   ]
  },
  {
   "cell_type": "code",
   "execution_count": null,
   "id": "33a3c0b2-6279-45ec-b2f4-2010e48d7c0a",
   "metadata": {},
   "outputs": [],
   "source": [
    "# run with --preset atac --drop-repetitive-reads 4 -q 0\n",
    "\n",
    "#-t 4 (number of threads)\n",
    "# --summary FILE       Summarize the mapping statistics at bulk or barcode level. VERY HELPFUL TO SEE WHATS GOING ON\n",
    "# --preset STR              Preset parameters for mapping reads (always applied before other options) []\n",
    "#                                 atac: mapping ATAC-seq/scATAC-seq reads\n",
    "#                                 chip: mapping ChIP-seq reads\n",
    "#                                 hic: mapping Hi-C reads"
   ]
  },
  {
   "cell_type": "code",
   "execution_count": 15,
   "id": "c5e2d1ec-20c6-4e7e-b308-1650f059a901",
   "metadata": {},
   "outputs": [
    {
     "name": "stdout",
     "output_type": "stream",
     "text": [
      "BMMC_single_donor_ATAC_L001_R1.fastq.gz\n",
      "BMMC_single_donor_ATAC_L001_R2.fastq.gz\n"
     ]
    }
   ],
   "source": [
    "!ls atac-seq"
   ]
  },
  {
   "cell_type": "code",
   "execution_count": 17,
   "id": "79ab4659-aa93-4ac8-a7eb-911e7271a2fb",
   "metadata": {},
   "outputs": [],
   "source": [
    "# !mkdir SAM_out"
   ]
  },
  {
   "cell_type": "code",
   "execution_count": 2,
   "id": "0cba1e4d-5d63-4426-878a-e95974117c7d",
   "metadata": {},
   "outputs": [
    {
     "name": "stdout",
     "output_type": "stream",
     "text": [
      "Architecture:        x86_64\n",
      "CPU op-mode(s):      32-bit, 64-bit\n",
      "Byte Order:          Little Endian\n",
      "CPU(s):              48\n",
      "On-line CPU(s) list: 0-47\n",
      "Thread(s) per core:  2\n",
      "Core(s) per socket:  12\n",
      "Socket(s):           2\n",
      "NUMA node(s):        2\n",
      "Vendor ID:           GenuineIntel\n",
      "CPU family:          6\n",
      "Model:               63\n",
      "Model name:          Intel(R) Xeon(R) CPU E5-2690 v3 @ 2.60GHz\n",
      "Stepping:            2\n",
      "CPU MHz:             2593.780\n",
      "CPU max MHz:         2600.0000\n",
      "CPU min MHz:         1200.0000\n",
      "BogoMIPS:            5187.69\n",
      "Virtualization:      VT-x\n",
      "L1d cache:           32K\n",
      "L1i cache:           32K\n",
      "L2 cache:            256K\n",
      "L3 cache:            30720K\n",
      "NUMA node0 CPU(s):   0-11,24-35\n",
      "NUMA node1 CPU(s):   12-23,36-47\n",
      "Flags:               fpu vme de pse tsc msr pae mce cx8 apic sep mtrr pge mca cmov pat pse36 clflush dts acpi mmx fxsr sse sse2 ss ht tm pbe syscall nx pdpe1gb rdtscp lm constant_tsc arch_perfmon pebs bts rep_good nopl xtopology nonstop_tsc cpuid aperfmperf pni pclmulqdq dtes64 monitor ds_cpl vmx smx est tm2 ssse3 sdbg fma cx16 xtpr pdcm pcid dca sse4_1 sse4_2 x2apic movbe popcnt tsc_deadline_timer aes xsave avx f16c rdrand lahf_lm abm cpuid_fault epb invpcid_single pti intel_ppin ssbd ibrs ibpb stibp tpr_shadow vnmi flexpriority ept vpid fsgsbase tsc_adjust bmi1 avx2 smep bmi2 erms invpcid cqm xsaveopt cqm_llc cqm_occup_llc dtherm arat pln pts md_clear flush_l1d\n"
     ]
    }
   ],
   "source": [
    "# check how many cores are available. choose threads accordingly\n",
    "!lscpu"
   ]
  },
  {
   "cell_type": "code",
   "execution_count": 3,
   "id": "4d26fc86-b647-411e-9c30-c65bfc98fce0",
   "metadata": {},
   "outputs": [
    {
     "name": "stdout",
     "output_type": "stream",
     "text": [
      "Sorted, deduped and outputed mappings in 399.36s.\n",
      "# uni-mappings: 83010931, # multi-mappings: 5509346, total: 88520277.\n",
      "Number of output mappings (passed filters): 88520277\n",
      "Total time: 1587.81s.\n",
      "\n",
      "real\t26m37.466s\n",
      "user\t277m23.644s\n",
      "sys\t5m6.591s\n"
     ]
    }
   ],
   "source": [
    "!time chromap -x chromap_index/index --preset atac --drop-repetitive-reads 4 -q 0 -t 16 \\\n",
    "-r /users/eila/git_kundaje/RNA/single-cell/expression/kb_seqspec/reference/Homo_sapiens.GRCh38.dna.primary_assembly.fa.gz \\\n",
    "-1 atac-seq/BMMC_single_donor_ATAC_L001_R1.fastq.gz, atac-seq/atac-seq/BMMC_single_donor_ATAC_L001_R2.fastq.gz --SAM -o SAM_out/alignment.sam --summary SAM_out/SAM_summary.txt  \n"
   ]
  },
  {
   "cell_type": "markdown",
   "id": "6058dcba-0e3d-4238-a488-77f1083ae362",
   "metadata": {},
   "source": [
    "Preset parameters for ATAC-seq/scATAC-seq are used.\n",
    "Start to map reads.\n",
    "Parameters: error threshold: 8, min-num-seeds: 2, max-seed-frequency: 500,1000, max-num-best-mappings: 1, max-insert-size: 2000, MAPQ-threshold: 0, min-read-length: 30, bc-error-threshold: 1, bc-probability-threshold: 0.90\n",
    "Number of threads: 16\n",
    "Analyze bulk data.\n",
    "Will try to remove adapters on 3'.\n",
    "Will remove PCR duplicates after mapping.\n",
    "Will remove PCR duplicates at cell level.\n",
    "Won't allocate multi-mappings after mapping.\n",
    "Only output unique mappings after mapping.\n",
    "Only output mappings of which barcodes are in whitelist.\n",
    "Perform Tn5 shift.\n",
    "Output mappings in SAM format.\n",
    "Reference file: /users/eila/git_kundaje/RNA/single-cell/expression/kb_seqspec/reference/Homo_sapiens.GRCh38.dna.primary_assembly.fa.gz\n",
    "Index file: chromap_index/index\n",
    "1th read 1 file: atac-seq/BMMC_single_donor_ATAC_L001_R1.fastq.gz\n",
    "Output file: SAM_out/alignment.sam\n",
    "Loaded all sequences successfully in 20.09s, number of sequences: 194, number of bases: 3099750718.\n",
    "Kmer size: 17, window size: 7.\n",
    "Lookup table size: 393121381, occurrence table size: 447341405.\n",
    "Loaded index successfully in 106.70s.\n",
    "Loaded 500000 reads in 0.68s.\n",
    "Loaded 500000 reads in 2.63s."
   ]
  },
  {
   "cell_type": "code",
   "execution_count": null,
   "id": "62758db1-fead-416c-b224-e21d03072dae",
   "metadata": {},
   "outputs": [],
   "source": [
    "# question: why the output includes: Analyze bulk data."
   ]
  },
  {
   "cell_type": "markdown",
   "id": "48580e86-72d1-4b16-9eb2-201a67e18f13",
   "metadata": {},
   "source": [
    "Convert the sam file to a bam file"
   ]
  },
  {
   "cell_type": "markdown",
   "id": "3e7324c5-b7b4-43f6-b0ba-cd2b7865e87f",
   "metadata": {},
   "source": [
    "install samtools\n",
    "- conda install -c bioconda samtools\n"
   ]
  },
  {
   "cell_type": "code",
   "execution_count": null,
   "id": "f5a455b9-98e7-45c7-b57f-c0c387ce3067",
   "metadata": {},
   "outputs": [],
   "source": [
    "# run once\n",
    "# !samtools view -bS SAM_out/alignment.sam > SAM_out/alignment.bam"
   ]
  },
  {
   "cell_type": "markdown",
   "id": "7f273cd9-5cf6-4433-b3bd-eaa085eb1ab4",
   "metadata": {},
   "source": [
    "Check that the BAM file is valid"
   ]
  },
  {
   "cell_type": "code",
   "execution_count": 2,
   "id": "4e59482f-f297-44fd-a809-b6b0743b305e",
   "metadata": {},
   "outputs": [
    {
     "name": "stdout",
     "output_type": "stream",
     "text": [
      "alignment.bam  alignment.sam  SAM_summary.txt\n"
     ]
    }
   ],
   "source": [
    "!ls SAM_out/"
   ]
  },
  {
   "cell_type": "code",
   "execution_count": 5,
   "id": "50ea42ee-f5f1-4b76-ab27-dbc8752662c1",
   "metadata": {},
   "outputs": [
    {
     "name": "stdout",
     "output_type": "stream",
     "text": [
      "88520277 + 0 in total (QC-passed reads + QC-failed reads)\n",
      "0 + 0 secondary\n",
      "0 + 0 supplementary\n",
      "0 + 0 duplicates\n",
      "88520277 + 0 mapped (100.00% : N/A)\n",
      "0 + 0 paired in sequencing\n",
      "0 + 0 read1\n",
      "0 + 0 read2\n",
      "0 + 0 properly paired (N/A : N/A)\n",
      "0 + 0 with itself and mate mapped\n",
      "0 + 0 singletons (N/A : N/A)\n",
      "0 + 0 with mate mapped to a different chr\n",
      "0 + 0 with mate mapped to a different chr (mapQ>=5)\n"
     ]
    }
   ],
   "source": [
    "!samtools flagstat SAM_out/alignment.bam"
   ]
  },
  {
   "cell_type": "code",
   "execution_count": null,
   "id": "69104c3f-e740-4732-b397-b57b41eabecd",
   "metadata": {},
   "outputs": [],
   "source": []
  }
 ],
 "metadata": {
  "kernelspec": {
   "display_name": "Python 3 (ipykernel)",
   "language": "python",
   "name": "python3"
  },
  "language_info": {
   "codemirror_mode": {
    "name": "ipython",
    "version": 3
   },
   "file_extension": ".py",
   "mimetype": "text/x-python",
   "name": "python",
   "nbconvert_exporter": "python",
   "pygments_lexer": "ipython3",
   "version": "3.10.11"
  }
 },
 "nbformat": 4,
 "nbformat_minor": 5
}
