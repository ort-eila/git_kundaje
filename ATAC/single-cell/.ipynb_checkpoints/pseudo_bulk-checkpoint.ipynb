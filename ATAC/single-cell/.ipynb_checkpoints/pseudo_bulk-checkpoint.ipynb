{
 "cells": [
  {
   "cell_type": "code",
   "execution_count": 6,
   "id": "dd48d795-8e64-438f-8341-ae09dfdafd3b",
   "metadata": {},
   "outputs": [
    {
     "name": "stdout",
     "output_type": "stream",
     "text": [
      "\u001b[31mERROR: Could not find a version that satisfies the requirement google-cloud-sdk (from versions: none)\u001b[0m\u001b[31m\n",
      "\u001b[0m\u001b[31mERROR: No matching distribution found for google-cloud-sdk\u001b[0m\u001b[31m\n",
      "\u001b[0m"
     ]
    }
   ],
   "source": [
    "# install gcloud, so you have access to the bucket\n",
    "# best is to use service account\n",
    "# !pip install gcloud\n"
   ]
  },
  {
   "cell_type": "code",
   "execution_count": 2,
   "id": "74b3ed71-5d44-4ce9-8ec7-4872a8930845",
   "metadata": {},
   "outputs": [],
   "source": [
    "# TODO: add the execution id:\n",
    "execution_id = \"0e8c4f76-5f9f-4dc8-8ef3-608afb9395ab\""
   ]
  },
  {
   "cell_type": "code",
   "execution_count": 3,
   "id": "9b741632-2ba8-4b84-b405-f0a3f5c9efbb",
   "metadata": {},
   "outputs": [],
   "source": [
    "bucket_id = \"fc-secure-0a879173-62d3-4c3a-8fc3-e35ee4248901\""
   ]
  },
  {
   "cell_type": "code",
   "execution_count": 4,
   "id": "1924a4b4-3db4-457b-9e8c-1aae62fa2633",
   "metadata": {},
   "outputs": [
    {
     "data": {
      "text/plain": [
       "'gs://fc-secure-0a879173-62d3-4c3a-8fc3-e35ee4248901/*/0e8c4f76-5f9f-4dc8-8ef3-608afb9395ab/*/*/*/*/*/call-align/*.tsv.gz.tbi'"
      ]
     },
     "execution_count": 4,
     "metadata": {},
     "output_type": "execute_result"
    }
   ],
   "source": [
    "import os\n",
    "# share/38144a43-b98a-4c90-93ff-a7fbb88efd2f/call-atac/wf_atac/e7b3e84a-fea9-4fe6-ad7a-40af393fdb36/\n",
    "gs_path_to_search_sample_id = os.path.join(\"gs://\",bucket_id,\"*\",execution_id,\"*\",\"*\",\"*\",\"*\",\"*\",\"call-align\",\"*.tsv.gz.tbi\")\n",
    "\n",
    "gs_path_to_search_sample_id"
   ]
  },
  {
   "cell_type": "code",
   "execution_count": 5,
   "id": "cdbb7f3e-c37f-40bd-bb87-363219dd03af",
   "metadata": {},
   "outputs": [
    {
     "name": "stdout",
     "output_type": "stream",
     "text": [
      "/bin/bash: gcloud: command not found\n"
     ]
    }
   ],
   "source": [
    "!gcloud init\n"
   ]
  },
  {
   "cell_type": "code",
   "execution_count": 10,
   "id": "3e78fe21-02b2-45c4-b47a-3082fee3c9c7",
   "metadata": {},
   "outputs": [
    {
     "name": "stdout",
     "output_type": "stream",
     "text": [
      "ServiceException: 401 Anonymous caller does not have storage.objects.list access to the Google Cloud Storage bucket. Permission 'storage.objects.list' denied on resource (or it may not exist).\n"
     ]
    }
   ],
   "source": [
    "!gsutil ls $gs_path_to_search_sample_id"
   ]
  },
  {
   "cell_type": "code",
   "execution_count": null,
   "id": "5250843f-ceca-49d0-876a-c20ff47ffc26",
   "metadata": {},
   "outputs": [],
   "source": []
  }
 ],
 "metadata": {
  "kernelspec": {
   "display_name": "Python 3 (ipykernel)",
   "language": "python",
   "name": "python3"
  },
  "language_info": {
   "codemirror_mode": {
    "name": "ipython",
    "version": 3
   },
   "file_extension": ".py",
   "mimetype": "text/x-python",
   "name": "python",
   "nbconvert_exporter": "python",
   "pygments_lexer": "ipython3",
   "version": "3.10.11"
  }
 },
 "nbformat": 4,
 "nbformat_minor": 5
}
